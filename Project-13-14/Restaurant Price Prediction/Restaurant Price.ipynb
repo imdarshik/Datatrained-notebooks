{
 "cells": [
  {
   "cell_type": "markdown",
   "metadata": {},
   "source": [
    "# **Predicting Restaurant Food Cost**\n",
    "By Darshik A S"
   ]
  },
  {
   "cell_type": "markdown",
   "metadata": {},
   "source": [
    "___"
   ]
  },
  {
   "cell_type": "markdown",
   "metadata": {},
   "source": [
    "## **Introduction**\n",
    "\n",
    "Who doesn’t love food? All of us must have craving for at least a few favourite food items, we may also have a few places where we like to get them, a restaurant which serves our favourite food the way we want it to be. But there is one factor that will make us reconsider having our favourite food from our favourite restaurant, the cost. In this notebook, we'll be predicting the cost of the food served by the restaurants across different cities and ivestigate the factors that really affect the cost. "
   ]
  },
  {
   "cell_type": "markdown",
   "metadata": {},
   "source": [
    "## **Data Overview**\n",
    "\n",
    "The following are the features of the dataset:\n",
    "\n",
    "   - **TITLE** : The feature of the restaurant which can help identify what and for whom it is suitable for.\n",
    "   - **RESTAURANT_ID** : A unique ID for each restaurant.\n",
    "   - **CUISINES** : The variety of cuisines that the restaurant offers.\n",
    "   - **TIME** : The open hours of the restaurant.\n",
    "   - **CITY** : The city in which the restaurant is located.\n",
    "   - **LOCALITY** : The locality of the restaurant.\n",
    "   - **RATING** : The average rating of the restaurant by customers.\n",
    "   - **VOTES** : The overall votes received by the restaurant.\n",
    "   - **COST** : The average cost of a two-person meal.\n",
    "   \n",
    "Size of training set : **12,690** records\n",
    "\n",
    "Size of test set : **4,231** records"
   ]
  },
  {
   "cell_type": "markdown",
   "metadata": {},
   "source": [
    "## **Data Preparation**"
   ]
  },
  {
   "cell_type": "code",
   "execution_count": 167,
   "metadata": {},
   "outputs": [],
   "source": [
    "import pandas as pd\n",
    "import numpy as np\n",
    "import warnings\n",
    "warnings.filterwarnings('ignore')"
   ]
  },
  {
   "cell_type": "code",
   "execution_count": 168,
   "metadata": {},
   "outputs": [],
   "source": [
    "# Load train and test dataset\n",
    "train_data = pd.read_excel('Data_Train.xlsx')\n",
    "test_data = pd.read_excel('Data_Test.xlsx')"
   ]
  },
  {
   "cell_type": "code",
   "execution_count": 169,
   "metadata": {},
   "outputs": [
    {
     "data": {
      "text/html": [
       "<div>\n",
       "<style scoped>\n",
       "    .dataframe tbody tr th:only-of-type {\n",
       "        vertical-align: middle;\n",
       "    }\n",
       "\n",
       "    .dataframe tbody tr th {\n",
       "        vertical-align: top;\n",
       "    }\n",
       "\n",
       "    .dataframe thead th {\n",
       "        text-align: right;\n",
       "    }\n",
       "</style>\n",
       "<table border=\"1\" class=\"dataframe\">\n",
       "  <thead>\n",
       "    <tr style=\"text-align: right;\">\n",
       "      <th></th>\n",
       "      <th>TITLE</th>\n",
       "      <th>RESTAURANT_ID</th>\n",
       "      <th>CUISINES</th>\n",
       "      <th>TIME</th>\n",
       "      <th>CITY</th>\n",
       "      <th>LOCALITY</th>\n",
       "      <th>RATING</th>\n",
       "      <th>VOTES</th>\n",
       "      <th>COST</th>\n",
       "    </tr>\n",
       "  </thead>\n",
       "  <tbody>\n",
       "    <tr>\n",
       "      <th>4010</th>\n",
       "      <td>QUICK BITES</td>\n",
       "      <td>13748</td>\n",
       "      <td>Fast Food</td>\n",
       "      <td>7am – 1am (Mon-Sun)</td>\n",
       "      <td>Hyderabad</td>\n",
       "      <td>Kondapur</td>\n",
       "      <td>3.6</td>\n",
       "      <td>29 votes</td>\n",
       "      <td>300</td>\n",
       "    </tr>\n",
       "    <tr>\n",
       "      <th>11005</th>\n",
       "      <td>FOOD COURT</td>\n",
       "      <td>1297</td>\n",
       "      <td>North Indian, Charcoal Chicken, Kebab</td>\n",
       "      <td>3pm – 11pm (Mon-Sun)</td>\n",
       "      <td>Hyderabad</td>\n",
       "      <td>Tolichowki</td>\n",
       "      <td>3.4</td>\n",
       "      <td>78 votes</td>\n",
       "      <td>600</td>\n",
       "    </tr>\n",
       "    <tr>\n",
       "      <th>1239</th>\n",
       "      <td>SWEET SHOP</td>\n",
       "      <td>11973</td>\n",
       "      <td>Mithai</td>\n",
       "      <td>Not Available</td>\n",
       "      <td>Kochi</td>\n",
       "      <td>Mattancherry</td>\n",
       "      <td>4.3</td>\n",
       "      <td>62 votes</td>\n",
       "      <td>150</td>\n",
       "    </tr>\n",
       "    <tr>\n",
       "      <th>809</th>\n",
       "      <td>CASUAL DINING</td>\n",
       "      <td>15050</td>\n",
       "      <td>Seafood, Biryani, North Indian, Chinese</td>\n",
       "      <td>11:30am – 11:30pm (Mon-Sun)</td>\n",
       "      <td>Secunderabad</td>\n",
       "      <td>Uppal</td>\n",
       "      <td>3.0</td>\n",
       "      <td>421 votes</td>\n",
       "      <td>650</td>\n",
       "    </tr>\n",
       "    <tr>\n",
       "      <th>12606</th>\n",
       "      <td>CASUAL DINING</td>\n",
       "      <td>1527</td>\n",
       "      <td>North Indian</td>\n",
       "      <td>11am – 11:30pm (Mon-Sun)</td>\n",
       "      <td>Bangalore</td>\n",
       "      <td>Indiranagar</td>\n",
       "      <td>4.1</td>\n",
       "      <td>775 votes</td>\n",
       "      <td>950</td>\n",
       "    </tr>\n",
       "  </tbody>\n",
       "</table>\n",
       "</div>"
      ],
      "text/plain": [
       "               TITLE  RESTAURANT_ID                                 CUISINES  \\\n",
       "4010     QUICK BITES          13748                                Fast Food   \n",
       "11005     FOOD COURT           1297    North Indian, Charcoal Chicken, Kebab   \n",
       "1239      SWEET SHOP          11973                                   Mithai   \n",
       "809    CASUAL DINING          15050  Seafood, Biryani, North Indian, Chinese   \n",
       "12606  CASUAL DINING           1527                             North Indian   \n",
       "\n",
       "                              TIME          CITY      LOCALITY RATING  \\\n",
       "4010           7am – 1am (Mon-Sun)     Hyderabad      Kondapur    3.6   \n",
       "11005         3pm – 11pm (Mon-Sun)     Hyderabad    Tolichowki    3.4   \n",
       "1239                 Not Available         Kochi  Mattancherry    4.3   \n",
       "809    11:30am – 11:30pm (Mon-Sun)  Secunderabad         Uppal    3.0   \n",
       "12606     11am – 11:30pm (Mon-Sun)     Bangalore   Indiranagar    4.1   \n",
       "\n",
       "           VOTES  COST  \n",
       "4010    29 votes   300  \n",
       "11005   78 votes   600  \n",
       "1239    62 votes   150  \n",
       "809    421 votes   650  \n",
       "12606  775 votes   950  "
      ]
     },
     "execution_count": 169,
     "metadata": {},
     "output_type": "execute_result"
    }
   ],
   "source": [
    "# Displaying samples of train dataset\n",
    "train_data.sample(5)"
   ]
  },
  {
   "cell_type": "code",
   "execution_count": 170,
   "metadata": {},
   "outputs": [
    {
     "data": {
      "text/html": [
       "<div>\n",
       "<style scoped>\n",
       "    .dataframe tbody tr th:only-of-type {\n",
       "        vertical-align: middle;\n",
       "    }\n",
       "\n",
       "    .dataframe tbody tr th {\n",
       "        vertical-align: top;\n",
       "    }\n",
       "\n",
       "    .dataframe thead th {\n",
       "        text-align: right;\n",
       "    }\n",
       "</style>\n",
       "<table border=\"1\" class=\"dataframe\">\n",
       "  <thead>\n",
       "    <tr style=\"text-align: right;\">\n",
       "      <th></th>\n",
       "      <th>TITLE</th>\n",
       "      <th>RESTAURANT_ID</th>\n",
       "      <th>CUISINES</th>\n",
       "      <th>TIME</th>\n",
       "      <th>CITY</th>\n",
       "      <th>LOCALITY</th>\n",
       "      <th>RATING</th>\n",
       "      <th>VOTES</th>\n",
       "    </tr>\n",
       "  </thead>\n",
       "  <tbody>\n",
       "    <tr>\n",
       "      <th>3390</th>\n",
       "      <td>CASUAL DINING</td>\n",
       "      <td>6132</td>\n",
       "      <td>South Indian, North Indian, Street Food</td>\n",
       "      <td>7am – 10:30pm (Mon-Sun)</td>\n",
       "      <td>Chennai</td>\n",
       "      <td>Nungambakkam</td>\n",
       "      <td>3.8</td>\n",
       "      <td>124 votes</td>\n",
       "    </tr>\n",
       "    <tr>\n",
       "      <th>3912</th>\n",
       "      <td>CASUAL DINING</td>\n",
       "      <td>14364</td>\n",
       "      <td>South Indian, Biryani, Chinese</td>\n",
       "      <td>11am – 12midnight (Mon),11am – 11pm (Tue-Sun)</td>\n",
       "      <td>Hyderabad</td>\n",
       "      <td>Suraram</td>\n",
       "      <td>3.5</td>\n",
       "      <td>122 votes</td>\n",
       "    </tr>\n",
       "    <tr>\n",
       "      <th>3064</th>\n",
       "      <td>QUICK BITES</td>\n",
       "      <td>8301</td>\n",
       "      <td>Kerala, South Indian, Chinese</td>\n",
       "      <td>11am – 11pm (Mon-Sun)</td>\n",
       "      <td>Kochi</td>\n",
       "      <td>Kaloor</td>\n",
       "      <td>3.2</td>\n",
       "      <td>40 votes</td>\n",
       "    </tr>\n",
       "    <tr>\n",
       "      <th>2664</th>\n",
       "      <td>QUICK BITES</td>\n",
       "      <td>2780</td>\n",
       "      <td>Fast Food, Beverages</td>\n",
       "      <td>8pm – 10pm (Mon-Sun)</td>\n",
       "      <td>Bangalore</td>\n",
       "      <td>HSR Layout</td>\n",
       "      <td>3.4</td>\n",
       "      <td>6 votes</td>\n",
       "    </tr>\n",
       "    <tr>\n",
       "      <th>1986</th>\n",
       "      <td>CASUAL DINING</td>\n",
       "      <td>15016</td>\n",
       "      <td>North Indian, South Indian</td>\n",
       "      <td>12noon – 11pm (Mon-Sun)</td>\n",
       "      <td>Hyderabad</td>\n",
       "      <td>Kompally</td>\n",
       "      <td>3.5</td>\n",
       "      <td>323 votes</td>\n",
       "    </tr>\n",
       "  </tbody>\n",
       "</table>\n",
       "</div>"
      ],
      "text/plain": [
       "              TITLE  RESTAURANT_ID                                 CUISINES  \\\n",
       "3390  CASUAL DINING           6132  South Indian, North Indian, Street Food   \n",
       "3912  CASUAL DINING          14364           South Indian, Biryani, Chinese   \n",
       "3064    QUICK BITES           8301            Kerala, South Indian, Chinese   \n",
       "2664    QUICK BITES           2780                     Fast Food, Beverages   \n",
       "1986  CASUAL DINING          15016               North Indian, South Indian   \n",
       "\n",
       "                                               TIME       CITY      LOCALITY  \\\n",
       "3390                        7am – 10:30pm (Mon-Sun)    Chennai  Nungambakkam   \n",
       "3912  11am – 12midnight (Mon),11am – 11pm (Tue-Sun)  Hyderabad       Suraram   \n",
       "3064                          11am – 11pm (Mon-Sun)      Kochi        Kaloor   \n",
       "2664                           8pm – 10pm (Mon-Sun)  Bangalore    HSR Layout   \n",
       "1986                        12noon – 11pm (Mon-Sun)  Hyderabad      Kompally   \n",
       "\n",
       "     RATING      VOTES  \n",
       "3390    3.8  124 votes  \n",
       "3912    3.5  122 votes  \n",
       "3064    3.2   40 votes  \n",
       "2664    3.4    6 votes  \n",
       "1986    3.5  323 votes  "
      ]
     },
     "execution_count": 170,
     "metadata": {},
     "output_type": "execute_result"
    }
   ],
   "source": [
    "# Displaying samples of test dataset\n",
    "test_data.sample(5)"
   ]
  },
  {
   "cell_type": "code",
   "execution_count": 171,
   "metadata": {},
   "outputs": [
    {
     "name": "stdout",
     "output_type": "stream",
     "text": [
      "<class 'pandas.core.frame.DataFrame'>\n",
      "RangeIndex: 12690 entries, 0 to 12689\n",
      "Data columns (total 9 columns):\n",
      " #   Column         Non-Null Count  Dtype \n",
      "---  ------         --------------  ----- \n",
      " 0   TITLE          12690 non-null  object\n",
      " 1   RESTAURANT_ID  12690 non-null  int64 \n",
      " 2   CUISINES       12690 non-null  object\n",
      " 3   TIME           12690 non-null  object\n",
      " 4   CITY           12578 non-null  object\n",
      " 5   LOCALITY       12592 non-null  object\n",
      " 6   RATING         12688 non-null  object\n",
      " 7   VOTES          11486 non-null  object\n",
      " 8   COST           12690 non-null  int64 \n",
      "dtypes: int64(2), object(7)\n",
      "memory usage: 892.4+ KB\n"
     ]
    }
   ],
   "source": [
    "# Check for null values present in the train dataset\n",
    "train_data.info()"
   ]
  },
  {
   "cell_type": "markdown",
   "metadata": {},
   "source": [
    "* Except the *RESTAURANT_ID* and the target variable *COST*, other features are of object type\n",
    "* There are null values present in the *CITY*, *LOCALITY*, *RATING* and *VOTES* features."
   ]
  },
  {
   "cell_type": "code",
   "execution_count": 172,
   "metadata": {},
   "outputs": [
    {
     "name": "stdout",
     "output_type": "stream",
     "text": [
      "<class 'pandas.core.frame.DataFrame'>\n",
      "RangeIndex: 4231 entries, 0 to 4230\n",
      "Data columns (total 8 columns):\n",
      " #   Column         Non-Null Count  Dtype \n",
      "---  ------         --------------  ----- \n",
      " 0   TITLE          4231 non-null   object\n",
      " 1   RESTAURANT_ID  4231 non-null   int64 \n",
      " 2   CUISINES       4231 non-null   object\n",
      " 3   TIME           4231 non-null   object\n",
      " 4   CITY           4196 non-null   object\n",
      " 5   LOCALITY       4201 non-null   object\n",
      " 6   RATING         4229 non-null   object\n",
      " 7   VOTES          3829 non-null   object\n",
      "dtypes: int64(1), object(7)\n",
      "memory usage: 264.6+ KB\n"
     ]
    }
   ],
   "source": [
    "# Check for null values present in the test dataset\n",
    "test_data.info()"
   ]
  },
  {
   "cell_type": "markdown",
   "metadata": {},
   "source": [
    "* Except the *RESTAURANT_ID*, other features are of object type\n",
    "* There are null values present in the *CITY*, *LOCALITY*, *RATING* and *VOTES* features."
   ]
  },
  {
   "cell_type": "markdown",
   "metadata": {},
   "source": [
    "### ***Let's check the proportion of null values present in the dataset***"
   ]
  },
  {
   "cell_type": "code",
   "execution_count": 173,
   "metadata": {},
   "outputs": [
    {
     "name": "stdout",
     "output_type": "stream",
     "text": [
      "Percentage of null values in CITY : 0.88%\n",
      "Percentage of null values in LOCALITY : 0.77%\n",
      "Percentage of null values in RATING : 0.02%\n",
      "Percentage of null values in VOTES : 9.49%\n"
     ]
    }
   ],
   "source": [
    "# Train dataset\n",
    "data_length = len(train_data)\n",
    "print('Percentage of null values in CITY : {:,.2f}%'.format(train_data.CITY.isnull().sum() * 100 / data_length))\n",
    "print('Percentage of null values in LOCALITY : {:,.2f}%'.format(train_data.LOCALITY.isnull().sum() * 100 / data_length))\n",
    "print('Percentage of null values in RATING : {:,.2f}%'.format(train_data.RATING.isnull().sum() * 100 / data_length))\n",
    "print('Percentage of null values in VOTES : {:,.2f}%'.format(train_data.VOTES.isnull().sum() * 100 / data_length))"
   ]
  },
  {
   "cell_type": "code",
   "execution_count": 174,
   "metadata": {},
   "outputs": [
    {
     "name": "stdout",
     "output_type": "stream",
     "text": [
      "Percentage of null values in CITY : 0.83%\n",
      "Percentage of null values in LOCALITY : 0.71%\n",
      "Percentage of null values in RATING : 0.05%\n",
      "Percentage of null values in VOTES : 9.50%\n"
     ]
    }
   ],
   "source": [
    "# Test Dataset\n",
    "data_length = len(test_data)\n",
    "print('Percentage of null values in CITY : {:,.2f}%'.format(test_data.CITY.isnull().sum() * 100 / data_length))\n",
    "print('Percentage of null values in LOCALITY : {:,.2f}%'.format(test_data.LOCALITY.isnull().sum() * 100 / data_length))\n",
    "print('Percentage of null values in RATING : {:,.2f}%'.format(test_data.RATING.isnull().sum() * 100 / data_length))\n",
    "print('Percentage of null values in VOTES : {:,.2f}%'.format(test_data.VOTES.isnull().sum() * 100 / data_length))"
   ]
  },
  {
   "cell_type": "markdown",
   "metadata": {},
   "source": [
    "* It seems the presence of null values are approximately similar in both training and test dataset\n",
    "* Let's check if theres any null values after removing duplicates"
   ]
  },
  {
   "cell_type": "code",
   "execution_count": 175,
   "metadata": {},
   "outputs": [
    {
     "name": "stdout",
     "output_type": "stream",
     "text": [
      "26\n",
      "1\n"
     ]
    }
   ],
   "source": [
    "# Check number of duplicates present in the train and test data\n",
    "print(train_data.duplicated(subset=['RESTAURANT_ID','CITY','TITLE','CUISINES','LOCALITY']).sum())\n",
    "print(test_data.duplicated(subset=['RESTAURANT_ID','CITY','TITLE','CUISINES','LOCALITY']).sum())"
   ]
  },
  {
   "cell_type": "code",
   "execution_count": 176,
   "metadata": {},
   "outputs": [],
   "source": [
    "# Removing dupliates from the dataset\n",
    "train_data.drop_duplicates(subset=['RESTAURANT_ID','CITY','TITLE','CUISINES','LOCALITY'],keep='first',inplace=True)\n",
    "test_data.drop_duplicates(subset=['RESTAURANT_ID','CITY','TITLE','CUISINES','LOCALITY'],keep='first',inplace=True)"
   ]
  },
  {
   "cell_type": "code",
   "execution_count": 177,
   "metadata": {},
   "outputs": [],
   "source": [
    "# Removing the non significant feature RESTAURANT_ID, \n",
    "train_data.drop(columns=['RESTAURANT_ID'],inplace=True)\n",
    "test_data.drop(columns=['RESTAURANT_ID'],inplace=True)"
   ]
  },
  {
   "cell_type": "code",
   "execution_count": 178,
   "metadata": {},
   "outputs": [],
   "source": [
    "# Reset the idices after removing rows\n",
    "train_data.reset_index(drop=True,inplace=True)\n",
    "test_data.reset_index(drop=True,inplace=True)"
   ]
  },
  {
   "cell_type": "markdown",
   "metadata": {},
   "source": [
    "### ***Now extract features (Unique Titles) from the TITLE column, and encode it***"
   ]
  },
  {
   "cell_type": "code",
   "execution_count": 179,
   "metadata": {},
   "outputs": [],
   "source": [
    "import re"
   ]
  },
  {
   "cell_type": "code",
   "execution_count": 180,
   "metadata": {},
   "outputs": [
    {
     "data": {
      "text/html": [
       "<div>\n",
       "<style scoped>\n",
       "    .dataframe tbody tr th:only-of-type {\n",
       "        vertical-align: middle;\n",
       "    }\n",
       "\n",
       "    .dataframe tbody tr th {\n",
       "        vertical-align: top;\n",
       "    }\n",
       "\n",
       "    .dataframe thead th {\n",
       "        text-align: right;\n",
       "    }\n",
       "</style>\n",
       "<table border=\"1\" class=\"dataframe\">\n",
       "  <thead>\n",
       "    <tr style=\"text-align: right;\">\n",
       "      <th></th>\n",
       "      <th>title_casualdining</th>\n",
       "      <th>title_bar</th>\n",
       "      <th>title_quickbites</th>\n",
       "      <th>title_dessertparlor</th>\n",
       "      <th>title_café</th>\n",
       "      <th>title_microbrewery</th>\n",
       "      <th>title_beverageshop</th>\n",
       "      <th>title_iranicafe</th>\n",
       "      <th>title_bakery</th>\n",
       "      <th>title_none</th>\n",
       "      <th>...</th>\n",
       "      <th>title_foodcourt</th>\n",
       "      <th>title_foodtruck</th>\n",
       "      <th>title_mess</th>\n",
       "      <th>title_kiosk</th>\n",
       "      <th>title_club</th>\n",
       "      <th>title_confectionery</th>\n",
       "      <th>title_dhaba</th>\n",
       "      <th>title_meatshop</th>\n",
       "      <th>title_cocktailbar</th>\n",
       "      <th>title_paanshop</th>\n",
       "    </tr>\n",
       "  </thead>\n",
       "  <tbody>\n",
       "    <tr>\n",
       "      <th>7969</th>\n",
       "      <td>0.0</td>\n",
       "      <td>0.0</td>\n",
       "      <td>1.0</td>\n",
       "      <td>0.0</td>\n",
       "      <td>0.0</td>\n",
       "      <td>0.0</td>\n",
       "      <td>0.0</td>\n",
       "      <td>0.0</td>\n",
       "      <td>0.0</td>\n",
       "      <td>0.0</td>\n",
       "      <td>...</td>\n",
       "      <td>0.0</td>\n",
       "      <td>0.0</td>\n",
       "      <td>0.0</td>\n",
       "      <td>0.0</td>\n",
       "      <td>0.0</td>\n",
       "      <td>0.0</td>\n",
       "      <td>0.0</td>\n",
       "      <td>0.0</td>\n",
       "      <td>0.0</td>\n",
       "      <td>0.0</td>\n",
       "    </tr>\n",
       "    <tr>\n",
       "      <th>7843</th>\n",
       "      <td>1.0</td>\n",
       "      <td>0.0</td>\n",
       "      <td>0.0</td>\n",
       "      <td>0.0</td>\n",
       "      <td>0.0</td>\n",
       "      <td>0.0</td>\n",
       "      <td>0.0</td>\n",
       "      <td>0.0</td>\n",
       "      <td>0.0</td>\n",
       "      <td>0.0</td>\n",
       "      <td>...</td>\n",
       "      <td>0.0</td>\n",
       "      <td>0.0</td>\n",
       "      <td>0.0</td>\n",
       "      <td>0.0</td>\n",
       "      <td>0.0</td>\n",
       "      <td>0.0</td>\n",
       "      <td>0.0</td>\n",
       "      <td>0.0</td>\n",
       "      <td>0.0</td>\n",
       "      <td>0.0</td>\n",
       "    </tr>\n",
       "    <tr>\n",
       "      <th>8408</th>\n",
       "      <td>1.0</td>\n",
       "      <td>0.0</td>\n",
       "      <td>0.0</td>\n",
       "      <td>0.0</td>\n",
       "      <td>0.0</td>\n",
       "      <td>0.0</td>\n",
       "      <td>0.0</td>\n",
       "      <td>0.0</td>\n",
       "      <td>0.0</td>\n",
       "      <td>0.0</td>\n",
       "      <td>...</td>\n",
       "      <td>0.0</td>\n",
       "      <td>0.0</td>\n",
       "      <td>0.0</td>\n",
       "      <td>0.0</td>\n",
       "      <td>0.0</td>\n",
       "      <td>0.0</td>\n",
       "      <td>0.0</td>\n",
       "      <td>0.0</td>\n",
       "      <td>0.0</td>\n",
       "      <td>0.0</td>\n",
       "    </tr>\n",
       "    <tr>\n",
       "      <th>7821</th>\n",
       "      <td>0.0</td>\n",
       "      <td>0.0</td>\n",
       "      <td>0.0</td>\n",
       "      <td>0.0</td>\n",
       "      <td>1.0</td>\n",
       "      <td>0.0</td>\n",
       "      <td>0.0</td>\n",
       "      <td>0.0</td>\n",
       "      <td>0.0</td>\n",
       "      <td>0.0</td>\n",
       "      <td>...</td>\n",
       "      <td>0.0</td>\n",
       "      <td>0.0</td>\n",
       "      <td>0.0</td>\n",
       "      <td>0.0</td>\n",
       "      <td>0.0</td>\n",
       "      <td>0.0</td>\n",
       "      <td>0.0</td>\n",
       "      <td>0.0</td>\n",
       "      <td>0.0</td>\n",
       "      <td>0.0</td>\n",
       "    </tr>\n",
       "    <tr>\n",
       "      <th>8212</th>\n",
       "      <td>1.0</td>\n",
       "      <td>1.0</td>\n",
       "      <td>0.0</td>\n",
       "      <td>0.0</td>\n",
       "      <td>0.0</td>\n",
       "      <td>0.0</td>\n",
       "      <td>0.0</td>\n",
       "      <td>0.0</td>\n",
       "      <td>0.0</td>\n",
       "      <td>0.0</td>\n",
       "      <td>...</td>\n",
       "      <td>0.0</td>\n",
       "      <td>0.0</td>\n",
       "      <td>0.0</td>\n",
       "      <td>0.0</td>\n",
       "      <td>0.0</td>\n",
       "      <td>0.0</td>\n",
       "      <td>0.0</td>\n",
       "      <td>0.0</td>\n",
       "      <td>0.0</td>\n",
       "      <td>0.0</td>\n",
       "    </tr>\n",
       "  </tbody>\n",
       "</table>\n",
       "<p>5 rows × 24 columns</p>\n",
       "</div>"
      ],
      "text/plain": [
       "      title_casualdining  title_bar  title_quickbites  title_dessertparlor  \\\n",
       "7969                 0.0        0.0               1.0                  0.0   \n",
       "7843                 1.0        0.0               0.0                  0.0   \n",
       "8408                 1.0        0.0               0.0                  0.0   \n",
       "7821                 0.0        0.0               0.0                  0.0   \n",
       "8212                 1.0        1.0               0.0                  0.0   \n",
       "\n",
       "      title_café  title_microbrewery  title_beverageshop  title_iranicafe  \\\n",
       "7969         0.0                 0.0                 0.0              0.0   \n",
       "7843         0.0                 0.0                 0.0              0.0   \n",
       "8408         0.0                 0.0                 0.0              0.0   \n",
       "7821         1.0                 0.0                 0.0              0.0   \n",
       "8212         0.0                 0.0                 0.0              0.0   \n",
       "\n",
       "      title_bakery  title_none  ...  title_foodcourt  title_foodtruck  \\\n",
       "7969           0.0         0.0  ...              0.0              0.0   \n",
       "7843           0.0         0.0  ...              0.0              0.0   \n",
       "8408           0.0         0.0  ...              0.0              0.0   \n",
       "7821           0.0         0.0  ...              0.0              0.0   \n",
       "8212           0.0         0.0  ...              0.0              0.0   \n",
       "\n",
       "      title_mess  title_kiosk  title_club  title_confectionery  title_dhaba  \\\n",
       "7969         0.0          0.0         0.0                  0.0          0.0   \n",
       "7843         0.0          0.0         0.0                  0.0          0.0   \n",
       "8408         0.0          0.0         0.0                  0.0          0.0   \n",
       "7821         0.0          0.0         0.0                  0.0          0.0   \n",
       "8212         0.0          0.0         0.0                  0.0          0.0   \n",
       "\n",
       "      title_meatshop  title_cocktailbar  title_paanshop  \n",
       "7969             0.0                0.0             0.0  \n",
       "7843             0.0                0.0             0.0  \n",
       "8408             0.0                0.0             0.0  \n",
       "7821             0.0                0.0             0.0  \n",
       "8212             0.0                0.0             0.0  \n",
       "\n",
       "[5 rows x 24 columns]"
      ]
     },
     "execution_count": 180,
     "metadata": {},
     "output_type": "execute_result"
    }
   ],
   "source": [
    "# Encoding the features from the TITLE column of the train data\n",
    "train_title = train_data.TITLE.agg(lambda x: pd.Series(1,str(x).strip().lower().replace(' ','').split(','))).fillna(0)\n",
    "train_title.columns = ['title_'+i for i in train_title.columns]\n",
    "train_title.reset_index(drop=True,inplace=True)\n",
    "train_title.sample(5)"
   ]
  },
  {
   "cell_type": "code",
   "execution_count": 181,
   "metadata": {},
   "outputs": [
    {
     "data": {
      "text/html": [
       "<div>\n",
       "<style scoped>\n",
       "    .dataframe tbody tr th:only-of-type {\n",
       "        vertical-align: middle;\n",
       "    }\n",
       "\n",
       "    .dataframe tbody tr th {\n",
       "        vertical-align: top;\n",
       "    }\n",
       "\n",
       "    .dataframe thead th {\n",
       "        text-align: right;\n",
       "    }\n",
       "</style>\n",
       "<table border=\"1\" class=\"dataframe\">\n",
       "  <thead>\n",
       "    <tr style=\"text-align: right;\">\n",
       "      <th></th>\n",
       "      <th>title_casualdining</th>\n",
       "      <th>title_quickbites</th>\n",
       "      <th>title_none</th>\n",
       "      <th>title_foodtruck</th>\n",
       "      <th>title_dessertparlor</th>\n",
       "      <th>title_bar</th>\n",
       "      <th>title_lounge</th>\n",
       "      <th>title_beverageshop</th>\n",
       "      <th>title_pub</th>\n",
       "      <th>title_café</th>\n",
       "      <th>...</th>\n",
       "      <th>title_foodcourt</th>\n",
       "      <th>title_kiosk</th>\n",
       "      <th>title_mess</th>\n",
       "      <th>title_microbrewery</th>\n",
       "      <th>title_club</th>\n",
       "      <th>title_cocktailbar</th>\n",
       "      <th>title_meatshop</th>\n",
       "      <th>title_confectionery</th>\n",
       "      <th>title_paanshop</th>\n",
       "      <th>title_bhojanalya</th>\n",
       "    </tr>\n",
       "  </thead>\n",
       "  <tbody>\n",
       "    <tr>\n",
       "      <th>1020</th>\n",
       "      <td>0.0</td>\n",
       "      <td>1.0</td>\n",
       "      <td>0.0</td>\n",
       "      <td>0.0</td>\n",
       "      <td>0.0</td>\n",
       "      <td>0.0</td>\n",
       "      <td>0.0</td>\n",
       "      <td>0.0</td>\n",
       "      <td>0.0</td>\n",
       "      <td>0.0</td>\n",
       "      <td>...</td>\n",
       "      <td>0.0</td>\n",
       "      <td>0.0</td>\n",
       "      <td>0.0</td>\n",
       "      <td>0.0</td>\n",
       "      <td>0.0</td>\n",
       "      <td>0.0</td>\n",
       "      <td>0.0</td>\n",
       "      <td>0.0</td>\n",
       "      <td>0.0</td>\n",
       "      <td>0.0</td>\n",
       "    </tr>\n",
       "    <tr>\n",
       "      <th>431</th>\n",
       "      <td>0.0</td>\n",
       "      <td>0.0</td>\n",
       "      <td>0.0</td>\n",
       "      <td>0.0</td>\n",
       "      <td>0.0</td>\n",
       "      <td>0.0</td>\n",
       "      <td>0.0</td>\n",
       "      <td>0.0</td>\n",
       "      <td>0.0</td>\n",
       "      <td>0.0</td>\n",
       "      <td>...</td>\n",
       "      <td>0.0</td>\n",
       "      <td>0.0</td>\n",
       "      <td>0.0</td>\n",
       "      <td>0.0</td>\n",
       "      <td>0.0</td>\n",
       "      <td>0.0</td>\n",
       "      <td>0.0</td>\n",
       "      <td>0.0</td>\n",
       "      <td>0.0</td>\n",
       "      <td>0.0</td>\n",
       "    </tr>\n",
       "    <tr>\n",
       "      <th>2557</th>\n",
       "      <td>0.0</td>\n",
       "      <td>1.0</td>\n",
       "      <td>0.0</td>\n",
       "      <td>0.0</td>\n",
       "      <td>0.0</td>\n",
       "      <td>0.0</td>\n",
       "      <td>0.0</td>\n",
       "      <td>0.0</td>\n",
       "      <td>0.0</td>\n",
       "      <td>0.0</td>\n",
       "      <td>...</td>\n",
       "      <td>0.0</td>\n",
       "      <td>0.0</td>\n",
       "      <td>0.0</td>\n",
       "      <td>0.0</td>\n",
       "      <td>0.0</td>\n",
       "      <td>0.0</td>\n",
       "      <td>0.0</td>\n",
       "      <td>0.0</td>\n",
       "      <td>0.0</td>\n",
       "      <td>0.0</td>\n",
       "    </tr>\n",
       "    <tr>\n",
       "      <th>1803</th>\n",
       "      <td>0.0</td>\n",
       "      <td>1.0</td>\n",
       "      <td>0.0</td>\n",
       "      <td>0.0</td>\n",
       "      <td>0.0</td>\n",
       "      <td>0.0</td>\n",
       "      <td>0.0</td>\n",
       "      <td>0.0</td>\n",
       "      <td>0.0</td>\n",
       "      <td>0.0</td>\n",
       "      <td>...</td>\n",
       "      <td>0.0</td>\n",
       "      <td>0.0</td>\n",
       "      <td>0.0</td>\n",
       "      <td>0.0</td>\n",
       "      <td>0.0</td>\n",
       "      <td>0.0</td>\n",
       "      <td>0.0</td>\n",
       "      <td>0.0</td>\n",
       "      <td>0.0</td>\n",
       "      <td>0.0</td>\n",
       "    </tr>\n",
       "    <tr>\n",
       "      <th>1125</th>\n",
       "      <td>0.0</td>\n",
       "      <td>1.0</td>\n",
       "      <td>0.0</td>\n",
       "      <td>0.0</td>\n",
       "      <td>0.0</td>\n",
       "      <td>0.0</td>\n",
       "      <td>0.0</td>\n",
       "      <td>0.0</td>\n",
       "      <td>0.0</td>\n",
       "      <td>0.0</td>\n",
       "      <td>...</td>\n",
       "      <td>0.0</td>\n",
       "      <td>0.0</td>\n",
       "      <td>0.0</td>\n",
       "      <td>0.0</td>\n",
       "      <td>0.0</td>\n",
       "      <td>0.0</td>\n",
       "      <td>0.0</td>\n",
       "      <td>0.0</td>\n",
       "      <td>0.0</td>\n",
       "      <td>0.0</td>\n",
       "    </tr>\n",
       "  </tbody>\n",
       "</table>\n",
       "<p>5 rows × 25 columns</p>\n",
       "</div>"
      ],
      "text/plain": [
       "      title_casualdining  title_quickbites  title_none  title_foodtruck  \\\n",
       "1020                 0.0               1.0         0.0              0.0   \n",
       "431                  0.0               0.0         0.0              0.0   \n",
       "2557                 0.0               1.0         0.0              0.0   \n",
       "1803                 0.0               1.0         0.0              0.0   \n",
       "1125                 0.0               1.0         0.0              0.0   \n",
       "\n",
       "      title_dessertparlor  title_bar  title_lounge  title_beverageshop  \\\n",
       "1020                  0.0        0.0           0.0                 0.0   \n",
       "431                   0.0        0.0           0.0                 0.0   \n",
       "2557                  0.0        0.0           0.0                 0.0   \n",
       "1803                  0.0        0.0           0.0                 0.0   \n",
       "1125                  0.0        0.0           0.0                 0.0   \n",
       "\n",
       "      title_pub  title_café  ...  title_foodcourt  title_kiosk  title_mess  \\\n",
       "1020        0.0         0.0  ...              0.0          0.0         0.0   \n",
       "431         0.0         0.0  ...              0.0          0.0         0.0   \n",
       "2557        0.0         0.0  ...              0.0          0.0         0.0   \n",
       "1803        0.0         0.0  ...              0.0          0.0         0.0   \n",
       "1125        0.0         0.0  ...              0.0          0.0         0.0   \n",
       "\n",
       "      title_microbrewery  title_club  title_cocktailbar  title_meatshop  \\\n",
       "1020                 0.0         0.0                0.0             0.0   \n",
       "431                  0.0         0.0                0.0             0.0   \n",
       "2557                 0.0         0.0                0.0             0.0   \n",
       "1803                 0.0         0.0                0.0             0.0   \n",
       "1125                 0.0         0.0                0.0             0.0   \n",
       "\n",
       "      title_confectionery  title_paanshop  title_bhojanalya  \n",
       "1020                  0.0             0.0               0.0  \n",
       "431                   0.0             0.0               0.0  \n",
       "2557                  0.0             0.0               0.0  \n",
       "1803                  0.0             0.0               0.0  \n",
       "1125                  0.0             0.0               0.0  \n",
       "\n",
       "[5 rows x 25 columns]"
      ]
     },
     "execution_count": 181,
     "metadata": {},
     "output_type": "execute_result"
    }
   ],
   "source": [
    "# Encoding the features from the TITLE column of the test data\n",
    "test_title = test_data.TITLE.agg(lambda x: pd.Series(1,str(x).strip().lower().replace(' ','').split(','))).fillna(0)\n",
    "test_title.columns = ['title_'+i for i in test_title.columns]\n",
    "test_title.reset_index(drop=True,inplace=True)\n",
    "test_title.sample(5)"
   ]
  },
  {
   "cell_type": "markdown",
   "metadata": {},
   "source": [
    "* The number of columns in both train and test seems to be not matching."
   ]
  },
  {
   "cell_type": "code",
   "execution_count": 182,
   "metadata": {},
   "outputs": [
    {
     "data": {
      "text/plain": [
       "Index(['title_bakery', 'title_bar', 'title_beverageshop', 'title_café',\n",
       "       'title_casualdining', 'title_club', 'title_cocktailbar',\n",
       "       'title_confectionery', 'title_dessertparlor', 'title_dhaba',\n",
       "       'title_finedining', 'title_foodcourt', 'title_foodtruck',\n",
       "       'title_iranicafe', 'title_kiosk', 'title_lounge', 'title_meatshop',\n",
       "       'title_mess', 'title_microbrewery', 'title_none', 'title_paanshop',\n",
       "       'title_pub', 'title_quickbites', 'title_sweetshop'],\n",
       "      dtype='object')"
      ]
     },
     "execution_count": 182,
     "metadata": {},
     "output_type": "execute_result"
    }
   ],
   "source": [
    "train_title.columns.sort_values()"
   ]
  },
  {
   "cell_type": "code",
   "execution_count": 183,
   "metadata": {},
   "outputs": [
    {
     "data": {
      "text/plain": [
       "Index(['title_bakery', 'title_bar', 'title_beverageshop', 'title_bhojanalya',\n",
       "       'title_café', 'title_casualdining', 'title_club', 'title_cocktailbar',\n",
       "       'title_confectionery', 'title_dessertparlor', 'title_dhaba',\n",
       "       'title_finedining', 'title_foodcourt', 'title_foodtruck',\n",
       "       'title_iranicafe', 'title_kiosk', 'title_lounge', 'title_meatshop',\n",
       "       'title_mess', 'title_microbrewery', 'title_none', 'title_paanshop',\n",
       "       'title_pub', 'title_quickbites', 'title_sweetshop'],\n",
       "      dtype='object')"
      ]
     },
     "execution_count": 183,
     "metadata": {},
     "output_type": "execute_result"
    }
   ],
   "source": [
    "test_title.columns.sort_values()"
   ]
  },
  {
   "cell_type": "markdown",
   "metadata": {},
   "source": [
    "* There is an extra feature in the test dataset. Lets combine it with the title_none feature"
   ]
  },
  {
   "cell_type": "code",
   "execution_count": 184,
   "metadata": {},
   "outputs": [],
   "source": [
    "# Combining title_bojanalya with title_none\n",
    "test_title.loc[:,'title_none'] = ((test_title.title_bhojanalya == 1) | (test_title.title_none == 1)).astype(int)"
   ]
  },
  {
   "cell_type": "code",
   "execution_count": 185,
   "metadata": {},
   "outputs": [],
   "source": [
    "# Drop the title_bojanalya\n",
    "test_title.drop(columns=['title_bhojanalya'],inplace=True)"
   ]
  },
  {
   "cell_type": "markdown",
   "metadata": {},
   "source": [
    "### ***Now extract features (Unique Cuisines) from the CUISINES column, and encode it***"
   ]
  },
  {
   "cell_type": "code",
   "execution_count": 186,
   "metadata": {},
   "outputs": [
    {
     "data": {
      "text/html": [
       "<div>\n",
       "<style scoped>\n",
       "    .dataframe tbody tr th:only-of-type {\n",
       "        vertical-align: middle;\n",
       "    }\n",
       "\n",
       "    .dataframe tbody tr th {\n",
       "        vertical-align: top;\n",
       "    }\n",
       "\n",
       "    .dataframe thead th {\n",
       "        text-align: right;\n",
       "    }\n",
       "</style>\n",
       "<table border=\"1\" class=\"dataframe\">\n",
       "  <thead>\n",
       "    <tr style=\"text-align: right;\">\n",
       "      <th></th>\n",
       "      <th>cuisines_malwani</th>\n",
       "      <th>cuisines_goan</th>\n",
       "      <th>cuisines_northindian</th>\n",
       "      <th>cuisines_japanese</th>\n",
       "      <th>cuisines_asian</th>\n",
       "      <th>cuisines_modernindian</th>\n",
       "      <th>cuisines_biryani</th>\n",
       "      <th>cuisines_hyderabadi</th>\n",
       "      <th>cuisines_chinese</th>\n",
       "      <th>cuisines_tibetan</th>\n",
       "      <th>...</th>\n",
       "      <th>cuisines_pakistani</th>\n",
       "      <th>cuisines_peruvian</th>\n",
       "      <th>cuisines_cuisinevaries</th>\n",
       "      <th>cuisines_irish</th>\n",
       "      <th>cuisines_multicuisine</th>\n",
       "      <th>cuisines_vegan</th>\n",
       "      <th>cuisines_jewish</th>\n",
       "      <th>cuisines_oriental</th>\n",
       "      <th>cuisines_modernaustralian</th>\n",
       "      <th>cuisines_egyptian</th>\n",
       "    </tr>\n",
       "  </thead>\n",
       "  <tbody>\n",
       "    <tr>\n",
       "      <th>5860</th>\n",
       "      <td>0.0</td>\n",
       "      <td>0.0</td>\n",
       "      <td>0.0</td>\n",
       "      <td>0.0</td>\n",
       "      <td>0.0</td>\n",
       "      <td>0.0</td>\n",
       "      <td>0.0</td>\n",
       "      <td>0.0</td>\n",
       "      <td>0.0</td>\n",
       "      <td>0.0</td>\n",
       "      <td>...</td>\n",
       "      <td>0.0</td>\n",
       "      <td>0.0</td>\n",
       "      <td>0.0</td>\n",
       "      <td>0.0</td>\n",
       "      <td>0.0</td>\n",
       "      <td>0.0</td>\n",
       "      <td>0.0</td>\n",
       "      <td>0.0</td>\n",
       "      <td>0.0</td>\n",
       "      <td>0.0</td>\n",
       "    </tr>\n",
       "    <tr>\n",
       "      <th>6889</th>\n",
       "      <td>0.0</td>\n",
       "      <td>0.0</td>\n",
       "      <td>0.0</td>\n",
       "      <td>0.0</td>\n",
       "      <td>0.0</td>\n",
       "      <td>0.0</td>\n",
       "      <td>0.0</td>\n",
       "      <td>0.0</td>\n",
       "      <td>0.0</td>\n",
       "      <td>0.0</td>\n",
       "      <td>...</td>\n",
       "      <td>0.0</td>\n",
       "      <td>0.0</td>\n",
       "      <td>0.0</td>\n",
       "      <td>0.0</td>\n",
       "      <td>0.0</td>\n",
       "      <td>0.0</td>\n",
       "      <td>0.0</td>\n",
       "      <td>0.0</td>\n",
       "      <td>0.0</td>\n",
       "      <td>0.0</td>\n",
       "    </tr>\n",
       "    <tr>\n",
       "      <th>10895</th>\n",
       "      <td>0.0</td>\n",
       "      <td>0.0</td>\n",
       "      <td>0.0</td>\n",
       "      <td>0.0</td>\n",
       "      <td>0.0</td>\n",
       "      <td>0.0</td>\n",
       "      <td>0.0</td>\n",
       "      <td>0.0</td>\n",
       "      <td>0.0</td>\n",
       "      <td>0.0</td>\n",
       "      <td>...</td>\n",
       "      <td>0.0</td>\n",
       "      <td>0.0</td>\n",
       "      <td>0.0</td>\n",
       "      <td>0.0</td>\n",
       "      <td>0.0</td>\n",
       "      <td>0.0</td>\n",
       "      <td>0.0</td>\n",
       "      <td>0.0</td>\n",
       "      <td>0.0</td>\n",
       "      <td>0.0</td>\n",
       "    </tr>\n",
       "    <tr>\n",
       "      <th>9043</th>\n",
       "      <td>0.0</td>\n",
       "      <td>0.0</td>\n",
       "      <td>1.0</td>\n",
       "      <td>0.0</td>\n",
       "      <td>0.0</td>\n",
       "      <td>0.0</td>\n",
       "      <td>0.0</td>\n",
       "      <td>0.0</td>\n",
       "      <td>1.0</td>\n",
       "      <td>0.0</td>\n",
       "      <td>...</td>\n",
       "      <td>0.0</td>\n",
       "      <td>0.0</td>\n",
       "      <td>0.0</td>\n",
       "      <td>0.0</td>\n",
       "      <td>0.0</td>\n",
       "      <td>0.0</td>\n",
       "      <td>0.0</td>\n",
       "      <td>0.0</td>\n",
       "      <td>0.0</td>\n",
       "      <td>0.0</td>\n",
       "    </tr>\n",
       "    <tr>\n",
       "      <th>8651</th>\n",
       "      <td>0.0</td>\n",
       "      <td>0.0</td>\n",
       "      <td>0.0</td>\n",
       "      <td>0.0</td>\n",
       "      <td>0.0</td>\n",
       "      <td>0.0</td>\n",
       "      <td>0.0</td>\n",
       "      <td>0.0</td>\n",
       "      <td>0.0</td>\n",
       "      <td>0.0</td>\n",
       "      <td>...</td>\n",
       "      <td>0.0</td>\n",
       "      <td>0.0</td>\n",
       "      <td>0.0</td>\n",
       "      <td>0.0</td>\n",
       "      <td>0.0</td>\n",
       "      <td>0.0</td>\n",
       "      <td>0.0</td>\n",
       "      <td>0.0</td>\n",
       "      <td>0.0</td>\n",
       "      <td>0.0</td>\n",
       "    </tr>\n",
       "  </tbody>\n",
       "</table>\n",
       "<p>5 rows × 125 columns</p>\n",
       "</div>"
      ],
      "text/plain": [
       "       cuisines_malwani  cuisines_goan  cuisines_northindian  \\\n",
       "5860                0.0            0.0                   0.0   \n",
       "6889                0.0            0.0                   0.0   \n",
       "10895               0.0            0.0                   0.0   \n",
       "9043                0.0            0.0                   1.0   \n",
       "8651                0.0            0.0                   0.0   \n",
       "\n",
       "       cuisines_japanese  cuisines_asian  cuisines_modernindian  \\\n",
       "5860                 0.0             0.0                    0.0   \n",
       "6889                 0.0             0.0                    0.0   \n",
       "10895                0.0             0.0                    0.0   \n",
       "9043                 0.0             0.0                    0.0   \n",
       "8651                 0.0             0.0                    0.0   \n",
       "\n",
       "       cuisines_biryani  cuisines_hyderabadi  cuisines_chinese  \\\n",
       "5860                0.0                  0.0               0.0   \n",
       "6889                0.0                  0.0               0.0   \n",
       "10895               0.0                  0.0               0.0   \n",
       "9043                0.0                  0.0               1.0   \n",
       "8651                0.0                  0.0               0.0   \n",
       "\n",
       "       cuisines_tibetan  ...  cuisines_pakistani  cuisines_peruvian  \\\n",
       "5860                0.0  ...                 0.0                0.0   \n",
       "6889                0.0  ...                 0.0                0.0   \n",
       "10895               0.0  ...                 0.0                0.0   \n",
       "9043                0.0  ...                 0.0                0.0   \n",
       "8651                0.0  ...                 0.0                0.0   \n",
       "\n",
       "       cuisines_cuisinevaries  cuisines_irish  cuisines_multicuisine  \\\n",
       "5860                      0.0             0.0                    0.0   \n",
       "6889                      0.0             0.0                    0.0   \n",
       "10895                     0.0             0.0                    0.0   \n",
       "9043                      0.0             0.0                    0.0   \n",
       "8651                      0.0             0.0                    0.0   \n",
       "\n",
       "       cuisines_vegan  cuisines_jewish  cuisines_oriental  \\\n",
       "5860              0.0              0.0                0.0   \n",
       "6889              0.0              0.0                0.0   \n",
       "10895             0.0              0.0                0.0   \n",
       "9043              0.0              0.0                0.0   \n",
       "8651              0.0              0.0                0.0   \n",
       "\n",
       "       cuisines_modernaustralian  cuisines_egyptian  \n",
       "5860                         0.0                0.0  \n",
       "6889                         0.0                0.0  \n",
       "10895                        0.0                0.0  \n",
       "9043                         0.0                0.0  \n",
       "8651                         0.0                0.0  \n",
       "\n",
       "[5 rows x 125 columns]"
      ]
     },
     "execution_count": 186,
     "metadata": {},
     "output_type": "execute_result"
    }
   ],
   "source": [
    "# Encoding the features from the TITLE column of the train data\n",
    "train_cuisines = train_data.CUISINES.agg(lambda x: pd.Series(1,set(str(x).strip().lower().replace(' ','').split(','))) ).fillna(0)\n",
    "train_cuisines.columns = ['cuisines_'+i for i in train_cuisines.columns]\n",
    "train_cuisines.reset_index(drop=True,inplace=True)\n",
    "train_cuisines.sample(5)"
   ]
  },
  {
   "cell_type": "code",
   "execution_count": 187,
   "metadata": {},
   "outputs": [
    {
     "data": {
      "text/html": [
       "<div>\n",
       "<style scoped>\n",
       "    .dataframe tbody tr th:only-of-type {\n",
       "        vertical-align: middle;\n",
       "    }\n",
       "\n",
       "    .dataframe tbody tr th {\n",
       "        vertical-align: top;\n",
       "    }\n",
       "\n",
       "    .dataframe thead th {\n",
       "        text-align: right;\n",
       "    }\n",
       "</style>\n",
       "<table border=\"1\" class=\"dataframe\">\n",
       "  <thead>\n",
       "    <tr style=\"text-align: right;\">\n",
       "      <th></th>\n",
       "      <th>cuisines_kebab</th>\n",
       "      <th>cuisines_northindian</th>\n",
       "      <th>cuisines_mughlai</th>\n",
       "      <th>cuisines_chinese</th>\n",
       "      <th>cuisines_southindian</th>\n",
       "      <th>cuisines_pizza</th>\n",
       "      <th>cuisines_fastfood</th>\n",
       "      <th>cuisines_biryani</th>\n",
       "      <th>cuisines_seafood</th>\n",
       "      <th>cuisines_kerala</th>\n",
       "      <th>...</th>\n",
       "      <th>cuisines_singaporean</th>\n",
       "      <th>cuisines_cantonese</th>\n",
       "      <th>cuisines_hawaiian</th>\n",
       "      <th>cuisines_paan</th>\n",
       "      <th>cuisines_cuisinevaries</th>\n",
       "      <th>cuisines_naga</th>\n",
       "      <th>cuisines_kashmiri</th>\n",
       "      <th>cuisines_oriental</th>\n",
       "      <th>cuisines_vegan</th>\n",
       "      <th>cuisines_sindhi</th>\n",
       "    </tr>\n",
       "  </thead>\n",
       "  <tbody>\n",
       "    <tr>\n",
       "      <th>2683</th>\n",
       "      <td>0.0</td>\n",
       "      <td>0.0</td>\n",
       "      <td>0.0</td>\n",
       "      <td>0.0</td>\n",
       "      <td>0.0</td>\n",
       "      <td>0.0</td>\n",
       "      <td>0.0</td>\n",
       "      <td>0.0</td>\n",
       "      <td>0.0</td>\n",
       "      <td>0.0</td>\n",
       "      <td>...</td>\n",
       "      <td>0.0</td>\n",
       "      <td>0.0</td>\n",
       "      <td>0.0</td>\n",
       "      <td>0.0</td>\n",
       "      <td>0.0</td>\n",
       "      <td>0.0</td>\n",
       "      <td>0.0</td>\n",
       "      <td>0.0</td>\n",
       "      <td>0.0</td>\n",
       "      <td>0.0</td>\n",
       "    </tr>\n",
       "    <tr>\n",
       "      <th>2886</th>\n",
       "      <td>0.0</td>\n",
       "      <td>0.0</td>\n",
       "      <td>0.0</td>\n",
       "      <td>0.0</td>\n",
       "      <td>0.0</td>\n",
       "      <td>0.0</td>\n",
       "      <td>1.0</td>\n",
       "      <td>0.0</td>\n",
       "      <td>0.0</td>\n",
       "      <td>0.0</td>\n",
       "      <td>...</td>\n",
       "      <td>0.0</td>\n",
       "      <td>0.0</td>\n",
       "      <td>0.0</td>\n",
       "      <td>0.0</td>\n",
       "      <td>0.0</td>\n",
       "      <td>0.0</td>\n",
       "      <td>0.0</td>\n",
       "      <td>0.0</td>\n",
       "      <td>0.0</td>\n",
       "      <td>0.0</td>\n",
       "    </tr>\n",
       "    <tr>\n",
       "      <th>1507</th>\n",
       "      <td>0.0</td>\n",
       "      <td>1.0</td>\n",
       "      <td>0.0</td>\n",
       "      <td>1.0</td>\n",
       "      <td>1.0</td>\n",
       "      <td>0.0</td>\n",
       "      <td>0.0</td>\n",
       "      <td>0.0</td>\n",
       "      <td>0.0</td>\n",
       "      <td>1.0</td>\n",
       "      <td>...</td>\n",
       "      <td>0.0</td>\n",
       "      <td>0.0</td>\n",
       "      <td>0.0</td>\n",
       "      <td>0.0</td>\n",
       "      <td>0.0</td>\n",
       "      <td>0.0</td>\n",
       "      <td>0.0</td>\n",
       "      <td>0.0</td>\n",
       "      <td>0.0</td>\n",
       "      <td>0.0</td>\n",
       "    </tr>\n",
       "    <tr>\n",
       "      <th>71</th>\n",
       "      <td>0.0</td>\n",
       "      <td>0.0</td>\n",
       "      <td>0.0</td>\n",
       "      <td>0.0</td>\n",
       "      <td>0.0</td>\n",
       "      <td>0.0</td>\n",
       "      <td>0.0</td>\n",
       "      <td>0.0</td>\n",
       "      <td>0.0</td>\n",
       "      <td>0.0</td>\n",
       "      <td>...</td>\n",
       "      <td>0.0</td>\n",
       "      <td>0.0</td>\n",
       "      <td>0.0</td>\n",
       "      <td>0.0</td>\n",
       "      <td>0.0</td>\n",
       "      <td>0.0</td>\n",
       "      <td>0.0</td>\n",
       "      <td>0.0</td>\n",
       "      <td>0.0</td>\n",
       "      <td>0.0</td>\n",
       "    </tr>\n",
       "    <tr>\n",
       "      <th>3891</th>\n",
       "      <td>0.0</td>\n",
       "      <td>0.0</td>\n",
       "      <td>0.0</td>\n",
       "      <td>0.0</td>\n",
       "      <td>0.0</td>\n",
       "      <td>1.0</td>\n",
       "      <td>0.0</td>\n",
       "      <td>0.0</td>\n",
       "      <td>0.0</td>\n",
       "      <td>0.0</td>\n",
       "      <td>...</td>\n",
       "      <td>0.0</td>\n",
       "      <td>0.0</td>\n",
       "      <td>0.0</td>\n",
       "      <td>0.0</td>\n",
       "      <td>0.0</td>\n",
       "      <td>0.0</td>\n",
       "      <td>0.0</td>\n",
       "      <td>0.0</td>\n",
       "      <td>0.0</td>\n",
       "      <td>0.0</td>\n",
       "    </tr>\n",
       "  </tbody>\n",
       "</table>\n",
       "<p>5 rows × 112 columns</p>\n",
       "</div>"
      ],
      "text/plain": [
       "      cuisines_kebab  cuisines_northindian  cuisines_mughlai  \\\n",
       "2683             0.0                   0.0               0.0   \n",
       "2886             0.0                   0.0               0.0   \n",
       "1507             0.0                   1.0               0.0   \n",
       "71               0.0                   0.0               0.0   \n",
       "3891             0.0                   0.0               0.0   \n",
       "\n",
       "      cuisines_chinese  cuisines_southindian  cuisines_pizza  \\\n",
       "2683               0.0                   0.0             0.0   \n",
       "2886               0.0                   0.0             0.0   \n",
       "1507               1.0                   1.0             0.0   \n",
       "71                 0.0                   0.0             0.0   \n",
       "3891               0.0                   0.0             1.0   \n",
       "\n",
       "      cuisines_fastfood  cuisines_biryani  cuisines_seafood  cuisines_kerala  \\\n",
       "2683                0.0               0.0               0.0              0.0   \n",
       "2886                1.0               0.0               0.0              0.0   \n",
       "1507                0.0               0.0               0.0              1.0   \n",
       "71                  0.0               0.0               0.0              0.0   \n",
       "3891                0.0               0.0               0.0              0.0   \n",
       "\n",
       "      ...  cuisines_singaporean  cuisines_cantonese  cuisines_hawaiian  \\\n",
       "2683  ...                   0.0                 0.0                0.0   \n",
       "2886  ...                   0.0                 0.0                0.0   \n",
       "1507  ...                   0.0                 0.0                0.0   \n",
       "71    ...                   0.0                 0.0                0.0   \n",
       "3891  ...                   0.0                 0.0                0.0   \n",
       "\n",
       "      cuisines_paan  cuisines_cuisinevaries  cuisines_naga  cuisines_kashmiri  \\\n",
       "2683            0.0                     0.0            0.0                0.0   \n",
       "2886            0.0                     0.0            0.0                0.0   \n",
       "1507            0.0                     0.0            0.0                0.0   \n",
       "71              0.0                     0.0            0.0                0.0   \n",
       "3891            0.0                     0.0            0.0                0.0   \n",
       "\n",
       "      cuisines_oriental  cuisines_vegan  cuisines_sindhi  \n",
       "2683                0.0             0.0              0.0  \n",
       "2886                0.0             0.0              0.0  \n",
       "1507                0.0             0.0              0.0  \n",
       "71                  0.0             0.0              0.0  \n",
       "3891                0.0             0.0              0.0  \n",
       "\n",
       "[5 rows x 112 columns]"
      ]
     },
     "execution_count": 187,
     "metadata": {},
     "output_type": "execute_result"
    }
   ],
   "source": [
    "# Encoding the features from the TITLE column of the test data\n",
    "test_cuisines = test_data.CUISINES.agg(lambda x: pd.Series(1,set(str(x).strip().lower().replace(' ','').split(','))) ).fillna(0)\n",
    "test_cuisines.columns = ['cuisines_'+i for i in test_cuisines.columns]\n",
    "test_cuisines.reset_index(drop=True,inplace=True)\n",
    "test_cuisines.sample(5)"
   ]
  },
  {
   "cell_type": "markdown",
   "metadata": {},
   "source": [
    "* Number of cuisine features extracted for train and test dataset are not matching"
   ]
  },
  {
   "cell_type": "code",
   "execution_count": 188,
   "metadata": {},
   "outputs": [],
   "source": [
    "# Macthing the number of features in both train and test dataset\n",
    "tr_set = set(train_cuisines.columns.sort_values())\n",
    "ts_set = set(test_cuisines.columns.sort_values())\n",
    "for i in ts_set.difference(tr_set.intersection(ts_set)):\n",
    "        train_cuisines[i] = 0\n",
    "for i in tr_set.difference(tr_set.intersection(ts_set)):\n",
    "        test_cuisines[i] = 0\n",
    "test_cuisines = test_cuisines[train_cuisines.columns]"
   ]
  },
  {
   "cell_type": "code",
   "execution_count": 189,
   "metadata": {},
   "outputs": [
    {
     "data": {
      "text/html": [
       "<div>\n",
       "<style scoped>\n",
       "    .dataframe tbody tr th:only-of-type {\n",
       "        vertical-align: middle;\n",
       "    }\n",
       "\n",
       "    .dataframe tbody tr th {\n",
       "        vertical-align: top;\n",
       "    }\n",
       "\n",
       "    .dataframe thead th {\n",
       "        text-align: right;\n",
       "    }\n",
       "</style>\n",
       "<table border=\"1\" class=\"dataframe\">\n",
       "  <thead>\n",
       "    <tr style=\"text-align: right;\">\n",
       "      <th></th>\n",
       "      <th>cuisines_malwani</th>\n",
       "      <th>cuisines_goan</th>\n",
       "      <th>cuisines_northindian</th>\n",
       "      <th>cuisines_japanese</th>\n",
       "      <th>cuisines_asian</th>\n",
       "      <th>cuisines_modernindian</th>\n",
       "      <th>cuisines_biryani</th>\n",
       "      <th>cuisines_hyderabadi</th>\n",
       "      <th>cuisines_chinese</th>\n",
       "      <th>cuisines_tibetan</th>\n",
       "      <th>...</th>\n",
       "      <th>cuisines_vegan</th>\n",
       "      <th>cuisines_jewish</th>\n",
       "      <th>cuisines_oriental</th>\n",
       "      <th>cuisines_modernaustralian</th>\n",
       "      <th>cuisines_egyptian</th>\n",
       "      <th>cuisines_mishti</th>\n",
       "      <th>cuisines_hawaiian</th>\n",
       "      <th>cuisines_brazilian</th>\n",
       "      <th>cuisines_fishandchips</th>\n",
       "      <th>cuisines_falafel</th>\n",
       "    </tr>\n",
       "  </thead>\n",
       "  <tbody>\n",
       "    <tr>\n",
       "      <th>8538</th>\n",
       "      <td>0.0</td>\n",
       "      <td>0.0</td>\n",
       "      <td>1.0</td>\n",
       "      <td>0.0</td>\n",
       "      <td>0.0</td>\n",
       "      <td>0.0</td>\n",
       "      <td>1.0</td>\n",
       "      <td>0.0</td>\n",
       "      <td>1.0</td>\n",
       "      <td>0.0</td>\n",
       "      <td>...</td>\n",
       "      <td>0.0</td>\n",
       "      <td>0.0</td>\n",
       "      <td>0.0</td>\n",
       "      <td>0.0</td>\n",
       "      <td>0.0</td>\n",
       "      <td>0</td>\n",
       "      <td>0</td>\n",
       "      <td>0</td>\n",
       "      <td>0</td>\n",
       "      <td>0</td>\n",
       "    </tr>\n",
       "    <tr>\n",
       "      <th>5606</th>\n",
       "      <td>0.0</td>\n",
       "      <td>0.0</td>\n",
       "      <td>1.0</td>\n",
       "      <td>0.0</td>\n",
       "      <td>0.0</td>\n",
       "      <td>0.0</td>\n",
       "      <td>0.0</td>\n",
       "      <td>0.0</td>\n",
       "      <td>1.0</td>\n",
       "      <td>0.0</td>\n",
       "      <td>...</td>\n",
       "      <td>0.0</td>\n",
       "      <td>0.0</td>\n",
       "      <td>0.0</td>\n",
       "      <td>0.0</td>\n",
       "      <td>0.0</td>\n",
       "      <td>0</td>\n",
       "      <td>0</td>\n",
       "      <td>0</td>\n",
       "      <td>0</td>\n",
       "      <td>0</td>\n",
       "    </tr>\n",
       "    <tr>\n",
       "      <th>5252</th>\n",
       "      <td>0.0</td>\n",
       "      <td>0.0</td>\n",
       "      <td>1.0</td>\n",
       "      <td>0.0</td>\n",
       "      <td>0.0</td>\n",
       "      <td>0.0</td>\n",
       "      <td>0.0</td>\n",
       "      <td>0.0</td>\n",
       "      <td>1.0</td>\n",
       "      <td>0.0</td>\n",
       "      <td>...</td>\n",
       "      <td>0.0</td>\n",
       "      <td>0.0</td>\n",
       "      <td>0.0</td>\n",
       "      <td>0.0</td>\n",
       "      <td>0.0</td>\n",
       "      <td>0</td>\n",
       "      <td>0</td>\n",
       "      <td>0</td>\n",
       "      <td>0</td>\n",
       "      <td>0</td>\n",
       "    </tr>\n",
       "    <tr>\n",
       "      <th>11412</th>\n",
       "      <td>0.0</td>\n",
       "      <td>0.0</td>\n",
       "      <td>1.0</td>\n",
       "      <td>0.0</td>\n",
       "      <td>0.0</td>\n",
       "      <td>0.0</td>\n",
       "      <td>0.0</td>\n",
       "      <td>0.0</td>\n",
       "      <td>0.0</td>\n",
       "      <td>0.0</td>\n",
       "      <td>...</td>\n",
       "      <td>0.0</td>\n",
       "      <td>0.0</td>\n",
       "      <td>0.0</td>\n",
       "      <td>0.0</td>\n",
       "      <td>0.0</td>\n",
       "      <td>0</td>\n",
       "      <td>0</td>\n",
       "      <td>0</td>\n",
       "      <td>0</td>\n",
       "      <td>0</td>\n",
       "    </tr>\n",
       "    <tr>\n",
       "      <th>5895</th>\n",
       "      <td>0.0</td>\n",
       "      <td>0.0</td>\n",
       "      <td>0.0</td>\n",
       "      <td>0.0</td>\n",
       "      <td>0.0</td>\n",
       "      <td>0.0</td>\n",
       "      <td>0.0</td>\n",
       "      <td>0.0</td>\n",
       "      <td>0.0</td>\n",
       "      <td>0.0</td>\n",
       "      <td>...</td>\n",
       "      <td>0.0</td>\n",
       "      <td>0.0</td>\n",
       "      <td>0.0</td>\n",
       "      <td>0.0</td>\n",
       "      <td>0.0</td>\n",
       "      <td>0</td>\n",
       "      <td>0</td>\n",
       "      <td>0</td>\n",
       "      <td>0</td>\n",
       "      <td>0</td>\n",
       "    </tr>\n",
       "  </tbody>\n",
       "</table>\n",
       "<p>5 rows × 130 columns</p>\n",
       "</div>"
      ],
      "text/plain": [
       "       cuisines_malwani  cuisines_goan  cuisines_northindian  \\\n",
       "8538                0.0            0.0                   1.0   \n",
       "5606                0.0            0.0                   1.0   \n",
       "5252                0.0            0.0                   1.0   \n",
       "11412               0.0            0.0                   1.0   \n",
       "5895                0.0            0.0                   0.0   \n",
       "\n",
       "       cuisines_japanese  cuisines_asian  cuisines_modernindian  \\\n",
       "8538                 0.0             0.0                    0.0   \n",
       "5606                 0.0             0.0                    0.0   \n",
       "5252                 0.0             0.0                    0.0   \n",
       "11412                0.0             0.0                    0.0   \n",
       "5895                 0.0             0.0                    0.0   \n",
       "\n",
       "       cuisines_biryani  cuisines_hyderabadi  cuisines_chinese  \\\n",
       "8538                1.0                  0.0               1.0   \n",
       "5606                0.0                  0.0               1.0   \n",
       "5252                0.0                  0.0               1.0   \n",
       "11412               0.0                  0.0               0.0   \n",
       "5895                0.0                  0.0               0.0   \n",
       "\n",
       "       cuisines_tibetan  ...  cuisines_vegan  cuisines_jewish  \\\n",
       "8538                0.0  ...             0.0              0.0   \n",
       "5606                0.0  ...             0.0              0.0   \n",
       "5252                0.0  ...             0.0              0.0   \n",
       "11412               0.0  ...             0.0              0.0   \n",
       "5895                0.0  ...             0.0              0.0   \n",
       "\n",
       "       cuisines_oriental  cuisines_modernaustralian  cuisines_egyptian  \\\n",
       "8538                 0.0                        0.0                0.0   \n",
       "5606                 0.0                        0.0                0.0   \n",
       "5252                 0.0                        0.0                0.0   \n",
       "11412                0.0                        0.0                0.0   \n",
       "5895                 0.0                        0.0                0.0   \n",
       "\n",
       "       cuisines_mishti  cuisines_hawaiian  cuisines_brazilian  \\\n",
       "8538                 0                  0                   0   \n",
       "5606                 0                  0                   0   \n",
       "5252                 0                  0                   0   \n",
       "11412                0                  0                   0   \n",
       "5895                 0                  0                   0   \n",
       "\n",
       "       cuisines_fishandchips  cuisines_falafel  \n",
       "8538                       0                 0  \n",
       "5606                       0                 0  \n",
       "5252                       0                 0  \n",
       "11412                      0                 0  \n",
       "5895                       0                 0  \n",
       "\n",
       "[5 rows x 130 columns]"
      ]
     },
     "execution_count": 189,
     "metadata": {},
     "output_type": "execute_result"
    }
   ],
   "source": [
    "train_cuisines.sample(5)"
   ]
  },
  {
   "cell_type": "code",
   "execution_count": 190,
   "metadata": {},
   "outputs": [
    {
     "data": {
      "text/html": [
       "<div>\n",
       "<style scoped>\n",
       "    .dataframe tbody tr th:only-of-type {\n",
       "        vertical-align: middle;\n",
       "    }\n",
       "\n",
       "    .dataframe tbody tr th {\n",
       "        vertical-align: top;\n",
       "    }\n",
       "\n",
       "    .dataframe thead th {\n",
       "        text-align: right;\n",
       "    }\n",
       "</style>\n",
       "<table border=\"1\" class=\"dataframe\">\n",
       "  <thead>\n",
       "    <tr style=\"text-align: right;\">\n",
       "      <th></th>\n",
       "      <th>cuisines_malwani</th>\n",
       "      <th>cuisines_goan</th>\n",
       "      <th>cuisines_northindian</th>\n",
       "      <th>cuisines_japanese</th>\n",
       "      <th>cuisines_asian</th>\n",
       "      <th>cuisines_modernindian</th>\n",
       "      <th>cuisines_biryani</th>\n",
       "      <th>cuisines_hyderabadi</th>\n",
       "      <th>cuisines_chinese</th>\n",
       "      <th>cuisines_tibetan</th>\n",
       "      <th>...</th>\n",
       "      <th>cuisines_vegan</th>\n",
       "      <th>cuisines_jewish</th>\n",
       "      <th>cuisines_oriental</th>\n",
       "      <th>cuisines_modernaustralian</th>\n",
       "      <th>cuisines_egyptian</th>\n",
       "      <th>cuisines_mishti</th>\n",
       "      <th>cuisines_hawaiian</th>\n",
       "      <th>cuisines_brazilian</th>\n",
       "      <th>cuisines_fishandchips</th>\n",
       "      <th>cuisines_falafel</th>\n",
       "    </tr>\n",
       "  </thead>\n",
       "  <tbody>\n",
       "    <tr>\n",
       "      <th>4129</th>\n",
       "      <td>0.0</td>\n",
       "      <td>0.0</td>\n",
       "      <td>1.0</td>\n",
       "      <td>0.0</td>\n",
       "      <td>0.0</td>\n",
       "      <td>0.0</td>\n",
       "      <td>0.0</td>\n",
       "      <td>0.0</td>\n",
       "      <td>1.0</td>\n",
       "      <td>0.0</td>\n",
       "      <td>...</td>\n",
       "      <td>0.0</td>\n",
       "      <td>0</td>\n",
       "      <td>0.0</td>\n",
       "      <td>0</td>\n",
       "      <td>0.0</td>\n",
       "      <td>0.0</td>\n",
       "      <td>0.0</td>\n",
       "      <td>0.0</td>\n",
       "      <td>0.0</td>\n",
       "      <td>0.0</td>\n",
       "    </tr>\n",
       "    <tr>\n",
       "      <th>2475</th>\n",
       "      <td>0.0</td>\n",
       "      <td>0.0</td>\n",
       "      <td>0.0</td>\n",
       "      <td>0.0</td>\n",
       "      <td>0.0</td>\n",
       "      <td>0.0</td>\n",
       "      <td>0.0</td>\n",
       "      <td>0.0</td>\n",
       "      <td>0.0</td>\n",
       "      <td>0.0</td>\n",
       "      <td>...</td>\n",
       "      <td>0.0</td>\n",
       "      <td>0</td>\n",
       "      <td>0.0</td>\n",
       "      <td>0</td>\n",
       "      <td>0.0</td>\n",
       "      <td>0.0</td>\n",
       "      <td>0.0</td>\n",
       "      <td>0.0</td>\n",
       "      <td>0.0</td>\n",
       "      <td>0.0</td>\n",
       "    </tr>\n",
       "    <tr>\n",
       "      <th>755</th>\n",
       "      <td>0.0</td>\n",
       "      <td>0.0</td>\n",
       "      <td>0.0</td>\n",
       "      <td>0.0</td>\n",
       "      <td>0.0</td>\n",
       "      <td>0.0</td>\n",
       "      <td>0.0</td>\n",
       "      <td>0.0</td>\n",
       "      <td>0.0</td>\n",
       "      <td>0.0</td>\n",
       "      <td>...</td>\n",
       "      <td>0.0</td>\n",
       "      <td>0</td>\n",
       "      <td>0.0</td>\n",
       "      <td>0</td>\n",
       "      <td>0.0</td>\n",
       "      <td>0.0</td>\n",
       "      <td>0.0</td>\n",
       "      <td>0.0</td>\n",
       "      <td>0.0</td>\n",
       "      <td>0.0</td>\n",
       "    </tr>\n",
       "    <tr>\n",
       "      <th>1418</th>\n",
       "      <td>0.0</td>\n",
       "      <td>0.0</td>\n",
       "      <td>0.0</td>\n",
       "      <td>0.0</td>\n",
       "      <td>0.0</td>\n",
       "      <td>0.0</td>\n",
       "      <td>0.0</td>\n",
       "      <td>0.0</td>\n",
       "      <td>0.0</td>\n",
       "      <td>0.0</td>\n",
       "      <td>...</td>\n",
       "      <td>0.0</td>\n",
       "      <td>0</td>\n",
       "      <td>0.0</td>\n",
       "      <td>0</td>\n",
       "      <td>0.0</td>\n",
       "      <td>0.0</td>\n",
       "      <td>0.0</td>\n",
       "      <td>0.0</td>\n",
       "      <td>0.0</td>\n",
       "      <td>0.0</td>\n",
       "    </tr>\n",
       "    <tr>\n",
       "      <th>674</th>\n",
       "      <td>0.0</td>\n",
       "      <td>0.0</td>\n",
       "      <td>1.0</td>\n",
       "      <td>0.0</td>\n",
       "      <td>0.0</td>\n",
       "      <td>0.0</td>\n",
       "      <td>1.0</td>\n",
       "      <td>0.0</td>\n",
       "      <td>1.0</td>\n",
       "      <td>0.0</td>\n",
       "      <td>...</td>\n",
       "      <td>0.0</td>\n",
       "      <td>0</td>\n",
       "      <td>0.0</td>\n",
       "      <td>0</td>\n",
       "      <td>0.0</td>\n",
       "      <td>0.0</td>\n",
       "      <td>0.0</td>\n",
       "      <td>0.0</td>\n",
       "      <td>0.0</td>\n",
       "      <td>0.0</td>\n",
       "    </tr>\n",
       "  </tbody>\n",
       "</table>\n",
       "<p>5 rows × 130 columns</p>\n",
       "</div>"
      ],
      "text/plain": [
       "      cuisines_malwani  cuisines_goan  cuisines_northindian  \\\n",
       "4129               0.0            0.0                   1.0   \n",
       "2475               0.0            0.0                   0.0   \n",
       "755                0.0            0.0                   0.0   \n",
       "1418               0.0            0.0                   0.0   \n",
       "674                0.0            0.0                   1.0   \n",
       "\n",
       "      cuisines_japanese  cuisines_asian  cuisines_modernindian  \\\n",
       "4129                0.0             0.0                    0.0   \n",
       "2475                0.0             0.0                    0.0   \n",
       "755                 0.0             0.0                    0.0   \n",
       "1418                0.0             0.0                    0.0   \n",
       "674                 0.0             0.0                    0.0   \n",
       "\n",
       "      cuisines_biryani  cuisines_hyderabadi  cuisines_chinese  \\\n",
       "4129               0.0                  0.0               1.0   \n",
       "2475               0.0                  0.0               0.0   \n",
       "755                0.0                  0.0               0.0   \n",
       "1418               0.0                  0.0               0.0   \n",
       "674                1.0                  0.0               1.0   \n",
       "\n",
       "      cuisines_tibetan  ...  cuisines_vegan  cuisines_jewish  \\\n",
       "4129               0.0  ...             0.0                0   \n",
       "2475               0.0  ...             0.0                0   \n",
       "755                0.0  ...             0.0                0   \n",
       "1418               0.0  ...             0.0                0   \n",
       "674                0.0  ...             0.0                0   \n",
       "\n",
       "      cuisines_oriental  cuisines_modernaustralian  cuisines_egyptian  \\\n",
       "4129                0.0                          0                0.0   \n",
       "2475                0.0                          0                0.0   \n",
       "755                 0.0                          0                0.0   \n",
       "1418                0.0                          0                0.0   \n",
       "674                 0.0                          0                0.0   \n",
       "\n",
       "      cuisines_mishti  cuisines_hawaiian  cuisines_brazilian  \\\n",
       "4129              0.0                0.0                 0.0   \n",
       "2475              0.0                0.0                 0.0   \n",
       "755               0.0                0.0                 0.0   \n",
       "1418              0.0                0.0                 0.0   \n",
       "674               0.0                0.0                 0.0   \n",
       "\n",
       "      cuisines_fishandchips  cuisines_falafel  \n",
       "4129                    0.0               0.0  \n",
       "2475                    0.0               0.0  \n",
       "755                     0.0               0.0  \n",
       "1418                    0.0               0.0  \n",
       "674                     0.0               0.0  \n",
       "\n",
       "[5 rows x 130 columns]"
      ]
     },
     "execution_count": 190,
     "metadata": {},
     "output_type": "execute_result"
    }
   ],
   "source": [
    "test_cuisines.sample(5)"
   ]
  },
  {
   "cell_type": "markdown",
   "metadata": {},
   "source": [
    "### ***Extract the days on which the restaurant will be opened from the TIME feature***"
   ]
  },
  {
   "cell_type": "code",
   "execution_count": 191,
   "metadata": {},
   "outputs": [
    {
     "data": {
      "text/html": [
       "<div>\n",
       "<style scoped>\n",
       "    .dataframe tbody tr th:only-of-type {\n",
       "        vertical-align: middle;\n",
       "    }\n",
       "\n",
       "    .dataframe tbody tr th {\n",
       "        vertical-align: top;\n",
       "    }\n",
       "\n",
       "    .dataframe thead th {\n",
       "        text-align: right;\n",
       "    }\n",
       "</style>\n",
       "<table border=\"1\" class=\"dataframe\">\n",
       "  <thead>\n",
       "    <tr style=\"text-align: right;\">\n",
       "      <th></th>\n",
       "      <th>mon</th>\n",
       "      <th>tue</th>\n",
       "      <th>wed</th>\n",
       "      <th>thu</th>\n",
       "      <th>fri</th>\n",
       "      <th>sat</th>\n",
       "      <th>sun</th>\n",
       "      <th>NA</th>\n",
       "      <th>total_days</th>\n",
       "    </tr>\n",
       "  </thead>\n",
       "  <tbody>\n",
       "    <tr>\n",
       "      <th>1046</th>\n",
       "      <td>1.0</td>\n",
       "      <td>1.0</td>\n",
       "      <td>1.0</td>\n",
       "      <td>1.0</td>\n",
       "      <td>1.0</td>\n",
       "      <td>1.0</td>\n",
       "      <td>1.0</td>\n",
       "      <td>0.0</td>\n",
       "      <td>7.0</td>\n",
       "    </tr>\n",
       "    <tr>\n",
       "      <th>7789</th>\n",
       "      <td>0.0</td>\n",
       "      <td>1.0</td>\n",
       "      <td>1.0</td>\n",
       "      <td>1.0</td>\n",
       "      <td>1.0</td>\n",
       "      <td>1.0</td>\n",
       "      <td>1.0</td>\n",
       "      <td>0.0</td>\n",
       "      <td>6.0</td>\n",
       "    </tr>\n",
       "    <tr>\n",
       "      <th>12334</th>\n",
       "      <td>1.0</td>\n",
       "      <td>0.0</td>\n",
       "      <td>1.0</td>\n",
       "      <td>1.0</td>\n",
       "      <td>1.0</td>\n",
       "      <td>1.0</td>\n",
       "      <td>1.0</td>\n",
       "      <td>0.0</td>\n",
       "      <td>6.0</td>\n",
       "    </tr>\n",
       "    <tr>\n",
       "      <th>9802</th>\n",
       "      <td>0.0</td>\n",
       "      <td>1.0</td>\n",
       "      <td>1.0</td>\n",
       "      <td>1.0</td>\n",
       "      <td>1.0</td>\n",
       "      <td>1.0</td>\n",
       "      <td>1.0</td>\n",
       "      <td>0.0</td>\n",
       "      <td>6.0</td>\n",
       "    </tr>\n",
       "    <tr>\n",
       "      <th>2529</th>\n",
       "      <td>1.0</td>\n",
       "      <td>1.0</td>\n",
       "      <td>1.0</td>\n",
       "      <td>1.0</td>\n",
       "      <td>1.0</td>\n",
       "      <td>1.0</td>\n",
       "      <td>1.0</td>\n",
       "      <td>0.0</td>\n",
       "      <td>7.0</td>\n",
       "    </tr>\n",
       "  </tbody>\n",
       "</table>\n",
       "</div>"
      ],
      "text/plain": [
       "       mon  tue  wed  thu  fri  sat  sun   NA  total_days\n",
       "1046   1.0  1.0  1.0  1.0  1.0  1.0  1.0  0.0         7.0\n",
       "7789   0.0  1.0  1.0  1.0  1.0  1.0  1.0  0.0         6.0\n",
       "12334  1.0  0.0  1.0  1.0  1.0  1.0  1.0  0.0         6.0\n",
       "9802   0.0  1.0  1.0  1.0  1.0  1.0  1.0  0.0         6.0\n",
       "2529   1.0  1.0  1.0  1.0  1.0  1.0  1.0  0.0         7.0"
      ]
     },
     "execution_count": 191,
     "metadata": {},
     "output_type": "execute_result"
    }
   ],
   "source": [
    "# (Train data) Extract the days and ranges of days from the TIME feature using regex and encode it\n",
    "df_time = train_data.TIME.agg(lambda x: pd.Series(1,(set(re.findall('([NA]{2}|[c][l][o][s][e][d]\\s\\(\\w+\\)|[c][l][o][s][e][d]|\\(\\w+?\\W\\w*\\)|[a-z]{3})',str(x).lower().replace('noon','pm').replace('midnight','am').replace('24 hours','24').replace('not available','NA')))))).fillna(0)\n",
    "df_time.reset_index(drop=True,inplace=True)\n",
    "train_days_open = pd.DataFrame(np.zeros((len(df_time),8)),columns=['mon','tue','wed','thu','fri','sat','sun','NA'])\n",
    "for i in list(df_time.columns):\n",
    "    l = re.findall('[NA]{2}|[closed]{5}|[a-z]{3}',i)\n",
    "    if len(l) > 1 and l[0] != 'close':\n",
    "        train_days_open.loc[df_time[i]==1,l[0]:l[1]] = 1\n",
    "    elif len(l) > 1 and l[0] == 'close':\n",
    "        train_days_open.loc[df_time[i]==1,'mon'] = 1\n",
    "        train_days_open.loc[df_time[i]==1,'tue'] = 1\n",
    "        train_days_open.loc[df_time[i]==1,'wed'] = 1\n",
    "        train_days_open.loc[df_time[i]==1,'thu'] = 1\n",
    "        train_days_open.loc[df_time[i]==1,'fri'] = 1\n",
    "        train_days_open.loc[df_time[i]==1,'sat'] = 1\n",
    "        train_days_open.loc[df_time[i]==1,'sun'] = 1\n",
    "        train_days_open.loc[df_time[i]==1,l[1]] = 0\n",
    "    elif len(l) == 1 and l[0] not in ['close','NA']:\n",
    "        train_days_open.loc[df_time[i]==1,l[0]] = 1\n",
    "    elif len(l) == 1 and l[0] == 'NA':\n",
    "        train_days_open.loc[df_time[i]==1,'NA'] = 1\n",
    "        \n",
    "# Also calculate the number of days the restaurant will be opened and concatenate it as an extra feature\n",
    "train_days_open['total_days'] = train_days_open.drop(columns=['NA']).sum(axis=1).rename('total_days')\n",
    "train_days_open.sample(5)"
   ]
  },
  {
   "cell_type": "code",
   "execution_count": 192,
   "metadata": {},
   "outputs": [
    {
     "data": {
      "text/html": [
       "<div>\n",
       "<style scoped>\n",
       "    .dataframe tbody tr th:only-of-type {\n",
       "        vertical-align: middle;\n",
       "    }\n",
       "\n",
       "    .dataframe tbody tr th {\n",
       "        vertical-align: top;\n",
       "    }\n",
       "\n",
       "    .dataframe thead th {\n",
       "        text-align: right;\n",
       "    }\n",
       "</style>\n",
       "<table border=\"1\" class=\"dataframe\">\n",
       "  <thead>\n",
       "    <tr style=\"text-align: right;\">\n",
       "      <th></th>\n",
       "      <th>mon</th>\n",
       "      <th>tue</th>\n",
       "      <th>wed</th>\n",
       "      <th>thu</th>\n",
       "      <th>fri</th>\n",
       "      <th>sat</th>\n",
       "      <th>sun</th>\n",
       "      <th>NA</th>\n",
       "      <th>total_days</th>\n",
       "    </tr>\n",
       "  </thead>\n",
       "  <tbody>\n",
       "    <tr>\n",
       "      <th>3462</th>\n",
       "      <td>1.0</td>\n",
       "      <td>1.0</td>\n",
       "      <td>1.0</td>\n",
       "      <td>1.0</td>\n",
       "      <td>1.0</td>\n",
       "      <td>1.0</td>\n",
       "      <td>1.0</td>\n",
       "      <td>0.0</td>\n",
       "      <td>7.0</td>\n",
       "    </tr>\n",
       "    <tr>\n",
       "      <th>1925</th>\n",
       "      <td>1.0</td>\n",
       "      <td>1.0</td>\n",
       "      <td>1.0</td>\n",
       "      <td>1.0</td>\n",
       "      <td>1.0</td>\n",
       "      <td>1.0</td>\n",
       "      <td>1.0</td>\n",
       "      <td>0.0</td>\n",
       "      <td>7.0</td>\n",
       "    </tr>\n",
       "    <tr>\n",
       "      <th>4218</th>\n",
       "      <td>1.0</td>\n",
       "      <td>1.0</td>\n",
       "      <td>1.0</td>\n",
       "      <td>1.0</td>\n",
       "      <td>1.0</td>\n",
       "      <td>1.0</td>\n",
       "      <td>1.0</td>\n",
       "      <td>0.0</td>\n",
       "      <td>7.0</td>\n",
       "    </tr>\n",
       "    <tr>\n",
       "      <th>3366</th>\n",
       "      <td>1.0</td>\n",
       "      <td>1.0</td>\n",
       "      <td>1.0</td>\n",
       "      <td>1.0</td>\n",
       "      <td>1.0</td>\n",
       "      <td>1.0</td>\n",
       "      <td>1.0</td>\n",
       "      <td>0.0</td>\n",
       "      <td>7.0</td>\n",
       "    </tr>\n",
       "    <tr>\n",
       "      <th>1789</th>\n",
       "      <td>1.0</td>\n",
       "      <td>1.0</td>\n",
       "      <td>1.0</td>\n",
       "      <td>1.0</td>\n",
       "      <td>1.0</td>\n",
       "      <td>1.0</td>\n",
       "      <td>1.0</td>\n",
       "      <td>0.0</td>\n",
       "      <td>7.0</td>\n",
       "    </tr>\n",
       "  </tbody>\n",
       "</table>\n",
       "</div>"
      ],
      "text/plain": [
       "      mon  tue  wed  thu  fri  sat  sun   NA  total_days\n",
       "3462  1.0  1.0  1.0  1.0  1.0  1.0  1.0  0.0         7.0\n",
       "1925  1.0  1.0  1.0  1.0  1.0  1.0  1.0  0.0         7.0\n",
       "4218  1.0  1.0  1.0  1.0  1.0  1.0  1.0  0.0         7.0\n",
       "3366  1.0  1.0  1.0  1.0  1.0  1.0  1.0  0.0         7.0\n",
       "1789  1.0  1.0  1.0  1.0  1.0  1.0  1.0  0.0         7.0"
      ]
     },
     "execution_count": 192,
     "metadata": {},
     "output_type": "execute_result"
    }
   ],
   "source": [
    "# (Test data) Extract the days and ranges of days from the TIME feature using regex and encode it\n",
    "df_time = test_data.TIME.agg(lambda x: pd.Series(1,(set(re.findall('([NA]{2}|[c][l][o][s][e][d]\\s\\(\\w+\\)|[c][l][o][s][e][d]|\\(\\w+?\\W\\w*\\)|[a-z]{3})',str(x).lower().replace('noon','pm').replace('midnight','am').replace('24 hours','24').replace('not available','NA')))))).fillna(0)\n",
    "df_time.reset_index(drop=True,inplace=True)\n",
    "test_days_open = pd.DataFrame(np.zeros((len(df_time),8)),columns=['mon','tue','wed','thu','fri','sat','sun','NA'])\n",
    "for i in list(df_time.columns):\n",
    "    l = re.findall('[NA]{2}|[closed]{5}|[a-z]{3}',i)\n",
    "    if len(l) > 1 and l[0] != 'close':\n",
    "        test_days_open.loc[df_time[i]==1,l[0]:l[1]] = 1\n",
    "    elif len(l) > 1 and l[0] == 'close':\n",
    "        test_days_open.loc[df_time[i]==1,'mon'] = 1\n",
    "        test_days_open.loc[df_time[i]==1,'tue'] = 1\n",
    "        test_days_open.loc[df_time[i]==1,'wed'] = 1\n",
    "        test_days_open.loc[df_time[i]==1,'thu'] = 1\n",
    "        test_days_open.loc[df_time[i]==1,'fri'] = 1\n",
    "        test_days_open.loc[df_time[i]==1,'sat'] = 1\n",
    "        test_days_open.loc[df_time[i]==1,'sun'] = 1\n",
    "        test_days_open.loc[df_time[i]==1,l[1]] = 0\n",
    "    elif len(l) == 1 and l[0] not in ['close','NA']:\n",
    "        test_days_open.loc[df_time[i]==1,l[0]] = 1\n",
    "    elif len(l) == 1 and l[0] == 'NA':\n",
    "        test_days_open.loc[df_time[i]==1,'NA'] = 1\n",
    "        \n",
    "# Calculate the number of days the restaurant will be opened and concatenate it as an extra feature\n",
    "test_days_open['total_days'] = test_days_open.drop(columns=['NA']).sum(axis=1).rename('total_days')\n",
    "test_days_open.sample(5)"
   ]
  },
  {
   "cell_type": "code",
   "execution_count": 193,
   "metadata": {},
   "outputs": [],
   "source": [
    "# Combine the zero number of days rows with the NA column, since those rows doesnt have any days mentioned\n",
    "train_days_open.loc[(train_days_open['total_days'] == 0)&(train_days_open['NA']==0),'NA'] = 1\n",
    "test_days_open.loc[(test_days_open['total_days'] == 0)&(test_days_open['NA']==0),'NA'] = 1"
   ]
  },
  {
   "cell_type": "markdown",
   "metadata": {},
   "source": [
    "### ***Extract cities from the CITY feature and encode it***"
   ]
  },
  {
   "cell_type": "code",
   "execution_count": 194,
   "metadata": {},
   "outputs": [],
   "source": [
    "# Fill null values in the city as unknown\n",
    "train_data.loc[:,'CITY'] = train_data.CITY.fillna('Unknown')\n",
    "test_data.loc[:,'CITY'] = test_data.CITY.fillna('Unknown')"
   ]
  },
  {
   "cell_type": "code",
   "execution_count": 195,
   "metadata": {},
   "outputs": [
    {
     "data": {
      "text/html": [
       "<div>\n",
       "<style scoped>\n",
       "    .dataframe tbody tr th:only-of-type {\n",
       "        vertical-align: middle;\n",
       "    }\n",
       "\n",
       "    .dataframe tbody tr th {\n",
       "        vertical-align: top;\n",
       "    }\n",
       "\n",
       "    .dataframe thead th {\n",
       "        text-align: right;\n",
       "    }\n",
       "</style>\n",
       "<table border=\"1\" class=\"dataframe\">\n",
       "  <thead>\n",
       "    <tr style=\"text-align: right;\">\n",
       "      <th></th>\n",
       "      <th>0</th>\n",
       "    </tr>\n",
       "  </thead>\n",
       "  <tbody>\n",
       "    <tr>\n",
       "      <th>chennai</th>\n",
       "      <td>2175.0</td>\n",
       "    </tr>\n",
       "    <tr>\n",
       "      <th>bangalore</th>\n",
       "      <td>2145.0</td>\n",
       "    </tr>\n",
       "    <tr>\n",
       "      <th>hyderabad</th>\n",
       "      <td>1820.0</td>\n",
       "    </tr>\n",
       "    <tr>\n",
       "      <th>mumbai</th>\n",
       "      <td>1713.0</td>\n",
       "    </tr>\n",
       "    <tr>\n",
       "      <th>newdelhi</th>\n",
       "      <td>1317.0</td>\n",
       "    </tr>\n",
       "    <tr>\n",
       "      <th>kochi</th>\n",
       "      <td>1280.0</td>\n",
       "    </tr>\n",
       "    <tr>\n",
       "      <th>gurgaon</th>\n",
       "      <td>377.0</td>\n",
       "    </tr>\n",
       "    <tr>\n",
       "      <th>secunderabad</th>\n",
       "      <td>310.0</td>\n",
       "    </tr>\n",
       "    <tr>\n",
       "      <th>noida</th>\n",
       "      <td>211.0</td>\n",
       "    </tr>\n",
       "    <tr>\n",
       "      <th>navimumbai</th>\n",
       "      <td>165.0</td>\n",
       "    </tr>\n",
       "    <tr>\n",
       "      <th>unknown</th>\n",
       "      <td>111.0</td>\n",
       "    </tr>\n",
       "    <tr>\n",
       "      <th>ghaziabad</th>\n",
       "      <td>102.0</td>\n",
       "    </tr>\n",
       "    <tr>\n",
       "      <th>thane</th>\n",
       "      <td>95.0</td>\n",
       "    </tr>\n",
       "    <tr>\n",
       "      <th>faridabad</th>\n",
       "      <td>79.0</td>\n",
       "    </tr>\n",
       "    <tr>\n",
       "      <th>bandrawest</th>\n",
       "      <td>69.0</td>\n",
       "    </tr>\n",
       "    <tr>\n",
       "      <th>thanewest</th>\n",
       "      <td>52.0</td>\n",
       "    </tr>\n",
       "    <tr>\n",
       "      <th>andheriwest</th>\n",
       "      <td>47.0</td>\n",
       "    </tr>\n",
       "    <tr>\n",
       "      <th>bengaluru</th>\n",
       "      <td>42.0</td>\n",
       "    </tr>\n",
       "    <tr>\n",
       "      <th>greaternoida</th>\n",
       "      <td>31.0</td>\n",
       "    </tr>\n",
       "    <tr>\n",
       "      <th>india</th>\n",
       "      <td>23.0</td>\n",
       "    </tr>\n",
       "    <tr>\n",
       "      <th>kakkanad</th>\n",
       "      <td>15.0</td>\n",
       "    </tr>\n",
       "    <tr>\n",
       "      <th>ernakulam</th>\n",
       "      <td>14.0</td>\n",
       "    </tr>\n",
       "    <tr>\n",
       "      <th>kerala</th>\n",
       "      <td>10.0</td>\n",
       "    </tr>\n",
       "    <tr>\n",
       "      <th>dwarka</th>\n",
       "      <td>10.0</td>\n",
       "    </tr>\n",
       "    <tr>\n",
       "      <th>delhincr</th>\n",
       "      <td>9.0</td>\n",
       "    </tr>\n",
       "  </tbody>\n",
       "</table>\n",
       "</div>"
      ],
      "text/plain": [
       "                   0\n",
       "chennai       2175.0\n",
       "bangalore     2145.0\n",
       "hyderabad     1820.0\n",
       "mumbai        1713.0\n",
       "newdelhi      1317.0\n",
       "kochi         1280.0\n",
       "gurgaon        377.0\n",
       "secunderabad   310.0\n",
       "noida          211.0\n",
       "navimumbai     165.0\n",
       "unknown        111.0\n",
       "ghaziabad      102.0\n",
       "thane           95.0\n",
       "faridabad       79.0\n",
       "bandrawest      69.0\n",
       "thanewest       52.0\n",
       "andheriwest     47.0\n",
       "bengaluru       42.0\n",
       "greaternoida    31.0\n",
       "india           23.0\n",
       "kakkanad        15.0\n",
       "ernakulam       14.0\n",
       "kerala          10.0\n",
       "dwarka          10.0\n",
       "delhincr         9.0"
      ]
     },
     "execution_count": 195,
     "metadata": {},
     "output_type": "execute_result"
    }
   ],
   "source": [
    "# Find out the most ocurring cities from the CITY feature\n",
    "train_data.CITY.agg(lambda x: \n",
    "                    pd.Series(1,(set(x.strip().lower().replace(' ','').split(','))))).fillna(0).sum().sort_values(ascending=False).head(25).to_frame()"
   ]
  },
  {
   "cell_type": "code",
   "execution_count": 196,
   "metadata": {},
   "outputs": [],
   "source": [
    "# Most frequently occurring cities\n",
    "cities = ['Bangalore','Thane','Bandra',\n",
    "          'Hyderabad','Andheri','Delhi',\n",
    "          'Chennai', 'Bandra','Mumbai',\n",
    "          'Kochi', 'Noida', 'Gurgaon',\n",
    "          'Faridabad', 'Ghaziabad','Secunderabad']"
   ]
  },
  {
   "cell_type": "code",
   "execution_count": 197,
   "metadata": {},
   "outputs": [],
   "source": [
    "from fuzzywuzzy import process"
   ]
  },
  {
   "cell_type": "code",
   "execution_count": 198,
   "metadata": {},
   "outputs": [],
   "source": [
    "# Match the cities with the CITY column using the fuzzywuzzy\n",
    "def match_names(wrong_names,correct_names):\n",
    "    names = []\n",
    "    for row in wrong_names:\n",
    "        x = process.extractOne(row, correct_names)\n",
    "        if x[1]<60:\n",
    "            names.append('Others')\n",
    "        else:\n",
    "            names.append(x[0])\n",
    "    return names"
   ]
  },
  {
   "cell_type": "code",
   "execution_count": 199,
   "metadata": {},
   "outputs": [],
   "source": [
    "# Replace the CITY with matching cities\n",
    "train_data.loc[:,'CITY'] = match_names((train_data.CITY.astype(str) + ' ' + train_data.LOCALITY.astype(str)),cities)\n",
    "test_data.loc[:,'CITY'] = match_names((test_data.CITY.astype(str) + ' ' + test_data.LOCALITY.astype(str)),cities)"
   ]
  },
  {
   "cell_type": "code",
   "execution_count": 200,
   "metadata": {},
   "outputs": [
    {
     "data": {
      "text/html": [
       "<div>\n",
       "<style scoped>\n",
       "    .dataframe tbody tr th:only-of-type {\n",
       "        vertical-align: middle;\n",
       "    }\n",
       "\n",
       "    .dataframe tbody tr th {\n",
       "        vertical-align: top;\n",
       "    }\n",
       "\n",
       "    .dataframe thead th {\n",
       "        text-align: right;\n",
       "    }\n",
       "</style>\n",
       "<table border=\"1\" class=\"dataframe\">\n",
       "  <thead>\n",
       "    <tr style=\"text-align: right;\">\n",
       "      <th></th>\n",
       "      <th>thane</th>\n",
       "      <th>chennai</th>\n",
       "      <th>bandra</th>\n",
       "      <th>mumbai</th>\n",
       "      <th>bangalore</th>\n",
       "      <th>gurgaon</th>\n",
       "      <th>hyderabad</th>\n",
       "      <th>kochi</th>\n",
       "      <th>andheri</th>\n",
       "      <th>delhi</th>\n",
       "      <th>noida</th>\n",
       "      <th>secunderabad</th>\n",
       "      <th>faridabad</th>\n",
       "      <th>ghaziabad</th>\n",
       "    </tr>\n",
       "  </thead>\n",
       "  <tbody>\n",
       "    <tr>\n",
       "      <th>8710</th>\n",
       "      <td>0.0</td>\n",
       "      <td>1.0</td>\n",
       "      <td>0.0</td>\n",
       "      <td>0.0</td>\n",
       "      <td>0.0</td>\n",
       "      <td>0.0</td>\n",
       "      <td>0.0</td>\n",
       "      <td>0.0</td>\n",
       "      <td>0.0</td>\n",
       "      <td>0.0</td>\n",
       "      <td>0.0</td>\n",
       "      <td>0.0</td>\n",
       "      <td>0.0</td>\n",
       "      <td>0.0</td>\n",
       "    </tr>\n",
       "    <tr>\n",
       "      <th>9136</th>\n",
       "      <td>0.0</td>\n",
       "      <td>0.0</td>\n",
       "      <td>0.0</td>\n",
       "      <td>0.0</td>\n",
       "      <td>0.0</td>\n",
       "      <td>1.0</td>\n",
       "      <td>0.0</td>\n",
       "      <td>0.0</td>\n",
       "      <td>0.0</td>\n",
       "      <td>0.0</td>\n",
       "      <td>0.0</td>\n",
       "      <td>0.0</td>\n",
       "      <td>0.0</td>\n",
       "      <td>0.0</td>\n",
       "    </tr>\n",
       "    <tr>\n",
       "      <th>12359</th>\n",
       "      <td>1.0</td>\n",
       "      <td>0.0</td>\n",
       "      <td>0.0</td>\n",
       "      <td>0.0</td>\n",
       "      <td>0.0</td>\n",
       "      <td>0.0</td>\n",
       "      <td>0.0</td>\n",
       "      <td>0.0</td>\n",
       "      <td>0.0</td>\n",
       "      <td>0.0</td>\n",
       "      <td>0.0</td>\n",
       "      <td>0.0</td>\n",
       "      <td>0.0</td>\n",
       "      <td>0.0</td>\n",
       "    </tr>\n",
       "    <tr>\n",
       "      <th>509</th>\n",
       "      <td>0.0</td>\n",
       "      <td>0.0</td>\n",
       "      <td>0.0</td>\n",
       "      <td>0.0</td>\n",
       "      <td>1.0</td>\n",
       "      <td>0.0</td>\n",
       "      <td>0.0</td>\n",
       "      <td>0.0</td>\n",
       "      <td>0.0</td>\n",
       "      <td>0.0</td>\n",
       "      <td>0.0</td>\n",
       "      <td>0.0</td>\n",
       "      <td>0.0</td>\n",
       "      <td>0.0</td>\n",
       "    </tr>\n",
       "    <tr>\n",
       "      <th>11855</th>\n",
       "      <td>0.0</td>\n",
       "      <td>1.0</td>\n",
       "      <td>0.0</td>\n",
       "      <td>0.0</td>\n",
       "      <td>0.0</td>\n",
       "      <td>0.0</td>\n",
       "      <td>0.0</td>\n",
       "      <td>0.0</td>\n",
       "      <td>0.0</td>\n",
       "      <td>0.0</td>\n",
       "      <td>0.0</td>\n",
       "      <td>0.0</td>\n",
       "      <td>0.0</td>\n",
       "      <td>0.0</td>\n",
       "    </tr>\n",
       "  </tbody>\n",
       "</table>\n",
       "</div>"
      ],
      "text/plain": [
       "       thane  chennai  bandra  mumbai  bangalore  gurgaon  hyderabad  kochi  \\\n",
       "8710     0.0      1.0     0.0     0.0        0.0      0.0        0.0    0.0   \n",
       "9136     0.0      0.0     0.0     0.0        0.0      1.0        0.0    0.0   \n",
       "12359    1.0      0.0     0.0     0.0        0.0      0.0        0.0    0.0   \n",
       "509      0.0      0.0     0.0     0.0        1.0      0.0        0.0    0.0   \n",
       "11855    0.0      1.0     0.0     0.0        0.0      0.0        0.0    0.0   \n",
       "\n",
       "       andheri  delhi  noida  secunderabad  faridabad  ghaziabad  \n",
       "8710       0.0    0.0    0.0           0.0        0.0        0.0  \n",
       "9136       0.0    0.0    0.0           0.0        0.0        0.0  \n",
       "12359      0.0    0.0    0.0           0.0        0.0        0.0  \n",
       "509        0.0    0.0    0.0           0.0        0.0        0.0  \n",
       "11855      0.0    0.0    0.0           0.0        0.0        0.0  "
      ]
     },
     "execution_count": 200,
     "metadata": {},
     "output_type": "execute_result"
    }
   ],
   "source": [
    "# Encoding the cities from train data\n",
    "train_city = train_data.CITY.agg(lambda x: pd.Series(1,(set(x.strip().lower().replace(' ','').split(','))))).fillna(0)\n",
    "train_city.drop(columns=['others'],inplace=True)\n",
    "train_city.reset_index(drop=True,inplace=True)\n",
    "train_city.sample(5)"
   ]
  },
  {
   "cell_type": "code",
   "execution_count": 201,
   "metadata": {},
   "outputs": [
    {
     "data": {
      "text/html": [
       "<div>\n",
       "<style scoped>\n",
       "    .dataframe tbody tr th:only-of-type {\n",
       "        vertical-align: middle;\n",
       "    }\n",
       "\n",
       "    .dataframe tbody tr th {\n",
       "        vertical-align: top;\n",
       "    }\n",
       "\n",
       "    .dataframe thead th {\n",
       "        text-align: right;\n",
       "    }\n",
       "</style>\n",
       "<table border=\"1\" class=\"dataframe\">\n",
       "  <thead>\n",
       "    <tr style=\"text-align: right;\">\n",
       "      <th></th>\n",
       "      <th>thane</th>\n",
       "      <th>chennai</th>\n",
       "      <th>bandra</th>\n",
       "      <th>mumbai</th>\n",
       "      <th>bangalore</th>\n",
       "      <th>gurgaon</th>\n",
       "      <th>hyderabad</th>\n",
       "      <th>kochi</th>\n",
       "      <th>andheri</th>\n",
       "      <th>delhi</th>\n",
       "      <th>noida</th>\n",
       "      <th>secunderabad</th>\n",
       "      <th>faridabad</th>\n",
       "      <th>ghaziabad</th>\n",
       "    </tr>\n",
       "  </thead>\n",
       "  <tbody>\n",
       "    <tr>\n",
       "      <th>2183</th>\n",
       "      <td>0.0</td>\n",
       "      <td>1.0</td>\n",
       "      <td>0.0</td>\n",
       "      <td>0.0</td>\n",
       "      <td>0.0</td>\n",
       "      <td>0.0</td>\n",
       "      <td>0.0</td>\n",
       "      <td>0.0</td>\n",
       "      <td>0.0</td>\n",
       "      <td>0.0</td>\n",
       "      <td>0.0</td>\n",
       "      <td>0.0</td>\n",
       "      <td>0.0</td>\n",
       "      <td>0.0</td>\n",
       "    </tr>\n",
       "    <tr>\n",
       "      <th>138</th>\n",
       "      <td>0.0</td>\n",
       "      <td>0.0</td>\n",
       "      <td>0.0</td>\n",
       "      <td>1.0</td>\n",
       "      <td>0.0</td>\n",
       "      <td>0.0</td>\n",
       "      <td>0.0</td>\n",
       "      <td>0.0</td>\n",
       "      <td>0.0</td>\n",
       "      <td>0.0</td>\n",
       "      <td>0.0</td>\n",
       "      <td>0.0</td>\n",
       "      <td>0.0</td>\n",
       "      <td>0.0</td>\n",
       "    </tr>\n",
       "    <tr>\n",
       "      <th>1625</th>\n",
       "      <td>0.0</td>\n",
       "      <td>0.0</td>\n",
       "      <td>0.0</td>\n",
       "      <td>0.0</td>\n",
       "      <td>1.0</td>\n",
       "      <td>0.0</td>\n",
       "      <td>0.0</td>\n",
       "      <td>0.0</td>\n",
       "      <td>0.0</td>\n",
       "      <td>0.0</td>\n",
       "      <td>0.0</td>\n",
       "      <td>0.0</td>\n",
       "      <td>0.0</td>\n",
       "      <td>0.0</td>\n",
       "    </tr>\n",
       "    <tr>\n",
       "      <th>82</th>\n",
       "      <td>0.0</td>\n",
       "      <td>0.0</td>\n",
       "      <td>0.0</td>\n",
       "      <td>1.0</td>\n",
       "      <td>0.0</td>\n",
       "      <td>0.0</td>\n",
       "      <td>0.0</td>\n",
       "      <td>0.0</td>\n",
       "      <td>0.0</td>\n",
       "      <td>0.0</td>\n",
       "      <td>0.0</td>\n",
       "      <td>0.0</td>\n",
       "      <td>0.0</td>\n",
       "      <td>0.0</td>\n",
       "    </tr>\n",
       "    <tr>\n",
       "      <th>799</th>\n",
       "      <td>0.0</td>\n",
       "      <td>1.0</td>\n",
       "      <td>0.0</td>\n",
       "      <td>0.0</td>\n",
       "      <td>0.0</td>\n",
       "      <td>0.0</td>\n",
       "      <td>0.0</td>\n",
       "      <td>0.0</td>\n",
       "      <td>0.0</td>\n",
       "      <td>0.0</td>\n",
       "      <td>0.0</td>\n",
       "      <td>0.0</td>\n",
       "      <td>0.0</td>\n",
       "      <td>0.0</td>\n",
       "    </tr>\n",
       "  </tbody>\n",
       "</table>\n",
       "</div>"
      ],
      "text/plain": [
       "      thane  chennai  bandra  mumbai  bangalore  gurgaon  hyderabad  kochi  \\\n",
       "2183    0.0      1.0     0.0     0.0        0.0      0.0        0.0    0.0   \n",
       "138     0.0      0.0     0.0     1.0        0.0      0.0        0.0    0.0   \n",
       "1625    0.0      0.0     0.0     0.0        1.0      0.0        0.0    0.0   \n",
       "82      0.0      0.0     0.0     1.0        0.0      0.0        0.0    0.0   \n",
       "799     0.0      1.0     0.0     0.0        0.0      0.0        0.0    0.0   \n",
       "\n",
       "      andheri  delhi  noida  secunderabad  faridabad  ghaziabad  \n",
       "2183      0.0    0.0    0.0           0.0        0.0        0.0  \n",
       "138       0.0    0.0    0.0           0.0        0.0        0.0  \n",
       "1625      0.0    0.0    0.0           0.0        0.0        0.0  \n",
       "82        0.0    0.0    0.0           0.0        0.0        0.0  \n",
       "799       0.0    0.0    0.0           0.0        0.0        0.0  "
      ]
     },
     "execution_count": 201,
     "metadata": {},
     "output_type": "execute_result"
    }
   ],
   "source": [
    "# Encoding the cities from test data\n",
    "test_city = test_data.CITY.agg(lambda x: pd.Series(1,(set(x.strip().lower().replace(' ','').split(','))))).fillna(0)\n",
    "test_city.drop(columns=['others'],inplace=True)\n",
    "test_city.reset_index(drop=True,inplace=True)\n",
    "test_city = test_city[train_city.columns]\n",
    "test_city.sample(5)"
   ]
  },
  {
   "cell_type": "markdown",
   "metadata": {},
   "source": [
    "### ***Label encode all the unique localities***"
   ]
  },
  {
   "cell_type": "code",
   "execution_count": 202,
   "metadata": {},
   "outputs": [],
   "source": [
    "# Create dictionary of encoded localities\n",
    "localities = []\n",
    "localities.extend(train_data.LOCALITY.agg(lambda x: ' '.join(sorted(set(re.findall('[a-z]+',str(x).lower()))))).unique())\n",
    "localities.extend(test_data.LOCALITY.agg(lambda x: ' '.join(sorted(set(re.findall('[a-z]+',str(x).lower()))))).unique())\n",
    "locality_dict = dict(enumerate(set(localities)))\n",
    "locality_dict = dict([(i[1],i[0]) for i in locality_dict.items()])"
   ]
  },
  {
   "cell_type": "code",
   "execution_count": 203,
   "metadata": {},
   "outputs": [],
   "source": [
    "# Replace the Loaclities with encoded values\n",
    "train_data.loc[:,'LOCALITY'] = train_data.LOCALITY.agg(lambda x: ' '.join(sorted(set(re.findall('[a-z]+',str(x).lower()))))).replace(locality_dict)\n",
    "test_data.loc[:,'LOCALITY'] = test_data.LOCALITY.agg(lambda x: ' '.join(sorted(set(re.findall('[a-z]+',str(x).lower()))))).replace(locality_dict)"
   ]
  },
  {
   "cell_type": "code",
   "execution_count": 204,
   "metadata": {},
   "outputs": [
    {
     "data": {
      "text/html": [
       "<div>\n",
       "<style scoped>\n",
       "    .dataframe tbody tr th:only-of-type {\n",
       "        vertical-align: middle;\n",
       "    }\n",
       "\n",
       "    .dataframe tbody tr th {\n",
       "        vertical-align: top;\n",
       "    }\n",
       "\n",
       "    .dataframe thead th {\n",
       "        text-align: right;\n",
       "    }\n",
       "</style>\n",
       "<table border=\"1\" class=\"dataframe\">\n",
       "  <thead>\n",
       "    <tr style=\"text-align: right;\">\n",
       "      <th></th>\n",
       "      <th>LOCALITY</th>\n",
       "    </tr>\n",
       "  </thead>\n",
       "  <tbody>\n",
       "    <tr>\n",
       "      <th>4024</th>\n",
       "      <td>485</td>\n",
       "    </tr>\n",
       "    <tr>\n",
       "      <th>229</th>\n",
       "      <td>1006</td>\n",
       "    </tr>\n",
       "    <tr>\n",
       "      <th>12082</th>\n",
       "      <td>214</td>\n",
       "    </tr>\n",
       "  </tbody>\n",
       "</table>\n",
       "</div>"
      ],
      "text/plain": [
       "       LOCALITY\n",
       "4024        485\n",
       "229        1006\n",
       "12082       214"
      ]
     },
     "execution_count": 204,
     "metadata": {},
     "output_type": "execute_result"
    }
   ],
   "source": [
    "train_data[['LOCALITY']].sample(3)"
   ]
  },
  {
   "cell_type": "code",
   "execution_count": 205,
   "metadata": {},
   "outputs": [
    {
     "data": {
      "text/html": [
       "<div>\n",
       "<style scoped>\n",
       "    .dataframe tbody tr th:only-of-type {\n",
       "        vertical-align: middle;\n",
       "    }\n",
       "\n",
       "    .dataframe tbody tr th {\n",
       "        vertical-align: top;\n",
       "    }\n",
       "\n",
       "    .dataframe thead th {\n",
       "        text-align: right;\n",
       "    }\n",
       "</style>\n",
       "<table border=\"1\" class=\"dataframe\">\n",
       "  <thead>\n",
       "    <tr style=\"text-align: right;\">\n",
       "      <th></th>\n",
       "      <th>LOCALITY</th>\n",
       "    </tr>\n",
       "  </thead>\n",
       "  <tbody>\n",
       "    <tr>\n",
       "      <th>1750</th>\n",
       "      <td>1148</td>\n",
       "    </tr>\n",
       "    <tr>\n",
       "      <th>3871</th>\n",
       "      <td>207</td>\n",
       "    </tr>\n",
       "    <tr>\n",
       "      <th>3320</th>\n",
       "      <td>705</td>\n",
       "    </tr>\n",
       "  </tbody>\n",
       "</table>\n",
       "</div>"
      ],
      "text/plain": [
       "      LOCALITY\n",
       "1750      1148\n",
       "3871       207\n",
       "3320       705"
      ]
     },
     "execution_count": 205,
     "metadata": {},
     "output_type": "execute_result"
    }
   ],
   "source": [
    "test_data[['LOCALITY']].sample(3)"
   ]
  },
  {
   "cell_type": "markdown",
   "metadata": {},
   "source": [
    "### ***Convert RATING feature as numeric values***"
   ]
  },
  {
   "cell_type": "code",
   "execution_count": 206,
   "metadata": {},
   "outputs": [
    {
     "data": {
      "text/plain": [
       "{'-',\n",
       " '2.0',\n",
       " '2.1',\n",
       " '2.2',\n",
       " '2.3',\n",
       " '2.4',\n",
       " '2.5',\n",
       " '2.6',\n",
       " '2.7',\n",
       " '2.8',\n",
       " '2.9',\n",
       " '3.0',\n",
       " '3.1',\n",
       " '3.2',\n",
       " '3.3',\n",
       " '3.4',\n",
       " '3.5',\n",
       " '3.6',\n",
       " '3.7',\n",
       " '3.8',\n",
       " '3.9',\n",
       " '4.0',\n",
       " '4.1',\n",
       " '4.2',\n",
       " '4.3',\n",
       " '4.4',\n",
       " '4.5',\n",
       " '4.6',\n",
       " '4.7',\n",
       " '4.8',\n",
       " '4.9',\n",
       " 'NEW',\n",
       " nan}"
      ]
     },
     "execution_count": 206,
     "metadata": {},
     "output_type": "execute_result"
    }
   ],
   "source": [
    "# Check the unique ratings in both test and train data\n",
    "set(list(train_data.RATING.unique())+(list(test_data.RATING.unique())))"
   ]
  },
  {
   "cell_type": "code",
   "execution_count": 207,
   "metadata": {},
   "outputs": [],
   "source": [
    "# Extract numeric from the RATING column and change it to numeric type\n",
    "train_data['RATING'].replace({'NEW':'1','-':'1'},inplace=True)\n",
    "test_data['RATING'].replace({'NEW':'1','-':'1'},inplace=True)\n",
    "train_data.loc[:,'RATING'] = train_data.RATING.astype(float)\n",
    "test_data.loc[:,'RATING'] = test_data.RATING.astype(float)\n",
    "\n",
    "mean_rating = dict(round(train_data.groupby('CITY')['RATING'].mean(),1))\n",
    "\n",
    "for i in mean_rating.items():\n",
    "    train_data.loc[(train_data['RATING'].isnull())&( train_data['CITY']==i[0]),'RATING'] = i[1]\n",
    "for i in mean_rating.items():\n",
    "    test_data.loc[(test_data['RATING'].isnull())&( test_data['CITY']==i[0]),'RATING'] = i[1]\n",
    "    \n",
    "train_data['RATING'] = train_data['RATING'].astype(float)\n",
    "test_data['RATING'] = test_data['RATING'].astype(float)"
   ]
  },
  {
   "cell_type": "code",
   "execution_count": 208,
   "metadata": {},
   "outputs": [
    {
     "data": {
      "text/html": [
       "<div>\n",
       "<style scoped>\n",
       "    .dataframe tbody tr th:only-of-type {\n",
       "        vertical-align: middle;\n",
       "    }\n",
       "\n",
       "    .dataframe tbody tr th {\n",
       "        vertical-align: top;\n",
       "    }\n",
       "\n",
       "    .dataframe thead th {\n",
       "        text-align: right;\n",
       "    }\n",
       "</style>\n",
       "<table border=\"1\" class=\"dataframe\">\n",
       "  <thead>\n",
       "    <tr style=\"text-align: right;\">\n",
       "      <th></th>\n",
       "      <th>RATING</th>\n",
       "    </tr>\n",
       "  </thead>\n",
       "  <tbody>\n",
       "    <tr>\n",
       "      <th>11932</th>\n",
       "      <td>4.6</td>\n",
       "    </tr>\n",
       "    <tr>\n",
       "      <th>4154</th>\n",
       "      <td>3.6</td>\n",
       "    </tr>\n",
       "    <tr>\n",
       "      <th>11601</th>\n",
       "      <td>3.6</td>\n",
       "    </tr>\n",
       "  </tbody>\n",
       "</table>\n",
       "</div>"
      ],
      "text/plain": [
       "       RATING\n",
       "11932     4.6\n",
       "4154      3.6\n",
       "11601     3.6"
      ]
     },
     "execution_count": 208,
     "metadata": {},
     "output_type": "execute_result"
    }
   ],
   "source": [
    "train_data[['RATING']].sample(3)"
   ]
  },
  {
   "cell_type": "code",
   "execution_count": 209,
   "metadata": {},
   "outputs": [
    {
     "data": {
      "text/html": [
       "<div>\n",
       "<style scoped>\n",
       "    .dataframe tbody tr th:only-of-type {\n",
       "        vertical-align: middle;\n",
       "    }\n",
       "\n",
       "    .dataframe tbody tr th {\n",
       "        vertical-align: top;\n",
       "    }\n",
       "\n",
       "    .dataframe thead th {\n",
       "        text-align: right;\n",
       "    }\n",
       "</style>\n",
       "<table border=\"1\" class=\"dataframe\">\n",
       "  <thead>\n",
       "    <tr style=\"text-align: right;\">\n",
       "      <th></th>\n",
       "      <th>RATING</th>\n",
       "    </tr>\n",
       "  </thead>\n",
       "  <tbody>\n",
       "    <tr>\n",
       "      <th>3494</th>\n",
       "      <td>4.3</td>\n",
       "    </tr>\n",
       "    <tr>\n",
       "      <th>4138</th>\n",
       "      <td>4.1</td>\n",
       "    </tr>\n",
       "    <tr>\n",
       "      <th>3505</th>\n",
       "      <td>1.0</td>\n",
       "    </tr>\n",
       "  </tbody>\n",
       "</table>\n",
       "</div>"
      ],
      "text/plain": [
       "      RATING\n",
       "3494     4.3\n",
       "4138     4.1\n",
       "3505     1.0"
      ]
     },
     "execution_count": 209,
     "metadata": {},
     "output_type": "execute_result"
    }
   ],
   "source": [
    "test_data[['RATING']].sample(3)"
   ]
  },
  {
   "cell_type": "markdown",
   "metadata": {},
   "source": [
    "### ***Convert VOTES into numeric type***"
   ]
  },
  {
   "cell_type": "code",
   "execution_count": 210,
   "metadata": {},
   "outputs": [],
   "source": [
    "train_data.loc[:,'VOTES'] = train_data.VOTES.fillna('0 votes').agg(lambda x: str(x).lower()[:-5].strip()).astype(int)\n",
    "test_data.loc[:,'VOTES'] = test_data.VOTES.fillna('0 votes').agg(lambda x: str(x).lower()[:-5].strip()).astype(int)"
   ]
  },
  {
   "cell_type": "code",
   "execution_count": 211,
   "metadata": {},
   "outputs": [
    {
     "data": {
      "text/html": [
       "<div>\n",
       "<style scoped>\n",
       "    .dataframe tbody tr th:only-of-type {\n",
       "        vertical-align: middle;\n",
       "    }\n",
       "\n",
       "    .dataframe tbody tr th {\n",
       "        vertical-align: top;\n",
       "    }\n",
       "\n",
       "    .dataframe thead th {\n",
       "        text-align: right;\n",
       "    }\n",
       "</style>\n",
       "<table border=\"1\" class=\"dataframe\">\n",
       "  <thead>\n",
       "    <tr style=\"text-align: right;\">\n",
       "      <th></th>\n",
       "      <th>VOTES</th>\n",
       "    </tr>\n",
       "  </thead>\n",
       "  <tbody>\n",
       "    <tr>\n",
       "      <th>5127</th>\n",
       "      <td>409</td>\n",
       "    </tr>\n",
       "    <tr>\n",
       "      <th>12619</th>\n",
       "      <td>306</td>\n",
       "    </tr>\n",
       "    <tr>\n",
       "      <th>4148</th>\n",
       "      <td>2811</td>\n",
       "    </tr>\n",
       "  </tbody>\n",
       "</table>\n",
       "</div>"
      ],
      "text/plain": [
       "       VOTES\n",
       "5127     409\n",
       "12619    306\n",
       "4148    2811"
      ]
     },
     "execution_count": 211,
     "metadata": {},
     "output_type": "execute_result"
    }
   ],
   "source": [
    "train_data[['VOTES']].sample(3)"
   ]
  },
  {
   "cell_type": "code",
   "execution_count": 212,
   "metadata": {},
   "outputs": [
    {
     "data": {
      "text/html": [
       "<div>\n",
       "<style scoped>\n",
       "    .dataframe tbody tr th:only-of-type {\n",
       "        vertical-align: middle;\n",
       "    }\n",
       "\n",
       "    .dataframe tbody tr th {\n",
       "        vertical-align: top;\n",
       "    }\n",
       "\n",
       "    .dataframe thead th {\n",
       "        text-align: right;\n",
       "    }\n",
       "</style>\n",
       "<table border=\"1\" class=\"dataframe\">\n",
       "  <thead>\n",
       "    <tr style=\"text-align: right;\">\n",
       "      <th></th>\n",
       "      <th>VOTES</th>\n",
       "    </tr>\n",
       "  </thead>\n",
       "  <tbody>\n",
       "    <tr>\n",
       "      <th>2105</th>\n",
       "      <td>44</td>\n",
       "    </tr>\n",
       "    <tr>\n",
       "      <th>863</th>\n",
       "      <td>101</td>\n",
       "    </tr>\n",
       "    <tr>\n",
       "      <th>2096</th>\n",
       "      <td>291</td>\n",
       "    </tr>\n",
       "  </tbody>\n",
       "</table>\n",
       "</div>"
      ],
      "text/plain": [
       "      VOTES\n",
       "2105     44\n",
       "863     101\n",
       "2096    291"
      ]
     },
     "execution_count": 212,
     "metadata": {},
     "output_type": "execute_result"
    }
   ],
   "source": [
    "test_data[['VOTES']].sample(3)"
   ]
  },
  {
   "cell_type": "markdown",
   "metadata": {},
   "source": [
    "### ***Extract the times of the restaurant operation and convert it into part of the day and encode it***"
   ]
  },
  {
   "cell_type": "code",
   "execution_count": 213,
   "metadata": {},
   "outputs": [],
   "source": [
    "from dateutil.parser import parse\n",
    "from datetime import timedelta as td\n",
    "\n",
    "# Check the in which part of the day the restaurant starts and ends \n",
    "def check_part(x,y):\n",
    "    time_start = parse(x)\n",
    "    time_end = parse(y)\n",
    "    start = ''\n",
    "    end = ''\n",
    "    if time_start >= parse('9pm'):\n",
    "        start = 'early_night'\n",
    "    elif time_start >= parse('7pm'):\n",
    "        start = 'late_evening'\n",
    "    elif time_start >= parse('5pm'):\n",
    "        start = 'early_evening'\n",
    "    elif time_start >= parse('4pm'):\n",
    "        start = 'late_afternoon'\n",
    "    elif time_start >= parse('2pm'):\n",
    "        start = 'afternoon'\n",
    "    elif time_start >= parse('12pm'):\n",
    "        start = 'early_afternoon'\n",
    "    elif time_start >= parse('11am'):\n",
    "        start = 'late_morning'\n",
    "    elif time_start >= parse('8am'):\n",
    "        start = 'morning'\n",
    "    elif time_start >= parse('5am'):\n",
    "        start = 'early_morning'\n",
    "    elif time_start >= parse('12am'):\n",
    "        start = 'late_night'\n",
    "    if time_end <= parse('5am'):\n",
    "        end = 'late_night'\n",
    "    elif time_end <= parse('8am'):\n",
    "        end = 'early_morning'\n",
    "    elif time_end <= parse('11am'):\n",
    "        end = 'morning'\n",
    "    elif time_end <= parse('12am'):\n",
    "        end = 'late_morning'\n",
    "    elif time_end <= parse('2pm'):\n",
    "        end = 'early_afternoon'\n",
    "    elif time_end <= parse('4pm'):\n",
    "        end = 'afternoon'\n",
    "    elif time_end <= parse('5pm'):\n",
    "        end = 'late_afternoon'\n",
    "    elif time_end <= parse('7pm'):\n",
    "        end = 'early_evening'\n",
    "    elif time_end <= parse('9pm'):\n",
    "        end = 'late_evening'\n",
    "    elif time_end >= parse('9am'):\n",
    "        end = 'early_night'\n",
    "    return (start,end)\n",
    "\n",
    "# Create a function for encoding the part of the days the restaurant is functional\n",
    "def time_conv(x):\n",
    "    x = str(x).lower().replace('noon','pm').replace('midnight','am').replace('24 hours','12am - 12am')\n",
    "    l = re.findall('([0-9apm:]+ ?\\W [0-9apm:]+|24)',x)\n",
    "    part_days = dict(enumerate(['late_night','early_morning','morning','late_morning','early_afternoon','afternoon','late_afternoon','early_evening','late_evening','early_night']))\n",
    "    part_days = dict([(i[1],i[0]) for i in part_days.items()])\n",
    "    parts = []\n",
    "    if len(l) > 0:\n",
    "        for i in l:\n",
    "            if i == '12am - 12am' or i == '24':\n",
    "                parts.extend([0,1,2,3,4,5,6,7,8,9])\n",
    "                break\n",
    "            else:\n",
    "                times = []\n",
    "                dt = i.split(' ')\n",
    "                (a,b) = check_part(dt[0],dt[2])\n",
    "                if part_days[a] < part_days[b]:\n",
    "                    for i in range(part_days[a],part_days[b]+1):\n",
    "                        times.append(i)\n",
    "                else:\n",
    "                    for i in range(part_days[b]+1,part_days[a]):\n",
    "                        times.append(i)\n",
    "                    times = set([0,1,2,3,4,5,6,7,8,9]).difference(times)\n",
    "                parts.extend(times)\n",
    "    else:\n",
    "        parts.extend([10])\n",
    "    return list(set(parts))"
   ]
  },
  {
   "cell_type": "code",
   "execution_count": 214,
   "metadata": {},
   "outputs": [
    {
     "data": {
      "text/html": [
       "<div>\n",
       "<style scoped>\n",
       "    .dataframe tbody tr th:only-of-type {\n",
       "        vertical-align: middle;\n",
       "    }\n",
       "\n",
       "    .dataframe tbody tr th {\n",
       "        vertical-align: top;\n",
       "    }\n",
       "\n",
       "    .dataframe thead th {\n",
       "        text-align: right;\n",
       "    }\n",
       "</style>\n",
       "<table border=\"1\" class=\"dataframe\">\n",
       "  <thead>\n",
       "    <tr style=\"text-align: right;\">\n",
       "      <th></th>\n",
       "      <th>late_night</th>\n",
       "      <th>early_morning</th>\n",
       "      <th>morning</th>\n",
       "      <th>late_morning</th>\n",
       "      <th>early_afternoon</th>\n",
       "      <th>afternoon</th>\n",
       "      <th>late_afternoon</th>\n",
       "      <th>early_evening</th>\n",
       "      <th>late_evening</th>\n",
       "      <th>early_night</th>\n",
       "      <th>time_na</th>\n",
       "    </tr>\n",
       "  </thead>\n",
       "  <tbody>\n",
       "    <tr>\n",
       "      <th>7425</th>\n",
       "      <td>0.0</td>\n",
       "      <td>1.0</td>\n",
       "      <td>1.0</td>\n",
       "      <td>1.0</td>\n",
       "      <td>1.0</td>\n",
       "      <td>1.0</td>\n",
       "      <td>1.0</td>\n",
       "      <td>1.0</td>\n",
       "      <td>1.0</td>\n",
       "      <td>1.0</td>\n",
       "      <td>0.0</td>\n",
       "    </tr>\n",
       "    <tr>\n",
       "      <th>4561</th>\n",
       "      <td>0.0</td>\n",
       "      <td>0.0</td>\n",
       "      <td>0.0</td>\n",
       "      <td>1.0</td>\n",
       "      <td>1.0</td>\n",
       "      <td>1.0</td>\n",
       "      <td>1.0</td>\n",
       "      <td>1.0</td>\n",
       "      <td>1.0</td>\n",
       "      <td>1.0</td>\n",
       "      <td>0.0</td>\n",
       "    </tr>\n",
       "    <tr>\n",
       "      <th>12154</th>\n",
       "      <td>1.0</td>\n",
       "      <td>0.0</td>\n",
       "      <td>0.0</td>\n",
       "      <td>0.0</td>\n",
       "      <td>1.0</td>\n",
       "      <td>1.0</td>\n",
       "      <td>1.0</td>\n",
       "      <td>1.0</td>\n",
       "      <td>1.0</td>\n",
       "      <td>1.0</td>\n",
       "      <td>0.0</td>\n",
       "    </tr>\n",
       "    <tr>\n",
       "      <th>7911</th>\n",
       "      <td>1.0</td>\n",
       "      <td>1.0</td>\n",
       "      <td>1.0</td>\n",
       "      <td>1.0</td>\n",
       "      <td>1.0</td>\n",
       "      <td>1.0</td>\n",
       "      <td>1.0</td>\n",
       "      <td>1.0</td>\n",
       "      <td>1.0</td>\n",
       "      <td>1.0</td>\n",
       "      <td>0.0</td>\n",
       "    </tr>\n",
       "    <tr>\n",
       "      <th>8765</th>\n",
       "      <td>0.0</td>\n",
       "      <td>1.0</td>\n",
       "      <td>1.0</td>\n",
       "      <td>0.0</td>\n",
       "      <td>0.0</td>\n",
       "      <td>0.0</td>\n",
       "      <td>0.0</td>\n",
       "      <td>1.0</td>\n",
       "      <td>1.0</td>\n",
       "      <td>1.0</td>\n",
       "      <td>0.0</td>\n",
       "    </tr>\n",
       "  </tbody>\n",
       "</table>\n",
       "</div>"
      ],
      "text/plain": [
       "       late_night  early_morning  morning  late_morning  early_afternoon  \\\n",
       "7425          0.0            1.0      1.0           1.0              1.0   \n",
       "4561          0.0            0.0      0.0           1.0              1.0   \n",
       "12154         1.0            0.0      0.0           0.0              1.0   \n",
       "7911          1.0            1.0      1.0           1.0              1.0   \n",
       "8765          0.0            1.0      1.0           0.0              0.0   \n",
       "\n",
       "       afternoon  late_afternoon  early_evening  late_evening  early_night  \\\n",
       "7425         1.0             1.0            1.0           1.0          1.0   \n",
       "4561         1.0             1.0            1.0           1.0          1.0   \n",
       "12154        1.0             1.0            1.0           1.0          1.0   \n",
       "7911         1.0             1.0            1.0           1.0          1.0   \n",
       "8765         0.0             0.0            1.0           1.0          1.0   \n",
       "\n",
       "       time_na  \n",
       "7425       0.0  \n",
       "4561       0.0  \n",
       "12154      0.0  \n",
       "7911       0.0  \n",
       "8765       0.0  "
      ]
     },
     "execution_count": 214,
     "metadata": {},
     "output_type": "execute_result"
    }
   ],
   "source": [
    "# Apply time convertion to TIME feature\n",
    "train_time = train_data.TIME.agg(lambda x: pd.Series(1,time_conv(x))).fillna(0)\n",
    "train_time.columns = ['late_night','early_morning','morning','late_morning','early_afternoon','afternoon','late_afternoon','early_evening','late_evening','early_night','time_na']\n",
    "train_time.sample(5)"
   ]
  },
  {
   "cell_type": "code",
   "execution_count": 215,
   "metadata": {},
   "outputs": [
    {
     "data": {
      "text/html": [
       "<div>\n",
       "<style scoped>\n",
       "    .dataframe tbody tr th:only-of-type {\n",
       "        vertical-align: middle;\n",
       "    }\n",
       "\n",
       "    .dataframe tbody tr th {\n",
       "        vertical-align: top;\n",
       "    }\n",
       "\n",
       "    .dataframe thead th {\n",
       "        text-align: right;\n",
       "    }\n",
       "</style>\n",
       "<table border=\"1\" class=\"dataframe\">\n",
       "  <thead>\n",
       "    <tr style=\"text-align: right;\">\n",
       "      <th></th>\n",
       "      <th>late_night</th>\n",
       "      <th>early_morning</th>\n",
       "      <th>morning</th>\n",
       "      <th>late_morning</th>\n",
       "      <th>early_afternoon</th>\n",
       "      <th>afternoon</th>\n",
       "      <th>late_afternoon</th>\n",
       "      <th>early_evening</th>\n",
       "      <th>late_evening</th>\n",
       "      <th>early_night</th>\n",
       "      <th>time_na</th>\n",
       "    </tr>\n",
       "  </thead>\n",
       "  <tbody>\n",
       "    <tr>\n",
       "      <th>2812</th>\n",
       "      <td>0.0</td>\n",
       "      <td>0.0</td>\n",
       "      <td>1.0</td>\n",
       "      <td>1.0</td>\n",
       "      <td>1.0</td>\n",
       "      <td>1.0</td>\n",
       "      <td>1.0</td>\n",
       "      <td>1.0</td>\n",
       "      <td>1.0</td>\n",
       "      <td>1.0</td>\n",
       "      <td>0.0</td>\n",
       "    </tr>\n",
       "    <tr>\n",
       "      <th>1264</th>\n",
       "      <td>0.0</td>\n",
       "      <td>0.0</td>\n",
       "      <td>0.0</td>\n",
       "      <td>1.0</td>\n",
       "      <td>1.0</td>\n",
       "      <td>1.0</td>\n",
       "      <td>1.0</td>\n",
       "      <td>1.0</td>\n",
       "      <td>1.0</td>\n",
       "      <td>1.0</td>\n",
       "      <td>0.0</td>\n",
       "    </tr>\n",
       "    <tr>\n",
       "      <th>245</th>\n",
       "      <td>0.0</td>\n",
       "      <td>0.0</td>\n",
       "      <td>0.0</td>\n",
       "      <td>1.0</td>\n",
       "      <td>1.0</td>\n",
       "      <td>1.0</td>\n",
       "      <td>1.0</td>\n",
       "      <td>1.0</td>\n",
       "      <td>1.0</td>\n",
       "      <td>1.0</td>\n",
       "      <td>0.0</td>\n",
       "    </tr>\n",
       "    <tr>\n",
       "      <th>3250</th>\n",
       "      <td>1.0</td>\n",
       "      <td>0.0</td>\n",
       "      <td>0.0</td>\n",
       "      <td>0.0</td>\n",
       "      <td>1.0</td>\n",
       "      <td>1.0</td>\n",
       "      <td>0.0</td>\n",
       "      <td>0.0</td>\n",
       "      <td>1.0</td>\n",
       "      <td>1.0</td>\n",
       "      <td>0.0</td>\n",
       "    </tr>\n",
       "    <tr>\n",
       "      <th>1719</th>\n",
       "      <td>0.0</td>\n",
       "      <td>0.0</td>\n",
       "      <td>0.0</td>\n",
       "      <td>1.0</td>\n",
       "      <td>1.0</td>\n",
       "      <td>1.0</td>\n",
       "      <td>0.0</td>\n",
       "      <td>1.0</td>\n",
       "      <td>1.0</td>\n",
       "      <td>1.0</td>\n",
       "      <td>0.0</td>\n",
       "    </tr>\n",
       "  </tbody>\n",
       "</table>\n",
       "</div>"
      ],
      "text/plain": [
       "      late_night  early_morning  morning  late_morning  early_afternoon  \\\n",
       "2812         0.0            0.0      1.0           1.0              1.0   \n",
       "1264         0.0            0.0      0.0           1.0              1.0   \n",
       "245          0.0            0.0      0.0           1.0              1.0   \n",
       "3250         1.0            0.0      0.0           0.0              1.0   \n",
       "1719         0.0            0.0      0.0           1.0              1.0   \n",
       "\n",
       "      afternoon  late_afternoon  early_evening  late_evening  early_night  \\\n",
       "2812        1.0             1.0            1.0           1.0          1.0   \n",
       "1264        1.0             1.0            1.0           1.0          1.0   \n",
       "245         1.0             1.0            1.0           1.0          1.0   \n",
       "3250        1.0             0.0            0.0           1.0          1.0   \n",
       "1719        1.0             0.0            1.0           1.0          1.0   \n",
       "\n",
       "      time_na  \n",
       "2812      0.0  \n",
       "1264      0.0  \n",
       "245       0.0  \n",
       "3250      0.0  \n",
       "1719      0.0  "
      ]
     },
     "execution_count": 215,
     "metadata": {},
     "output_type": "execute_result"
    }
   ],
   "source": [
    "# Apply time convertion to TIME feature\n",
    "test_time = test_data.TIME.agg(lambda x: pd.Series(1,time_conv(x))).fillna(0)\n",
    "test_time.columns = ['late_night','early_morning','morning','late_morning','early_afternoon','afternoon','late_afternoon','early_evening','late_evening','early_night','time_na']\n",
    "test_time.sample(5)"
   ]
  },
  {
   "cell_type": "markdown",
   "metadata": {},
   "source": [
    "### ***Concatenate the extracted features Dataframe into Train and Test data***"
   ]
  },
  {
   "cell_type": "code",
   "execution_count": 216,
   "metadata": {},
   "outputs": [
    {
     "data": {
      "text/html": [
       "<div>\n",
       "<style scoped>\n",
       "    .dataframe tbody tr th:only-of-type {\n",
       "        vertical-align: middle;\n",
       "    }\n",
       "\n",
       "    .dataframe tbody tr th {\n",
       "        vertical-align: top;\n",
       "    }\n",
       "\n",
       "    .dataframe thead th {\n",
       "        text-align: right;\n",
       "    }\n",
       "</style>\n",
       "<table border=\"1\" class=\"dataframe\">\n",
       "  <thead>\n",
       "    <tr style=\"text-align: right;\">\n",
       "      <th></th>\n",
       "      <th>title_casualdining</th>\n",
       "      <th>title_bar</th>\n",
       "      <th>title_quickbites</th>\n",
       "      <th>title_dessertparlor</th>\n",
       "      <th>title_café</th>\n",
       "      <th>title_microbrewery</th>\n",
       "      <th>title_beverageshop</th>\n",
       "      <th>title_iranicafe</th>\n",
       "      <th>title_bakery</th>\n",
       "      <th>title_none</th>\n",
       "      <th>...</th>\n",
       "      <th>andheri</th>\n",
       "      <th>delhi</th>\n",
       "      <th>noida</th>\n",
       "      <th>secunderabad</th>\n",
       "      <th>faridabad</th>\n",
       "      <th>ghaziabad</th>\n",
       "      <th>LOCALITY</th>\n",
       "      <th>RATING</th>\n",
       "      <th>VOTES</th>\n",
       "      <th>COST</th>\n",
       "    </tr>\n",
       "  </thead>\n",
       "  <tbody>\n",
       "    <tr>\n",
       "      <th>3355</th>\n",
       "      <td>1.0</td>\n",
       "      <td>0.0</td>\n",
       "      <td>0.0</td>\n",
       "      <td>0.0</td>\n",
       "      <td>0.0</td>\n",
       "      <td>0.0</td>\n",
       "      <td>0.0</td>\n",
       "      <td>0.0</td>\n",
       "      <td>0.0</td>\n",
       "      <td>0.0</td>\n",
       "      <td>...</td>\n",
       "      <td>0.0</td>\n",
       "      <td>0.0</td>\n",
       "      <td>0.0</td>\n",
       "      <td>0.0</td>\n",
       "      <td>0.0</td>\n",
       "      <td>0.0</td>\n",
       "      <td>703</td>\n",
       "      <td>1.0</td>\n",
       "      <td>0</td>\n",
       "      <td>500</td>\n",
       "    </tr>\n",
       "    <tr>\n",
       "      <th>11685</th>\n",
       "      <td>0.0</td>\n",
       "      <td>0.0</td>\n",
       "      <td>0.0</td>\n",
       "      <td>0.0</td>\n",
       "      <td>0.0</td>\n",
       "      <td>0.0</td>\n",
       "      <td>0.0</td>\n",
       "      <td>0.0</td>\n",
       "      <td>0.0</td>\n",
       "      <td>0.0</td>\n",
       "      <td>...</td>\n",
       "      <td>0.0</td>\n",
       "      <td>0.0</td>\n",
       "      <td>0.0</td>\n",
       "      <td>0.0</td>\n",
       "      <td>0.0</td>\n",
       "      <td>0.0</td>\n",
       "      <td>546</td>\n",
       "      <td>4.1</td>\n",
       "      <td>417</td>\n",
       "      <td>3000</td>\n",
       "    </tr>\n",
       "    <tr>\n",
       "      <th>9136</th>\n",
       "      <td>0.0</td>\n",
       "      <td>0.0</td>\n",
       "      <td>0.0</td>\n",
       "      <td>0.0</td>\n",
       "      <td>0.0</td>\n",
       "      <td>0.0</td>\n",
       "      <td>0.0</td>\n",
       "      <td>0.0</td>\n",
       "      <td>0.0</td>\n",
       "      <td>1.0</td>\n",
       "      <td>...</td>\n",
       "      <td>0.0</td>\n",
       "      <td>0.0</td>\n",
       "      <td>0.0</td>\n",
       "      <td>0.0</td>\n",
       "      <td>0.0</td>\n",
       "      <td>0.0</td>\n",
       "      <td>137</td>\n",
       "      <td>3.9</td>\n",
       "      <td>37</td>\n",
       "      <td>250</td>\n",
       "    </tr>\n",
       "    <tr>\n",
       "      <th>4293</th>\n",
       "      <td>0.0</td>\n",
       "      <td>0.0</td>\n",
       "      <td>0.0</td>\n",
       "      <td>0.0</td>\n",
       "      <td>0.0</td>\n",
       "      <td>0.0</td>\n",
       "      <td>0.0</td>\n",
       "      <td>0.0</td>\n",
       "      <td>0.0</td>\n",
       "      <td>1.0</td>\n",
       "      <td>...</td>\n",
       "      <td>0.0</td>\n",
       "      <td>0.0</td>\n",
       "      <td>0.0</td>\n",
       "      <td>0.0</td>\n",
       "      <td>0.0</td>\n",
       "      <td>0.0</td>\n",
       "      <td>847</td>\n",
       "      <td>3.2</td>\n",
       "      <td>10</td>\n",
       "      <td>250</td>\n",
       "    </tr>\n",
       "    <tr>\n",
       "      <th>516</th>\n",
       "      <td>1.0</td>\n",
       "      <td>0.0</td>\n",
       "      <td>0.0</td>\n",
       "      <td>0.0</td>\n",
       "      <td>0.0</td>\n",
       "      <td>0.0</td>\n",
       "      <td>0.0</td>\n",
       "      <td>0.0</td>\n",
       "      <td>0.0</td>\n",
       "      <td>0.0</td>\n",
       "      <td>...</td>\n",
       "      <td>0.0</td>\n",
       "      <td>0.0</td>\n",
       "      <td>0.0</td>\n",
       "      <td>0.0</td>\n",
       "      <td>0.0</td>\n",
       "      <td>1.0</td>\n",
       "      <td>1138</td>\n",
       "      <td>3.6</td>\n",
       "      <td>87</td>\n",
       "      <td>1200</td>\n",
       "    </tr>\n",
       "  </tbody>\n",
       "</table>\n",
       "<p>5 rows × 192 columns</p>\n",
       "</div>"
      ],
      "text/plain": [
       "       title_casualdining  title_bar  title_quickbites  title_dessertparlor  \\\n",
       "3355                  1.0        0.0               0.0                  0.0   \n",
       "11685                 0.0        0.0               0.0                  0.0   \n",
       "9136                  0.0        0.0               0.0                  0.0   \n",
       "4293                  0.0        0.0               0.0                  0.0   \n",
       "516                   1.0        0.0               0.0                  0.0   \n",
       "\n",
       "       title_café  title_microbrewery  title_beverageshop  title_iranicafe  \\\n",
       "3355          0.0                 0.0                 0.0              0.0   \n",
       "11685         0.0                 0.0                 0.0              0.0   \n",
       "9136          0.0                 0.0                 0.0              0.0   \n",
       "4293          0.0                 0.0                 0.0              0.0   \n",
       "516           0.0                 0.0                 0.0              0.0   \n",
       "\n",
       "       title_bakery  title_none  ...  andheri  delhi  noida  secunderabad  \\\n",
       "3355            0.0         0.0  ...      0.0    0.0    0.0           0.0   \n",
       "11685           0.0         0.0  ...      0.0    0.0    0.0           0.0   \n",
       "9136            0.0         1.0  ...      0.0    0.0    0.0           0.0   \n",
       "4293            0.0         1.0  ...      0.0    0.0    0.0           0.0   \n",
       "516             0.0         0.0  ...      0.0    0.0    0.0           0.0   \n",
       "\n",
       "       faridabad  ghaziabad  LOCALITY  RATING  VOTES  COST  \n",
       "3355         0.0        0.0       703     1.0      0   500  \n",
       "11685        0.0        0.0       546     4.1    417  3000  \n",
       "9136         0.0        0.0       137     3.9     37   250  \n",
       "4293         0.0        0.0       847     3.2     10   250  \n",
       "516          0.0        1.0      1138     3.6     87  1200  \n",
       "\n",
       "[5 rows x 192 columns]"
      ]
     },
     "execution_count": 216,
     "metadata": {},
     "output_type": "execute_result"
    }
   ],
   "source": [
    "# Train data\n",
    "train = pd.concat([\n",
    "    train_title,\n",
    "    train_cuisines,\n",
    "    train_days_open,\n",
    "    train_time,\n",
    "    train_city,\n",
    "    train_data.LOCALITY,\n",
    "    train_data.RATING,\n",
    "    train_data.VOTES,\n",
    "    train_data.COST\n",
    "],axis=1)\n",
    "train.sample(5)"
   ]
  },
  {
   "cell_type": "code",
   "execution_count": 217,
   "metadata": {},
   "outputs": [
    {
     "data": {
      "text/plain": [
       "0"
      ]
     },
     "execution_count": 217,
     "metadata": {},
     "output_type": "execute_result"
    }
   ],
   "source": [
    "# Checking for nulll values\n",
    "train.isnull().sum().sum()"
   ]
  },
  {
   "cell_type": "code",
   "execution_count": 218,
   "metadata": {},
   "outputs": [
    {
     "data": {
      "text/html": [
       "<div>\n",
       "<style scoped>\n",
       "    .dataframe tbody tr th:only-of-type {\n",
       "        vertical-align: middle;\n",
       "    }\n",
       "\n",
       "    .dataframe tbody tr th {\n",
       "        vertical-align: top;\n",
       "    }\n",
       "\n",
       "    .dataframe thead th {\n",
       "        text-align: right;\n",
       "    }\n",
       "</style>\n",
       "<table border=\"1\" class=\"dataframe\">\n",
       "  <thead>\n",
       "    <tr style=\"text-align: right;\">\n",
       "      <th></th>\n",
       "      <th>title_casualdining</th>\n",
       "      <th>title_quickbites</th>\n",
       "      <th>title_none</th>\n",
       "      <th>title_foodtruck</th>\n",
       "      <th>title_dessertparlor</th>\n",
       "      <th>title_bar</th>\n",
       "      <th>title_lounge</th>\n",
       "      <th>title_beverageshop</th>\n",
       "      <th>title_pub</th>\n",
       "      <th>title_café</th>\n",
       "      <th>...</th>\n",
       "      <th>kochi</th>\n",
       "      <th>andheri</th>\n",
       "      <th>delhi</th>\n",
       "      <th>noida</th>\n",
       "      <th>secunderabad</th>\n",
       "      <th>faridabad</th>\n",
       "      <th>ghaziabad</th>\n",
       "      <th>LOCALITY</th>\n",
       "      <th>RATING</th>\n",
       "      <th>VOTES</th>\n",
       "    </tr>\n",
       "  </thead>\n",
       "  <tbody>\n",
       "    <tr>\n",
       "      <th>1901</th>\n",
       "      <td>0.0</td>\n",
       "      <td>0.0</td>\n",
       "      <td>1</td>\n",
       "      <td>0.0</td>\n",
       "      <td>0.0</td>\n",
       "      <td>0.0</td>\n",
       "      <td>0.0</td>\n",
       "      <td>0.0</td>\n",
       "      <td>0.0</td>\n",
       "      <td>0.0</td>\n",
       "      <td>...</td>\n",
       "      <td>0.0</td>\n",
       "      <td>0.0</td>\n",
       "      <td>0.0</td>\n",
       "      <td>0.0</td>\n",
       "      <td>0.0</td>\n",
       "      <td>0.0</td>\n",
       "      <td>0.0</td>\n",
       "      <td>405</td>\n",
       "      <td>3.8</td>\n",
       "      <td>42</td>\n",
       "    </tr>\n",
       "    <tr>\n",
       "      <th>2202</th>\n",
       "      <td>0.0</td>\n",
       "      <td>0.0</td>\n",
       "      <td>0</td>\n",
       "      <td>0.0</td>\n",
       "      <td>0.0</td>\n",
       "      <td>0.0</td>\n",
       "      <td>0.0</td>\n",
       "      <td>0.0</td>\n",
       "      <td>0.0</td>\n",
       "      <td>0.0</td>\n",
       "      <td>...</td>\n",
       "      <td>0.0</td>\n",
       "      <td>0.0</td>\n",
       "      <td>0.0</td>\n",
       "      <td>0.0</td>\n",
       "      <td>0.0</td>\n",
       "      <td>0.0</td>\n",
       "      <td>0.0</td>\n",
       "      <td>350</td>\n",
       "      <td>4.5</td>\n",
       "      <td>1047</td>\n",
       "    </tr>\n",
       "    <tr>\n",
       "      <th>675</th>\n",
       "      <td>0.0</td>\n",
       "      <td>1.0</td>\n",
       "      <td>0</td>\n",
       "      <td>0.0</td>\n",
       "      <td>0.0</td>\n",
       "      <td>0.0</td>\n",
       "      <td>0.0</td>\n",
       "      <td>0.0</td>\n",
       "      <td>0.0</td>\n",
       "      <td>0.0</td>\n",
       "      <td>...</td>\n",
       "      <td>0.0</td>\n",
       "      <td>0.0</td>\n",
       "      <td>1.0</td>\n",
       "      <td>0.0</td>\n",
       "      <td>0.0</td>\n",
       "      <td>0.0</td>\n",
       "      <td>0.0</td>\n",
       "      <td>736</td>\n",
       "      <td>3.8</td>\n",
       "      <td>330</td>\n",
       "    </tr>\n",
       "    <tr>\n",
       "      <th>2008</th>\n",
       "      <td>0.0</td>\n",
       "      <td>1.0</td>\n",
       "      <td>0</td>\n",
       "      <td>0.0</td>\n",
       "      <td>0.0</td>\n",
       "      <td>0.0</td>\n",
       "      <td>0.0</td>\n",
       "      <td>0.0</td>\n",
       "      <td>0.0</td>\n",
       "      <td>0.0</td>\n",
       "      <td>...</td>\n",
       "      <td>0.0</td>\n",
       "      <td>0.0</td>\n",
       "      <td>0.0</td>\n",
       "      <td>0.0</td>\n",
       "      <td>0.0</td>\n",
       "      <td>0.0</td>\n",
       "      <td>0.0</td>\n",
       "      <td>905</td>\n",
       "      <td>4.1</td>\n",
       "      <td>351</td>\n",
       "    </tr>\n",
       "    <tr>\n",
       "      <th>2518</th>\n",
       "      <td>1.0</td>\n",
       "      <td>0.0</td>\n",
       "      <td>0</td>\n",
       "      <td>0.0</td>\n",
       "      <td>0.0</td>\n",
       "      <td>0.0</td>\n",
       "      <td>0.0</td>\n",
       "      <td>0.0</td>\n",
       "      <td>0.0</td>\n",
       "      <td>0.0</td>\n",
       "      <td>...</td>\n",
       "      <td>0.0</td>\n",
       "      <td>0.0</td>\n",
       "      <td>0.0</td>\n",
       "      <td>0.0</td>\n",
       "      <td>0.0</td>\n",
       "      <td>0.0</td>\n",
       "      <td>0.0</td>\n",
       "      <td>741</td>\n",
       "      <td>4.0</td>\n",
       "      <td>462</td>\n",
       "    </tr>\n",
       "  </tbody>\n",
       "</table>\n",
       "<p>5 rows × 191 columns</p>\n",
       "</div>"
      ],
      "text/plain": [
       "      title_casualdining  title_quickbites  title_none  title_foodtruck  \\\n",
       "1901                 0.0               0.0           1              0.0   \n",
       "2202                 0.0               0.0           0              0.0   \n",
       "675                  0.0               1.0           0              0.0   \n",
       "2008                 0.0               1.0           0              0.0   \n",
       "2518                 1.0               0.0           0              0.0   \n",
       "\n",
       "      title_dessertparlor  title_bar  title_lounge  title_beverageshop  \\\n",
       "1901                  0.0        0.0           0.0                 0.0   \n",
       "2202                  0.0        0.0           0.0                 0.0   \n",
       "675                   0.0        0.0           0.0                 0.0   \n",
       "2008                  0.0        0.0           0.0                 0.0   \n",
       "2518                  0.0        0.0           0.0                 0.0   \n",
       "\n",
       "      title_pub  title_café  ...  kochi  andheri  delhi  noida  secunderabad  \\\n",
       "1901        0.0         0.0  ...    0.0      0.0    0.0    0.0           0.0   \n",
       "2202        0.0         0.0  ...    0.0      0.0    0.0    0.0           0.0   \n",
       "675         0.0         0.0  ...    0.0      0.0    1.0    0.0           0.0   \n",
       "2008        0.0         0.0  ...    0.0      0.0    0.0    0.0           0.0   \n",
       "2518        0.0         0.0  ...    0.0      0.0    0.0    0.0           0.0   \n",
       "\n",
       "      faridabad  ghaziabad  LOCALITY  RATING  VOTES  \n",
       "1901        0.0        0.0       405     3.8     42  \n",
       "2202        0.0        0.0       350     4.5   1047  \n",
       "675         0.0        0.0       736     3.8    330  \n",
       "2008        0.0        0.0       905     4.1    351  \n",
       "2518        0.0        0.0       741     4.0    462  \n",
       "\n",
       "[5 rows x 191 columns]"
      ]
     },
     "execution_count": 218,
     "metadata": {},
     "output_type": "execute_result"
    }
   ],
   "source": [
    "# Test data\n",
    "test = pd.concat([\n",
    "    test_title,\n",
    "    test_cuisines,\n",
    "    test_days_open,\n",
    "    test_time,\n",
    "    test_city,\n",
    "    test_data.LOCALITY,\n",
    "    test_data.RATING,\n",
    "    test_data.VOTES\n",
    "],axis=1)\n",
    "test.sample(5)"
   ]
  },
  {
   "cell_type": "code",
   "execution_count": 219,
   "metadata": {},
   "outputs": [
    {
     "data": {
      "text/plain": [
       "0"
      ]
     },
     "execution_count": 219,
     "metadata": {},
     "output_type": "execute_result"
    }
   ],
   "source": [
    "# Checking for null values\n",
    "test.isnull().sum().sum()"
   ]
  },
  {
   "cell_type": "markdown",
   "metadata": {},
   "source": [
    "## **Data Exploration**"
   ]
  },
  {
   "cell_type": "code",
   "execution_count": 220,
   "metadata": {},
   "outputs": [],
   "source": [
    "import seaborn as sns\n",
    "import matplotlib.pyplot as plt\n",
    "sns.set_style(\"darkgrid\")\n",
    "sns.set_context('notebook')"
   ]
  },
  {
   "cell_type": "markdown",
   "metadata": {},
   "source": [
    "### ***Number of observations in each city***"
   ]
  },
  {
   "cell_type": "code",
   "execution_count": 221,
   "metadata": {},
   "outputs": [
    {
     "data": {
      "image/png": "[encoded data removed]",
      "text/plain": [
       "<Figure size 1080x360 with 1 Axes>"
      ]
     },
     "metadata": {},
     "output_type": "display_data"
    }
   ],
   "source": [
    "plt.figure(figsize=(15,5))\n",
    "sns.barplot(data=train_data.groupby('CITY',as_index=False).count().sort_values('TITLE'),y='CITY',x='TITLE',palette='rocket_r')\n",
    "plt.xlabel('Count')\n",
    "plt.title('Number of Restaurants in each city')\n",
    "plt.show()"
   ]
  },
  {
   "cell_type": "markdown",
   "metadata": {},
   "source": [
    "* Here we see that the Bangalore city has the highest number of restaurants\n",
    "* Top cities with higher number of restaurants are:\n",
    "    - Bangalore\n",
    "    - Chennai\n",
    "    - Hyderabad\n",
    "    - Mumbai\n",
    "    - Delhi\n",
    "    - Kochi"
   ]
  },
  {
   "cell_type": "markdown",
   "metadata": {},
   "source": [
    "### ***Lets find out how the Ratings are distributed***"
   ]
  },
  {
   "cell_type": "code",
   "execution_count": 222,
   "metadata": {},
   "outputs": [
    {
     "data": {
      "image/png": "[encoded data removed]",
      "text/plain": [
       "<Figure size 1080x360 with 2 Axes>"
      ]
     },
     "metadata": {},
     "output_type": "display_data"
    }
   ],
   "source": [
    "plt.figure(figsize=(15,5))\n",
    "plt.subplot(2,1,1)\n",
    "sns.histplot(data=train_data,x='RATING',color='orange')\n",
    "plt.title('Distribution of ratings')\n",
    "plt.subplot(2,1,2)\n",
    "sns.boxplot(data=train_data,x='RATING',color='white')\n",
    "plt.show()"
   ]
  },
  {
   "cell_type": "markdown",
   "metadata": {},
   "source": [
    "* The ratings seems to be normally distributed without considering the replaced null values (Rating 1)\n",
    "* The outliers are the restaurants with very low rating."
   ]
  },
  {
   "cell_type": "markdown",
   "metadata": {},
   "source": [
    "### ***Distributiion of Restaurant votes***"
   ]
  },
  {
   "cell_type": "code",
   "execution_count": 223,
   "metadata": {},
   "outputs": [
    {
     "data": {
      "image/png": "[encoded data removed]",
      "text/plain": [
       "<Figure size 1080x360 with 2 Axes>"
      ]
     },
     "metadata": {},
     "output_type": "display_data"
    }
   ],
   "source": [
    "plt.figure(figsize=(15,5))\n",
    "plt.subplot(2,1,1)\n",
    "sns.histplot(data=train_data,x='VOTES',color='orange')\n",
    "plt.title('Distribution of votes')\n",
    "plt.subplot(2,1,2)\n",
    "sns.boxplot(data=train_data,x='VOTES',color='orange')\n",
    "plt.show()"
   ]
  },
  {
   "cell_type": "markdown",
   "metadata": {},
   "source": [
    "* Majority of the votings are in the range 0-1700\n",
    "* The distribution is positively skewed\n",
    "* There is an extreme outlier with more than 40000 votes"
   ]
  },
  {
   "cell_type": "markdown",
   "metadata": {},
   "source": [
    "### ***Distributiion of the Food COST***"
   ]
  },
  {
   "cell_type": "code",
   "execution_count": 224,
   "metadata": {},
   "outputs": [
    {
     "data": {
      "image/png": "[encoded data removed]",
      "text/plain": [
       "<Figure size 1080x360 with 2 Axes>"
      ]
     },
     "metadata": {},
     "output_type": "display_data"
    }
   ],
   "source": [
    "plt.figure(figsize=(15,5))\n",
    "plt.subplot(2,1,1)\n",
    "sns.histplot(data=train_data,x='COST',color='orange')\n",
    "plt.title('Distribution of cost')\n",
    "plt.subplot(2,1,2)\n",
    "sns.boxplot(data=train_data,x='COST',color='orange')\n",
    "plt.show()"
   ]
  },
  {
   "cell_type": "markdown",
   "metadata": {},
   "source": [
    "* Mojority of the restaurants food cost falls below 2000\n",
    "* There are many restaurants serving foods at an extreme price"
   ]
  },
  {
   "cell_type": "markdown",
   "metadata": {},
   "source": [
    "### ***Number of Restaurants vs Number of Days Opened***"
   ]
  },
  {
   "cell_type": "code",
   "execution_count": 225,
   "metadata": {},
   "outputs": [
    {
     "data": {
      "image/png": "[encoded data removed]",
      "text/plain": [
       "<Figure size 1080x360 with 1 Axes>"
      ]
     },
     "metadata": {},
     "output_type": "display_data"
    }
   ],
   "source": [
    "plt.figure(figsize=(15,5))\n",
    "sns.histplot(data=train_days_open,x='total_days')\n",
    "plt.title('Number of days the restaurant opens')\n",
    "plt.xticks(np.arange(8),labels=['NA','1 Day','2 Days','3 Days','4 Days','5 Days','6 Days','All Days'])\n",
    "plt.show()"
   ]
  },
  {
   "cell_type": "markdown",
   "metadata": {},
   "source": [
    "* Almost 11000 restaurants are operating everyday\n",
    "* Few restaurants didnt have any working days mentioned"
   ]
  },
  {
   "cell_type": "markdown",
   "metadata": {},
   "source": [
    "### ***Number of retaurants belonging to each TITILE***"
   ]
  },
  {
   "cell_type": "code",
   "execution_count": 226,
   "metadata": {},
   "outputs": [
    {
     "data": {
      "image/png": "[encoded data removed]",
      "text/plain": [
       "<Figure size 1080x360 with 1 Axes>"
      ]
     },
     "metadata": {},
     "output_type": "display_data"
    }
   ],
   "source": [
    "df = train_title.sum().sort_values().tail(10)\n",
    "plt.figure(figsize=(15,5))\n",
    "sns.barplot(y=df.index,x=df,palette='rocket_r')\n",
    "plt.xlabel('Count')\n",
    "plt.title('Top 10 restaurant title')\n",
    "plt.show()"
   ]
  },
  {
   "cell_type": "markdown",
   "metadata": {},
   "source": [
    "* The above bar graph shows the top 10 restaurant titles\n",
    "* Majority of the restaurants are suitable for Quickbite and Casual Dining \n",
    "* There are almost 1000 of restaurants without any titles provided"
   ]
  },
  {
   "cell_type": "markdown",
   "metadata": {},
   "source": [
    "### ***Variety of cuisines that the restaurant offers***"
   ]
  },
  {
   "cell_type": "code",
   "execution_count": 227,
   "metadata": {},
   "outputs": [
    {
     "data": {
      "image/png": "[encoded data removed]",
      "text/plain": [
       "<Figure size 1080x360 with 1 Axes>"
      ]
     },
     "metadata": {},
     "output_type": "display_data"
    }
   ],
   "source": [
    "df = train_cuisines.sum().sort_values().tail(10)\n",
    "plt.figure(figsize=(15,5))\n",
    "sns.barplot(y=df.index,x=df,palette='rocket_r')\n",
    "plt.xlabel('Count')\n",
    "plt.title('Top 10 cuisines restaurant offers')\n",
    "plt.show()"
   ]
  },
  {
   "cell_type": "markdown",
   "metadata": {},
   "source": [
    "* The above graph graph shows the top 10 number of cusines available\n",
    "* North Indian and Chinese are most offered cusines by the restaurants"
   ]
  },
  {
   "cell_type": "markdown",
   "metadata": {},
   "source": [
    "### ***Let's find out the most expensive cuisines***"
   ]
  },
  {
   "cell_type": "code",
   "execution_count": 228,
   "metadata": {},
   "outputs": [
    {
     "data": {
      "image/png": "[encoded data removed]",
      "text/plain": [
       "<Figure size 1080x360 with 1 Axes>"
      ]
     },
     "metadata": {},
     "output_type": "display_data"
    }
   ],
   "source": [
    "plt.figure(figsize=(15,5))\n",
    "df = pd.concat([train_cuisines,train.COST],axis=1)\n",
    "cui_cost = []\n",
    "for i in df.columns[:-1]:\n",
    "    df_data = pd.DataFrame([],columns=['CUISINES','COST'])\n",
    "    df_data.loc[:,'COST'] = df[df[i]==1]['COST'].reset_index(drop=True)\n",
    "    df_data.loc[:,'CUISINES'] = i\n",
    "    cui_cost.append(df_data)\n",
    "df = pd.concat(cui_cost,axis=0)\n",
    "top10 = df.groupby('CUISINES',as_index=False).mean().sort_values('COST',ascending=False).CUISINES.head(10)\n",
    "df = df[df['CUISINES'].isin(list(top10))].sort_values('COST')\n",
    "sns.barplot(data=df, x='COST',y='CUISINES',palette='rocket_r')\n",
    "plt.title('Top 10 expensive cuisines (Based on highest average cost)')\n",
    "plt.show()"
   ]
  },
  {
   "cell_type": "markdown",
   "metadata": {},
   "source": [
    "* The above graph shows us the top 10 cuisines having the highest average cost.\n",
    "* We see that the oriental and egyptian cusines has the highest avearage cost"
   ]
  },
  {
   "cell_type": "code",
   "execution_count": 229,
   "metadata": {},
   "outputs": [
    {
     "data": {
      "image/png": "[encoded data removed]",
      "text/plain": [
       "<Figure size 1080x360 with 1 Axes>"
      ]
     },
     "metadata": {},
     "output_type": "display_data"
    }
   ],
   "source": [
    "plt.figure(figsize=(15,5))\n",
    "df = pd.concat([train_cuisines,train.COST],axis=1)\n",
    "cui_cost = []\n",
    "for i in df.columns[:-1]:\n",
    "    df_data = pd.DataFrame([],columns=['CUISINES','COST'])\n",
    "    df_data.loc[:,'COST'] = df[df[i]==1]['COST'].reset_index(drop=True)\n",
    "    df_data.loc[:,'CUISINES'] = i\n",
    "    cui_cost.append(df_data)\n",
    "df = pd.concat(cui_cost,axis=0)\n",
    "df = df.groupby('CUISINES',as_index=False)['COST'].max().sort_values('COST').tail(10)\n",
    "sns.barplot(data=df, x='COST',y='CUISINES',palette='rocket_r')\n",
    "plt.title('Top 10 expensive cuisines (Based on highest cost)')\n",
    "plt.show()"
   ]
  },
  {
   "cell_type": "markdown",
   "metadata": {},
   "source": [
    "* The above graph shows us the top 10 cuisines having the highest cost.\n",
    "* We see that some of the continental and northindian cusines offers food at the highest price."
   ]
  },
  {
   "cell_type": "markdown",
   "metadata": {},
   "source": [
    "### ***Let's find out the Peak Hours at the Restaurants***"
   ]
  },
  {
   "cell_type": "code",
   "execution_count": 230,
   "metadata": {},
   "outputs": [
    {
     "data": {
      "image/png": "[encoded data removed]",
      "text/plain": [
       "<Figure size 1080x360 with 1 Axes>"
      ]
     },
     "metadata": {},
     "output_type": "display_data"
    }
   ],
   "source": [
    "df = train_time.sum().sort_values()\n",
    "plt.figure(figsize=(15,5))\n",
    "sns.barplot(y=df.index,x=df,palette='rocket_r')\n",
    "plt.title('Peak hours at the restaurants')\n",
    "plt.show()"
   ]
  },
  {
   "cell_type": "markdown",
   "metadata": {},
   "source": [
    "* From the above plot, we see that the number of restaurants operating are higher in the late evening (7pm - 9pm)\n",
    "* Then comes in the early night (9pm - 12pm)"
   ]
  },
  {
   "cell_type": "markdown",
   "metadata": {},
   "source": [
    "### ***Ratings vs City***"
   ]
  },
  {
   "cell_type": "code",
   "execution_count": 231,
   "metadata": {},
   "outputs": [
    {
     "data": {
      "image/png": "[encoded data removed]",
      "text/plain": [
       "<Figure size 1080x504 with 1 Axes>"
      ]
     },
     "metadata": {},
     "output_type": "display_data"
    }
   ],
   "source": [
    "plt.figure(figsize=(15,7))\n",
    "sns.boxplot(data=train_data,x='RATING',y='CITY',palette='rocket_r')\n",
    "plt.title('Ratings of restaurant in each cities')\n",
    "plt.show()"
   ]
  },
  {
   "cell_type": "markdown",
   "metadata": {},
   "source": [
    "* Restaurants in Gurgaon has the highest median rating\n",
    "* Kochi has the least median rating. This might be due to the replaced null values of this city. Lets find out the rating without the rating 1"
   ]
  },
  {
   "cell_type": "code",
   "execution_count": 232,
   "metadata": {},
   "outputs": [
    {
     "data": {
      "image/png": "[encoded data removed]",
      "text/plain": [
       "<Figure size 1080x504 with 1 Axes>"
      ]
     },
     "metadata": {},
     "output_type": "display_data"
    }
   ],
   "source": [
    "plt.figure(figsize=(15,7))\n",
    "sns.boxplot(data=train_data[train_data.RATING > 1],x='RATING',y='CITY',palette='rocket_r')\n",
    "plt.title('Ratings of restaurant in each cities')\n",
    "plt.show()"
   ]
  },
  {
   "cell_type": "markdown",
   "metadata": {},
   "source": [
    "* Now we see a huge difference in the boxplot. Earlier Kochi had 50% of data below 3 rating. Thats beacuse kochi has the highest number of null values in rating. Now after neglecing the replaced values we see that the median comes around 3.5 for kochi."
   ]
  },
  {
   "cell_type": "markdown",
   "metadata": {},
   "source": [
    "### ***Let's find out which cities has the most expensive restaurants***"
   ]
  },
  {
   "cell_type": "code",
   "execution_count": 233,
   "metadata": {},
   "outputs": [
    {
     "data": {
      "image/png": "[encoded data removed]",
      "text/plain": [
       "<Figure size 1080x720 with 1 Axes>"
      ]
     },
     "metadata": {},
     "output_type": "display_data"
    }
   ],
   "source": [
    "plt.figure(figsize=(15,10))\n",
    "df = pd.concat([train_city,train.COST],axis=1)\n",
    "city_cost = []\n",
    "for i in df.columns[:-1]:\n",
    "    df_data = pd.DataFrame([],columns=['CITY','COST'])\n",
    "    df_data.loc[:,'COST'] = df[df[i]==1]['COST'].reset_index(drop=True)\n",
    "    df_data.loc[:,'CITY'] = i\n",
    "    city_cost.append(df_data)\n",
    "df = pd.concat(city_cost,axis=0).sort_values('COST')\n",
    "sns.violinplot(data=df,x='COST',y='CITY',palette='rocket_r',cut=0,inner='quartile')\n",
    "plt.title('COST vs CITY')\n",
    "plt.show()"
   ]
  },
  {
   "cell_type": "markdown",
   "metadata": {},
   "source": [
    "* Bangalore has the highest priced restaurants, followed by mumbai and hyderabad.\n",
    "* The highest median price is in bandra and also the spread is higher in bandra itself. Therfore Bandra has the most expensive restaurants."
   ]
  },
  {
   "cell_type": "markdown",
   "metadata": {},
   "source": [
    "### ***RATING vs VOTES***"
   ]
  },
  {
   "cell_type": "code",
   "execution_count": 408,
   "metadata": {},
   "outputs": [
    {
     "data": {
      "image/png": "[encoded data removed]",
      "text/plain": [
       "<Figure size 1080x360 with 1 Axes>"
      ]
     },
     "metadata": {},
     "output_type": "display_data"
    }
   ],
   "source": [
    "plt.figure(figsize=(15,5))\n",
    "sns.lineplot(data=train_data,x='RATING',y='VOTES',palette='rocket_r')\n",
    "plt.title('Rating vs Votes')\n",
    "plt.show()"
   ]
  },
  {
   "cell_type": "markdown",
   "metadata": {},
   "source": [
    "* The number of votes gradualy increases from rating 3.5"
   ]
  },
  {
   "cell_type": "markdown",
   "metadata": {},
   "source": [
    "## **Feature Engineering**"
   ]
  },
  {
   "cell_type": "code",
   "execution_count": 236,
   "metadata": {},
   "outputs": [],
   "source": [
    "from sklearn.preprocessing import StandardScaler\n",
    "from skew_autotransform import skew_autotransform"
   ]
  },
  {
   "cell_type": "code",
   "execution_count": 237,
   "metadata": {},
   "outputs": [],
   "source": [
    "# Apply box-cox transformations if absolute skewness is greater than 0.5\n",
    "skew_transformed = []\n",
    "for i in train.columns[:-1]:\n",
    "    skew_transformed.append(skew_autotransform(train[[i]].copy(deep=True), plot = False, exp = False, threshold = 0.5))"
   ]
  },
  {
   "cell_type": "code",
   "execution_count": 238,
   "metadata": {},
   "outputs": [],
   "source": [
    "# Scale data using standard scaler\n",
    "scaler = StandardScaler().fit(pd.concat(skew_transformed,axis=1))\n",
    "train_scaled = scaler.transform(pd.concat(skew_transformed,axis=1))\n",
    "train_scaled = pd.DataFrame(train_scaled,columns=train.columns[:-1])"
   ]
  },
  {
   "cell_type": "code",
   "execution_count": 239,
   "metadata": {},
   "outputs": [
    {
     "data": {
      "text/html": [
       "<div>\n",
       "<style scoped>\n",
       "    .dataframe tbody tr th:only-of-type {\n",
       "        vertical-align: middle;\n",
       "    }\n",
       "\n",
       "    .dataframe tbody tr th {\n",
       "        vertical-align: top;\n",
       "    }\n",
       "\n",
       "    .dataframe thead th {\n",
       "        text-align: right;\n",
       "    }\n",
       "</style>\n",
       "<table border=\"1\" class=\"dataframe\">\n",
       "  <thead>\n",
       "    <tr style=\"text-align: right;\">\n",
       "      <th></th>\n",
       "      <th>title_casualdining</th>\n",
       "      <th>title_bar</th>\n",
       "      <th>title_quickbites</th>\n",
       "      <th>title_dessertparlor</th>\n",
       "      <th>title_café</th>\n",
       "      <th>title_microbrewery</th>\n",
       "      <th>title_beverageshop</th>\n",
       "      <th>title_iranicafe</th>\n",
       "      <th>title_bakery</th>\n",
       "      <th>title_none</th>\n",
       "      <th>...</th>\n",
       "      <th>kochi</th>\n",
       "      <th>andheri</th>\n",
       "      <th>delhi</th>\n",
       "      <th>noida</th>\n",
       "      <th>secunderabad</th>\n",
       "      <th>faridabad</th>\n",
       "      <th>ghaziabad</th>\n",
       "      <th>LOCALITY</th>\n",
       "      <th>RATING</th>\n",
       "      <th>VOTES</th>\n",
       "    </tr>\n",
       "  </thead>\n",
       "  <tbody>\n",
       "    <tr>\n",
       "      <th>9741</th>\n",
       "      <td>1.377658</td>\n",
       "      <td>-0.238576</td>\n",
       "      <td>-0.753984</td>\n",
       "      <td>-0.225924</td>\n",
       "      <td>-0.266877</td>\n",
       "      <td>-0.074553</td>\n",
       "      <td>-0.141039</td>\n",
       "      <td>-0.015393</td>\n",
       "      <td>-0.209201</td>\n",
       "      <td>-0.292645</td>\n",
       "      <td>...</td>\n",
       "      <td>-0.339818</td>\n",
       "      <td>-0.116994</td>\n",
       "      <td>2.900968</td>\n",
       "      <td>-0.140456</td>\n",
       "      <td>-0.159713</td>\n",
       "      <td>-0.080729</td>\n",
       "      <td>-0.090554</td>\n",
       "      <td>1.896317</td>\n",
       "      <td>-0.186075</td>\n",
       "      <td>-0.368246</td>\n",
       "    </tr>\n",
       "    <tr>\n",
       "      <th>4687</th>\n",
       "      <td>-0.725870</td>\n",
       "      <td>4.191529</td>\n",
       "      <td>-0.753984</td>\n",
       "      <td>-0.225924</td>\n",
       "      <td>-0.266877</td>\n",
       "      <td>-0.074553</td>\n",
       "      <td>-0.141039</td>\n",
       "      <td>-0.015393</td>\n",
       "      <td>-0.209201</td>\n",
       "      <td>-0.292645</td>\n",
       "      <td>...</td>\n",
       "      <td>-0.339818</td>\n",
       "      <td>-0.116994</td>\n",
       "      <td>-0.344713</td>\n",
       "      <td>-0.140456</td>\n",
       "      <td>-0.159713</td>\n",
       "      <td>-0.080729</td>\n",
       "      <td>-0.090554</td>\n",
       "      <td>0.744012</td>\n",
       "      <td>1.989065</td>\n",
       "      <td>2.682236</td>\n",
       "    </tr>\n",
       "    <tr>\n",
       "      <th>8430</th>\n",
       "      <td>-0.725870</td>\n",
       "      <td>-0.238576</td>\n",
       "      <td>1.326289</td>\n",
       "      <td>-0.225924</td>\n",
       "      <td>-0.266877</td>\n",
       "      <td>-0.074553</td>\n",
       "      <td>-0.141039</td>\n",
       "      <td>-0.015393</td>\n",
       "      <td>-0.209201</td>\n",
       "      <td>-0.292645</td>\n",
       "      <td>...</td>\n",
       "      <td>-0.339818</td>\n",
       "      <td>-0.116994</td>\n",
       "      <td>-0.344713</td>\n",
       "      <td>-0.140456</td>\n",
       "      <td>-0.159713</td>\n",
       "      <td>-0.080729</td>\n",
       "      <td>-0.090554</td>\n",
       "      <td>0.301609</td>\n",
       "      <td>0.558402</td>\n",
       "      <td>-0.368246</td>\n",
       "    </tr>\n",
       "    <tr>\n",
       "      <th>1757</th>\n",
       "      <td>1.377658</td>\n",
       "      <td>-0.238576</td>\n",
       "      <td>-0.753984</td>\n",
       "      <td>-0.225924</td>\n",
       "      <td>-0.266877</td>\n",
       "      <td>-0.074553</td>\n",
       "      <td>-0.141039</td>\n",
       "      <td>-0.015393</td>\n",
       "      <td>-0.209201</td>\n",
       "      <td>-0.292645</td>\n",
       "      <td>...</td>\n",
       "      <td>-0.339818</td>\n",
       "      <td>-0.116994</td>\n",
       "      <td>-0.344713</td>\n",
       "      <td>-0.140456</td>\n",
       "      <td>-0.159713</td>\n",
       "      <td>-0.080729</td>\n",
       "      <td>-0.090554</td>\n",
       "      <td>1.487352</td>\n",
       "      <td>0.357484</td>\n",
       "      <td>0.288342</td>\n",
       "    </tr>\n",
       "    <tr>\n",
       "      <th>7165</th>\n",
       "      <td>-0.725870</td>\n",
       "      <td>-0.238576</td>\n",
       "      <td>1.326289</td>\n",
       "      <td>-0.225924</td>\n",
       "      <td>-0.266877</td>\n",
       "      <td>-0.074553</td>\n",
       "      <td>-0.141039</td>\n",
       "      <td>-0.015393</td>\n",
       "      <td>-0.209201</td>\n",
       "      <td>-0.292645</td>\n",
       "      <td>...</td>\n",
       "      <td>2.942754</td>\n",
       "      <td>-0.116994</td>\n",
       "      <td>-0.344713</td>\n",
       "      <td>-0.140456</td>\n",
       "      <td>-0.159713</td>\n",
       "      <td>-0.080729</td>\n",
       "      <td>-0.090554</td>\n",
       "      <td>-0.081635</td>\n",
       "      <td>-0.186075</td>\n",
       "      <td>-0.750665</td>\n",
       "    </tr>\n",
       "  </tbody>\n",
       "</table>\n",
       "<p>5 rows × 191 columns</p>\n",
       "</div>"
      ],
      "text/plain": [
       "      title_casualdining  title_bar  title_quickbites  title_dessertparlor  \\\n",
       "9741            1.377658  -0.238576         -0.753984            -0.225924   \n",
       "4687           -0.725870   4.191529         -0.753984            -0.225924   \n",
       "8430           -0.725870  -0.238576          1.326289            -0.225924   \n",
       "1757            1.377658  -0.238576         -0.753984            -0.225924   \n",
       "7165           -0.725870  -0.238576          1.326289            -0.225924   \n",
       "\n",
       "      title_café  title_microbrewery  title_beverageshop  title_iranicafe  \\\n",
       "9741   -0.266877           -0.074553           -0.141039        -0.015393   \n",
       "4687   -0.266877           -0.074553           -0.141039        -0.015393   \n",
       "8430   -0.266877           -0.074553           -0.141039        -0.015393   \n",
       "1757   -0.266877           -0.074553           -0.141039        -0.015393   \n",
       "7165   -0.266877           -0.074553           -0.141039        -0.015393   \n",
       "\n",
       "      title_bakery  title_none  ...     kochi   andheri     delhi     noida  \\\n",
       "9741     -0.209201   -0.292645  ... -0.339818 -0.116994  2.900968 -0.140456   \n",
       "4687     -0.209201   -0.292645  ... -0.339818 -0.116994 -0.344713 -0.140456   \n",
       "8430     -0.209201   -0.292645  ... -0.339818 -0.116994 -0.344713 -0.140456   \n",
       "1757     -0.209201   -0.292645  ... -0.339818 -0.116994 -0.344713 -0.140456   \n",
       "7165     -0.209201   -0.292645  ...  2.942754 -0.116994 -0.344713 -0.140456   \n",
       "\n",
       "      secunderabad  faridabad  ghaziabad  LOCALITY    RATING     VOTES  \n",
       "9741     -0.159713  -0.080729  -0.090554  1.896317 -0.186075 -0.368246  \n",
       "4687     -0.159713  -0.080729  -0.090554  0.744012  1.989065  2.682236  \n",
       "8430     -0.159713  -0.080729  -0.090554  0.301609  0.558402 -0.368246  \n",
       "1757     -0.159713  -0.080729  -0.090554  1.487352  0.357484  0.288342  \n",
       "7165     -0.159713  -0.080729  -0.090554 -0.081635 -0.186075 -0.750665  \n",
       "\n",
       "[5 rows x 191 columns]"
      ]
     },
     "execution_count": 239,
     "metadata": {},
     "output_type": "execute_result"
    }
   ],
   "source": [
    "train_scaled.sample(5)"
   ]
  },
  {
   "cell_type": "code",
   "execution_count": 388,
   "metadata": {},
   "outputs": [],
   "source": [
    "# Apply box-cox transformations if absolute skewness is greater than 0.5 on test data\n",
    "skew_transformed_test = []\n",
    "for i in test.columns:\n",
    "    skew_transformed_test.append(skew_autotransform(test[[i]].copy(deep=True), plot = False, exp = False, threshold = 0.5))"
   ]
  },
  {
   "cell_type": "code",
   "execution_count": 389,
   "metadata": {},
   "outputs": [],
   "source": [
    "# Scale data using standard scaler\n",
    "test_scaled = scaler.transform(pd.concat(skew_transformed_test,axis=1))\n",
    "test_scaled = pd.DataFrame(test_scaled,columns=test.columns)"
   ]
  },
  {
   "cell_type": "code",
   "execution_count": 390,
   "metadata": {},
   "outputs": [
    {
     "data": {
      "text/html": [
       "<div>\n",
       "<style scoped>\n",
       "    .dataframe tbody tr th:only-of-type {\n",
       "        vertical-align: middle;\n",
       "    }\n",
       "\n",
       "    .dataframe tbody tr th {\n",
       "        vertical-align: top;\n",
       "    }\n",
       "\n",
       "    .dataframe thead th {\n",
       "        text-align: right;\n",
       "    }\n",
       "</style>\n",
       "<table border=\"1\" class=\"dataframe\">\n",
       "  <thead>\n",
       "    <tr style=\"text-align: right;\">\n",
       "      <th></th>\n",
       "      <th>title_casualdining</th>\n",
       "      <th>title_quickbites</th>\n",
       "      <th>title_none</th>\n",
       "      <th>title_foodtruck</th>\n",
       "      <th>title_dessertparlor</th>\n",
       "      <th>title_bar</th>\n",
       "      <th>title_lounge</th>\n",
       "      <th>title_beverageshop</th>\n",
       "      <th>title_pub</th>\n",
       "      <th>title_café</th>\n",
       "      <th>...</th>\n",
       "      <th>kochi</th>\n",
       "      <th>andheri</th>\n",
       "      <th>delhi</th>\n",
       "      <th>noida</th>\n",
       "      <th>secunderabad</th>\n",
       "      <th>faridabad</th>\n",
       "      <th>ghaziabad</th>\n",
       "      <th>LOCALITY</th>\n",
       "      <th>RATING</th>\n",
       "      <th>VOTES</th>\n",
       "    </tr>\n",
       "  </thead>\n",
       "  <tbody>\n",
       "    <tr>\n",
       "      <th>1829</th>\n",
       "      <td>-0.611745</td>\n",
       "      <td>4.191529</td>\n",
       "      <td>-141653.848673</td>\n",
       "      <td>-1.174187e+146</td>\n",
       "      <td>-13495.385563</td>\n",
       "      <td>13.413213</td>\n",
       "      <td>-1.209304e+08</td>\n",
       "      <td>64.964093</td>\n",
       "      <td>-5.816669e+25</td>\n",
       "      <td>-12.338846</td>\n",
       "      <td>...</td>\n",
       "      <td>1.478931</td>\n",
       "      <td>8.547238</td>\n",
       "      <td>-0.685918</td>\n",
       "      <td>-3320.73303</td>\n",
       "      <td>-8107.499615</td>\n",
       "      <td>12.38703</td>\n",
       "      <td>-6.436357e+08</td>\n",
       "      <td>-0.729806</td>\n",
       "      <td>-0.684193</td>\n",
       "      <td>-1.183173</td>\n",
       "    </tr>\n",
       "    <tr>\n",
       "      <th>636</th>\n",
       "      <td>1.377658</td>\n",
       "      <td>4.191527</td>\n",
       "      <td>-141653.848673</td>\n",
       "      <td>-1.174187e+146</td>\n",
       "      <td>-13495.385563</td>\n",
       "      <td>13.413213</td>\n",
       "      <td>-1.209304e+08</td>\n",
       "      <td>64.964093</td>\n",
       "      <td>-5.816669e+25</td>\n",
       "      <td>-12.338846</td>\n",
       "      <td>...</td>\n",
       "      <td>1.478931</td>\n",
       "      <td>8.547238</td>\n",
       "      <td>-0.685918</td>\n",
       "      <td>-3320.73303</td>\n",
       "      <td>-8107.499615</td>\n",
       "      <td>12.38703</td>\n",
       "      <td>-6.436357e+08</td>\n",
       "      <td>-1.313675</td>\n",
       "      <td>0.476414</td>\n",
       "      <td>0.763824</td>\n",
       "    </tr>\n",
       "    <tr>\n",
       "      <th>3291</th>\n",
       "      <td>-0.611745</td>\n",
       "      <td>4.191529</td>\n",
       "      <td>-141653.848673</td>\n",
       "      <td>-1.174187e+146</td>\n",
       "      <td>-13495.385563</td>\n",
       "      <td>13.413213</td>\n",
       "      <td>-1.209304e+08</td>\n",
       "      <td>64.964093</td>\n",
       "      <td>-5.816669e+25</td>\n",
       "      <td>-12.338846</td>\n",
       "      <td>...</td>\n",
       "      <td>1.478931</td>\n",
       "      <td>8.547238</td>\n",
       "      <td>-0.685918</td>\n",
       "      <td>-3320.73303</td>\n",
       "      <td>-8107.499615</td>\n",
       "      <td>12.38703</td>\n",
       "      <td>-6.436357e+08</td>\n",
       "      <td>0.203869</td>\n",
       "      <td>-1.360384</td>\n",
       "      <td>-0.525188</td>\n",
       "    </tr>\n",
       "    <tr>\n",
       "      <th>2552</th>\n",
       "      <td>-0.611745</td>\n",
       "      <td>4.191527</td>\n",
       "      <td>-141653.848673</td>\n",
       "      <td>-1.174187e+146</td>\n",
       "      <td>-13495.385563</td>\n",
       "      <td>13.413213</td>\n",
       "      <td>-1.209304e+08</td>\n",
       "      <td>64.964093</td>\n",
       "      <td>-5.816669e+25</td>\n",
       "      <td>-12.338846</td>\n",
       "      <td>...</td>\n",
       "      <td>1.478931</td>\n",
       "      <td>8.547238</td>\n",
       "      <td>-0.685918</td>\n",
       "      <td>-3320.73303</td>\n",
       "      <td>-8107.499615</td>\n",
       "      <td>12.38703</td>\n",
       "      <td>-6.436357e+08</td>\n",
       "      <td>0.257884</td>\n",
       "      <td>0.892221</td>\n",
       "      <td>0.011105</td>\n",
       "    </tr>\n",
       "    <tr>\n",
       "      <th>3641</th>\n",
       "      <td>1.377658</td>\n",
       "      <td>4.191527</td>\n",
       "      <td>-141653.848673</td>\n",
       "      <td>-1.174187e+146</td>\n",
       "      <td>-13495.385563</td>\n",
       "      <td>13.413213</td>\n",
       "      <td>-1.209304e+08</td>\n",
       "      <td>64.964093</td>\n",
       "      <td>-5.816669e+25</td>\n",
       "      <td>-12.338846</td>\n",
       "      <td>...</td>\n",
       "      <td>1.478931</td>\n",
       "      <td>8.547238</td>\n",
       "      <td>-0.685918</td>\n",
       "      <td>-3320.73303</td>\n",
       "      <td>-8107.499615</td>\n",
       "      <td>12.38703</td>\n",
       "      <td>-6.436357e+08</td>\n",
       "      <td>0.301609</td>\n",
       "      <td>-1.055483</td>\n",
       "      <td>0.598783</td>\n",
       "    </tr>\n",
       "  </tbody>\n",
       "</table>\n",
       "<p>5 rows × 191 columns</p>\n",
       "</div>"
      ],
      "text/plain": [
       "      title_casualdining  title_quickbites     title_none  title_foodtruck  \\\n",
       "1829           -0.611745          4.191529 -141653.848673   -1.174187e+146   \n",
       "636             1.377658          4.191527 -141653.848673   -1.174187e+146   \n",
       "3291           -0.611745          4.191529 -141653.848673   -1.174187e+146   \n",
       "2552           -0.611745          4.191527 -141653.848673   -1.174187e+146   \n",
       "3641            1.377658          4.191527 -141653.848673   -1.174187e+146   \n",
       "\n",
       "      title_dessertparlor  title_bar  title_lounge  title_beverageshop  \\\n",
       "1829        -13495.385563  13.413213 -1.209304e+08           64.964093   \n",
       "636         -13495.385563  13.413213 -1.209304e+08           64.964093   \n",
       "3291        -13495.385563  13.413213 -1.209304e+08           64.964093   \n",
       "2552        -13495.385563  13.413213 -1.209304e+08           64.964093   \n",
       "3641        -13495.385563  13.413213 -1.209304e+08           64.964093   \n",
       "\n",
       "         title_pub  title_café  ...     kochi   andheri     delhi       noida  \\\n",
       "1829 -5.816669e+25  -12.338846  ...  1.478931  8.547238 -0.685918 -3320.73303   \n",
       "636  -5.816669e+25  -12.338846  ...  1.478931  8.547238 -0.685918 -3320.73303   \n",
       "3291 -5.816669e+25  -12.338846  ...  1.478931  8.547238 -0.685918 -3320.73303   \n",
       "2552 -5.816669e+25  -12.338846  ...  1.478931  8.547238 -0.685918 -3320.73303   \n",
       "3641 -5.816669e+25  -12.338846  ...  1.478931  8.547238 -0.685918 -3320.73303   \n",
       "\n",
       "      secunderabad  faridabad     ghaziabad  LOCALITY    RATING     VOTES  \n",
       "1829  -8107.499615   12.38703 -6.436357e+08 -0.729806 -0.684193 -1.183173  \n",
       "636   -8107.499615   12.38703 -6.436357e+08 -1.313675  0.476414  0.763824  \n",
       "3291  -8107.499615   12.38703 -6.436357e+08  0.203869 -1.360384 -0.525188  \n",
       "2552  -8107.499615   12.38703 -6.436357e+08  0.257884  0.892221  0.011105  \n",
       "3641  -8107.499615   12.38703 -6.436357e+08  0.301609 -1.055483  0.598783  \n",
       "\n",
       "[5 rows x 191 columns]"
      ]
     },
     "execution_count": 390,
     "metadata": {},
     "output_type": "execute_result"
    }
   ],
   "source": [
    "test_scaled.sample(5)"
   ]
  },
  {
   "cell_type": "markdown",
   "metadata": {},
   "source": [
    "## **Model Training and Evaluation**"
   ]
  },
  {
   "cell_type": "code",
   "execution_count": 277,
   "metadata": {},
   "outputs": [],
   "source": [
    "from sklearn.linear_model import Ridge, Lasso\n",
    "from sklearn.metrics import mean_squared_error,r2_score, make_scorer\n",
    "from sklearn.model_selection import train_test_split, GridSearchCV, KFold\n",
    "from sklearn.model_selection import cross_val_score,cross_validate\n",
    "from sklearn.model_selection import KFold\n",
    "from sklearn.svm import SVR\n",
    "from sklearn.tree import DecisionTreeRegressor\n",
    "from sklearn.ensemble import GradientBoostingRegressor, RandomForestRegressor, ExtraTreesRegressor\n",
    "from lightgbm import LGBMRegressor\n",
    "from catboost import CatBoostRegressor\n",
    "from xgboost import XGBRegressor"
   ]
  },
  {
   "cell_type": "code",
   "execution_count": 241,
   "metadata": {},
   "outputs": [],
   "source": [
    "X = train_scaled\n",
    "y = train.COST"
   ]
  },
  {
   "cell_type": "code",
   "execution_count": 242,
   "metadata": {},
   "outputs": [
    {
     "name": "stdout",
     "output_type": "stream",
     "text": [
      "(12664, 191)\n",
      "(12664,)\n"
     ]
    }
   ],
   "source": [
    "print(X.shape)\n",
    "print(y.shape)"
   ]
  },
  {
   "cell_type": "code",
   "execution_count": 246,
   "metadata": {},
   "outputs": [
    {
     "name": "stdout",
     "output_type": "stream",
     "text": [
      "--> 10 --> 20 --> 30 --> 40 --> 50 --> 60 --> 70 --> 80 --> 90 --> 100 Best random state :  37 74865.70967771218\n"
     ]
    }
   ],
   "source": [
    "# Find out best random_state\n",
    "random_state = []\n",
    "for i in range(1,101):\n",
    "    if i%10 == 0:\n",
    "      print('-->',i,end=' ')\n",
    "    x_train, x_test, y_train, y_test = train_test_split(X,y,test_size=0.2,random_state=i)\n",
    "    pred = Lasso().fit(x_train,y_train).predict(x_test)\n",
    "    random_state.append(mean_squared_error(y_test,pred))\n",
    "print('Best random state : ',random_state.index(min(random_state))+1,min(random_state))"
   ]
  },
  {
   "cell_type": "code",
   "execution_count": 283,
   "metadata": {},
   "outputs": [],
   "source": [
    "x_train, x_test, y_train, y_test = train_test_split(X,y,test_size=0.2,random_state=37)"
   ]
  },
  {
   "cell_type": "markdown",
   "metadata": {},
   "source": [
    "### ***Feature selection before training the model***"
   ]
  },
  {
   "cell_type": "code",
   "execution_count": 290,
   "metadata": {},
   "outputs": [],
   "source": [
    "from sklearn.feature_selection import SelectFromModel"
   ]
  },
  {
   "cell_type": "code",
   "execution_count": 288,
   "metadata": {},
   "outputs": [
    {
     "data": {
      "text/plain": [
       "XGBRegressor(base_score=0.5, booster='gbtree', colsample_bylevel=1,\n",
       "             colsample_bynode=1, colsample_bytree=1, gamma=0, gpu_id=-1,\n",
       "             importance_type='gain', interaction_constraints='',\n",
       "             learning_rate=0.300000012, max_delta_step=0, max_depth=6,\n",
       "             min_child_weight=1, missing=nan, monotone_constraints='()',\n",
       "             n_estimators=100, n_jobs=4, num_parallel_tree=1, random_state=0,\n",
       "             reg_alpha=0, reg_lambda=1, scale_pos_weight=1, subsample=1,\n",
       "             tree_method='exact', validate_parameters=1, verbosity=None)"
      ]
     },
     "execution_count": 288,
     "metadata": {},
     "output_type": "execute_result"
    }
   ],
   "source": [
    "# Lets find out the feature importance using the XGBoost regressor\n",
    "model = XGBRegressor()\n",
    "model.fit(X,y)"
   ]
  },
  {
   "cell_type": "code",
   "execution_count": 289,
   "metadata": {},
   "outputs": [
    {
     "data": {
      "image/png": "[encoded data removed]",
      "text/plain": [
       "<Figure size 1152x360 with 1 Axes>"
      ]
     },
     "metadata": {},
     "output_type": "display_data"
    }
   ],
   "source": [
    "# Plot the feature importances\n",
    "importance = dict(enumerate(model.feature_importances_))\n",
    "plt.figure(figsize=(16,5))\n",
    "sns.lineplot(x=np.arange(len(importance)),y=list(importance.values()))\n",
    "plt.show()"
   ]
  },
  {
   "cell_type": "code",
   "execution_count": 292,
   "metadata": {},
   "outputs": [
    {
     "name": "stdout",
     "output_type": "stream",
     "text": [
      "1.2.3.4.5.6.7.8.9.10.11.12.13.14.15.16.17.18.19.20.21.22.23.24.25.26.27.28.29.30.31.32.33.34.35.36.37.38.39.40.41.42.43.44.45.46.47.48.49.50.51.52.53.54.55.56.57.58.59.60.61.62.63.64.65.66.67.68.69.70.71.72.73.74.75.76.77.78.79.80.81.82.83.84.85.86.87.88.89.90.91.92.93.94.95.96.97.98.99.100."
     ]
    }
   ],
   "source": [
    "# Iterate to find out the best number of max_features\n",
    "scores = []\n",
    "for i in range(1,101):\n",
    "    fs = SelectFromModel(XGBRegressor(), max_features=i)\n",
    "    fs.fit(x_train, y_train)\n",
    "    x_train_fs = fs.transform(x_train)\n",
    "    x_test_fs = fs.transform(x_test)\n",
    "    model = XGBRegressor().fit(x_train_fs,y_train)\n",
    "    pred = model.predict(x_test_fs)\n",
    "    scores.append(r2_score(pred,y_test))\n",
    "    print(i,end='.')"
   ]
  },
  {
   "cell_type": "code",
   "execution_count": 299,
   "metadata": {},
   "outputs": [
    {
     "data": {
      "image/png": "[encoded data removed]",
      "text/plain": [
       "<Figure size 504x360 with 1 Axes>"
      ]
     },
     "metadata": {},
     "output_type": "display_data"
    }
   ],
   "source": [
    "# Plot R2Score vs the max_features\n",
    "plt.figure(figsize=(7,5))\n",
    "sns.lineplot(x=np.arange(1,101),y=scores)\n",
    "plt.show()"
   ]
  },
  {
   "cell_type": "code",
   "execution_count": 300,
   "metadata": {},
   "outputs": [
    {
     "data": {
      "text/plain": [
       "28"
      ]
     },
     "execution_count": 300,
     "metadata": {},
     "output_type": "execute_result"
    }
   ],
   "source": [
    "scores.index(max(scores))"
   ]
  },
  {
   "cell_type": "markdown",
   "metadata": {},
   "source": [
    "* So we require atleast 29 features to achieve best performances"
   ]
  },
  {
   "cell_type": "code",
   "execution_count": 324,
   "metadata": {},
   "outputs": [],
   "source": [
    "# Tranform features with 29 max features\n",
    "fs = SelectFromModel(XGBRegressor(), max_features=29)\n",
    "fs.fit(x_train, y_train)\n",
    "x_train_fs = fs.transform(x_train)\n",
    "x_test_fs = fs.transform(x_test)"
   ]
  },
  {
   "cell_type": "code",
   "execution_count": 391,
   "metadata": {},
   "outputs": [],
   "source": [
    "test_fs = fs.transform(test_scaled)"
   ]
  },
  {
   "cell_type": "code",
   "execution_count": 392,
   "metadata": {},
   "outputs": [
    {
     "name": "stdout",
     "output_type": "stream",
     "text": [
      "(10131, 29)\n",
      "(2533, 29)\n",
      "(4230, 29)\n"
     ]
    }
   ],
   "source": [
    "print(x_train_fs.shape)\n",
    "print(x_test_fs.shape)\n",
    "print(test_fs.shape)"
   ]
  },
  {
   "cell_type": "markdown",
   "metadata": {},
   "source": [
    "### ***Model training***"
   ]
  },
  {
   "cell_type": "code",
   "execution_count": 305,
   "metadata": {},
   "outputs": [],
   "source": [
    "# Create dictionary of models to be trained\n",
    "model_dict = {\n",
    "    'RDR':Ridge(),\n",
    "    'LSR':Lasso(),\n",
    "    'DTR':DecisionTreeRegressor(),\n",
    "    'GBR':GradientBoostingRegressor(),\n",
    "    'LBR':LGBMRegressor(),\n",
    "    'CBR':CatBoostRegressor(verbose=0),\n",
    "    'SVR':SVR(),\n",
    "    'RFR':RandomForestRegressor(),\n",
    "    'ETR':ExtraTreesRegressor()\n",
    "}"
   ]
  },
  {
   "cell_type": "code",
   "execution_count": 306,
   "metadata": {},
   "outputs": [],
   "source": [
    "# Lets use Root Mean Squared Log error for the evaluation of the models\n",
    "def rmsle_score(pred,y):\n",
    "    pred = np.log(pred)\n",
    "    y = np.log(y)\n",
    "    return 1-((np.sum((pred-y)**2))/len(y))**1/2\n",
    "scorer = make_scorer(rmsle_score,greater_is_better=True)"
   ]
  },
  {
   "cell_type": "code",
   "execution_count": 307,
   "metadata": {},
   "outputs": [
    {
     "name": "stdout",
     "output_type": "stream",
     "text": [
      "RDR\n",
      "0.9 +/- 0.01\n",
      "LSR\n",
      "0.9 +/- 0.01\n",
      "DTR\n",
      "0.85 +/- 0.02\n",
      "GBR\n",
      "0.91 +/- 0.01\n",
      "LBR\n",
      "0.92 +/- 0.01\n",
      "CBR\n",
      "0.92 +/- 0.01\n",
      "SVR\n",
      "0.86 +/- 0.02\n",
      "RFR\n",
      "0.91 +/- 0.01\n",
      "ETR\n",
      "0.89 +/- 0.01\n"
     ]
    }
   ],
   "source": [
    "cv_score = {}\n",
    "for i in model_dict:\n",
    "    print(i)\n",
    "    kfold = KFold(n_splits=10,random_state=37)\n",
    "    cv_results = cross_validate(model_dict[i], x_train_fs, y_train, scoring=scorer, cv=kfold,return_train_score=True)\n",
    "    cv_score[i] = cv_results['test_score']\n",
    "    print(round(np.mean(cv_results['test_score']),2),'+/-',round(np.std(cv_results['test_score'])*2,2))"
   ]
  },
  {
   "cell_type": "code",
   "execution_count": 407,
   "metadata": {},
   "outputs": [
    {
     "data": {
      "image/png": "[encoded data removed]",
      "text/plain": [
       "<Figure size 1080x360 with 1 Axes>"
      ]
     },
     "metadata": {},
     "output_type": "display_data"
    }
   ],
   "source": [
    "df = pd.DataFrame(cv_score)\n",
    "plt.figure(figsize=(15,5))\n",
    "sns.boxplot(data=df)\n",
    "plt.title('RMSLE Score vs Accuracy')\n",
    "plt.ylabel('RMSLE Score')\n",
    "plt.show()"
   ]
  },
  {
   "cell_type": "markdown",
   "metadata": {},
   "source": [
    "* Best performing models with median score greater than 0.90 are:\n",
    "    - CatBoostRegressor\n",
    "    - LightGBM regressor\n",
    "    - GBR regressor\n",
    "    - Random forest\n",
    "    - Lasso\n",
    "    - Ridge"
   ]
  },
  {
   "cell_type": "markdown",
   "metadata": {},
   "source": [
    "### ***Let's apply Hyperparameter tuning to improve the model predicition***"
   ]
  },
  {
   "cell_type": "code",
   "execution_count": 317,
   "metadata": {},
   "outputs": [
    {
     "name": "stdout",
     "output_type": "stream",
     "text": [
      "Fitting 10 folds for each of 4 candidates, totalling 40 fits\n"
     ]
    },
    {
     "name": "stderr",
     "output_type": "stream",
     "text": [
      "[Parallel(n_jobs=1)]: Using backend SequentialBackend with 1 concurrent workers.\n"
     ]
    },
    {
     "name": "stdout",
     "output_type": "stream",
     "text": [
      "Best: 0.902052 using {'alpha': 0.0001, 'solver': 'auto'}\n"
     ]
    },
    {
     "name": "stderr",
     "output_type": "stream",
     "text": [
      "[Parallel(n_jobs=1)]: Done  40 out of  40 | elapsed:    0.7s finished\n"
     ]
    }
   ],
   "source": [
    "# Tune parameter of Ridge regressor\n",
    "params = {\n",
    "    'alpha':[0.0001,0.0002],\n",
    "    'solver':['auto', 'svd']\n",
    "    }\n",
    "\n",
    "kfold = KFold(n_splits=10, random_state=37)\n",
    "ridge_grid = GridSearchCV(Ridge(), param_grid=params, scoring=scorer, cv=kfold,verbose=1)\n",
    "ridge_grid.fit(x_train_fs,y_train)\n",
    "print('Best: %f using %s' % (ridge_grid.best_score_, ridge_grid.best_params_))"
   ]
  },
  {
   "cell_type": "code",
   "execution_count": 318,
   "metadata": {},
   "outputs": [
    {
     "name": "stdout",
     "output_type": "stream",
     "text": [
      "RMSE loss in train : 358.944\n",
      "RMSE in testing : 283.514\n",
      "R2 Score : 0.733\n",
      "RMSLE Score : 0.904\n"
     ]
    }
   ],
   "source": [
    "# Ridge regressor prediction\n",
    "y_pred = ridge_grid.best_estimator_.predict(x_train_fs)\n",
    "print('RMSE loss in train :',round(np.sqrt(mean_squared_error(y_train,y_pred)),3))\n",
    "y_pred = ridge_grid.best_estimator_.predict(x_test_fs)\n",
    "print('RMSE in testing :',round(np.sqrt(mean_squared_error(y_test,y_pred)),3))\n",
    "print('R2 Score :',round(r2_score(y_test,y_pred),3))\n",
    "print('RMSLE Score :',round(rmsle_score(y_pred,y_test),3))"
   ]
  },
  {
   "cell_type": "code",
   "execution_count": 319,
   "metadata": {},
   "outputs": [
    {
     "name": "stdout",
     "output_type": "stream",
     "text": [
      "Fitting 10 folds for each of 5 candidates, totalling 50 fits\n"
     ]
    },
    {
     "name": "stderr",
     "output_type": "stream",
     "text": [
      "[Parallel(n_jobs=1)]: Using backend SequentialBackend with 1 concurrent workers.\n"
     ]
    },
    {
     "name": "stdout",
     "output_type": "stream",
     "text": [
      "Best: 0.902052 using {'alpha': 0.0005}\n"
     ]
    },
    {
     "name": "stderr",
     "output_type": "stream",
     "text": [
      "[Parallel(n_jobs=1)]: Done  50 out of  50 | elapsed:    1.3s finished\n"
     ]
    }
   ],
   "source": [
    "# Tune parameter of Lasso regressor\n",
    "params = {\n",
    "    'alpha':[0.0001,0.0002,0.0003,0.0004,0.0005],\n",
    "    }\n",
    "\n",
    "kfold = KFold(n_splits=10, random_state=37)\n",
    "lasso_grid = GridSearchCV(Lasso(), param_grid=params, scoring=scorer, cv=kfold,verbose=1)\n",
    "lasso_grid.fit(x_train_fs,y_train)\n",
    "print('Best: %f using %s' % (lasso_grid.best_score_, lasso_grid.best_params_))"
   ]
  },
  {
   "cell_type": "code",
   "execution_count": 320,
   "metadata": {},
   "outputs": [
    {
     "name": "stdout",
     "output_type": "stream",
     "text": [
      "RMSE in train : 358.944\n",
      "RMSE in testing : 283.514\n",
      "R2 Score : 0.733\n",
      "RMSLE Score : 0.904\n"
     ]
    }
   ],
   "source": [
    "# Lasso regressor prediction\n",
    "y_pred = lasso_grid.best_estimator_.predict(x_train_fs)\n",
    "print('RMSE in train :',round(np.sqrt(mean_squared_error(y_train,y_pred)),3))\n",
    "y_pred = lasso_grid.best_estimator_.predict(x_test_fs)\n",
    "print('RMSE in testing :',round(np.sqrt(mean_squared_error(y_test,y_pred)),3))\n",
    "print('R2 Score :',round(r2_score(y_test,y_pred),3))\n",
    "print('RMSLE Score :',round(rmsle_score(y_pred,y_test),3))"
   ]
  },
  {
   "cell_type": "code",
   "execution_count": 380,
   "metadata": {},
   "outputs": [
    {
     "name": "stdout",
     "output_type": "stream",
     "text": [
      "Fitting 10 folds for each of 12 candidates, totalling 120 fits\n"
     ]
    },
    {
     "name": "stderr",
     "output_type": "stream",
     "text": [
      "[Parallel(n_jobs=1)]: Using backend SequentialBackend with 1 concurrent workers.\n",
      "[Parallel(n_jobs=1)]: Done 120 out of 120 | elapsed:   27.9s finished\n"
     ]
    },
    {
     "name": "stdout",
     "output_type": "stream",
     "text": [
      "Best: 0.915291 using {'max_depth': 9, 'min_child_weight': 30, 'min_split_gain': 0.001, 'n_estimators': 105, 'num_leaves': 44}\n"
     ]
    }
   ],
   "source": [
    "# Tune parameter of LGBM regressor\n",
    "params = {\n",
    "    'n_estimators':[95,100,105],\n",
    "      'num_leaves': [44],\n",
    "      'max_depth': [9,10],\n",
    "      'min_split_gain': [0.001,0.0001],\n",
    "      'min_child_weight': [30]\n",
    "    }\n",
    "\n",
    "kfold = KFold(n_splits=10, random_state=37)\n",
    "lgbm_grid = GridSearchCV(LGBMRegressor(), param_grid=params, scoring=scorer, cv=kfold,verbose=1)\n",
    "lgbm_grid.fit(x_train_fs,y_train)\n",
    "print('Best: %f using %s' % (lgbm_grid.best_score_, lgbm_grid.best_params_))"
   ]
  },
  {
   "cell_type": "code",
   "execution_count": 381,
   "metadata": {},
   "outputs": [
    {
     "name": "stdout",
     "output_type": "stream",
     "text": [
      "RMSE in train : 296.282\n",
      "RMSE in testing : 273.47\n",
      "R2 Score : 0.751\n",
      "RMSLE Score : 0.917\n"
     ]
    }
   ],
   "source": [
    "# LGBM regressor prediction\n",
    "y_pred = lgbm_grid.best_estimator_.predict(x_train_fs)\n",
    "print('RMSE in train :',round(np.sqrt(mean_squared_error(y_train,y_pred)),3))\n",
    "y_pred = lgbm_grid.best_estimator_.predict(x_test_fs)\n",
    "print('RMSE in testing :',round(np.sqrt(mean_squared_error(y_test,y_pred)),3))\n",
    "print('R2 Score :',round(r2_score(y_test,y_pred),3))\n",
    "print('RMSLE Score :',round(rmsle_score(y_pred,y_test),3))"
   ]
  },
  {
   "cell_type": "code",
   "execution_count": 333,
   "metadata": {},
   "outputs": [
    {
     "name": "stdout",
     "output_type": "stream",
     "text": [
      "Fitting 10 folds for each of 4 candidates, totalling 40 fits\n"
     ]
    },
    {
     "name": "stderr",
     "output_type": "stream",
     "text": [
      "[Parallel(n_jobs=1)]: Using backend SequentialBackend with 1 concurrent workers.\n",
      "[Parallel(n_jobs=1)]: Done  40 out of  40 | elapsed:   55.0s finished\n"
     ]
    },
    {
     "name": "stdout",
     "output_type": "stream",
     "text": [
      "Best: 0.913451 using {'eval_metric': 'R2', 'iterations': 200, 'learning_rate': 0.05}\n"
     ]
    }
   ],
   "source": [
    "# Tune parameter of CatBoost regressor\n",
    "params = {\n",
    "    \"iterations\":[100,200],\n",
    "    \"learning_rate\": [0.01,0.05],\n",
    "    \"eval_metric\": [\"R2\"],\n",
    "    }\n",
    "\n",
    "kfold = KFold(n_splits=10, random_state=37)\n",
    "cat_grid = GridSearchCV(CatBoostRegressor(verbose=0), param_grid=params, scoring=scorer, cv=kfold,verbose=1)\n",
    "cat_grid.fit(x_train_fs,y_train)\n",
    "print('Best: %f using %s' % (cat_grid.best_score_, cat_grid.best_params_))"
   ]
  },
  {
   "cell_type": "code",
   "execution_count": 334,
   "metadata": {},
   "outputs": [
    {
     "name": "stdout",
     "output_type": "stream",
     "text": [
      "RMSE in train : 307.105\n",
      "RMSE in testing : 266.344\n",
      "R2 Score : 0.764\n",
      "RMSLE Score : 0.915\n"
     ]
    }
   ],
   "source": [
    "# CatBoost regressor prediction\n",
    "y_pred = cat_grid.best_estimator_.predict(x_train_fs)\n",
    "print('RMSE in train :',round(np.sqrt(mean_squared_error(y_train,y_pred)),3))\n",
    "y_pred = cat_grid.best_estimator_.predict(x_test_fs)\n",
    "print('RMSE in testing :',round(np.sqrt(mean_squared_error(y_test,y_pred)),3))\n",
    "print('R2 Score :',round(r2_score(y_test,y_pred),3))\n",
    "print('RMSLE Score :',round(rmsle_score(y_pred,y_test),3))"
   ]
  },
  {
   "cell_type": "code",
   "execution_count": 335,
   "metadata": {},
   "outputs": [
    {
     "name": "stdout",
     "output_type": "stream",
     "text": [
      "Fitting 10 folds for each of 9 candidates, totalling 90 fits\n"
     ]
    },
    {
     "name": "stderr",
     "output_type": "stream",
     "text": [
      "[Parallel(n_jobs=1)]: Using backend SequentialBackend with 1 concurrent workers.\n",
      "[Parallel(n_jobs=1)]: Done  90 out of  90 | elapsed:  2.0min finished\n"
     ]
    },
    {
     "name": "stdout",
     "output_type": "stream",
     "text": [
      "Best: 0.912196 using {'learning_rate': 0.1, 'n_estimators': 105}\n"
     ]
    }
   ],
   "source": [
    "# Tune parameter of GBR regressor\n",
    "params = {\n",
    "    \"n_estimators\":[95,100,105],\n",
    "    \"learning_rate\": [0.01,0.05,0.1],\n",
    "    }\n",
    "\n",
    "kfold = KFold(n_splits=10, random_state=37)\n",
    "gbr_grid = GridSearchCV(GradientBoostingRegressor(), param_grid=params, scoring=scorer, cv=kfold,verbose=1)\n",
    "gbr_grid.fit(x_train_fs,y_train)\n",
    "print('Best: %f using %s' % (gbr_grid.best_score_, gbr_grid.best_params_))"
   ]
  },
  {
   "cell_type": "code",
   "execution_count": 336,
   "metadata": {},
   "outputs": [
    {
     "name": "stdout",
     "output_type": "stream",
     "text": [
      "RMSE in train : 318.754\n",
      "RMSE in testing : 270.47\n",
      "R2 Score : 0.757\n",
      "RMSLE Score : 0.913\n"
     ]
    }
   ],
   "source": [
    "# GBR regressor prediction\n",
    "y_pred = gbr_grid.best_estimator_.predict(x_train_fs)\n",
    "print('RMSE in train :',round(np.sqrt(mean_squared_error(y_train,y_pred)),3))\n",
    "y_pred = gbr_grid.best_estimator_.predict(x_test_fs)\n",
    "print('RMSE in testing :',round(np.sqrt(mean_squared_error(y_test,y_pred)),3))\n",
    "print('R2 Score :',round(r2_score(y_test,y_pred),3))\n",
    "print('RMSLE Score :',round(rmsle_score(y_pred,y_test),3))"
   ]
  },
  {
   "cell_type": "code",
   "execution_count": 378,
   "metadata": {},
   "outputs": [
    {
     "name": "stdout",
     "output_type": "stream",
     "text": [
      "Fitting 10 folds for each of 16 candidates, totalling 160 fits\n"
     ]
    },
    {
     "name": "stderr",
     "output_type": "stream",
     "text": [
      "[Parallel(n_jobs=1)]: Using backend SequentialBackend with 1 concurrent workers.\n",
      "[Parallel(n_jobs=1)]: Done 160 out of 160 | elapsed: 30.9min finished\n"
     ]
    },
    {
     "name": "stdout",
     "output_type": "stream",
     "text": [
      "Best: 0.916299 using {'max_depth': 20, 'min_samples_leaf': 2, 'min_samples_split': 15, 'n_estimators': 500}\n"
     ]
    }
   ],
   "source": [
    "# Tune parameter of Randomforest regressor\n",
    "params = {\n",
    "    'n_estimators':[100,500],\n",
    "    'max_depth':[20,30],\n",
    "    'min_samples_split':[10,15],\n",
    "    'min_samples_leaf':[2,5]\n",
    "    }\n",
    "\n",
    "kfold = KFold(n_splits=10, random_state=37)\n",
    "rfr_grid = GridSearchCV(RandomForestRegressor(), param_grid=params, scoring=scorer, cv=kfold,verbose=1)\n",
    "rfr_grid.fit(x_train_fs,y_train)\n",
    "print('Best: %f using %s' % (rfr_grid.best_score_, rfr_grid.best_params_))"
   ]
  },
  {
   "cell_type": "code",
   "execution_count": 379,
   "metadata": {},
   "outputs": [
    {
     "name": "stdout",
     "output_type": "stream",
     "text": [
      "RMSE in train : 277.388\n",
      "RMSE in testing : 276.986\n",
      "R2 Score : 0.745\n",
      "RMSLE Score : 0.918\n"
     ]
    }
   ],
   "source": [
    "# Randomforest regressor prediction\n",
    "y_pred = rfr_grid.best_estimator_.predict(x_train_fs)\n",
    "print('RMSE in train :',round(np.sqrt(mean_squared_error(y_train,y_pred)),3))\n",
    "y_pred = rfr_grid.best_estimator_.predict(x_test_fs)\n",
    "print('RMSE in testing :',round(np.sqrt(mean_squared_error(y_test,y_pred)),3))\n",
    "print('R2 Score :',round(r2_score(y_test,y_pred),3))\n",
    "print('RMSLE Score :',round(rmsle_score(y_pred,y_test),3))"
   ]
  },
  {
   "cell_type": "markdown",
   "metadata": {},
   "source": [
    "* Based on the RMSLE score, the best performing models are:\n",
    "    - Random Forest Regressor : 0.918\n",
    "    - LGBM Regressor : 0.917\n",
    "* Though Random Forest regressor has achieved the best score, the inference time for this model is higher than rest of the model."
   ]
  },
  {
   "cell_type": "markdown",
   "metadata": {},
   "source": [
    "### ***Saving the models***"
   ]
  },
  {
   "cell_type": "code",
   "execution_count": 409,
   "metadata": {},
   "outputs": [
    {
     "data": {
      "text/plain": [
       "['Restaurant_price_prediction_lgmb_regressor.pkl']"
      ]
     },
     "execution_count": 409,
     "metadata": {},
     "output_type": "execute_result"
    }
   ],
   "source": [
    "import joblib\n",
    "joblib.dump(rfr_grid.best_estimator_,'Restaurant_price_prediction_random_forest_regressor.pkl')\n",
    "joblib.dump(lgbm_grid.best_estimator_,'Restaurant_price_prediction_lgmb_regressor.pkl')"
   ]
  },
  {
   "cell_type": "markdown",
   "metadata": {},
   "source": [
    "* The above predictions are obtained by training with the most important features. Now lets try using the entire features to check if it predicitons results in much higher RMSLE score. Lets use LGMB regressor for training as it is much faster than Random Forest."
   ]
  },
  {
   "cell_type": "markdown",
   "metadata": {},
   "source": [
    "### ***Lets use the entire features to train LGBM Regressor***"
   ]
  },
  {
   "cell_type": "code",
   "execution_count": 382,
   "metadata": {},
   "outputs": [
    {
     "name": "stdout",
     "output_type": "stream",
     "text": [
      "Fitting 10 folds for each of 6 candidates, totalling 60 fits\n"
     ]
    },
    {
     "name": "stderr",
     "output_type": "stream",
     "text": [
      "[Parallel(n_jobs=1)]: Using backend SequentialBackend with 1 concurrent workers.\n",
      "[Parallel(n_jobs=1)]: Done  60 out of  60 | elapsed:   34.4s finished\n"
     ]
    },
    {
     "name": "stdout",
     "output_type": "stream",
     "text": [
      "Best: 0.928548 using {'max_depth': 10, 'min_child_weight': 30, 'min_split_gain': 0.001, 'n_estimators': 100, 'num_leaves': 44}\n"
     ]
    }
   ],
   "source": [
    "# Tune parameter of LGBM regressor\n",
    "params = {\n",
    "    'n_estimators':[95,100,105],\n",
    "      'num_leaves': [44],\n",
    "      'max_depth': [9,10],\n",
    "      'min_split_gain': [0.001],\n",
    "      'min_child_weight': [30]\n",
    "    }\n",
    "\n",
    "kfold = KFold(n_splits=10, random_state=37)\n",
    "lgbm_grid_2 = GridSearchCV(LGBMRegressor(), param_grid=params, scoring=scorer, cv=kfold,verbose=1)\n",
    "lgbm_grid_2.fit(x_train,y_train)\n",
    "print('Best: %f using %s' % (lgbm_grid_2.best_score_, lgbm_grid_2.best_params_))"
   ]
  },
  {
   "cell_type": "code",
   "execution_count": 383,
   "metadata": {},
   "outputs": [
    {
     "name": "stdout",
     "output_type": "stream",
     "text": [
      "RMSE in train : 256.947\n",
      "RMSE in testing : 262.989\n",
      "R2 Score : 0.77\n",
      "RMSLE Score : 0.93\n"
     ]
    }
   ],
   "source": [
    "# LGBM regressor prediction\n",
    "y_pred = lgbm_grid_2.best_estimator_.predict(x_train)\n",
    "print('RMSE in train :',round(np.sqrt(mean_squared_error(y_train,y_pred)),3))\n",
    "y_pred = lgbm_grid_2.best_estimator_.predict(x_test)\n",
    "print('RMSE in testing :',round(np.sqrt(mean_squared_error(y_test,y_pred)),3))\n",
    "print('R2 Score :',round(r2_score(y_test,y_pred),3))\n",
    "print('RMSLE Score :',round(rmsle_score(y_pred,y_test),3))"
   ]
  },
  {
   "cell_type": "code",
   "execution_count": 410,
   "metadata": {},
   "outputs": [
    {
     "data": {
      "text/plain": [
       "['Restaurant_price_prediction_lgbm_regressor_full_feature.pkl']"
      ]
     },
     "execution_count": 410,
     "metadata": {},
     "output_type": "execute_result"
    }
   ],
   "source": [
    "# Save model\n",
    "joblib.dump(lgbm_grid_2.best_estimator_,'Restaurant_price_prediction_lgbm_regressor_full_feature.pkl')"
   ]
  },
  {
   "cell_type": "markdown",
   "metadata": {},
   "source": [
    "## **Test Data Prediction**"
   ]
  },
  {
   "cell_type": "code",
   "execution_count": 396,
   "metadata": {},
   "outputs": [],
   "source": [
    "predictions = lgbm_grid.best_estimator_.predict(test_fs)"
   ]
  },
  {
   "cell_type": "code",
   "execution_count": 397,
   "metadata": {
    "scrolled": false
   },
   "outputs": [
    {
     "data": {
      "text/plain": [
       "array([1506.52352989, 2098.34260614, 1329.08650793, ..., 1943.31519387,\n",
       "       1888.08686593, 2593.03110745])"
      ]
     },
     "execution_count": 397,
     "metadata": {},
     "output_type": "execute_result"
    }
   ],
   "source": [
    "predictions"
   ]
  },
  {
   "cell_type": "code",
   "execution_count": 402,
   "metadata": {},
   "outputs": [],
   "source": [
    "df = pd.DataFrame(predictions,columns=['Predictions'])"
   ]
  },
  {
   "cell_type": "code",
   "execution_count": 403,
   "metadata": {},
   "outputs": [
    {
     "data": {
      "text/html": [
       "<div>\n",
       "<style scoped>\n",
       "    .dataframe tbody tr th:only-of-type {\n",
       "        vertical-align: middle;\n",
       "    }\n",
       "\n",
       "    .dataframe tbody tr th {\n",
       "        vertical-align: top;\n",
       "    }\n",
       "\n",
       "    .dataframe thead th {\n",
       "        text-align: right;\n",
       "    }\n",
       "</style>\n",
       "<table border=\"1\" class=\"dataframe\">\n",
       "  <thead>\n",
       "    <tr style=\"text-align: right;\">\n",
       "      <th></th>\n",
       "      <th>count</th>\n",
       "      <th>mean</th>\n",
       "      <th>std</th>\n",
       "      <th>min</th>\n",
       "      <th>25%</th>\n",
       "      <th>50%</th>\n",
       "      <th>75%</th>\n",
       "      <th>max</th>\n",
       "    </tr>\n",
       "  </thead>\n",
       "  <tbody>\n",
       "    <tr>\n",
       "      <th>Predictions</th>\n",
       "      <td>4230.0</td>\n",
       "      <td>1727.287014</td>\n",
       "      <td>253.198382</td>\n",
       "      <td>1197.418546</td>\n",
       "      <td>1550.432911</td>\n",
       "      <td>1691.835312</td>\n",
       "      <td>1888.086866</td>\n",
       "      <td>3574.514084</td>\n",
       "    </tr>\n",
       "  </tbody>\n",
       "</table>\n",
       "</div>"
      ],
      "text/plain": [
       "              count         mean         std          min          25%  \\\n",
       "Predictions  4230.0  1727.287014  253.198382  1197.418546  1550.432911   \n",
       "\n",
       "                     50%          75%          max  \n",
       "Predictions  1691.835312  1888.086866  3574.514084  "
      ]
     },
     "execution_count": 403,
     "metadata": {},
     "output_type": "execute_result"
    }
   ],
   "source": [
    "df.describe().T"
   ]
  },
  {
   "cell_type": "code",
   "execution_count": 404,
   "metadata": {},
   "outputs": [],
   "source": [
    "df.to_csv('Restaurant_cost_test_data_predicitons.csv')"
   ]
  },
  {
   "cell_type": "markdown",
   "metadata": {},
   "source": [
    "## **Conclusion**"
   ]
  },
  {
   "cell_type": "code",
   "execution_count": null,
   "metadata": {},
   "outputs": [],
   "source": []
  }
 ],
 "metadata": {
  "kernelspec": {
   "display_name": "Python 3",
   "language": "python",
   "name": "python3"
  },
  "language_info": {
   "codemirror_mode": {
    "name": "ipython",
    "version": 3
   },
   "file_extension": ".py",
   "mimetype": "text/x-python",
   "name": "python",
   "nbconvert_exporter": "python",
   "pygments_lexer": "ipython3",
   "version": "3.8.5"
  }
 },
 "nbformat": 4,
 "nbformat_minor": 4
}
