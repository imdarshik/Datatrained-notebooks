{
 "cells": [
  {
   "cell_type": "code",
   "execution_count": 59,
   "metadata": {
    "id": "NNy6Y8rRsnh0"
   },
   "outputs": [],
   "source": [
    "import pandas as pd\n",
    "import numpy as np\n",
    "import warnings\n",
    "warnings.filterwarnings('ignore')\n",
    "import random\n",
    "random.seed(10)"
   ]
  },
  {
   "cell_type": "code",
   "execution_count": 60,
   "metadata": {
    "id": "bErFgRhFt8-K"
   },
   "outputs": [],
   "source": [
    "data = pd.read_excel('Data_Train.xlsx')"
   ]
  },
  {
   "cell_type": "code",
   "execution_count": 61,
   "metadata": {
    "colab": {
     "base_uri": "https://localhost:8080/",
     "height": 191
    },
    "id": "bt1ISMGiuYDQ",
    "outputId": "159ddea1-70d9-43d5-d45d-64e2d7ed11a8"
   },
   "outputs": [
    {
     "data": {
      "text/html": [
       "<div>\n",
       "<style scoped>\n",
       "    .dataframe tbody tr th:only-of-type {\n",
       "        vertical-align: middle;\n",
       "    }\n",
       "\n",
       "    .dataframe tbody tr th {\n",
       "        vertical-align: top;\n",
       "    }\n",
       "\n",
       "    .dataframe thead th {\n",
       "        text-align: right;\n",
       "    }\n",
       "</style>\n",
       "<table border=\"1\" class=\"dataframe\">\n",
       "  <thead>\n",
       "    <tr style=\"text-align: right;\">\n",
       "      <th></th>\n",
       "      <th>TITLE</th>\n",
       "      <th>RESTAURANT_ID</th>\n",
       "      <th>CUISINES</th>\n",
       "      <th>TIME</th>\n",
       "      <th>CITY</th>\n",
       "      <th>LOCALITY</th>\n",
       "      <th>RATING</th>\n",
       "      <th>VOTES</th>\n",
       "      <th>COST</th>\n",
       "    </tr>\n",
       "  </thead>\n",
       "  <tbody>\n",
       "    <tr>\n",
       "      <th>0</th>\n",
       "      <td>CASUAL DINING</td>\n",
       "      <td>9438</td>\n",
       "      <td>Malwani, Goan, North Indian</td>\n",
       "      <td>11am – 4pm, 7:30pm – 11:30pm (Mon-Sun)</td>\n",
       "      <td>Thane</td>\n",
       "      <td>Dombivali East</td>\n",
       "      <td>3.6</td>\n",
       "      <td>49 votes</td>\n",
       "      <td>1200</td>\n",
       "    </tr>\n",
       "    <tr>\n",
       "      <th>1</th>\n",
       "      <td>CASUAL DINING,BAR</td>\n",
       "      <td>13198</td>\n",
       "      <td>Asian, Modern Indian, Japanese</td>\n",
       "      <td>6pm – 11pm (Mon-Sun)</td>\n",
       "      <td>Chennai</td>\n",
       "      <td>Ramapuram</td>\n",
       "      <td>4.2</td>\n",
       "      <td>30 votes</td>\n",
       "      <td>1500</td>\n",
       "    </tr>\n",
       "    <tr>\n",
       "      <th>2</th>\n",
       "      <td>CASUAL DINING</td>\n",
       "      <td>10915</td>\n",
       "      <td>North Indian, Chinese, Biryani, Hyderabadi</td>\n",
       "      <td>11am – 3:30pm, 7pm – 11pm (Mon-Sun)</td>\n",
       "      <td>Chennai</td>\n",
       "      <td>Saligramam</td>\n",
       "      <td>3.8</td>\n",
       "      <td>221 votes</td>\n",
       "      <td>800</td>\n",
       "    </tr>\n",
       "    <tr>\n",
       "      <th>3</th>\n",
       "      <td>QUICK BITES</td>\n",
       "      <td>6346</td>\n",
       "      <td>Tibetan, Chinese</td>\n",
       "      <td>11:30am – 1am (Mon-Sun)</td>\n",
       "      <td>Mumbai</td>\n",
       "      <td>Bandra West</td>\n",
       "      <td>4.1</td>\n",
       "      <td>24 votes</td>\n",
       "      <td>800</td>\n",
       "    </tr>\n",
       "    <tr>\n",
       "      <th>4</th>\n",
       "      <td>DESSERT PARLOR</td>\n",
       "      <td>15387</td>\n",
       "      <td>Desserts</td>\n",
       "      <td>11am – 1am (Mon-Sun)</td>\n",
       "      <td>Mumbai</td>\n",
       "      <td>Lower Parel</td>\n",
       "      <td>3.8</td>\n",
       "      <td>165 votes</td>\n",
       "      <td>300</td>\n",
       "    </tr>\n",
       "  </tbody>\n",
       "</table>\n",
       "</div>"
      ],
      "text/plain": [
       "               TITLE  RESTAURANT_ID  \\\n",
       "0      CASUAL DINING           9438   \n",
       "1  CASUAL DINING,BAR          13198   \n",
       "2      CASUAL DINING          10915   \n",
       "3        QUICK BITES           6346   \n",
       "4     DESSERT PARLOR          15387   \n",
       "\n",
       "                                     CUISINES  \\\n",
       "0                 Malwani, Goan, North Indian   \n",
       "1              Asian, Modern Indian, Japanese   \n",
       "2  North Indian, Chinese, Biryani, Hyderabadi   \n",
       "3                            Tibetan, Chinese   \n",
       "4                                    Desserts   \n",
       "\n",
       "                                     TIME     CITY        LOCALITY RATING  \\\n",
       "0  11am – 4pm, 7:30pm – 11:30pm (Mon-Sun)    Thane  Dombivali East    3.6   \n",
       "1                    6pm – 11pm (Mon-Sun)  Chennai       Ramapuram    4.2   \n",
       "2     11am – 3:30pm, 7pm – 11pm (Mon-Sun)  Chennai      Saligramam    3.8   \n",
       "3                 11:30am – 1am (Mon-Sun)   Mumbai     Bandra West    4.1   \n",
       "4                    11am – 1am (Mon-Sun)   Mumbai     Lower Parel    3.8   \n",
       "\n",
       "       VOTES  COST  \n",
       "0   49 votes  1200  \n",
       "1   30 votes  1500  \n",
       "2  221 votes   800  \n",
       "3   24 votes   800  \n",
       "4  165 votes   300  "
      ]
     },
     "execution_count": 61,
     "metadata": {},
     "output_type": "execute_result"
    }
   ],
   "source": [
    "data.head()"
   ]
  },
  {
   "cell_type": "code",
   "execution_count": 62,
   "metadata": {
    "colab": {
     "base_uri": "https://localhost:8080/"
    },
    "id": "NaT7NMW1uZQY",
    "outputId": "47e27349-80af-48aa-ff5b-2379503e70ab"
   },
   "outputs": [
    {
     "name": "stdout",
     "output_type": "stream",
     "text": [
      "<class 'pandas.core.frame.DataFrame'>\n",
      "RangeIndex: 12690 entries, 0 to 12689\n",
      "Data columns (total 9 columns):\n",
      " #   Column         Non-Null Count  Dtype \n",
      "---  ------         --------------  ----- \n",
      " 0   TITLE          12690 non-null  object\n",
      " 1   RESTAURANT_ID  12690 non-null  int64 \n",
      " 2   CUISINES       12690 non-null  object\n",
      " 3   TIME           12690 non-null  object\n",
      " 4   CITY           12578 non-null  object\n",
      " 5   LOCALITY       12592 non-null  object\n",
      " 6   RATING         12688 non-null  object\n",
      " 7   VOTES          11486 non-null  object\n",
      " 8   COST           12690 non-null  int64 \n",
      "dtypes: int64(2), object(7)\n",
      "memory usage: 892.4+ KB\n"
     ]
    }
   ],
   "source": [
    "data.info()"
   ]
  },
  {
   "cell_type": "code",
   "execution_count": 63,
   "metadata": {
    "colab": {
     "base_uri": "https://localhost:8080/"
    },
    "id": "cqPtWxOf-EXY",
    "outputId": "5216b02f-255f-4830-c27d-b7f10ac0a85c"
   },
   "outputs": [
    {
     "name": "stdout",
     "output_type": "stream",
     "text": [
      "Percentage of null values in CITY : 0.88%\n",
      "Percentage of null values in LOCALITY : 0.77%\n",
      "Percentage of null values in RATING : 0.02%\n",
      "Percentage of null values in VOTES : 9.49%\n"
     ]
    }
   ],
   "source": [
    "data_length = len(data)\n",
    "print('Percentage of null values in CITY : {:,.2f}%'.format(data.CITY.isnull().sum() * 100 / data_length))\n",
    "print('Percentage of null values in LOCALITY : {:,.2f}%'.format(data.LOCALITY.isnull().sum() * 100 / data_length))\n",
    "print('Percentage of null values in RATING : {:,.2f}%'.format(data.RATING.isnull().sum() * 100 / data_length))\n",
    "print('Percentage of null values in VOTES : {:,.2f}%'.format(data.VOTES.isnull().sum() * 100 / data_length))"
   ]
  },
  {
   "cell_type": "code",
   "execution_count": 64,
   "metadata": {
    "id": "KljqPqqW_WWT"
   },
   "outputs": [],
   "source": [
    "data.dropna(subset=['CITY'],inplace=True)\n",
    "data.dropna(subset=['LOCALITY'],inplace=True)\n",
    "data.dropna(subset=['RATING'],inplace=True)"
   ]
  },
  {
   "cell_type": "code",
   "execution_count": 65,
   "metadata": {
    "colab": {
     "base_uri": "https://localhost:8080/"
    },
    "id": "cvxfkTmidwEi",
    "outputId": "5d5dada3-8da3-41eb-954c-799563278e6a"
   },
   "outputs": [
    {
     "data": {
      "text/plain": [
       "25"
      ]
     },
     "execution_count": 65,
     "metadata": {},
     "output_type": "execute_result"
    }
   ],
   "source": [
    "data.duplicated(subset=['RESTAURANT_ID','CITY','TITLE','CUISINES','LOCALITY']).sum()"
   ]
  },
  {
   "cell_type": "code",
   "execution_count": 66,
   "metadata": {
    "id": "MWBcxLoPuw6u"
   },
   "outputs": [],
   "source": [
    "data.drop_duplicates(subset=['RESTAURANT_ID','CITY','TITLE','CUISINES','LOCALITY'],keep='first',inplace=True)"
   ]
  },
  {
   "cell_type": "code",
   "execution_count": 67,
   "metadata": {
    "id": "ukUr-T80etLL"
   },
   "outputs": [],
   "source": [
    "data.drop(columns=['RESTAURANT_ID'],inplace=True)"
   ]
  },
  {
   "cell_type": "code",
   "execution_count": 68,
   "metadata": {
    "colab": {
     "base_uri": "https://localhost:8080/"
    },
    "id": "fa18E1SuvR7m",
    "outputId": "6df022bc-af90-4a61-906c-c447fbe1e7f1",
    "scrolled": false
   },
   "outputs": [
    {
     "name": "stdout",
     "output_type": "stream",
     "text": [
      "TITLE\n",
      "113\n",
      "QUICK BITES                    4202\n",
      "CASUAL DINING                  3635\n",
      "None                            920\n",
      "CAFÉ                            602\n",
      "DESSERT PARLOR                  380\n",
      "                               ... \n",
      "BAKERY,CONFECTIONERY              1\n",
      "LOUNGE,FINE DINING                1\n",
      "BAKERY,BEVERAGE SHOP              1\n",
      "BAR,CLUB                          1\n",
      "BEVERAGE SHOP,CASUAL DINING       1\n",
      "Name: TITLE, Length: 113, dtype: int64\n",
      "\n",
      "CUISINES\n",
      "4121\n",
      "South Indian                                             531\n",
      "North Indian                                             516\n",
      "North Indian, Chinese                                    496\n",
      "Fast Food                                                284\n",
      "Chinese                                                  166\n",
      "                                                        ... \n",
      "Beverages, Salad, Healthy Food, Juices                     1\n",
      "North Indian, Biryani, Chinese, Kebab, Mughlai, Asian      1\n",
      "Fast Food, Juices, South Indian, Ice Cream                 1\n",
      "North Indian, Fast Food, South Indian, Biryani             1\n",
      "North Eastern, Nepalese, Tibetan, Chinese                  1\n",
      "Name: CUISINES, Length: 4121, dtype: int64\n",
      "\n",
      "TIME\n",
      "2663\n",
      "11am – 11pm (Mon-Sun)                                    1405\n",
      "12noon – 12midnight (Mon-Sun)                             463\n",
      "12noon – 11pm (Mon-Sun)                                   400\n",
      "11am – 12midnight (Mon-Sun)                               308\n",
      "10am – 10pm (Mon-Sun)                                     217\n",
      "                                                         ... \n",
      "10am – 11:30pm (Mon, Tue, Thu, Fri, Sat), 10am –...         1\n",
      "11am – 12midnight (Mon-Thu),11am – 1:30am (Fri-Sun)         1\n",
      "7:30pm – 11:45pm (Mon-Sun)                                  1\n",
      "12noon – 3:15pm, 7pm – 10:15pm (Mon-Sun)                    1\n",
      "Closed (Mon),7:30pm – 12midnight (Tue-Sat),12:30pm...       1\n",
      "Name: TIME, Length: 2663, dtype: int64\n",
      "\n",
      "CITY\n",
      "358\n",
      "Chennai                     2173\n",
      "Bangalore                   2145\n",
      "Hyderabad                   1818\n",
      "Mumbai                      1713\n",
      "New Delhi                   1317\n",
      "                            ... \n",
      "Delhi 110085                   1\n",
      "Vijaya Nagar                   1\n",
      "Vasai West.                    1\n",
      "Kanakapura Road Banglore       1\n",
      "Maharashtra 400102             1\n",
      "Name: CITY, Length: 358, dtype: int64\n",
      "\n",
      "LOCALITY\n",
      "1413\n",
      "Gachibowli                   166\n",
      "Indiranagar                  137\n",
      "Edappally                    122\n",
      "Kakkanad                     121\n",
      "HSR                          119\n",
      "                            ... \n",
      "Louiswadi                      1\n",
      "Wallace Garden 2nd Street      1\n",
      "MSR NAGAR                      1\n",
      "Behind Bethany Hospital        1\n",
      "Borivali west                  1\n",
      "Name: LOCALITY, Length: 1413, dtype: int64\n",
      "\n",
      "RATING\n",
      "32\n",
      "3.9    1231\n",
      "3.8    1181\n",
      "4.0    1087\n",
      "3.7    1077\n",
      "3.6     940\n",
      "4.1     923\n",
      "3.5     759\n",
      "4.2     714\n",
      "NEW     689\n",
      "3.4     569\n",
      "4.3     553\n",
      "-       489\n",
      "3.3     363\n",
      "4.4     359\n",
      "3.2     265\n",
      "4.5     196\n",
      "2.9     186\n",
      "3.1     185\n",
      "3.0     169\n",
      "2.8     146\n",
      "4.6     134\n",
      "2.7      89\n",
      "4.7      65\n",
      "2.6      61\n",
      "2.5      35\n",
      "4.8      31\n",
      "4.9      22\n",
      "2.4      15\n",
      "2.3      10\n",
      "2.1       3\n",
      "2.2       2\n",
      "2.0       2\n",
      "Name: RATING, dtype: int64\n",
      "\n",
      "VOTES\n",
      "1846\n",
      "44 votes      69\n",
      "38 votes      65\n",
      "29 votes      65\n",
      "28 votes      64\n",
      "35 votes      64\n",
      "              ..\n",
      "4024 votes     1\n",
      "908 votes      1\n",
      "2252 votes     1\n",
      "1601 votes     1\n",
      "5227 votes     1\n",
      "Name: VOTES, Length: 1846, dtype: int64\n",
      "\n"
     ]
    }
   ],
   "source": [
    "for i in data.drop(columns=['COST']).columns:\n",
    "  print(i)\n",
    "  print(data[i].nunique())\n",
    "  print(data[i].value_counts(),end='\\n\\n')"
   ]
  },
  {
   "cell_type": "code",
   "execution_count": 69,
   "metadata": {
    "colab": {
     "base_uri": "https://localhost:8080/",
     "height": 211
    },
    "id": "N7sKwDKmDX47",
    "outputId": "5dd70d85-1c15-40fa-d934-3c9662a414ca"
   },
   "outputs": [
    {
     "data": {
      "text/html": [
       "<div>\n",
       "<style scoped>\n",
       "    .dataframe tbody tr th:only-of-type {\n",
       "        vertical-align: middle;\n",
       "    }\n",
       "\n",
       "    .dataframe tbody tr th {\n",
       "        vertical-align: top;\n",
       "    }\n",
       "\n",
       "    .dataframe thead th {\n",
       "        text-align: right;\n",
       "    }\n",
       "</style>\n",
       "<table border=\"1\" class=\"dataframe\">\n",
       "  <thead>\n",
       "    <tr style=\"text-align: right;\">\n",
       "      <th></th>\n",
       "      <th>title_casualdining</th>\n",
       "      <th>title_bar</th>\n",
       "      <th>title_quickbites</th>\n",
       "      <th>title_dessertparlor</th>\n",
       "      <th>title_café</th>\n",
       "      <th>title_microbrewery</th>\n",
       "      <th>title_beverageshop</th>\n",
       "      <th>title_iranicafe</th>\n",
       "      <th>title_bakery</th>\n",
       "      <th>title_pub</th>\n",
       "      <th>...</th>\n",
       "      <th>title_foodcourt</th>\n",
       "      <th>title_foodtruck</th>\n",
       "      <th>title_mess</th>\n",
       "      <th>title_kiosk</th>\n",
       "      <th>title_club</th>\n",
       "      <th>title_confectionery</th>\n",
       "      <th>title_dhaba</th>\n",
       "      <th>title_meatshop</th>\n",
       "      <th>title_cocktailbar</th>\n",
       "      <th>title_paanshop</th>\n",
       "    </tr>\n",
       "  </thead>\n",
       "  <tbody>\n",
       "    <tr>\n",
       "      <th>0</th>\n",
       "      <td>1.0</td>\n",
       "      <td>0.0</td>\n",
       "      <td>0.0</td>\n",
       "      <td>0.0</td>\n",
       "      <td>0.0</td>\n",
       "      <td>0.0</td>\n",
       "      <td>0.0</td>\n",
       "      <td>0.0</td>\n",
       "      <td>0.0</td>\n",
       "      <td>0.0</td>\n",
       "      <td>...</td>\n",
       "      <td>0.0</td>\n",
       "      <td>0.0</td>\n",
       "      <td>0.0</td>\n",
       "      <td>0.0</td>\n",
       "      <td>0.0</td>\n",
       "      <td>0.0</td>\n",
       "      <td>0.0</td>\n",
       "      <td>0.0</td>\n",
       "      <td>0.0</td>\n",
       "      <td>0.0</td>\n",
       "    </tr>\n",
       "    <tr>\n",
       "      <th>1</th>\n",
       "      <td>1.0</td>\n",
       "      <td>1.0</td>\n",
       "      <td>0.0</td>\n",
       "      <td>0.0</td>\n",
       "      <td>0.0</td>\n",
       "      <td>0.0</td>\n",
       "      <td>0.0</td>\n",
       "      <td>0.0</td>\n",
       "      <td>0.0</td>\n",
       "      <td>0.0</td>\n",
       "      <td>...</td>\n",
       "      <td>0.0</td>\n",
       "      <td>0.0</td>\n",
       "      <td>0.0</td>\n",
       "      <td>0.0</td>\n",
       "      <td>0.0</td>\n",
       "      <td>0.0</td>\n",
       "      <td>0.0</td>\n",
       "      <td>0.0</td>\n",
       "      <td>0.0</td>\n",
       "      <td>0.0</td>\n",
       "    </tr>\n",
       "    <tr>\n",
       "      <th>2</th>\n",
       "      <td>1.0</td>\n",
       "      <td>0.0</td>\n",
       "      <td>0.0</td>\n",
       "      <td>0.0</td>\n",
       "      <td>0.0</td>\n",
       "      <td>0.0</td>\n",
       "      <td>0.0</td>\n",
       "      <td>0.0</td>\n",
       "      <td>0.0</td>\n",
       "      <td>0.0</td>\n",
       "      <td>...</td>\n",
       "      <td>0.0</td>\n",
       "      <td>0.0</td>\n",
       "      <td>0.0</td>\n",
       "      <td>0.0</td>\n",
       "      <td>0.0</td>\n",
       "      <td>0.0</td>\n",
       "      <td>0.0</td>\n",
       "      <td>0.0</td>\n",
       "      <td>0.0</td>\n",
       "      <td>0.0</td>\n",
       "    </tr>\n",
       "    <tr>\n",
       "      <th>3</th>\n",
       "      <td>0.0</td>\n",
       "      <td>0.0</td>\n",
       "      <td>1.0</td>\n",
       "      <td>0.0</td>\n",
       "      <td>0.0</td>\n",
       "      <td>0.0</td>\n",
       "      <td>0.0</td>\n",
       "      <td>0.0</td>\n",
       "      <td>0.0</td>\n",
       "      <td>0.0</td>\n",
       "      <td>...</td>\n",
       "      <td>0.0</td>\n",
       "      <td>0.0</td>\n",
       "      <td>0.0</td>\n",
       "      <td>0.0</td>\n",
       "      <td>0.0</td>\n",
       "      <td>0.0</td>\n",
       "      <td>0.0</td>\n",
       "      <td>0.0</td>\n",
       "      <td>0.0</td>\n",
       "      <td>0.0</td>\n",
       "    </tr>\n",
       "    <tr>\n",
       "      <th>4</th>\n",
       "      <td>0.0</td>\n",
       "      <td>0.0</td>\n",
       "      <td>0.0</td>\n",
       "      <td>1.0</td>\n",
       "      <td>0.0</td>\n",
       "      <td>0.0</td>\n",
       "      <td>0.0</td>\n",
       "      <td>0.0</td>\n",
       "      <td>0.0</td>\n",
       "      <td>0.0</td>\n",
       "      <td>...</td>\n",
       "      <td>0.0</td>\n",
       "      <td>0.0</td>\n",
       "      <td>0.0</td>\n",
       "      <td>0.0</td>\n",
       "      <td>0.0</td>\n",
       "      <td>0.0</td>\n",
       "      <td>0.0</td>\n",
       "      <td>0.0</td>\n",
       "      <td>0.0</td>\n",
       "      <td>0.0</td>\n",
       "    </tr>\n",
       "  </tbody>\n",
       "</table>\n",
       "<p>5 rows × 23 columns</p>\n",
       "</div>"
      ],
      "text/plain": [
       "   title_casualdining  title_bar  title_quickbites  title_dessertparlor  \\\n",
       "0                 1.0        0.0               0.0                  0.0   \n",
       "1                 1.0        1.0               0.0                  0.0   \n",
       "2                 1.0        0.0               0.0                  0.0   \n",
       "3                 0.0        0.0               1.0                  0.0   \n",
       "4                 0.0        0.0               0.0                  1.0   \n",
       "\n",
       "   title_café  title_microbrewery  title_beverageshop  title_iranicafe  \\\n",
       "0         0.0                 0.0                 0.0              0.0   \n",
       "1         0.0                 0.0                 0.0              0.0   \n",
       "2         0.0                 0.0                 0.0              0.0   \n",
       "3         0.0                 0.0                 0.0              0.0   \n",
       "4         0.0                 0.0                 0.0              0.0   \n",
       "\n",
       "   title_bakery  title_pub  ...  title_foodcourt  title_foodtruck  title_mess  \\\n",
       "0           0.0        0.0  ...              0.0              0.0         0.0   \n",
       "1           0.0        0.0  ...              0.0              0.0         0.0   \n",
       "2           0.0        0.0  ...              0.0              0.0         0.0   \n",
       "3           0.0        0.0  ...              0.0              0.0         0.0   \n",
       "4           0.0        0.0  ...              0.0              0.0         0.0   \n",
       "\n",
       "   title_kiosk  title_club  title_confectionery  title_dhaba  title_meatshop  \\\n",
       "0          0.0         0.0                  0.0          0.0             0.0   \n",
       "1          0.0         0.0                  0.0          0.0             0.0   \n",
       "2          0.0         0.0                  0.0          0.0             0.0   \n",
       "3          0.0         0.0                  0.0          0.0             0.0   \n",
       "4          0.0         0.0                  0.0          0.0             0.0   \n",
       "\n",
       "   title_cocktailbar  title_paanshop  \n",
       "0                0.0             0.0  \n",
       "1                0.0             0.0  \n",
       "2                0.0             0.0  \n",
       "3                0.0             0.0  \n",
       "4                0.0             0.0  \n",
       "\n",
       "[5 rows x 23 columns]"
      ]
     },
     "execution_count": 69,
     "metadata": {},
     "output_type": "execute_result"
    }
   ],
   "source": [
    "df_title = data.TITLE.agg(lambda x: pd.Series(1,(set(x.strip().lower().replace(' ','').split(','))))).fillna(0)\n",
    "df_title.columns = ['title_'+i for i in df_title.columns]\n",
    "df_title.drop(columns=['title_none'],inplace=True)\n",
    "df_title.reset_index(drop=True,inplace=True)\n",
    "df_title.head()"
   ]
  },
  {
   "cell_type": "code",
   "execution_count": 70,
   "metadata": {
    "colab": {
     "base_uri": "https://localhost:8080/",
     "height": 238
    },
    "id": "ayqxfxSHE418",
    "outputId": "ae112999-7cb1-41dc-9154-5c6ab43ba712"
   },
   "outputs": [
    {
     "data": {
      "text/html": [
       "<div>\n",
       "<style scoped>\n",
       "    .dataframe tbody tr th:only-of-type {\n",
       "        vertical-align: middle;\n",
       "    }\n",
       "\n",
       "    .dataframe tbody tr th {\n",
       "        vertical-align: top;\n",
       "    }\n",
       "\n",
       "    .dataframe thead th {\n",
       "        text-align: right;\n",
       "    }\n",
       "</style>\n",
       "<table border=\"1\" class=\"dataframe\">\n",
       "  <thead>\n",
       "    <tr style=\"text-align: right;\">\n",
       "      <th></th>\n",
       "      <th>cuisines_malwani</th>\n",
       "      <th>cuisines_goan</th>\n",
       "      <th>cuisines_northindian</th>\n",
       "      <th>cuisines_japanese</th>\n",
       "      <th>cuisines_asian</th>\n",
       "      <th>cuisines_modernindian</th>\n",
       "      <th>cuisines_chinese</th>\n",
       "      <th>cuisines_biryani</th>\n",
       "      <th>cuisines_hyderabadi</th>\n",
       "      <th>cuisines_tibetan</th>\n",
       "      <th>...</th>\n",
       "      <th>cuisines_pakistani</th>\n",
       "      <th>cuisines_peruvian</th>\n",
       "      <th>cuisines_cuisinevaries</th>\n",
       "      <th>cuisines_irish</th>\n",
       "      <th>cuisines_multicuisine</th>\n",
       "      <th>cuisines_jewish</th>\n",
       "      <th>cuisines_vegan</th>\n",
       "      <th>cuisines_oriental</th>\n",
       "      <th>cuisines_modernaustralian</th>\n",
       "      <th>cuisines_egyptian</th>\n",
       "    </tr>\n",
       "  </thead>\n",
       "  <tbody>\n",
       "    <tr>\n",
       "      <th>0</th>\n",
       "      <td>1.0</td>\n",
       "      <td>1.0</td>\n",
       "      <td>1.0</td>\n",
       "      <td>0.0</td>\n",
       "      <td>0.0</td>\n",
       "      <td>0.0</td>\n",
       "      <td>0.0</td>\n",
       "      <td>0.0</td>\n",
       "      <td>0.0</td>\n",
       "      <td>0.0</td>\n",
       "      <td>...</td>\n",
       "      <td>0.0</td>\n",
       "      <td>0.0</td>\n",
       "      <td>0.0</td>\n",
       "      <td>0.0</td>\n",
       "      <td>0.0</td>\n",
       "      <td>0.0</td>\n",
       "      <td>0.0</td>\n",
       "      <td>0.0</td>\n",
       "      <td>0.0</td>\n",
       "      <td>0.0</td>\n",
       "    </tr>\n",
       "    <tr>\n",
       "      <th>1</th>\n",
       "      <td>0.0</td>\n",
       "      <td>0.0</td>\n",
       "      <td>0.0</td>\n",
       "      <td>1.0</td>\n",
       "      <td>1.0</td>\n",
       "      <td>1.0</td>\n",
       "      <td>0.0</td>\n",
       "      <td>0.0</td>\n",
       "      <td>0.0</td>\n",
       "      <td>0.0</td>\n",
       "      <td>...</td>\n",
       "      <td>0.0</td>\n",
       "      <td>0.0</td>\n",
       "      <td>0.0</td>\n",
       "      <td>0.0</td>\n",
       "      <td>0.0</td>\n",
       "      <td>0.0</td>\n",
       "      <td>0.0</td>\n",
       "      <td>0.0</td>\n",
       "      <td>0.0</td>\n",
       "      <td>0.0</td>\n",
       "    </tr>\n",
       "    <tr>\n",
       "      <th>2</th>\n",
       "      <td>0.0</td>\n",
       "      <td>0.0</td>\n",
       "      <td>1.0</td>\n",
       "      <td>0.0</td>\n",
       "      <td>0.0</td>\n",
       "      <td>0.0</td>\n",
       "      <td>1.0</td>\n",
       "      <td>1.0</td>\n",
       "      <td>1.0</td>\n",
       "      <td>0.0</td>\n",
       "      <td>...</td>\n",
       "      <td>0.0</td>\n",
       "      <td>0.0</td>\n",
       "      <td>0.0</td>\n",
       "      <td>0.0</td>\n",
       "      <td>0.0</td>\n",
       "      <td>0.0</td>\n",
       "      <td>0.0</td>\n",
       "      <td>0.0</td>\n",
       "      <td>0.0</td>\n",
       "      <td>0.0</td>\n",
       "    </tr>\n",
       "    <tr>\n",
       "      <th>3</th>\n",
       "      <td>0.0</td>\n",
       "      <td>0.0</td>\n",
       "      <td>0.0</td>\n",
       "      <td>0.0</td>\n",
       "      <td>0.0</td>\n",
       "      <td>0.0</td>\n",
       "      <td>1.0</td>\n",
       "      <td>0.0</td>\n",
       "      <td>0.0</td>\n",
       "      <td>1.0</td>\n",
       "      <td>...</td>\n",
       "      <td>0.0</td>\n",
       "      <td>0.0</td>\n",
       "      <td>0.0</td>\n",
       "      <td>0.0</td>\n",
       "      <td>0.0</td>\n",
       "      <td>0.0</td>\n",
       "      <td>0.0</td>\n",
       "      <td>0.0</td>\n",
       "      <td>0.0</td>\n",
       "      <td>0.0</td>\n",
       "    </tr>\n",
       "    <tr>\n",
       "      <th>4</th>\n",
       "      <td>0.0</td>\n",
       "      <td>0.0</td>\n",
       "      <td>0.0</td>\n",
       "      <td>0.0</td>\n",
       "      <td>0.0</td>\n",
       "      <td>0.0</td>\n",
       "      <td>0.0</td>\n",
       "      <td>0.0</td>\n",
       "      <td>0.0</td>\n",
       "      <td>0.0</td>\n",
       "      <td>...</td>\n",
       "      <td>0.0</td>\n",
       "      <td>0.0</td>\n",
       "      <td>0.0</td>\n",
       "      <td>0.0</td>\n",
       "      <td>0.0</td>\n",
       "      <td>0.0</td>\n",
       "      <td>0.0</td>\n",
       "      <td>0.0</td>\n",
       "      <td>0.0</td>\n",
       "      <td>0.0</td>\n",
       "    </tr>\n",
       "  </tbody>\n",
       "</table>\n",
       "<p>5 rows × 124 columns</p>\n",
       "</div>"
      ],
      "text/plain": [
       "   cuisines_malwani  cuisines_goan  cuisines_northindian  cuisines_japanese  \\\n",
       "0               1.0            1.0                   1.0                0.0   \n",
       "1               0.0            0.0                   0.0                1.0   \n",
       "2               0.0            0.0                   1.0                0.0   \n",
       "3               0.0            0.0                   0.0                0.0   \n",
       "4               0.0            0.0                   0.0                0.0   \n",
       "\n",
       "   cuisines_asian  cuisines_modernindian  cuisines_chinese  cuisines_biryani  \\\n",
       "0             0.0                    0.0               0.0               0.0   \n",
       "1             1.0                    1.0               0.0               0.0   \n",
       "2             0.0                    0.0               1.0               1.0   \n",
       "3             0.0                    0.0               1.0               0.0   \n",
       "4             0.0                    0.0               0.0               0.0   \n",
       "\n",
       "   cuisines_hyderabadi  cuisines_tibetan  ...  cuisines_pakistani  \\\n",
       "0                  0.0               0.0  ...                 0.0   \n",
       "1                  0.0               0.0  ...                 0.0   \n",
       "2                  1.0               0.0  ...                 0.0   \n",
       "3                  0.0               1.0  ...                 0.0   \n",
       "4                  0.0               0.0  ...                 0.0   \n",
       "\n",
       "   cuisines_peruvian  cuisines_cuisinevaries  cuisines_irish  \\\n",
       "0                0.0                     0.0             0.0   \n",
       "1                0.0                     0.0             0.0   \n",
       "2                0.0                     0.0             0.0   \n",
       "3                0.0                     0.0             0.0   \n",
       "4                0.0                     0.0             0.0   \n",
       "\n",
       "   cuisines_multicuisine  cuisines_jewish  cuisines_vegan  cuisines_oriental  \\\n",
       "0                    0.0              0.0             0.0                0.0   \n",
       "1                    0.0              0.0             0.0                0.0   \n",
       "2                    0.0              0.0             0.0                0.0   \n",
       "3                    0.0              0.0             0.0                0.0   \n",
       "4                    0.0              0.0             0.0                0.0   \n",
       "\n",
       "   cuisines_modernaustralian  cuisines_egyptian  \n",
       "0                        0.0                0.0  \n",
       "1                        0.0                0.0  \n",
       "2                        0.0                0.0  \n",
       "3                        0.0                0.0  \n",
       "4                        0.0                0.0  \n",
       "\n",
       "[5 rows x 124 columns]"
      ]
     },
     "execution_count": 70,
     "metadata": {},
     "output_type": "execute_result"
    }
   ],
   "source": [
    "df_cuisines = data.CUISINES.agg(lambda x: pd.Series(1,(set(x.strip().lower().replace(' ','').split(','))))).fillna(0)\n",
    "df_cuisines.columns = ['cuisines_'+i for i in df_cuisines.columns]\n",
    "df_cuisines.drop(columns=['cuisines_'],inplace=True)\n",
    "df_cuisines.reset_index(drop=True,inplace=True)\n",
    "df_cuisines.head()"
   ]
  },
  {
   "cell_type": "code",
   "execution_count": 71,
   "metadata": {
    "colab": {
     "base_uri": "https://localhost:8080/",
     "height": 96
    },
    "id": "GYdDmmRZypiP",
    "outputId": "da24ff90-f940-4d93-aab4-fa25e858769c"
   },
   "outputs": [
    {
     "data": {
      "text/html": [
       "<div>\n",
       "<style scoped>\n",
       "    .dataframe tbody tr th:only-of-type {\n",
       "        vertical-align: middle;\n",
       "    }\n",
       "\n",
       "    .dataframe tbody tr th {\n",
       "        vertical-align: top;\n",
       "    }\n",
       "\n",
       "    .dataframe thead th {\n",
       "        text-align: right;\n",
       "    }\n",
       "</style>\n",
       "<table border=\"1\" class=\"dataframe\">\n",
       "  <thead>\n",
       "    <tr style=\"text-align: right;\">\n",
       "      <th></th>\n",
       "      <th>delhi</th>\n",
       "      <th>delhincr</th>\n",
       "      <th>dwarka</th>\n",
       "      <th>kerala</th>\n",
       "      <th>ernakulam</th>\n",
       "      <th>kakkanad</th>\n",
       "      <th>india</th>\n",
       "      <th>greaternoida</th>\n",
       "      <th>bengaluru</th>\n",
       "      <th>andheriwest</th>\n",
       "      <th>...</th>\n",
       "      <th>navimumbai</th>\n",
       "      <th>noida</th>\n",
       "      <th>secunderabad</th>\n",
       "      <th>gurgaon</th>\n",
       "      <th>kochi</th>\n",
       "      <th>newdelhi</th>\n",
       "      <th>mumbai</th>\n",
       "      <th>hyderabad</th>\n",
       "      <th>bangalore</th>\n",
       "      <th>chennai</th>\n",
       "    </tr>\n",
       "  </thead>\n",
       "  <tbody>\n",
       "    <tr>\n",
       "      <th>0</th>\n",
       "      <td>8.0</td>\n",
       "      <td>9.0</td>\n",
       "      <td>10.0</td>\n",
       "      <td>10.0</td>\n",
       "      <td>14.0</td>\n",
       "      <td>15.0</td>\n",
       "      <td>23.0</td>\n",
       "      <td>31.0</td>\n",
       "      <td>42.0</td>\n",
       "      <td>47.0</td>\n",
       "      <td>...</td>\n",
       "      <td>165.0</td>\n",
       "      <td>211.0</td>\n",
       "      <td>310.0</td>\n",
       "      <td>377.0</td>\n",
       "      <td>1279.0</td>\n",
       "      <td>1317.0</td>\n",
       "      <td>1713.0</td>\n",
       "      <td>1819.0</td>\n",
       "      <td>2145.0</td>\n",
       "      <td>2175.0</td>\n",
       "    </tr>\n",
       "  </tbody>\n",
       "</table>\n",
       "<p>1 rows × 25 columns</p>\n",
       "</div>"
      ],
      "text/plain": [
       "   delhi  delhincr  dwarka  kerala  ernakulam  kakkanad  india  greaternoida  \\\n",
       "0    8.0       9.0    10.0    10.0       14.0      15.0   23.0          31.0   \n",
       "\n",
       "   bengaluru  andheriwest  ...  navimumbai  noida  secunderabad  gurgaon  \\\n",
       "0       42.0         47.0  ...       165.0  211.0         310.0    377.0   \n",
       "\n",
       "    kochi  newdelhi  mumbai  hyderabad  bangalore  chennai  \n",
       "0  1279.0    1317.0  1713.0     1819.0     2145.0   2175.0  \n",
       "\n",
       "[1 rows x 25 columns]"
      ]
     },
     "execution_count": 71,
     "metadata": {},
     "output_type": "execute_result"
    }
   ],
   "source": [
    "data.CITY.agg(lambda x: pd.Series(1,(set(x.strip().lower().replace(' ','').split(','))))).fillna(0).sum().sort_values().tail(25).to_frame().T"
   ]
  },
  {
   "cell_type": "code",
   "execution_count": 72,
   "metadata": {
    "id": "Bv9NEhnlm-oI"
   },
   "outputs": [],
   "source": [
    "# !pip install fuzzywuzzy"
   ]
  },
  {
   "cell_type": "code",
   "execution_count": 73,
   "metadata": {
    "id": "Gew0usZnlP1n"
   },
   "outputs": [],
   "source": [
    "from fuzzywuzzy import process\n",
    " \n",
    "names_array=[]\n",
    "def match_names(wrong_names,correct_names):\n",
    "    for row in wrong_names:\n",
    "        x=process.extractOne(row, correct_names)\n",
    "        if x[1]<60:\n",
    "            names_array.append('Others')\n",
    "        else:\n",
    "            names_array.append(x[0])\n",
    "    return names_array"
   ]
  },
  {
   "cell_type": "code",
   "execution_count": 74,
   "metadata": {
    "id": "L9--fSSWm6ng"
   },
   "outputs": [],
   "source": [
    "cities = ['Bangalore','Thane','Bandra','Hyderabad','Andheri','Delhi','Chennai', 'Bandra','Mumbai',\n",
    "               'Kochi', 'Noida', 'Gurgaon','Faridabad', 'Ghaziabad','Secunderabad']\n",
    "data.loc[:,'CITY'] = match_names((data.CITY.astype(str) + ' ' + data.LOCALITY.astype(str)),cities)"
   ]
  },
  {
   "cell_type": "code",
   "execution_count": 75,
   "metadata": {
    "colab": {
     "base_uri": "https://localhost:8080/",
     "height": 191
    },
    "id": "_PhWvQOvHrRm",
    "outputId": "8603c673-10ef-402c-ce9a-3b21f02dc5fc"
   },
   "outputs": [
    {
     "data": {
      "text/html": [
       "<div>\n",
       "<style scoped>\n",
       "    .dataframe tbody tr th:only-of-type {\n",
       "        vertical-align: middle;\n",
       "    }\n",
       "\n",
       "    .dataframe tbody tr th {\n",
       "        vertical-align: top;\n",
       "    }\n",
       "\n",
       "    .dataframe thead th {\n",
       "        text-align: right;\n",
       "    }\n",
       "</style>\n",
       "<table border=\"1\" class=\"dataframe\">\n",
       "  <thead>\n",
       "    <tr style=\"text-align: right;\">\n",
       "      <th></th>\n",
       "      <th>thane</th>\n",
       "      <th>chennai</th>\n",
       "      <th>bandra</th>\n",
       "      <th>mumbai</th>\n",
       "      <th>bangalore</th>\n",
       "      <th>gurgaon</th>\n",
       "      <th>hyderabad</th>\n",
       "      <th>kochi</th>\n",
       "      <th>andheri</th>\n",
       "      <th>delhi</th>\n",
       "      <th>noida</th>\n",
       "      <th>secunderabad</th>\n",
       "      <th>faridabad</th>\n",
       "      <th>ghaziabad</th>\n",
       "    </tr>\n",
       "  </thead>\n",
       "  <tbody>\n",
       "    <tr>\n",
       "      <th>0</th>\n",
       "      <td>1.0</td>\n",
       "      <td>0.0</td>\n",
       "      <td>0.0</td>\n",
       "      <td>0.0</td>\n",
       "      <td>0.0</td>\n",
       "      <td>0.0</td>\n",
       "      <td>0.0</td>\n",
       "      <td>0.0</td>\n",
       "      <td>0.0</td>\n",
       "      <td>0.0</td>\n",
       "      <td>0.0</td>\n",
       "      <td>0.0</td>\n",
       "      <td>0.0</td>\n",
       "      <td>0.0</td>\n",
       "    </tr>\n",
       "    <tr>\n",
       "      <th>1</th>\n",
       "      <td>0.0</td>\n",
       "      <td>1.0</td>\n",
       "      <td>0.0</td>\n",
       "      <td>0.0</td>\n",
       "      <td>0.0</td>\n",
       "      <td>0.0</td>\n",
       "      <td>0.0</td>\n",
       "      <td>0.0</td>\n",
       "      <td>0.0</td>\n",
       "      <td>0.0</td>\n",
       "      <td>0.0</td>\n",
       "      <td>0.0</td>\n",
       "      <td>0.0</td>\n",
       "      <td>0.0</td>\n",
       "    </tr>\n",
       "    <tr>\n",
       "      <th>2</th>\n",
       "      <td>0.0</td>\n",
       "      <td>1.0</td>\n",
       "      <td>0.0</td>\n",
       "      <td>0.0</td>\n",
       "      <td>0.0</td>\n",
       "      <td>0.0</td>\n",
       "      <td>0.0</td>\n",
       "      <td>0.0</td>\n",
       "      <td>0.0</td>\n",
       "      <td>0.0</td>\n",
       "      <td>0.0</td>\n",
       "      <td>0.0</td>\n",
       "      <td>0.0</td>\n",
       "      <td>0.0</td>\n",
       "    </tr>\n",
       "    <tr>\n",
       "      <th>3</th>\n",
       "      <td>0.0</td>\n",
       "      <td>0.0</td>\n",
       "      <td>1.0</td>\n",
       "      <td>0.0</td>\n",
       "      <td>0.0</td>\n",
       "      <td>0.0</td>\n",
       "      <td>0.0</td>\n",
       "      <td>0.0</td>\n",
       "      <td>0.0</td>\n",
       "      <td>0.0</td>\n",
       "      <td>0.0</td>\n",
       "      <td>0.0</td>\n",
       "      <td>0.0</td>\n",
       "      <td>0.0</td>\n",
       "    </tr>\n",
       "    <tr>\n",
       "      <th>4</th>\n",
       "      <td>0.0</td>\n",
       "      <td>0.0</td>\n",
       "      <td>0.0</td>\n",
       "      <td>1.0</td>\n",
       "      <td>0.0</td>\n",
       "      <td>0.0</td>\n",
       "      <td>0.0</td>\n",
       "      <td>0.0</td>\n",
       "      <td>0.0</td>\n",
       "      <td>0.0</td>\n",
       "      <td>0.0</td>\n",
       "      <td>0.0</td>\n",
       "      <td>0.0</td>\n",
       "      <td>0.0</td>\n",
       "    </tr>\n",
       "  </tbody>\n",
       "</table>\n",
       "</div>"
      ],
      "text/plain": [
       "   thane  chennai  bandra  mumbai  bangalore  gurgaon  hyderabad  kochi  \\\n",
       "0    1.0      0.0     0.0     0.0        0.0      0.0        0.0    0.0   \n",
       "1    0.0      1.0     0.0     0.0        0.0      0.0        0.0    0.0   \n",
       "2    0.0      1.0     0.0     0.0        0.0      0.0        0.0    0.0   \n",
       "3    0.0      0.0     1.0     0.0        0.0      0.0        0.0    0.0   \n",
       "4    0.0      0.0     0.0     1.0        0.0      0.0        0.0    0.0   \n",
       "\n",
       "   andheri  delhi  noida  secunderabad  faridabad  ghaziabad  \n",
       "0      0.0    0.0    0.0           0.0        0.0        0.0  \n",
       "1      0.0    0.0    0.0           0.0        0.0        0.0  \n",
       "2      0.0    0.0    0.0           0.0        0.0        0.0  \n",
       "3      0.0    0.0    0.0           0.0        0.0        0.0  \n",
       "4      0.0    0.0    0.0           0.0        0.0        0.0  "
      ]
     },
     "execution_count": 75,
     "metadata": {},
     "output_type": "execute_result"
    }
   ],
   "source": [
    "df_city = data.CITY.agg(lambda x: pd.Series(1,(set(x.strip().lower().replace(' ','').split(','))))).fillna(0)\n",
    "df_city.drop(columns=['others'],inplace=True)\n",
    "df_city.reset_index(drop=True,inplace=True)\n",
    "df_city.head()"
   ]
  },
  {
   "cell_type": "code",
   "execution_count": 76,
   "metadata": {
    "id": "fOf-gQusa4lK"
   },
   "outputs": [],
   "source": [
    "data.drop(columns=['LOCALITY'],inplace=True)"
   ]
  },
  {
   "cell_type": "code",
   "execution_count": 77,
   "metadata": {
    "id": "cA5E-6pTIhz4"
   },
   "outputs": [],
   "source": [
    "data['RATING'].replace({'NEW':'1','-':'1'},inplace=True)\n",
    "data['RATING'] = list(data.groupby('CITY').RATING.transform(lambda x: x.fillna(x.mode())))\n",
    "data['RATING'] = data['RATING'].astype(float)"
   ]
  },
  {
   "cell_type": "code",
   "execution_count": 78,
   "metadata": {
    "id": "sGdi5j0qOmj0"
   },
   "outputs": [],
   "source": [
    "data['VOTES'].fillna(0,inplace=True)\n",
    "data['VOTES'] = list(data.VOTES.agg(lambda x: str(x).strip().split(' ')[0]))\n",
    "data['VOTES'] = data['VOTES'].astype(float)"
   ]
  },
  {
   "cell_type": "code",
   "execution_count": 79,
   "metadata": {
    "id": "t4Cl6vz-wX44"
   },
   "outputs": [],
   "source": [
    "import re"
   ]
  },
  {
   "cell_type": "code",
   "execution_count": 80,
   "metadata": {
    "colab": {
     "base_uri": "https://localhost:8080/",
     "height": 238
    },
    "id": "G6ftPsnUZHxZ",
    "outputId": "c30900ba-b766-4f55-f29e-aeb21809d20a"
   },
   "outputs": [
    {
     "data": {
      "text/html": [
       "<div>\n",
       "<style scoped>\n",
       "    .dataframe tbody tr th:only-of-type {\n",
       "        vertical-align: middle;\n",
       "    }\n",
       "\n",
       "    .dataframe tbody tr th {\n",
       "        vertical-align: top;\n",
       "    }\n",
       "\n",
       "    .dataframe thead th {\n",
       "        text-align: right;\n",
       "    }\n",
       "</style>\n",
       "<table border=\"1\" class=\"dataframe\">\n",
       "  <thead>\n",
       "    <tr style=\"text-align: right;\">\n",
       "      <th></th>\n",
       "      <th>(mon-sun)</th>\n",
       "      <th>sun</th>\n",
       "      <th>mon</th>\n",
       "      <th>tue</th>\n",
       "      <th>thu</th>\n",
       "      <th>fri</th>\n",
       "      <th>sat</th>\n",
       "      <th>wed</th>\n",
       "      <th>closed (mon)</th>\n",
       "      <th>(tue-sun)</th>\n",
       "      <th>...</th>\n",
       "      <th>NA</th>\n",
       "      <th>(mon-tue)</th>\n",
       "      <th>(thu-sun)</th>\n",
       "      <th>closed (tue)</th>\n",
       "      <th>closed (sat)</th>\n",
       "      <th>(fri-sat)</th>\n",
       "      <th>(tue-thu)</th>\n",
       "      <th>(thu-sat)</th>\n",
       "      <th>(wed-sat)</th>\n",
       "      <th>closed (wed)</th>\n",
       "    </tr>\n",
       "  </thead>\n",
       "  <tbody>\n",
       "    <tr>\n",
       "      <th>0</th>\n",
       "      <td>1.0</td>\n",
       "      <td>0.0</td>\n",
       "      <td>0.0</td>\n",
       "      <td>0.0</td>\n",
       "      <td>0.0</td>\n",
       "      <td>0.0</td>\n",
       "      <td>0.0</td>\n",
       "      <td>0.0</td>\n",
       "      <td>0.0</td>\n",
       "      <td>0.0</td>\n",
       "      <td>...</td>\n",
       "      <td>0.0</td>\n",
       "      <td>0.0</td>\n",
       "      <td>0.0</td>\n",
       "      <td>0.0</td>\n",
       "      <td>0.0</td>\n",
       "      <td>0.0</td>\n",
       "      <td>0.0</td>\n",
       "      <td>0.0</td>\n",
       "      <td>0.0</td>\n",
       "      <td>0.0</td>\n",
       "    </tr>\n",
       "    <tr>\n",
       "      <th>1</th>\n",
       "      <td>1.0</td>\n",
       "      <td>0.0</td>\n",
       "      <td>0.0</td>\n",
       "      <td>0.0</td>\n",
       "      <td>0.0</td>\n",
       "      <td>0.0</td>\n",
       "      <td>0.0</td>\n",
       "      <td>0.0</td>\n",
       "      <td>0.0</td>\n",
       "      <td>0.0</td>\n",
       "      <td>...</td>\n",
       "      <td>0.0</td>\n",
       "      <td>0.0</td>\n",
       "      <td>0.0</td>\n",
       "      <td>0.0</td>\n",
       "      <td>0.0</td>\n",
       "      <td>0.0</td>\n",
       "      <td>0.0</td>\n",
       "      <td>0.0</td>\n",
       "      <td>0.0</td>\n",
       "      <td>0.0</td>\n",
       "    </tr>\n",
       "    <tr>\n",
       "      <th>2</th>\n",
       "      <td>1.0</td>\n",
       "      <td>0.0</td>\n",
       "      <td>0.0</td>\n",
       "      <td>0.0</td>\n",
       "      <td>0.0</td>\n",
       "      <td>0.0</td>\n",
       "      <td>0.0</td>\n",
       "      <td>0.0</td>\n",
       "      <td>0.0</td>\n",
       "      <td>0.0</td>\n",
       "      <td>...</td>\n",
       "      <td>0.0</td>\n",
       "      <td>0.0</td>\n",
       "      <td>0.0</td>\n",
       "      <td>0.0</td>\n",
       "      <td>0.0</td>\n",
       "      <td>0.0</td>\n",
       "      <td>0.0</td>\n",
       "      <td>0.0</td>\n",
       "      <td>0.0</td>\n",
       "      <td>0.0</td>\n",
       "    </tr>\n",
       "    <tr>\n",
       "      <th>3</th>\n",
       "      <td>1.0</td>\n",
       "      <td>0.0</td>\n",
       "      <td>0.0</td>\n",
       "      <td>0.0</td>\n",
       "      <td>0.0</td>\n",
       "      <td>0.0</td>\n",
       "      <td>0.0</td>\n",
       "      <td>0.0</td>\n",
       "      <td>0.0</td>\n",
       "      <td>0.0</td>\n",
       "      <td>...</td>\n",
       "      <td>0.0</td>\n",
       "      <td>0.0</td>\n",
       "      <td>0.0</td>\n",
       "      <td>0.0</td>\n",
       "      <td>0.0</td>\n",
       "      <td>0.0</td>\n",
       "      <td>0.0</td>\n",
       "      <td>0.0</td>\n",
       "      <td>0.0</td>\n",
       "      <td>0.0</td>\n",
       "    </tr>\n",
       "    <tr>\n",
       "      <th>4</th>\n",
       "      <td>1.0</td>\n",
       "      <td>0.0</td>\n",
       "      <td>0.0</td>\n",
       "      <td>0.0</td>\n",
       "      <td>0.0</td>\n",
       "      <td>0.0</td>\n",
       "      <td>0.0</td>\n",
       "      <td>0.0</td>\n",
       "      <td>0.0</td>\n",
       "      <td>0.0</td>\n",
       "      <td>...</td>\n",
       "      <td>0.0</td>\n",
       "      <td>0.0</td>\n",
       "      <td>0.0</td>\n",
       "      <td>0.0</td>\n",
       "      <td>0.0</td>\n",
       "      <td>0.0</td>\n",
       "      <td>0.0</td>\n",
       "      <td>0.0</td>\n",
       "      <td>0.0</td>\n",
       "      <td>0.0</td>\n",
       "    </tr>\n",
       "  </tbody>\n",
       "</table>\n",
       "<p>5 rows × 31 columns</p>\n",
       "</div>"
      ],
      "text/plain": [
       "   (mon-sun)  sun  mon  tue  thu  fri  sat  wed  closed (mon)  (tue-sun)  ...  \\\n",
       "0        1.0  0.0  0.0  0.0  0.0  0.0  0.0  0.0           0.0        0.0  ...   \n",
       "1        1.0  0.0  0.0  0.0  0.0  0.0  0.0  0.0           0.0        0.0  ...   \n",
       "2        1.0  0.0  0.0  0.0  0.0  0.0  0.0  0.0           0.0        0.0  ...   \n",
       "3        1.0  0.0  0.0  0.0  0.0  0.0  0.0  0.0           0.0        0.0  ...   \n",
       "4        1.0  0.0  0.0  0.0  0.0  0.0  0.0  0.0           0.0        0.0  ...   \n",
       "\n",
       "    NA  (mon-tue)  (thu-sun)  closed (tue)  closed (sat)  (fri-sat)  \\\n",
       "0  0.0        0.0        0.0           0.0           0.0        0.0   \n",
       "1  0.0        0.0        0.0           0.0           0.0        0.0   \n",
       "2  0.0        0.0        0.0           0.0           0.0        0.0   \n",
       "3  0.0        0.0        0.0           0.0           0.0        0.0   \n",
       "4  0.0        0.0        0.0           0.0           0.0        0.0   \n",
       "\n",
       "   (tue-thu)  (thu-sat)  (wed-sat)  closed (wed)  \n",
       "0        0.0        0.0        0.0           0.0  \n",
       "1        0.0        0.0        0.0           0.0  \n",
       "2        0.0        0.0        0.0           0.0  \n",
       "3        0.0        0.0        0.0           0.0  \n",
       "4        0.0        0.0        0.0           0.0  \n",
       "\n",
       "[5 rows x 31 columns]"
      ]
     },
     "execution_count": 80,
     "metadata": {},
     "output_type": "execute_result"
    }
   ],
   "source": [
    "df_time = data.TIME.agg(lambda x: pd.Series(1,(set(re.findall('([NA]{2}|[c][l][o][s][e][d]\\s\\(\\w+\\)|[c][l][o][s][e][d]|\\(\\w+?\\W\\w*\\)|[a-z]{3})',str(x).lower().replace('noon','pm').replace('midnight','am').replace('24 hours','24').replace('not available','NA')))))).fillna(0)\n",
    "df_time.reset_index(drop=True,inplace=True)\n",
    "df_time.head()"
   ]
  },
  {
   "cell_type": "code",
   "execution_count": 81,
   "metadata": {},
   "outputs": [],
   "source": [
    "df_days_open = pd.DataFrame(np.zeros((len(df_time),8)),columns=['mon','tue','wed','thu','fri','sat','sun','NA'])\n",
    "for i in list(df_time.columns):\n",
    "    l = re.findall('[NA]{2}|[closed]{5}|[a-z]{3}',i)\n",
    "    if len(l) > 1 and l[0] != 'close':\n",
    "        df_days_open.loc[df_time[i]==1,l[0]:l[1]] = 1\n",
    "    if len(l) > 1 and l[0] == 'close':\n",
    "        df_days_open.loc[df_time[i]==1,l[1]] = 0\n",
    "    if len(l) == 1 and l[0] not in ['close','NA']:\n",
    "        df_days_open.loc[df_time[i]==1,l[0]] = 1\n",
    "    if len(l) == 1 and l[0] == 'NA':\n",
    "        df_days_open.loc[df_time[i]==1,'NA'] = 1"
   ]
  },
  {
   "cell_type": "code",
   "execution_count": 82,
   "metadata": {},
   "outputs": [
    {
     "data": {
      "text/html": [
       "<div>\n",
       "<style scoped>\n",
       "    .dataframe tbody tr th:only-of-type {\n",
       "        vertical-align: middle;\n",
       "    }\n",
       "\n",
       "    .dataframe tbody tr th {\n",
       "        vertical-align: top;\n",
       "    }\n",
       "\n",
       "    .dataframe thead th {\n",
       "        text-align: right;\n",
       "    }\n",
       "</style>\n",
       "<table border=\"1\" class=\"dataframe\">\n",
       "  <thead>\n",
       "    <tr style=\"text-align: right;\">\n",
       "      <th></th>\n",
       "      <th>mon</th>\n",
       "      <th>tue</th>\n",
       "      <th>wed</th>\n",
       "      <th>thu</th>\n",
       "      <th>fri</th>\n",
       "      <th>sat</th>\n",
       "      <th>sun</th>\n",
       "      <th>NA</th>\n",
       "    </tr>\n",
       "  </thead>\n",
       "  <tbody>\n",
       "    <tr>\n",
       "      <th>0</th>\n",
       "      <td>1.0</td>\n",
       "      <td>1.0</td>\n",
       "      <td>1.0</td>\n",
       "      <td>1.0</td>\n",
       "      <td>1.0</td>\n",
       "      <td>1.0</td>\n",
       "      <td>1.0</td>\n",
       "      <td>0.0</td>\n",
       "    </tr>\n",
       "    <tr>\n",
       "      <th>1</th>\n",
       "      <td>1.0</td>\n",
       "      <td>1.0</td>\n",
       "      <td>1.0</td>\n",
       "      <td>1.0</td>\n",
       "      <td>1.0</td>\n",
       "      <td>1.0</td>\n",
       "      <td>1.0</td>\n",
       "      <td>0.0</td>\n",
       "    </tr>\n",
       "    <tr>\n",
       "      <th>2</th>\n",
       "      <td>1.0</td>\n",
       "      <td>1.0</td>\n",
       "      <td>1.0</td>\n",
       "      <td>1.0</td>\n",
       "      <td>1.0</td>\n",
       "      <td>1.0</td>\n",
       "      <td>1.0</td>\n",
       "      <td>0.0</td>\n",
       "    </tr>\n",
       "    <tr>\n",
       "      <th>3</th>\n",
       "      <td>1.0</td>\n",
       "      <td>1.0</td>\n",
       "      <td>1.0</td>\n",
       "      <td>1.0</td>\n",
       "      <td>1.0</td>\n",
       "      <td>1.0</td>\n",
       "      <td>1.0</td>\n",
       "      <td>0.0</td>\n",
       "    </tr>\n",
       "    <tr>\n",
       "      <th>4</th>\n",
       "      <td>1.0</td>\n",
       "      <td>1.0</td>\n",
       "      <td>1.0</td>\n",
       "      <td>1.0</td>\n",
       "      <td>1.0</td>\n",
       "      <td>1.0</td>\n",
       "      <td>1.0</td>\n",
       "      <td>0.0</td>\n",
       "    </tr>\n",
       "  </tbody>\n",
       "</table>\n",
       "</div>"
      ],
      "text/plain": [
       "   mon  tue  wed  thu  fri  sat  sun   NA\n",
       "0  1.0  1.0  1.0  1.0  1.0  1.0  1.0  0.0\n",
       "1  1.0  1.0  1.0  1.0  1.0  1.0  1.0  0.0\n",
       "2  1.0  1.0  1.0  1.0  1.0  1.0  1.0  0.0\n",
       "3  1.0  1.0  1.0  1.0  1.0  1.0  1.0  0.0\n",
       "4  1.0  1.0  1.0  1.0  1.0  1.0  1.0  0.0"
      ]
     },
     "execution_count": 82,
     "metadata": {},
     "output_type": "execute_result"
    }
   ],
   "source": [
    "df_days_open.head()"
   ]
  },
  {
   "cell_type": "code",
   "execution_count": 83,
   "metadata": {
    "id": "iTBQcb_33huR"
   },
   "outputs": [],
   "source": [
    "data.drop(columns=['TIME'],inplace=True)"
   ]
  },
  {
   "cell_type": "code",
   "execution_count": 84,
   "metadata": {
    "colab": {
     "base_uri": "https://localhost:8080/"
    },
    "id": "kHaHkHTAnuAa",
    "outputId": "3a82d572-d52a-4872-d0a1-dd3510843551"
   },
   "outputs": [
    {
     "data": {
      "text/plain": [
       "TITLE       0\n",
       "CUISINES    0\n",
       "CITY        0\n",
       "RATING      0\n",
       "VOTES       0\n",
       "COST        0\n",
       "dtype: int64"
      ]
     },
     "execution_count": 84,
     "metadata": {},
     "output_type": "execute_result"
    }
   ],
   "source": [
    "data.isnull().sum()"
   ]
  },
  {
   "cell_type": "code",
   "execution_count": 85,
   "metadata": {},
   "outputs": [],
   "source": [
    "data.reset_index(drop=True,inplace=True)"
   ]
  },
  {
   "cell_type": "code",
   "execution_count": 86,
   "metadata": {
    "colab": {
     "base_uri": "https://localhost:8080/",
     "height": 191
    },
    "id": "e7vTiRZDrDDU",
    "outputId": "d94a7112-5ddc-428a-c9e2-6ce2377605e1",
    "scrolled": true
   },
   "outputs": [
    {
     "data": {
      "text/html": [
       "<div>\n",
       "<style scoped>\n",
       "    .dataframe tbody tr th:only-of-type {\n",
       "        vertical-align: middle;\n",
       "    }\n",
       "\n",
       "    .dataframe tbody tr th {\n",
       "        vertical-align: top;\n",
       "    }\n",
       "\n",
       "    .dataframe thead th {\n",
       "        text-align: right;\n",
       "    }\n",
       "</style>\n",
       "<table border=\"1\" class=\"dataframe\">\n",
       "  <thead>\n",
       "    <tr style=\"text-align: right;\">\n",
       "      <th></th>\n",
       "      <th>TITLE</th>\n",
       "      <th>CUISINES</th>\n",
       "      <th>CITY</th>\n",
       "      <th>RATING</th>\n",
       "      <th>VOTES</th>\n",
       "      <th>COST</th>\n",
       "    </tr>\n",
       "  </thead>\n",
       "  <tbody>\n",
       "    <tr>\n",
       "      <th>0</th>\n",
       "      <td>CASUAL DINING</td>\n",
       "      <td>Malwani, Goan, North Indian</td>\n",
       "      <td>Thane</td>\n",
       "      <td>3.6</td>\n",
       "      <td>49.0</td>\n",
       "      <td>1200</td>\n",
       "    </tr>\n",
       "    <tr>\n",
       "      <th>1</th>\n",
       "      <td>CASUAL DINING,BAR</td>\n",
       "      <td>Asian, Modern Indian, Japanese</td>\n",
       "      <td>Chennai</td>\n",
       "      <td>4.2</td>\n",
       "      <td>30.0</td>\n",
       "      <td>1500</td>\n",
       "    </tr>\n",
       "    <tr>\n",
       "      <th>2</th>\n",
       "      <td>CASUAL DINING</td>\n",
       "      <td>North Indian, Chinese, Biryani, Hyderabadi</td>\n",
       "      <td>Chennai</td>\n",
       "      <td>3.8</td>\n",
       "      <td>221.0</td>\n",
       "      <td>800</td>\n",
       "    </tr>\n",
       "    <tr>\n",
       "      <th>3</th>\n",
       "      <td>QUICK BITES</td>\n",
       "      <td>Tibetan, Chinese</td>\n",
       "      <td>Bandra</td>\n",
       "      <td>4.1</td>\n",
       "      <td>24.0</td>\n",
       "      <td>800</td>\n",
       "    </tr>\n",
       "    <tr>\n",
       "      <th>4</th>\n",
       "      <td>DESSERT PARLOR</td>\n",
       "      <td>Desserts</td>\n",
       "      <td>Mumbai</td>\n",
       "      <td>3.8</td>\n",
       "      <td>165.0</td>\n",
       "      <td>300</td>\n",
       "    </tr>\n",
       "  </tbody>\n",
       "</table>\n",
       "</div>"
      ],
      "text/plain": [
       "               TITLE                                    CUISINES     CITY  \\\n",
       "0      CASUAL DINING                 Malwani, Goan, North Indian    Thane   \n",
       "1  CASUAL DINING,BAR              Asian, Modern Indian, Japanese  Chennai   \n",
       "2      CASUAL DINING  North Indian, Chinese, Biryani, Hyderabadi  Chennai   \n",
       "3        QUICK BITES                            Tibetan, Chinese   Bandra   \n",
       "4     DESSERT PARLOR                                    Desserts   Mumbai   \n",
       "\n",
       "   RATING  VOTES  COST  \n",
       "0     3.6   49.0  1200  \n",
       "1     4.2   30.0  1500  \n",
       "2     3.8  221.0   800  \n",
       "3     4.1   24.0   800  \n",
       "4     3.8  165.0   300  "
      ]
     },
     "execution_count": 86,
     "metadata": {},
     "output_type": "execute_result"
    }
   ],
   "source": [
    "data.head()"
   ]
  },
  {
   "cell_type": "code",
   "execution_count": 87,
   "metadata": {
    "colab": {
     "base_uri": "https://localhost:8080/"
    },
    "id": "OTwTSQQ4Cdri",
    "outputId": "252110aa-5894-4117-9976-21d0c95603f1"
   },
   "outputs": [
    {
     "data": {
      "text/plain": [
       "(12550, 6)"
      ]
     },
     "execution_count": 87,
     "metadata": {},
     "output_type": "execute_result"
    }
   ],
   "source": [
    "data.shape"
   ]
  },
  {
   "cell_type": "code",
   "execution_count": 88,
   "metadata": {
    "id": "uJGZp8-6wcVP"
   },
   "outputs": [],
   "source": [
    "import seaborn as sns\n",
    "import matplotlib.pyplot as plt\n",
    "sns.set_style(\"darkgrid\")\n",
    "sns.set_context('notebook')"
   ]
  },
  {
   "cell_type": "code",
   "execution_count": 89,
   "metadata": {
    "colab": {
     "base_uri": "https://localhost:8080/",
     "height": 355
    },
    "id": "Si2fRCA9xGtM",
    "outputId": "639c350e-fad7-4967-ff6d-1f409b4cc424"
   },
   "outputs": [
    {
     "data": {
      "image/png": "[encoded data removed]",
      "text/plain": [
       "<Figure size 1080x360 with 1 Axes>"
      ]
     },
     "metadata": {},
     "output_type": "display_data"
    }
   ],
   "source": [
    "plt.figure(figsize=(15,5))\n",
    "sns.barplot(data=data.groupby('CITY',as_index=False).count().sort_values('TITLE'),y='CITY',x='TITLE',color='orange')\n",
    "plt.xlabel('Count')\n",
    "plt.title('Number of Restaurants in each city')\n",
    "plt.show()"
   ]
  },
  {
   "cell_type": "code",
   "execution_count": 90,
   "metadata": {
    "colab": {
     "base_uri": "https://localhost:8080/",
     "height": 355
    },
    "id": "Rr1LZtkKxYyN",
    "outputId": "cab887ae-5ce6-4a89-f603-f425817da0fe"
   },
   "outputs": [
    {
     "data": {
      "image/png": "[encoded data removed]",
      "text/plain": [
       "<Figure size 1080x360 with 2 Axes>"
      ]
     },
     "metadata": {},
     "output_type": "display_data"
    }
   ],
   "source": [
    "plt.figure(figsize=(15,5))\n",
    "plt.subplot(2,1,1)\n",
    "sns.histplot(data=data,x='RATING',color='orange')\n",
    "plt.title('Distribution of ratings')\n",
    "plt.subplot(2,1,2)\n",
    "sns.boxplot(data=data,x='RATING',color='orange')\n",
    "plt.show()"
   ]
  },
  {
   "cell_type": "code",
   "execution_count": 91,
   "metadata": {
    "colab": {
     "base_uri": "https://localhost:8080/",
     "height": 967
    },
    "id": "4JFdVLqa15GG",
    "outputId": "37bc2ab0-fe14-4d5a-f971-89580400f6ab"
   },
   "outputs": [
    {
     "data": {
      "text/html": [
       "<div>\n",
       "<style scoped>\n",
       "    .dataframe tbody tr th:only-of-type {\n",
       "        vertical-align: middle;\n",
       "    }\n",
       "\n",
       "    .dataframe tbody tr th {\n",
       "        vertical-align: top;\n",
       "    }\n",
       "\n",
       "    .dataframe thead th {\n",
       "        text-align: right;\n",
       "    }\n",
       "</style>\n",
       "<table border=\"1\" class=\"dataframe\">\n",
       "  <thead>\n",
       "    <tr style=\"text-align: right;\">\n",
       "      <th></th>\n",
       "      <th>TITLE</th>\n",
       "      <th>CUISINES</th>\n",
       "      <th>CITY</th>\n",
       "      <th>RATING</th>\n",
       "      <th>VOTES</th>\n",
       "      <th>COST</th>\n",
       "    </tr>\n",
       "  </thead>\n",
       "  <tbody>\n",
       "    <tr>\n",
       "      <th>994</th>\n",
       "      <td>CASUAL DINING</td>\n",
       "      <td>Chinese, North Indian</td>\n",
       "      <td>Chennai</td>\n",
       "      <td>2.4</td>\n",
       "      <td>215.0</td>\n",
       "      <td>700</td>\n",
       "    </tr>\n",
       "    <tr>\n",
       "      <th>1005</th>\n",
       "      <td>QUICK BITES</td>\n",
       "      <td>Arabian</td>\n",
       "      <td>Hyderabad</td>\n",
       "      <td>2.3</td>\n",
       "      <td>278.0</td>\n",
       "      <td>500</td>\n",
       "    </tr>\n",
       "    <tr>\n",
       "      <th>1791</th>\n",
       "      <td>CASUAL DINING</td>\n",
       "      <td>Thai, Chinese, North Indian, South Indian</td>\n",
       "      <td>Chennai</td>\n",
       "      <td>2.4</td>\n",
       "      <td>422.0</td>\n",
       "      <td>800</td>\n",
       "    </tr>\n",
       "    <tr>\n",
       "      <th>2160</th>\n",
       "      <td>CASUAL DINING</td>\n",
       "      <td>Chettinad, Chinese, North Indian, South Indian</td>\n",
       "      <td>Chennai</td>\n",
       "      <td>2.4</td>\n",
       "      <td>60.0</td>\n",
       "      <td>700</td>\n",
       "    </tr>\n",
       "    <tr>\n",
       "      <th>3133</th>\n",
       "      <td>None</td>\n",
       "      <td>North Indian, South Indian, Biryani</td>\n",
       "      <td>Hyderabad</td>\n",
       "      <td>2.3</td>\n",
       "      <td>221.0</td>\n",
       "      <td>500</td>\n",
       "    </tr>\n",
       "    <tr>\n",
       "      <th>3360</th>\n",
       "      <td>CASUAL DINING</td>\n",
       "      <td>North Indian, Chinese</td>\n",
       "      <td>Hyderabad</td>\n",
       "      <td>2.3</td>\n",
       "      <td>63.0</td>\n",
       "      <td>600</td>\n",
       "    </tr>\n",
       "    <tr>\n",
       "      <th>3453</th>\n",
       "      <td>QUICK BITES</td>\n",
       "      <td>Chinese</td>\n",
       "      <td>Hyderabad</td>\n",
       "      <td>2.4</td>\n",
       "      <td>127.0</td>\n",
       "      <td>300</td>\n",
       "    </tr>\n",
       "    <tr>\n",
       "      <th>3489</th>\n",
       "      <td>CASUAL DINING,BAR</td>\n",
       "      <td>North Indian, Chinese, Italian, Thai, Biryani</td>\n",
       "      <td>Andheri</td>\n",
       "      <td>2.4</td>\n",
       "      <td>59.0</td>\n",
       "      <td>1800</td>\n",
       "    </tr>\n",
       "    <tr>\n",
       "      <th>4357</th>\n",
       "      <td>QUICK BITES</td>\n",
       "      <td>Italian, Chinese, Beverages</td>\n",
       "      <td>Hyderabad</td>\n",
       "      <td>2.4</td>\n",
       "      <td>63.0</td>\n",
       "      <td>300</td>\n",
       "    </tr>\n",
       "    <tr>\n",
       "      <th>4365</th>\n",
       "      <td>QUICK BITES</td>\n",
       "      <td>Street Food</td>\n",
       "      <td>Hyderabad</td>\n",
       "      <td>2.3</td>\n",
       "      <td>105.0</td>\n",
       "      <td>150</td>\n",
       "    </tr>\n",
       "    <tr>\n",
       "      <th>4962</th>\n",
       "      <td>QUICK BITES</td>\n",
       "      <td>North Indian, Mughlai, Biryani</td>\n",
       "      <td>Bangalore</td>\n",
       "      <td>2.4</td>\n",
       "      <td>321.0</td>\n",
       "      <td>600</td>\n",
       "    </tr>\n",
       "    <tr>\n",
       "      <th>5346</th>\n",
       "      <td>QUICK BITES</td>\n",
       "      <td>North Indian, South Indian, Biryani</td>\n",
       "      <td>Hyderabad</td>\n",
       "      <td>2.4</td>\n",
       "      <td>85.0</td>\n",
       "      <td>500</td>\n",
       "    </tr>\n",
       "    <tr>\n",
       "      <th>5534</th>\n",
       "      <td>CASUAL DINING</td>\n",
       "      <td>South Indian, North Indian, Chinese</td>\n",
       "      <td>Chennai</td>\n",
       "      <td>2.0</td>\n",
       "      <td>226.0</td>\n",
       "      <td>600</td>\n",
       "    </tr>\n",
       "    <tr>\n",
       "      <th>5625</th>\n",
       "      <td>CASUAL DINING</td>\n",
       "      <td>North Indian, South Indian</td>\n",
       "      <td>Secunderabad</td>\n",
       "      <td>2.3</td>\n",
       "      <td>338.0</td>\n",
       "      <td>550</td>\n",
       "    </tr>\n",
       "    <tr>\n",
       "      <th>6241</th>\n",
       "      <td>CASUAL DINING</td>\n",
       "      <td>North Indian, South Indian, Chinese, Continental</td>\n",
       "      <td>Hyderabad</td>\n",
       "      <td>2.1</td>\n",
       "      <td>112.0</td>\n",
       "      <td>1100</td>\n",
       "    </tr>\n",
       "    <tr>\n",
       "      <th>6561</th>\n",
       "      <td>CASUAL DINING</td>\n",
       "      <td>Pizza, Fast Food</td>\n",
       "      <td>Hyderabad</td>\n",
       "      <td>2.0</td>\n",
       "      <td>410.0</td>\n",
       "      <td>800</td>\n",
       "    </tr>\n",
       "    <tr>\n",
       "      <th>6654</th>\n",
       "      <td>CASUAL DINING</td>\n",
       "      <td>North Indian, Chettinad, Biryani, South Indian...</td>\n",
       "      <td>Chennai</td>\n",
       "      <td>2.1</td>\n",
       "      <td>236.0</td>\n",
       "      <td>950</td>\n",
       "    </tr>\n",
       "    <tr>\n",
       "      <th>6798</th>\n",
       "      <td>CASUAL DINING</td>\n",
       "      <td>Seafood, Portuguese</td>\n",
       "      <td>Kochi</td>\n",
       "      <td>2.1</td>\n",
       "      <td>77.0</td>\n",
       "      <td>700</td>\n",
       "    </tr>\n",
       "    <tr>\n",
       "      <th>6975</th>\n",
       "      <td>CASUAL DINING</td>\n",
       "      <td>Chinese, South Indian, Mangalorean, North Indian</td>\n",
       "      <td>Kochi</td>\n",
       "      <td>2.4</td>\n",
       "      <td>43.0</td>\n",
       "      <td>400</td>\n",
       "    </tr>\n",
       "    <tr>\n",
       "      <th>8146</th>\n",
       "      <td>QUICK BITES</td>\n",
       "      <td>Fast Food, Beverages</td>\n",
       "      <td>Secunderabad</td>\n",
       "      <td>2.3</td>\n",
       "      <td>50.0</td>\n",
       "      <td>350</td>\n",
       "    </tr>\n",
       "    <tr>\n",
       "      <th>8724</th>\n",
       "      <td>QUICK BITES</td>\n",
       "      <td>Pizza, Burger, Fast Food</td>\n",
       "      <td>Hyderabad</td>\n",
       "      <td>2.3</td>\n",
       "      <td>231.0</td>\n",
       "      <td>600</td>\n",
       "    </tr>\n",
       "    <tr>\n",
       "      <th>8863</th>\n",
       "      <td>CASUAL DINING</td>\n",
       "      <td>Konkan, North Indian, Chinese, Malwani</td>\n",
       "      <td>Mumbai</td>\n",
       "      <td>2.4</td>\n",
       "      <td>413.0</td>\n",
       "      <td>700</td>\n",
       "    </tr>\n",
       "    <tr>\n",
       "      <th>9061</th>\n",
       "      <td>QUICK BITES</td>\n",
       "      <td>South Indian, North Indian, Chinese</td>\n",
       "      <td>Chennai</td>\n",
       "      <td>2.2</td>\n",
       "      <td>225.0</td>\n",
       "      <td>500</td>\n",
       "    </tr>\n",
       "    <tr>\n",
       "      <th>9189</th>\n",
       "      <td>CASUAL DINING</td>\n",
       "      <td>Chinese</td>\n",
       "      <td>Kochi</td>\n",
       "      <td>2.2</td>\n",
       "      <td>50.0</td>\n",
       "      <td>800</td>\n",
       "    </tr>\n",
       "    <tr>\n",
       "      <th>9246</th>\n",
       "      <td>QUICK BITES</td>\n",
       "      <td>South Indian, Kerala</td>\n",
       "      <td>Kochi</td>\n",
       "      <td>2.3</td>\n",
       "      <td>59.0</td>\n",
       "      <td>400</td>\n",
       "    </tr>\n",
       "    <tr>\n",
       "      <th>9484</th>\n",
       "      <td>QUICK BITES</td>\n",
       "      <td>Chinese</td>\n",
       "      <td>Hyderabad</td>\n",
       "      <td>2.3</td>\n",
       "      <td>35.0</td>\n",
       "      <td>500</td>\n",
       "    </tr>\n",
       "    <tr>\n",
       "      <th>9488</th>\n",
       "      <td>QUICK BITES</td>\n",
       "      <td>Chinese, Chettinad, North Indian</td>\n",
       "      <td>Chennai</td>\n",
       "      <td>2.4</td>\n",
       "      <td>538.0</td>\n",
       "      <td>500</td>\n",
       "    </tr>\n",
       "    <tr>\n",
       "      <th>9647</th>\n",
       "      <td>CASUAL DINING</td>\n",
       "      <td>North Indian, Chinese</td>\n",
       "      <td>Secunderabad</td>\n",
       "      <td>2.4</td>\n",
       "      <td>89.0</td>\n",
       "      <td>900</td>\n",
       "    </tr>\n",
       "    <tr>\n",
       "      <th>10533</th>\n",
       "      <td>CASUAL DINING</td>\n",
       "      <td>Arabian</td>\n",
       "      <td>Hyderabad</td>\n",
       "      <td>2.3</td>\n",
       "      <td>240.0</td>\n",
       "      <td>700</td>\n",
       "    </tr>\n",
       "    <tr>\n",
       "      <th>11155</th>\n",
       "      <td>None</td>\n",
       "      <td>Lebanese, Arabian</td>\n",
       "      <td>Chennai</td>\n",
       "      <td>2.4</td>\n",
       "      <td>185.0</td>\n",
       "      <td>200</td>\n",
       "    </tr>\n",
       "    <tr>\n",
       "      <th>11478</th>\n",
       "      <td>CASUAL DINING</td>\n",
       "      <td>South Indian, North Indian</td>\n",
       "      <td>Chennai</td>\n",
       "      <td>2.4</td>\n",
       "      <td>71.0</td>\n",
       "      <td>400</td>\n",
       "    </tr>\n",
       "    <tr>\n",
       "      <th>11774</th>\n",
       "      <td>CASUAL DINING</td>\n",
       "      <td>North Indian, Chinese, Continental</td>\n",
       "      <td>Hyderabad</td>\n",
       "      <td>2.4</td>\n",
       "      <td>91.0</td>\n",
       "      <td>1000</td>\n",
       "    </tr>\n",
       "  </tbody>\n",
       "</table>\n",
       "</div>"
      ],
      "text/plain": [
       "                   TITLE                                           CUISINES  \\\n",
       "994        CASUAL DINING                              Chinese, North Indian   \n",
       "1005         QUICK BITES                                            Arabian   \n",
       "1791       CASUAL DINING          Thai, Chinese, North Indian, South Indian   \n",
       "2160       CASUAL DINING     Chettinad, Chinese, North Indian, South Indian   \n",
       "3133                None                North Indian, South Indian, Biryani   \n",
       "3360       CASUAL DINING                              North Indian, Chinese   \n",
       "3453         QUICK BITES                                            Chinese   \n",
       "3489   CASUAL DINING,BAR      North Indian, Chinese, Italian, Thai, Biryani   \n",
       "4357         QUICK BITES                        Italian, Chinese, Beverages   \n",
       "4365         QUICK BITES                                        Street Food   \n",
       "4962         QUICK BITES                     North Indian, Mughlai, Biryani   \n",
       "5346         QUICK BITES                North Indian, South Indian, Biryani   \n",
       "5534       CASUAL DINING                South Indian, North Indian, Chinese   \n",
       "5625       CASUAL DINING                         North Indian, South Indian   \n",
       "6241       CASUAL DINING   North Indian, South Indian, Chinese, Continental   \n",
       "6561       CASUAL DINING                                   Pizza, Fast Food   \n",
       "6654       CASUAL DINING  North Indian, Chettinad, Biryani, South Indian...   \n",
       "6798       CASUAL DINING                                Seafood, Portuguese   \n",
       "6975       CASUAL DINING   Chinese, South Indian, Mangalorean, North Indian   \n",
       "8146         QUICK BITES                               Fast Food, Beverages   \n",
       "8724         QUICK BITES                           Pizza, Burger, Fast Food   \n",
       "8863       CASUAL DINING             Konkan, North Indian, Chinese, Malwani   \n",
       "9061         QUICK BITES                South Indian, North Indian, Chinese   \n",
       "9189       CASUAL DINING                                            Chinese   \n",
       "9246         QUICK BITES                               South Indian, Kerala   \n",
       "9484         QUICK BITES                                            Chinese   \n",
       "9488         QUICK BITES                   Chinese, Chettinad, North Indian   \n",
       "9647       CASUAL DINING                              North Indian, Chinese   \n",
       "10533      CASUAL DINING                                            Arabian   \n",
       "11155               None                                  Lebanese, Arabian   \n",
       "11478      CASUAL DINING                         South Indian, North Indian   \n",
       "11774      CASUAL DINING                 North Indian, Chinese, Continental   \n",
       "\n",
       "               CITY  RATING  VOTES  COST  \n",
       "994         Chennai     2.4  215.0   700  \n",
       "1005      Hyderabad     2.3  278.0   500  \n",
       "1791        Chennai     2.4  422.0   800  \n",
       "2160        Chennai     2.4   60.0   700  \n",
       "3133      Hyderabad     2.3  221.0   500  \n",
       "3360      Hyderabad     2.3   63.0   600  \n",
       "3453      Hyderabad     2.4  127.0   300  \n",
       "3489        Andheri     2.4   59.0  1800  \n",
       "4357      Hyderabad     2.4   63.0   300  \n",
       "4365      Hyderabad     2.3  105.0   150  \n",
       "4962      Bangalore     2.4  321.0   600  \n",
       "5346      Hyderabad     2.4   85.0   500  \n",
       "5534        Chennai     2.0  226.0   600  \n",
       "5625   Secunderabad     2.3  338.0   550  \n",
       "6241      Hyderabad     2.1  112.0  1100  \n",
       "6561      Hyderabad     2.0  410.0   800  \n",
       "6654        Chennai     2.1  236.0   950  \n",
       "6798          Kochi     2.1   77.0   700  \n",
       "6975          Kochi     2.4   43.0   400  \n",
       "8146   Secunderabad     2.3   50.0   350  \n",
       "8724      Hyderabad     2.3  231.0   600  \n",
       "8863         Mumbai     2.4  413.0   700  \n",
       "9061        Chennai     2.2  225.0   500  \n",
       "9189          Kochi     2.2   50.0   800  \n",
       "9246          Kochi     2.3   59.0   400  \n",
       "9484      Hyderabad     2.3   35.0   500  \n",
       "9488        Chennai     2.4  538.0   500  \n",
       "9647   Secunderabad     2.4   89.0   900  \n",
       "10533     Hyderabad     2.3  240.0   700  \n",
       "11155       Chennai     2.4  185.0   200  \n",
       "11478       Chennai     2.4   71.0   400  \n",
       "11774     Hyderabad     2.4   91.0  1000  "
      ]
     },
     "execution_count": 91,
     "metadata": {},
     "output_type": "execute_result"
    }
   ],
   "source": [
    "data[(data.RATING < 2.5) & (data.RATING > 1)]"
   ]
  },
  {
   "cell_type": "code",
   "execution_count": 92,
   "metadata": {
    "colab": {
     "base_uri": "https://localhost:8080/",
     "height": 355
    },
    "id": "NmYOw6DgzHKn",
    "outputId": "1b93c06a-698e-4407-f209-9128b149a865"
   },
   "outputs": [
    {
     "data": {
      "image/png": "[encoded data removed]",
      "text/plain": [
       "<Figure size 1080x360 with 2 Axes>"
      ]
     },
     "metadata": {},
     "output_type": "display_data"
    }
   ],
   "source": [
    "plt.figure(figsize=(15,5))\n",
    "plt.subplot(2,1,1)\n",
    "sns.histplot(data=data,x='VOTES',color='orange')\n",
    "plt.title('Distribution of votes')\n",
    "plt.subplot(2,1,2)\n",
    "sns.boxplot(data=data,x='VOTES',color='orange')\n",
    "plt.show()"
   ]
  },
  {
   "cell_type": "code",
   "execution_count": 93,
   "metadata": {
    "colab": {
     "base_uri": "https://localhost:8080/",
     "height": 355
    },
    "id": "11OhjYl700Vd",
    "outputId": "e6568170-9f68-4464-8baf-f1e2ff9ccb88"
   },
   "outputs": [
    {
     "data": {
      "image/png": "[encoded data removed]",
      "text/plain": [
       "<Figure size 1080x360 with 2 Axes>"
      ]
     },
     "metadata": {},
     "output_type": "display_data"
    }
   ],
   "source": [
    "plt.figure(figsize=(15,5))\n",
    "plt.subplot(2,1,1)\n",
    "sns.histplot(data=data,x='COST',color='orange')\n",
    "plt.title('Distribution of cost')\n",
    "plt.subplot(2,1,2)\n",
    "sns.boxplot(data=data,x='COST',color='orange')\n",
    "plt.show()"
   ]
  },
  {
   "cell_type": "code",
   "execution_count": 94,
   "metadata": {
    "id": "e2NRFvs062LV"
   },
   "outputs": [],
   "source": [
    "from skew_autotransform import skew_autotransform\n",
    "from sklearn.preprocessing import MinMaxScaler"
   ]
  },
  {
   "cell_type": "code",
   "execution_count": 95,
   "metadata": {
    "colab": {
     "base_uri": "https://localhost:8080/",
     "height": 436
    },
    "id": "O7pLNDH967j-",
    "outputId": "2a890566-1dc9-4cf7-e3a5-f72719fb873a"
   },
   "outputs": [
    {
     "name": "stdout",
     "output_type": "stream",
     "text": [
      "\n",
      " ------------------------------------------------------\n",
      "\n",
      " 'RATING' had 'negative' skewness of -1.88\n",
      "\n",
      " Transformation yielded skewness of -0.49\n"
     ]
    },
    {
     "data": {
      "image/png": "[encoded data removed]",
      "text/plain": [
       "<Figure size 720x360 with 2 Axes>"
      ]
     },
     "metadata": {},
     "output_type": "display_data"
    }
   ],
   "source": [
    "transform_rating = skew_autotransform(data[['RATING']].copy(deep=True), plot = True, exp = False, threshold = 0.5)"
   ]
  },
  {
   "cell_type": "code",
   "execution_count": 96,
   "metadata": {
    "colab": {
     "base_uri": "https://localhost:8080/",
     "height": 436
    },
    "id": "WbunNzgq7cCt",
    "outputId": "1ab36da2-da2f-4291-cf4a-046434262926"
   },
   "outputs": [
    {
     "name": "stdout",
     "output_type": "stream",
     "text": [
      "\n",
      " ------------------------------------------------------\n",
      "\n",
      " 'VOTES' had 'positive' skewness of 14.48\n",
      "\n",
      " Transformation yielded skewness of -0.08\n"
     ]
    },
    {
     "data": {
      "image/png": "[encoded data removed]",
      "text/plain": [
       "<Figure size 720x360 with 2 Axes>"
      ]
     },
     "metadata": {},
     "output_type": "display_data"
    }
   ],
   "source": [
    "transform_votes = skew_autotransform(data[['VOTES']].copy(deep=True), plot = True, exp = False, threshold = 0.5)"
   ]
  },
  {
   "cell_type": "code",
   "execution_count": 97,
   "metadata": {
    "colab": {
     "base_uri": "https://localhost:8080/",
     "height": 191
    },
    "id": "ERucBjQs8XVp",
    "outputId": "6c6ca5da-b453-4745-f081-a0da9e2cf9e4"
   },
   "outputs": [
    {
     "data": {
      "text/html": [
       "<div>\n",
       "<style scoped>\n",
       "    .dataframe tbody tr th:only-of-type {\n",
       "        vertical-align: middle;\n",
       "    }\n",
       "\n",
       "    .dataframe tbody tr th {\n",
       "        vertical-align: top;\n",
       "    }\n",
       "\n",
       "    .dataframe thead th {\n",
       "        text-align: right;\n",
       "    }\n",
       "</style>\n",
       "<table border=\"1\" class=\"dataframe\">\n",
       "  <thead>\n",
       "    <tr style=\"text-align: right;\">\n",
       "      <th></th>\n",
       "      <th>RATING</th>\n",
       "      <th>VOTES</th>\n",
       "    </tr>\n",
       "  </thead>\n",
       "  <tbody>\n",
       "    <tr>\n",
       "      <th>0</th>\n",
       "      <td>0.390574</td>\n",
       "      <td>0.203267</td>\n",
       "    </tr>\n",
       "    <tr>\n",
       "      <th>1</th>\n",
       "      <td>0.625899</td>\n",
       "      <td>0.178920</td>\n",
       "    </tr>\n",
       "    <tr>\n",
       "      <th>2</th>\n",
       "      <td>0.461027</td>\n",
       "      <td>0.296438</td>\n",
       "    </tr>\n",
       "    <tr>\n",
       "      <th>3</th>\n",
       "      <td>0.581555</td>\n",
       "      <td>0.168675</td>\n",
       "    </tr>\n",
       "    <tr>\n",
       "      <th>4</th>\n",
       "      <td>0.461027</td>\n",
       "      <td>0.275912</td>\n",
       "    </tr>\n",
       "  </tbody>\n",
       "</table>\n",
       "</div>"
      ],
      "text/plain": [
       "     RATING     VOTES\n",
       "0  0.390574  0.203267\n",
       "1  0.625899  0.178920\n",
       "2  0.461027  0.296438\n",
       "3  0.581555  0.168675\n",
       "4  0.461027  0.275912"
      ]
     },
     "execution_count": 97,
     "metadata": {},
     "output_type": "execute_result"
    }
   ],
   "source": [
    "scaled = MinMaxScaler().fit_transform(pd.concat([transform_rating,transform_votes],axis=1))\n",
    "df_scaled = pd.DataFrame(scaled,columns=['RATING','VOTES'])\n",
    "df_scaled.head()"
   ]
  },
  {
   "cell_type": "code",
   "execution_count": 98,
   "metadata": {
    "colab": {
     "base_uri": "https://localhost:8080/"
    },
    "id": "vN5tdUsJ9ZCP",
    "outputId": "2efc6264-3ce5-43fd-a45f-52e3a6f04df2"
   },
   "outputs": [
    {
     "name": "stdout",
     "output_type": "stream",
     "text": [
      "(12550, 2)\n",
      "(12550, 14)\n",
      "(12550, 124)\n",
      "(12550, 23)\n",
      "(12550, 31)\n"
     ]
    }
   ],
   "source": [
    "print(df_scaled.shape)\n",
    "print(df_city.shape)\n",
    "print(df_cuisines.shape)\n",
    "print(df_title.shape)\n",
    "print(df_time.shape)"
   ]
  },
  {
   "cell_type": "code",
   "execution_count": 99,
   "metadata": {
    "colab": {
     "base_uri": "https://localhost:8080/"
    },
    "id": "-7qyXuK91A3N",
    "outputId": "4b415ff8-b945-4781-d810-bdecff3704ef"
   },
   "outputs": [
    {
     "name": "stdout",
     "output_type": "stream",
     "text": [
      "(12550, 171)\n",
      "(12550, 1)\n"
     ]
    }
   ],
   "source": [
    "X = pd.concat([df_city,df_cuisines,df_title,df_days_open,df_scaled],axis=1)\n",
    "y = data[['COST']]\n",
    "print(X.shape)\n",
    "print(y.shape)"
   ]
  },
  {
   "cell_type": "code",
   "execution_count": 100,
   "metadata": {},
   "outputs": [],
   "source": [
    "X.rename(columns = lambda x: x.replace(':','_').replace('-','_'),inplace=True)"
   ]
  },
  {
   "cell_type": "code",
   "execution_count": 101,
   "metadata": {
    "colab": {
     "base_uri": "https://localhost:8080/"
    },
    "id": "6XJRe0OSg0mW",
    "outputId": "3c7d1d72-e626-4617-c659-64b96c264d78"
   },
   "outputs": [
    {
     "name": "stdout",
     "output_type": "stream",
     "text": [
      "(12550, 171)\n",
      "(12550, 1)\n"
     ]
    }
   ],
   "source": [
    "print(X.shape)\n",
    "print(y.shape)"
   ]
  },
  {
   "cell_type": "code",
   "execution_count": 102,
   "metadata": {
    "id": "jw_eHoDuDjmH"
   },
   "outputs": [],
   "source": [
    "from sklearn.linear_model import LinearRegression,SGDRegressor,Ridge, Lasso\n",
    "from sklearn.metrics import mean_squared_error,r2_score\n",
    "from sklearn.model_selection import train_test_split,GridSearchCV\n",
    "from sklearn.model_selection import cross_val_score\n",
    "from sklearn.model_selection import KFold\n",
    "from lightgbm import LGBMRegressor\n",
    "from catboost import CatBoostRegressor"
   ]
  },
  {
   "cell_type": "code",
   "execution_count": 103,
   "metadata": {
    "id": "B2dTWdHj3JA7"
   },
   "outputs": [],
   "source": [
    "model_dict = {\n",
    "    'LNR':LinearRegression(),\n",
    "    'SGD':SGDRegressor(),\n",
    "    'RDR':Ridge(),\n",
    "    'LSR':Lasso(),\n",
    "    'LBR':LGBMRegressor(),\n",
    "    'CBR':CatBoostRegressor(verbose=0),\n",
    "}"
   ]
  },
  {
   "cell_type": "code",
   "execution_count": 107,
   "metadata": {
    "colab": {
     "base_uri": "https://localhost:8080/"
    },
    "id": "v20SzrjBEi7m",
    "outputId": "0095fc35-1118-485a-960d-4c8f5d2065cb"
   },
   "outputs": [
    {
     "name": "stdout",
     "output_type": "stream",
     "text": [
      "--> 10 --> 20 --> 30 --> 40 --> 50 --> 60 --> 70 --> 80 --> 90 --> 100 Best random state :  16 92682.31054270995\n"
     ]
    }
   ],
   "source": [
    "random_state = []\n",
    "for i in range(1,101):\n",
    "    if i%10 == 0:\n",
    "      print('-->',i,end=' ')\n",
    "    x_train, x_test, y_train, y_test = train_test_split(X,y,test_size=0.25,random_state=i)\n",
    "    pred = SGDRegressor().fit(x_train,y_train).predict(x_test)\n",
    "    random_state.append(mean_squared_error(y_test,pred))\n",
    "print('Best random state : ',random_state.index(min(random_state))+1,min(random_state))"
   ]
  },
  {
   "cell_type": "code",
   "execution_count": 108,
   "metadata": {
    "id": "lyifxZ1Mb7n3"
   },
   "outputs": [],
   "source": [
    "x_train, x_test, y_train, y_test = train_test_split(X,y,test_size=0.25,random_state=16)"
   ]
  },
  {
   "cell_type": "code",
   "execution_count": 109,
   "metadata": {
    "colab": {
     "base_uri": "https://localhost:8080/"
    },
    "id": "KXclLAe-3JDY",
    "outputId": "011cd1b2-453c-4639-e207-5438050f4ff9",
    "scrolled": false
   },
   "outputs": [
    {
     "name": "stdout",
     "output_type": "stream",
     "text": [
      "LNR  MAE :  1.0705935335077044e+20\n",
      "LNR  R2S :  -307090812952548.0\n",
      "SGD  MAE :  92821.08056866843\n",
      "SGD  R2S :  0.7337504832709574\n",
      "RDR  MAE :  93266.96169976356\n",
      "RDR  R2S :  0.7324715104886395\n",
      "LSR  MAE :  94361.55294838188\n",
      "LSR  R2S :  0.7293317669177286\n",
      "LBR  MAE :  82589.01919988738\n",
      "LBR  R2S :  0.7631002966742226\n",
      "CBR  MAE :  87726.4822543014\n",
      "CBR  R2S :  0.7483639130093166\n"
     ]
    }
   ],
   "source": [
    "for model in model_dict:\n",
    "    pred = model_dict[model].fit(x_train,y_train).predict(x_test).reshape((3138,))\n",
    "    print(model,' MAE : ',mean_squared_error(y_test,pred))\n",
    "    print(model,' R2S : ',r2_score(y_test,pred))"
   ]
  },
  {
   "cell_type": "code",
   "execution_count": 120,
   "metadata": {},
   "outputs": [],
   "source": [
    "from sklearn.model_selection import GridSearchCV , KFold"
   ]
  },
  {
   "cell_type": "code",
   "execution_count": 123,
   "metadata": {},
   "outputs": [
    {
     "name": "stdout",
     "output_type": "stream",
     "text": [
      "Fitting 10 folds for each of 20 candidates, totalling 200 fits\n"
     ]
    },
    {
     "name": "stderr",
     "output_type": "stream",
     "text": [
      "[Parallel(n_jobs=1)]: Using backend SequentialBackend with 1 concurrent workers.\n",
      "[Parallel(n_jobs=1)]: Done 200 out of 200 | elapsed:  6.1min finished\n"
     ]
    },
    {
     "name": "stdout",
     "output_type": "stream",
     "text": [
      "Best: -129011.890670 using {'alpha': 0.0001, 'learning_rate': 'adaptive'}\n"
     ]
    }
   ],
   "source": [
    "# SGD classifier\n",
    "params = {\n",
    "    'alpha':[0.0001, 0.001, 0.01, 0.1, 1],\n",
    "    'learning_rate':['constant', 'optimal', 'invscaling', 'adaptive']\n",
    "    }\n",
    "\n",
    "kfold = KFold(n_splits=10,random_state=16)\n",
    "sgd_grid = GridSearchCV(\n",
    "    SGDRegressor(),\n",
    "    param_grid=params,\n",
    "    scoring='neg_mean_squared_error',\n",
    "    verbose=1,\n",
    "    cv=kfold)\n",
    "sgd_grid.fit(x_train,y_train)\n",
    "print('Best: %f using %s' % (sgd_grid.best_score_, sgd_grid.best_params_))"
   ]
  },
  {
   "cell_type": "code",
   "execution_count": 128,
   "metadata": {},
   "outputs": [
    {
     "name": "stdout",
     "output_type": "stream",
     "text": [
      "SGDRegressor(learning_rate='adaptive')  MAE :  93161.11377593689\n",
      "SGDRegressor(learning_rate='adaptive')  R2S :  0.7327751264171867\n"
     ]
    }
   ],
   "source": [
    "model = SGDRegressor(alpha=0.0001, learning_rate='adaptive')\n",
    "model.fit(x_train,y_train)\n",
    "pred = model.predict(x_test)\n",
    "print(model,' MAE : ',mean_squared_error(y_test,pred))\n",
    "print(model,' R2S : ',r2_score(y_test,pred))"
   ]
  },
  {
   "cell_type": "code",
   "execution_count": null,
   "metadata": {},
   "outputs": [],
   "source": []
  }
 ],
 "metadata": {
  "colab": {
   "collapsed_sections": [],
   "name": "Restaurant price prediction",
   "provenance": []
  },
  "kernelspec": {
   "display_name": "Python 3",
   "language": "python",
   "name": "python3"
  },
  "language_info": {
   "codemirror_mode": {
    "name": "ipython",
    "version": 3
   },
   "file_extension": ".py",
   "mimetype": "text/x-python",
   "name": "python",
   "nbconvert_exporter": "python",
   "pygments_lexer": "ipython3",
   "version": "3.8.5"
  }
 },
 "nbformat": 4,
 "nbformat_minor": 1
}
