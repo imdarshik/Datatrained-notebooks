{
 "cells": [
  {
   "cell_type": "markdown",
   "metadata": {},
   "source": [
    "# **Doctor's Fee Prediciton**\n",
    "By Darshik A S"
   ]
  },
  {
   "cell_type": "markdown",
   "metadata": {},
   "source": [
    "___"
   ]
  },
  {
   "cell_type": "markdown",
   "metadata": {},
   "source": [
    "## **Intoduction**\n",
    "\n",
    "We have all been in situation where we go to a doctor in emergency and find that the consultation fees are too high. What if you have data that records important details about a doctor and you get to build a model to predict the doctor’s consulting fee.? In this notebook we try to analyse the Doctor's consultation fee dataset and draw insights from the dataset. We also try to train predictive models for predicting the fee of the doctors."
   ]
  },
  {
   "cell_type": "markdown",
   "metadata": {},
   "source": [
    "## **Data Overview**\n",
    "\n",
    "The following are the features of the dataset:\n",
    "\n",
    "   - **Qualification** : Qualification and degrees held by the doctor\n",
    "   - **Experience** : Experience of the doctor in number of years\n",
    "   - **Rating** : Rating given by patients\n",
    "   - **Profile** : Type of the doctor\n",
    "   - **Miscellaeous_Info** : Extra information about the doctor\n",
    "   - **Fees** : Fees charged by the doctor\n",
    "   - **Place** : Area and the city where the doctor is located.\n",
    "   \n",
    "Size of training set : **5961** records\n",
    "\n",
    "Size of test set : **1987** records"
   ]
  },
  {
   "cell_type": "markdown",
   "metadata": {},
   "source": [
    "## **Data Preparation**"
   ]
  },
  {
   "cell_type": "code",
   "execution_count": 1,
   "metadata": {},
   "outputs": [],
   "source": [
    "import pandas as pd\n",
    "import numpy as np\n",
    "import warnings\n",
    "warnings.filterwarnings('ignore')"
   ]
  },
  {
   "cell_type": "code",
   "execution_count": 2,
   "metadata": {},
   "outputs": [],
   "source": [
    "# Load train and test dataset into pandas dataframe\n",
    "train_data = pd.read_excel('Final_Train.xlsx')\n",
    "test_data = pd.read_excel('Final_Test.xlsx')"
   ]
  },
  {
   "cell_type": "code",
   "execution_count": 3,
   "metadata": {},
   "outputs": [
    {
     "data": {
      "text/html": [
       "<div>\n",
       "<style scoped>\n",
       "    .dataframe tbody tr th:only-of-type {\n",
       "        vertical-align: middle;\n",
       "    }\n",
       "\n",
       "    .dataframe tbody tr th {\n",
       "        vertical-align: top;\n",
       "    }\n",
       "\n",
       "    .dataframe thead th {\n",
       "        text-align: right;\n",
       "    }\n",
       "</style>\n",
       "<table border=\"1\" class=\"dataframe\">\n",
       "  <thead>\n",
       "    <tr style=\"text-align: right;\">\n",
       "      <th></th>\n",
       "      <th>Qualification</th>\n",
       "      <th>Experience</th>\n",
       "      <th>Rating</th>\n",
       "      <th>Place</th>\n",
       "      <th>Profile</th>\n",
       "      <th>Miscellaneous_Info</th>\n",
       "      <th>Fees</th>\n",
       "    </tr>\n",
       "  </thead>\n",
       "  <tbody>\n",
       "    <tr>\n",
       "      <th>4290</th>\n",
       "      <td>BAMS</td>\n",
       "      <td>15 years experience</td>\n",
       "      <td>NaN</td>\n",
       "      <td>Secunderabad, Hyderabad</td>\n",
       "      <td>Ayurveda</td>\n",
       "      <td>NaN</td>\n",
       "      <td>30</td>\n",
       "    </tr>\n",
       "    <tr>\n",
       "      <th>4777</th>\n",
       "      <td>MBBS, DNB - General Medicine, FICA</td>\n",
       "      <td>14 years experience</td>\n",
       "      <td>98%</td>\n",
       "      <td>Andheri West, Mumbai</td>\n",
       "      <td>General Medicine</td>\n",
       "      <td>General Medicine Geatric Medicine Fever Treatment</td>\n",
       "      <td>600</td>\n",
       "    </tr>\n",
       "    <tr>\n",
       "      <th>5243</th>\n",
       "      <td>BHMS</td>\n",
       "      <td>20 years experience</td>\n",
       "      <td>94%</td>\n",
       "      <td>Madangir, Delhi</td>\n",
       "      <td>Homeopath</td>\n",
       "      <td>94% 2 Feedback Madangir, Delhi</td>\n",
       "      <td>200</td>\n",
       "    </tr>\n",
       "    <tr>\n",
       "      <th>1565</th>\n",
       "      <td>MBBS, Diploma in Dermatology</td>\n",
       "      <td>36 years experience</td>\n",
       "      <td>NaN</td>\n",
       "      <td>Kothaguda, Hyderabad</td>\n",
       "      <td>Dermatologists</td>\n",
       "      <td>NaN</td>\n",
       "      <td>100</td>\n",
       "    </tr>\n",
       "    <tr>\n",
       "      <th>4776</th>\n",
       "      <td>BAMS</td>\n",
       "      <td>16 years experience</td>\n",
       "      <td>NaN</td>\n",
       "      <td>Borivali West, Mumbai</td>\n",
       "      <td>Ayurveda</td>\n",
       "      <td>NaN</td>\n",
       "      <td>500</td>\n",
       "    </tr>\n",
       "  </tbody>\n",
       "</table>\n",
       "</div>"
      ],
      "text/plain": [
       "                           Qualification           Experience Rating  \\\n",
       "4290                                BAMS  15 years experience    NaN   \n",
       "4777  MBBS, DNB - General Medicine, FICA  14 years experience    98%   \n",
       "5243                                BHMS  20 years experience    94%   \n",
       "1565        MBBS, Diploma in Dermatology  36 years experience    NaN   \n",
       "4776                                BAMS  16 years experience    NaN   \n",
       "\n",
       "                        Place           Profile  \\\n",
       "4290  Secunderabad, Hyderabad          Ayurveda   \n",
       "4777     Andheri West, Mumbai  General Medicine   \n",
       "5243          Madangir, Delhi         Homeopath   \n",
       "1565     Kothaguda, Hyderabad    Dermatologists   \n",
       "4776    Borivali West, Mumbai          Ayurveda   \n",
       "\n",
       "                                     Miscellaneous_Info  Fees  \n",
       "4290                                                NaN    30  \n",
       "4777  General Medicine Geatric Medicine Fever Treatment   600  \n",
       "5243                     94% 2 Feedback Madangir, Delhi   200  \n",
       "1565                                                NaN   100  \n",
       "4776                                                NaN   500  "
      ]
     },
     "execution_count": 3,
     "metadata": {},
     "output_type": "execute_result"
    }
   ],
   "source": [
    "# Display samples frm train dataset\n",
    "train_data.sample(5)"
   ]
  },
  {
   "cell_type": "code",
   "execution_count": 4,
   "metadata": {},
   "outputs": [
    {
     "data": {
      "text/html": [
       "<div>\n",
       "<style scoped>\n",
       "    .dataframe tbody tr th:only-of-type {\n",
       "        vertical-align: middle;\n",
       "    }\n",
       "\n",
       "    .dataframe tbody tr th {\n",
       "        vertical-align: top;\n",
       "    }\n",
       "\n",
       "    .dataframe thead th {\n",
       "        text-align: right;\n",
       "    }\n",
       "</style>\n",
       "<table border=\"1\" class=\"dataframe\">\n",
       "  <thead>\n",
       "    <tr style=\"text-align: right;\">\n",
       "      <th></th>\n",
       "      <th>Qualification</th>\n",
       "      <th>Experience</th>\n",
       "      <th>Rating</th>\n",
       "      <th>Place</th>\n",
       "      <th>Profile</th>\n",
       "      <th>Miscellaneous_Info</th>\n",
       "    </tr>\n",
       "  </thead>\n",
       "  <tbody>\n",
       "    <tr>\n",
       "      <th>0</th>\n",
       "      <td>MBBS</td>\n",
       "      <td>35 years experience</td>\n",
       "      <td>NaN</td>\n",
       "      <td>Ghatkopar East, Mumbai</td>\n",
       "      <td>General Medicine</td>\n",
       "      <td>NaN</td>\n",
       "    </tr>\n",
       "    <tr>\n",
       "      <th>1</th>\n",
       "      <td>MBBS, Diploma in Otorhinolaryngology (DLO)</td>\n",
       "      <td>31 years experience</td>\n",
       "      <td>NaN</td>\n",
       "      <td>West Marredpally, Hyderabad</td>\n",
       "      <td>ENT Specialist</td>\n",
       "      <td>NaN</td>\n",
       "    </tr>\n",
       "    <tr>\n",
       "      <th>2</th>\n",
       "      <td>MBBS, DDVL</td>\n",
       "      <td>40 years experience</td>\n",
       "      <td>70%</td>\n",
       "      <td>KK Nagar, Chennai</td>\n",
       "      <td>Dermatologists</td>\n",
       "      <td>70% 4 Feedback KK Nagar, Chennai</td>\n",
       "    </tr>\n",
       "    <tr>\n",
       "      <th>3</th>\n",
       "      <td>BAMS</td>\n",
       "      <td>0 years experience</td>\n",
       "      <td>NaN</td>\n",
       "      <td>New Ashok Nagar, Delhi</td>\n",
       "      <td>Ayurveda</td>\n",
       "      <td>NaN</td>\n",
       "    </tr>\n",
       "    <tr>\n",
       "      <th>4</th>\n",
       "      <td>BDS, MDS - Conservative Dentistry &amp; Endodontics</td>\n",
       "      <td>16 years experience</td>\n",
       "      <td>100%</td>\n",
       "      <td>Kanakpura Road, Bangalore</td>\n",
       "      <td>Dentist</td>\n",
       "      <td>General Dentistry Conservative Dentistry Cosme...</td>\n",
       "    </tr>\n",
       "  </tbody>\n",
       "</table>\n",
       "</div>"
      ],
      "text/plain": [
       "                                     Qualification           Experience  \\\n",
       "0                                             MBBS  35 years experience   \n",
       "1       MBBS, Diploma in Otorhinolaryngology (DLO)  31 years experience   \n",
       "2                                       MBBS, DDVL  40 years experience   \n",
       "3                                             BAMS   0 years experience   \n",
       "4  BDS, MDS - Conservative Dentistry & Endodontics  16 years experience   \n",
       "\n",
       "  Rating                        Place           Profile  \\\n",
       "0    NaN       Ghatkopar East, Mumbai  General Medicine   \n",
       "1    NaN  West Marredpally, Hyderabad    ENT Specialist   \n",
       "2    70%            KK Nagar, Chennai    Dermatologists   \n",
       "3    NaN       New Ashok Nagar, Delhi          Ayurveda   \n",
       "4   100%    Kanakpura Road, Bangalore           Dentist   \n",
       "\n",
       "                                  Miscellaneous_Info  \n",
       "0                                                NaN  \n",
       "1                                                NaN  \n",
       "2                   70% 4 Feedback KK Nagar, Chennai  \n",
       "3                                                NaN  \n",
       "4  General Dentistry Conservative Dentistry Cosme...  "
      ]
     },
     "execution_count": 4,
     "metadata": {},
     "output_type": "execute_result"
    }
   ],
   "source": [
    "# Display samples test dataset\n",
    "test_data.head()"
   ]
  },
  {
   "cell_type": "code",
   "execution_count": 5,
   "metadata": {},
   "outputs": [
    {
     "name": "stdout",
     "output_type": "stream",
     "text": [
      "<class 'pandas.core.frame.DataFrame'>\n",
      "RangeIndex: 5961 entries, 0 to 5960\n",
      "Data columns (total 7 columns):\n",
      " #   Column              Non-Null Count  Dtype \n",
      "---  ------              --------------  ----- \n",
      " 0   Qualification       5961 non-null   object\n",
      " 1   Experience          5961 non-null   object\n",
      " 2   Rating              2659 non-null   object\n",
      " 3   Place               5936 non-null   object\n",
      " 4   Profile             5961 non-null   object\n",
      " 5   Miscellaneous_Info  3341 non-null   object\n",
      " 6   Fees                5961 non-null   int64 \n",
      "dtypes: int64(1), object(6)\n",
      "memory usage: 326.1+ KB\n"
     ]
    }
   ],
   "source": [
    "# Check for null values and data types of the features in train data\n",
    "train_data.info()"
   ]
  },
  {
   "cell_type": "code",
   "execution_count": 6,
   "metadata": {},
   "outputs": [
    {
     "name": "stdout",
     "output_type": "stream",
     "text": [
      "<class 'pandas.core.frame.DataFrame'>\n",
      "RangeIndex: 1987 entries, 0 to 1986\n",
      "Data columns (total 6 columns):\n",
      " #   Column              Non-Null Count  Dtype \n",
      "---  ------              --------------  ----- \n",
      " 0   Qualification       1987 non-null   object\n",
      " 1   Experience          1987 non-null   object\n",
      " 2   Rating              897 non-null    object\n",
      " 3   Place               1981 non-null   object\n",
      " 4   Profile             1987 non-null   object\n",
      " 5   Miscellaneous_Info  1153 non-null   object\n",
      "dtypes: object(6)\n",
      "memory usage: 93.3+ KB\n"
     ]
    }
   ],
   "source": [
    "# Check for null values and data types of the features in test data\n",
    "test_data.info()"
   ]
  },
  {
   "cell_type": "markdown",
   "metadata": {},
   "source": [
    "* Except the traget variable *FEES* all other features are of object type\n",
    "* There are null values present in the *Rating*, *Place* and *Miscellaneous_Info* features."
   ]
  },
  {
   "cell_type": "markdown",
   "metadata": {},
   "source": [
    "### ***Let's check the proportion of null values present in the train and test dataset***"
   ]
  },
  {
   "cell_type": "code",
   "execution_count": 7,
   "metadata": {},
   "outputs": [
    {
     "name": "stdout",
     "output_type": "stream",
     "text": [
      "Percentage of null values in Rating : 55.39%\n",
      "Percentage of null values in Place : 0.42%\n",
      "Percentage of null values in Miscellaneous_Info : 43.95%\n"
     ]
    }
   ],
   "source": [
    "# Percentage of the null values present in training data\n",
    "data_length = len(train_data)\n",
    "print('Percentage of null values in Rating : {:,.2f}%'.format(train_data.Rating.isnull().sum() * 100 / data_length))\n",
    "print('Percentage of null values in Place : {:,.2f}%'.format(train_data.Place.isnull().sum() * 100 / data_length))\n",
    "print('Percentage of null values in Miscellaneous_Info : {:,.2f}%'.format(train_data.Miscellaneous_Info.isnull().sum() * 100 / data_length))"
   ]
  },
  {
   "cell_type": "code",
   "execution_count": 8,
   "metadata": {},
   "outputs": [
    {
     "name": "stdout",
     "output_type": "stream",
     "text": [
      "Percentage of null values in Rating : 54.86%\n",
      "Percentage of null values in Place : 0.30%\n",
      "Percentage of null values in Miscellaneous_Info : 41.97%\n"
     ]
    }
   ],
   "source": [
    "# Percentage of the null values present in test data\n",
    "data_length = len(test_data)\n",
    "print('Percentage of null values in Rating : {:,.2f}%'.format(test_data.Rating.isnull().sum() * 100 / data_length))\n",
    "print('Percentage of null values in Place : {:,.2f}%'.format(test_data.Place.isnull().sum() * 100 / data_length))\n",
    "print('Percentage of null values in Miscellaneous_Info : {:,.2f}%'.format(test_data.Miscellaneous_Info.isnull().sum() * 100 / data_length))"
   ]
  },
  {
   "cell_type": "markdown",
   "metadata": {},
   "source": [
    "* There are more than 50% of null vlaues in Rating feature of both train and test dataset\n",
    "* Also, there are more than 40% of null values in the Miscellaneos info\n",
    "* Instead of dropping these rows, we'll replace them with suitable values."
   ]
  },
  {
   "cell_type": "code",
   "execution_count": 9,
   "metadata": {},
   "outputs": [
    {
     "name": "stdout",
     "output_type": "stream",
     "text": [
      "Train data duplicates : 40\n",
      "Test data duplicates : 11\n"
     ]
    }
   ],
   "source": [
    "# Check for duplicates in train and test data\n",
    "print('Train data duplicates :',train_data.duplicated().sum())\n",
    "print('Test data duplicates :',test_data.duplicated().sum())"
   ]
  },
  {
   "cell_type": "code",
   "execution_count": 10,
   "metadata": {},
   "outputs": [],
   "source": [
    "# Drop the duplicates in train and test data\n",
    "train_data.drop_duplicates(keep='first',inplace=True)\n",
    "test_data.drop_duplicates(keep='first',inplace=True)"
   ]
  },
  {
   "cell_type": "code",
   "execution_count": 11,
   "metadata": {},
   "outputs": [
    {
     "name": "stdout",
     "output_type": "stream",
     "text": [
      "Percentage of null values in Rating : 55.09%\n",
      "Percentage of null values in Place : 0.03%\n",
      "Percentage of null values in Miscellaneous_Info : 43.59%\n"
     ]
    }
   ],
   "source": [
    "# Again check percentage of the null values present in training data\n",
    "data_length = len(train_data)\n",
    "print('Percentage of null values in Rating : {:,.2f}%'.format(train_data.Rating.isnull().sum() * 100 / data_length))\n",
    "print('Percentage of null values in Place : {:,.2f}%'.format(train_data.Place.isnull().sum() * 100 / data_length))\n",
    "print('Percentage of null values in Miscellaneous_Info : {:,.2f}%'.format(train_data.Miscellaneous_Info.isnull().sum() * 100 / data_length))"
   ]
  },
  {
   "cell_type": "code",
   "execution_count": 12,
   "metadata": {},
   "outputs": [
    {
     "name": "stdout",
     "output_type": "stream",
     "text": [
      "Percentage of null values in Rating : 54.61%\n",
      "Percentage of null values in Place : 0.05%\n",
      "Percentage of null values in Miscellaneous_Info : 41.65%\n"
     ]
    }
   ],
   "source": [
    "# Again check percentage of the null values present in test data\n",
    "data_length = len(test_data)\n",
    "print('Percentage of null values in Rating : {:,.2f}%'.format(test_data.Rating.isnull().sum() * 100 / data_length))\n",
    "print('Percentage of null values in Place : {:,.2f}%'.format(test_data.Place.isnull().sum() * 100 / data_length))\n",
    "print('Percentage of null values in Miscellaneous_Info : {:,.2f}%'.format(test_data.Miscellaneous_Info.isnull().sum() * 100 / data_length))"
   ]
  },
  {
   "cell_type": "code",
   "execution_count": 13,
   "metadata": {},
   "outputs": [
    {
     "data": {
      "text/html": [
       "<div>\n",
       "<style scoped>\n",
       "    .dataframe tbody tr th:only-of-type {\n",
       "        vertical-align: middle;\n",
       "    }\n",
       "\n",
       "    .dataframe tbody tr th {\n",
       "        vertical-align: top;\n",
       "    }\n",
       "\n",
       "    .dataframe thead th {\n",
       "        text-align: right;\n",
       "    }\n",
       "</style>\n",
       "<table border=\"1\" class=\"dataframe\">\n",
       "  <thead>\n",
       "    <tr style=\"text-align: right;\">\n",
       "      <th></th>\n",
       "      <th>Qualification</th>\n",
       "      <th>Experience</th>\n",
       "      <th>Rating</th>\n",
       "      <th>Place</th>\n",
       "      <th>Profile</th>\n",
       "      <th>Miscellaneous_Info</th>\n",
       "      <th>Fees</th>\n",
       "    </tr>\n",
       "  </thead>\n",
       "  <tbody>\n",
       "    <tr>\n",
       "      <th>91</th>\n",
       "      <td>Get inspired by remarkable stories of people l...</td>\n",
       "      <td>0 years experience</td>\n",
       "      <td>NaN</td>\n",
       "      <td>NaN</td>\n",
       "      <td>Dermatologists</td>\n",
       "      <td>NaN</td>\n",
       "      <td>100</td>\n",
       "    </tr>\n",
       "    <tr>\n",
       "      <th>4823</th>\n",
       "      <td>MBBS, DDVL</td>\n",
       "      <td>22 years experience</td>\n",
       "      <td>NaN</td>\n",
       "      <td>NaN</td>\n",
       "      <td>Dermatologists</td>\n",
       "      <td>NaN</td>\n",
       "      <td>150</td>\n",
       "    </tr>\n",
       "  </tbody>\n",
       "</table>\n",
       "</div>"
      ],
      "text/plain": [
       "                                          Qualification           Experience  \\\n",
       "91    Get inspired by remarkable stories of people l...   0 years experience   \n",
       "4823                                         MBBS, DDVL  22 years experience   \n",
       "\n",
       "     Rating Place         Profile Miscellaneous_Info  Fees  \n",
       "91      NaN   NaN  Dermatologists                NaN   100  \n",
       "4823    NaN   NaN  Dermatologists                NaN   150  "
      ]
     },
     "execution_count": 13,
     "metadata": {},
     "output_type": "execute_result"
    }
   ],
   "source": [
    "train_data[train_data.Place.isnull()]"
   ]
  },
  {
   "cell_type": "markdown",
   "metadata": {},
   "source": [
    "* There's only two rows with null values so we can drop these rows"
   ]
  },
  {
   "cell_type": "code",
   "execution_count": 14,
   "metadata": {},
   "outputs": [],
   "source": [
    "# REmove the rows with null values in Place columns\n",
    "train_data.dropna(subset=['Place'],inplace=True)\n",
    "test_data.dropna(subset=['Place'],inplace=True)"
   ]
  },
  {
   "cell_type": "code",
   "execution_count": 15,
   "metadata": {},
   "outputs": [
    {
     "name": "stdout",
     "output_type": "stream",
     "text": [
      "Train data shape :  (5919, 7)\n",
      "Test data shape :  (1975, 6)\n"
     ]
    }
   ],
   "source": [
    "# Shape of the dataset\n",
    "print('Train data shape : ',train_data.shape)\n",
    "print('Test data shape : ',test_data.shape)"
   ]
  },
  {
   "cell_type": "markdown",
   "metadata": {},
   "source": [
    "### ***Let's extract doctor's qualifications from the Qualification feature, and encode it***"
   ]
  },
  {
   "cell_type": "code",
   "execution_count": 16,
   "metadata": {},
   "outputs": [],
   "source": [
    "import re\n",
    "import nltk\n",
    "from nltk.corpus import stopwords\n",
    "from sklearn.feature_extraction.text import TfidfVectorizer \n",
    "swl = stopwords.words('english')"
   ]
  },
  {
   "cell_type": "code",
   "execution_count": 17,
   "metadata": {},
   "outputs": [],
   "source": [
    "# Remove stop words from the qualification\n",
    "def remove_stop_words(x):\n",
    "    l = list(x)\n",
    "    for i in l:\n",
    "        if i in swl:\n",
    "            l.remove(i)\n",
    "    return ' '.join(l)"
   ]
  },
  {
   "cell_type": "code",
   "execution_count": 18,
   "metadata": {},
   "outputs": [],
   "source": [
    "# Replace qualifications without stop words\n",
    "train_data.loc[:,'Qualification'] = train_data.Qualification.agg(lambda x: remove_stop_words(set(re.findall('([a-z]+)',str(x).strip().lower())))  )"
   ]
  },
  {
   "cell_type": "code",
   "execution_count": 19,
   "metadata": {},
   "outputs": [],
   "source": [
    "# Create list of total words present in Qualification feature\n",
    "word_list = []\n",
    "_ = train_data.Qualification.agg(lambda x: word_list.extend(re.findall('(\\w+)',str(x).lower())))"
   ]
  },
  {
   "cell_type": "code",
   "execution_count": 20,
   "metadata": {},
   "outputs": [
    {
     "name": "stdout",
     "output_type": "stream",
     "text": [
      "Total words :  20995\n",
      "Unique words :  694\n"
     ]
    }
   ],
   "source": [
    "# Check words present\n",
    "print('Total words : ',len(word_list))\n",
    "print('Unique words : ',len(set(word_list)))"
   ]
  },
  {
   "cell_type": "code",
   "execution_count": 21,
   "metadata": {},
   "outputs": [],
   "source": [
    "# Resetting the index after removing rows \n",
    "train_data.reset_index(drop=True,inplace=True)\n",
    "test_data.reset_index(drop=True,inplace=True)"
   ]
  },
  {
   "cell_type": "code",
   "execution_count": 22,
   "metadata": {},
   "outputs": [
    {
     "data": {
      "text/html": [
       "<div>\n",
       "<style scoped>\n",
       "    .dataframe tbody tr th:only-of-type {\n",
       "        vertical-align: middle;\n",
       "    }\n",
       "\n",
       "    .dataframe tbody tr th {\n",
       "        vertical-align: top;\n",
       "    }\n",
       "\n",
       "    .dataframe thead th {\n",
       "        text-align: right;\n",
       "    }\n",
       "</style>\n",
       "<table border=\"1\" class=\"dataframe\">\n",
       "  <thead>\n",
       "    <tr style=\"text-align: right;\">\n",
       "      <th></th>\n",
       "      <th>Count</th>\n",
       "    </tr>\n",
       "    <tr>\n",
       "      <th>0</th>\n",
       "      <th></th>\n",
       "    </tr>\n",
       "  </thead>\n",
       "  <tbody>\n",
       "    <tr>\n",
       "      <th>mbbs</th>\n",
       "      <td>2800</td>\n",
       "    </tr>\n",
       "    <tr>\n",
       "      <th>md</th>\n",
       "      <td>1542</td>\n",
       "    </tr>\n",
       "    <tr>\n",
       "      <th>bds</th>\n",
       "      <td>1356</td>\n",
       "    </tr>\n",
       "    <tr>\n",
       "      <th>medicine</th>\n",
       "      <td>799</td>\n",
       "    </tr>\n",
       "    <tr>\n",
       "      <th>mds</th>\n",
       "      <td>760</td>\n",
       "    </tr>\n",
       "    <tr>\n",
       "      <th>bams</th>\n",
       "      <td>758</td>\n",
       "    </tr>\n",
       "    <tr>\n",
       "      <th>dermatology</th>\n",
       "      <td>754</td>\n",
       "    </tr>\n",
       "    <tr>\n",
       "      <th>bhms</th>\n",
       "      <td>745</td>\n",
       "    </tr>\n",
       "    <tr>\n",
       "      <th>diploma</th>\n",
       "      <td>706</td>\n",
       "    </tr>\n",
       "    <tr>\n",
       "      <th>ms</th>\n",
       "      <td>626</td>\n",
       "    </tr>\n",
       "    <tr>\n",
       "      <th>ent</th>\n",
       "      <td>483</td>\n",
       "    </tr>\n",
       "    <tr>\n",
       "      <th>general</th>\n",
       "      <td>407</td>\n",
       "    </tr>\n",
       "    <tr>\n",
       "      <th>dnb</th>\n",
       "      <td>406</td>\n",
       "    </tr>\n",
       "    <tr>\n",
       "      <th>venereology</th>\n",
       "      <td>370</td>\n",
       "    </tr>\n",
       "    <tr>\n",
       "      <th>otorhinolaryngology</th>\n",
       "      <td>368</td>\n",
       "    </tr>\n",
       "    <tr>\n",
       "      <th>leprosy</th>\n",
       "      <td>306</td>\n",
       "    </tr>\n",
       "    <tr>\n",
       "      <th>dlo</th>\n",
       "      <td>266</td>\n",
       "    </tr>\n",
       "    <tr>\n",
       "      <th>surgery</th>\n",
       "      <td>255</td>\n",
       "    </tr>\n",
       "    <tr>\n",
       "      <th>oral</th>\n",
       "      <td>252</td>\n",
       "    </tr>\n",
       "    <tr>\n",
       "      <th>fellowship</th>\n",
       "      <td>210</td>\n",
       "    </tr>\n",
       "    <tr>\n",
       "      <th>dentistry</th>\n",
       "      <td>204</td>\n",
       "    </tr>\n",
       "    <tr>\n",
       "      <th>homeopathy</th>\n",
       "      <td>188</td>\n",
       "    </tr>\n",
       "    <tr>\n",
       "      <th>ayurveda</th>\n",
       "      <td>174</td>\n",
       "    </tr>\n",
       "    <tr>\n",
       "      <th>certificate</th>\n",
       "      <td>161</td>\n",
       "    </tr>\n",
       "    <tr>\n",
       "      <th>ddvl</th>\n",
       "      <td>160</td>\n",
       "    </tr>\n",
       "    <tr>\n",
       "      <th>post</th>\n",
       "      <td>157</td>\n",
       "    </tr>\n",
       "    <tr>\n",
       "      <th>graduate</th>\n",
       "      <td>152</td>\n",
       "    </tr>\n",
       "    <tr>\n",
       "      <th>orthodontics</th>\n",
       "      <td>147</td>\n",
       "    </tr>\n",
       "    <tr>\n",
       "      <th>endodontics</th>\n",
       "      <td>130</td>\n",
       "    </tr>\n",
       "    <tr>\n",
       "      <th>ddv</th>\n",
       "      <td>129</td>\n",
       "    </tr>\n",
       "    <tr>\n",
       "      <th>diabetology</th>\n",
       "      <td>109</td>\n",
       "    </tr>\n",
       "    <tr>\n",
       "      <th>conservative</th>\n",
       "      <td>107</td>\n",
       "    </tr>\n",
       "    <tr>\n",
       "      <th>implantology</th>\n",
       "      <td>107</td>\n",
       "    </tr>\n",
       "    <tr>\n",
       "      <th>maxillofacial</th>\n",
       "      <td>107</td>\n",
       "    </tr>\n",
       "    <tr>\n",
       "      <th>health</th>\n",
       "      <td>88</td>\n",
       "    </tr>\n",
       "    <tr>\n",
       "      <th>internal</th>\n",
       "      <td>82</td>\n",
       "    </tr>\n",
       "    <tr>\n",
       "      <th>orthopaedics</th>\n",
       "      <td>78</td>\n",
       "    </tr>\n",
       "    <tr>\n",
       "      <th>prosthodontics</th>\n",
       "      <td>75</td>\n",
       "    </tr>\n",
       "    <tr>\n",
       "      <th>course</th>\n",
       "      <td>72</td>\n",
       "    </tr>\n",
       "    <tr>\n",
       "      <th>dentofacial</th>\n",
       "      <td>70</td>\n",
       "    </tr>\n",
       "    <tr>\n",
       "      <th>clinical</th>\n",
       "      <td>61</td>\n",
       "    </tr>\n",
       "    <tr>\n",
       "      <th>in</th>\n",
       "      <td>61</td>\n",
       "    </tr>\n",
       "    <tr>\n",
       "      <th>uk</th>\n",
       "      <td>58</td>\n",
       "    </tr>\n",
       "    <tr>\n",
       "      <th>pgdd</th>\n",
       "      <td>56</td>\n",
       "    </tr>\n",
       "    <tr>\n",
       "      <th>aesthetic</th>\n",
       "      <td>56</td>\n",
       "    </tr>\n",
       "    <tr>\n",
       "      <th>preventive</th>\n",
       "      <td>54</td>\n",
       "    </tr>\n",
       "    <tr>\n",
       "      <th>cosmetology</th>\n",
       "      <td>52</td>\n",
       "    </tr>\n",
       "    <tr>\n",
       "      <th>homeopathic</th>\n",
       "      <td>51</td>\n",
       "    </tr>\n",
       "    <tr>\n",
       "      <th>skin</th>\n",
       "      <td>51</td>\n",
       "    </tr>\n",
       "    <tr>\n",
       "      <th>phd</th>\n",
       "      <td>51</td>\n",
       "    </tr>\n",
       "    <tr>\n",
       "      <th>dhms</th>\n",
       "      <td>50</td>\n",
       "    </tr>\n",
       "    <tr>\n",
       "      <th>prosthodontist</th>\n",
       "      <td>49</td>\n",
       "    </tr>\n",
       "    <tr>\n",
       "      <th>periodontics</th>\n",
       "      <td>48</td>\n",
       "    </tr>\n",
       "    <tr>\n",
       "      <th>paedodontics</th>\n",
       "      <td>47</td>\n",
       "    </tr>\n",
       "    <tr>\n",
       "      <th>periodontology</th>\n",
       "      <td>47</td>\n",
       "    </tr>\n",
       "    <tr>\n",
       "      <th>dvd</th>\n",
       "      <td>46</td>\n",
       "    </tr>\n",
       "    <tr>\n",
       "      <th>child</th>\n",
       "      <td>46</td>\n",
       "    </tr>\n",
       "    <tr>\n",
       "      <th>bridge</th>\n",
       "      <td>45</td>\n",
       "    </tr>\n",
       "    <tr>\n",
       "      <th>crown</th>\n",
       "      <td>45</td>\n",
       "    </tr>\n",
       "    <tr>\n",
       "      <th>fellow</th>\n",
       "      <td>44</td>\n",
       "    </tr>\n",
       "  </tbody>\n",
       "</table>\n",
       "</div>"
      ],
      "text/plain": [
       "                     Count\n",
       "0                         \n",
       "mbbs                  2800\n",
       "md                    1542\n",
       "bds                   1356\n",
       "medicine               799\n",
       "mds                    760\n",
       "bams                   758\n",
       "dermatology            754\n",
       "bhms                   745\n",
       "diploma                706\n",
       "ms                     626\n",
       "ent                    483\n",
       "general                407\n",
       "dnb                    406\n",
       "venereology            370\n",
       "otorhinolaryngology    368\n",
       "leprosy                306\n",
       "dlo                    266\n",
       "surgery                255\n",
       "oral                   252\n",
       "fellowship             210\n",
       "dentistry              204\n",
       "homeopathy             188\n",
       "ayurveda               174\n",
       "certificate            161\n",
       "ddvl                   160\n",
       "post                   157\n",
       "graduate               152\n",
       "orthodontics           147\n",
       "endodontics            130\n",
       "ddv                    129\n",
       "diabetology            109\n",
       "conservative           107\n",
       "implantology           107\n",
       "maxillofacial          107\n",
       "health                  88\n",
       "internal                82\n",
       "orthopaedics            78\n",
       "prosthodontics          75\n",
       "course                  72\n",
       "dentofacial             70\n",
       "clinical                61\n",
       "in                      61\n",
       "uk                      58\n",
       "pgdd                    56\n",
       "aesthetic               56\n",
       "preventive              54\n",
       "cosmetology             52\n",
       "homeopathic             51\n",
       "skin                    51\n",
       "phd                     51\n",
       "dhms                    50\n",
       "prosthodontist          49\n",
       "periodontics            48\n",
       "paedodontics            47\n",
       "periodontology          47\n",
       "dvd                     46\n",
       "child                   46\n",
       "bridge                  45\n",
       "crown                   45\n",
       "fellow                  44"
      ]
     },
     "execution_count": 22,
     "metadata": {},
     "output_type": "execute_result"
    }
   ],
   "source": [
    "# Find out the most frequently occuring words in the qualification feature\n",
    "df = pd.DataFrame(word_list).value_counts().sort_values(ascending=False).rename('Count').to_frame()\n",
    "df.head(60)"
   ]
  },
  {
   "cell_type": "code",
   "execution_count": 23,
   "metadata": {},
   "outputs": [],
   "source": [
    "# Create list of frequently occuring qualificaitons\n",
    "freq_quals = ['mbbs','md','bds','mds','bams','bhms','ms','dnb','dlo','diploma','fellowship','ddvl','pgdd','ddv','dhms','phd']"
   ]
  },
  {
   "cell_type": "code",
   "execution_count": 24,
   "metadata": {},
   "outputs": [],
   "source": [
    "# Converter for qualificaiton\n",
    "def place_conv(x):\n",
    "    l = [i for i in x if i in freq_quals]\n",
    "    if len(l) == 0:\n",
    "        l = ['others']\n",
    "    return ','.join(set(l))"
   ]
  },
  {
   "cell_type": "code",
   "execution_count": 25,
   "metadata": {},
   "outputs": [
    {
     "data": {
      "text/html": [
       "<div>\n",
       "<style scoped>\n",
       "    .dataframe tbody tr th:only-of-type {\n",
       "        vertical-align: middle;\n",
       "    }\n",
       "\n",
       "    .dataframe tbody tr th {\n",
       "        vertical-align: top;\n",
       "    }\n",
       "\n",
       "    .dataframe thead th {\n",
       "        text-align: right;\n",
       "    }\n",
       "</style>\n",
       "<table border=\"1\" class=\"dataframe\">\n",
       "  <thead>\n",
       "    <tr style=\"text-align: right;\">\n",
       "      <th></th>\n",
       "      <th>Qualification</th>\n",
       "    </tr>\n",
       "  </thead>\n",
       "  <tbody>\n",
       "    <tr>\n",
       "      <th>0</th>\n",
       "      <td>bhms md homeopathy</td>\n",
       "    </tr>\n",
       "    <tr>\n",
       "      <th>1</th>\n",
       "      <td>bams ayurveda md medicine</td>\n",
       "    </tr>\n",
       "    <tr>\n",
       "      <th>2</th>\n",
       "      <td>ms mbbs otorhinolaryngology</td>\n",
       "    </tr>\n",
       "    <tr>\n",
       "      <th>3</th>\n",
       "      <td>bams bsc zoology</td>\n",
       "    </tr>\n",
       "    <tr>\n",
       "      <th>4</th>\n",
       "      <td>bams</td>\n",
       "    </tr>\n",
       "  </tbody>\n",
       "</table>\n",
       "</div>"
      ],
      "text/plain": [
       "                 Qualification\n",
       "0           bhms md homeopathy\n",
       "1    bams ayurveda md medicine\n",
       "2  ms mbbs otorhinolaryngology\n",
       "3             bams bsc zoology\n",
       "4                         bams"
      ]
     },
     "execution_count": 25,
     "metadata": {},
     "output_type": "execute_result"
    }
   ],
   "source": [
    "# Original qulaificaiton feature\n",
    "train_data.Qualification.head(5).to_frame()"
   ]
  },
  {
   "cell_type": "code",
   "execution_count": 26,
   "metadata": {},
   "outputs": [
    {
     "data": {
      "text/html": [
       "<div>\n",
       "<style scoped>\n",
       "    .dataframe tbody tr th:only-of-type {\n",
       "        vertical-align: middle;\n",
       "    }\n",
       "\n",
       "    .dataframe tbody tr th {\n",
       "        vertical-align: top;\n",
       "    }\n",
       "\n",
       "    .dataframe thead th {\n",
       "        text-align: right;\n",
       "    }\n",
       "</style>\n",
       "<table border=\"1\" class=\"dataframe\">\n",
       "  <thead>\n",
       "    <tr style=\"text-align: right;\">\n",
       "      <th></th>\n",
       "      <th>Qualification</th>\n",
       "    </tr>\n",
       "  </thead>\n",
       "  <tbody>\n",
       "    <tr>\n",
       "      <th>0</th>\n",
       "      <td>bhms,md</td>\n",
       "    </tr>\n",
       "    <tr>\n",
       "      <th>1</th>\n",
       "      <td>bams,md</td>\n",
       "    </tr>\n",
       "    <tr>\n",
       "      <th>2</th>\n",
       "      <td>ms,mbbs</td>\n",
       "    </tr>\n",
       "    <tr>\n",
       "      <th>3</th>\n",
       "      <td>bams</td>\n",
       "    </tr>\n",
       "    <tr>\n",
       "      <th>4</th>\n",
       "      <td>bams</td>\n",
       "    </tr>\n",
       "  </tbody>\n",
       "</table>\n",
       "</div>"
      ],
      "text/plain": [
       "  Qualification\n",
       "0       bhms,md\n",
       "1       bams,md\n",
       "2       ms,mbbs\n",
       "3          bams\n",
       "4          bams"
      ]
     },
     "execution_count": 26,
     "metadata": {},
     "output_type": "execute_result"
    }
   ],
   "source": [
    "# After tranformation\n",
    "train_data.Qualification.agg(lambda x: place_conv(re.findall('([a-z]+)',x.strip().lower()))).head(5).to_frame()"
   ]
  },
  {
   "cell_type": "code",
   "execution_count": 27,
   "metadata": {},
   "outputs": [],
   "source": [
    "# Convert all the qualificaitons in train data\n",
    "train_data.loc[:,'Qualification'] = train_data.Qualification.agg(\n",
    "    lambda x: place_conv(re.findall('([a-z]+)',x.strip().lower())))"
   ]
  },
  {
   "cell_type": "code",
   "execution_count": 28,
   "metadata": {},
   "outputs": [
    {
     "data": {
      "text/html": [
       "<div>\n",
       "<style scoped>\n",
       "    .dataframe tbody tr th:only-of-type {\n",
       "        vertical-align: middle;\n",
       "    }\n",
       "\n",
       "    .dataframe tbody tr th {\n",
       "        vertical-align: top;\n",
       "    }\n",
       "\n",
       "    .dataframe thead th {\n",
       "        text-align: right;\n",
       "    }\n",
       "</style>\n",
       "<table border=\"1\" class=\"dataframe\">\n",
       "  <thead>\n",
       "    <tr style=\"text-align: right;\">\n",
       "      <th></th>\n",
       "      <th>bhms</th>\n",
       "      <th>md</th>\n",
       "      <th>bams</th>\n",
       "      <th>ms</th>\n",
       "      <th>mbbs</th>\n",
       "      <th>bds</th>\n",
       "      <th>dnb</th>\n",
       "      <th>mds</th>\n",
       "      <th>dlo</th>\n",
       "      <th>diploma</th>\n",
       "      <th>fellowship</th>\n",
       "      <th>ddvl</th>\n",
       "      <th>pgdd</th>\n",
       "      <th>dhms</th>\n",
       "      <th>ddv</th>\n",
       "      <th>phd</th>\n",
       "      <th>others</th>\n",
       "    </tr>\n",
       "  </thead>\n",
       "  <tbody>\n",
       "    <tr>\n",
       "      <th>278</th>\n",
       "      <td>0.0</td>\n",
       "      <td>0.0</td>\n",
       "      <td>0.0</td>\n",
       "      <td>0.0</td>\n",
       "      <td>0.0</td>\n",
       "      <td>0.0</td>\n",
       "      <td>0.0</td>\n",
       "      <td>0.0</td>\n",
       "      <td>0.0</td>\n",
       "      <td>1.0</td>\n",
       "      <td>0.0</td>\n",
       "      <td>0.0</td>\n",
       "      <td>0.0</td>\n",
       "      <td>1.0</td>\n",
       "      <td>0.0</td>\n",
       "      <td>0.0</td>\n",
       "      <td>0.0</td>\n",
       "    </tr>\n",
       "    <tr>\n",
       "      <th>5649</th>\n",
       "      <td>0.0</td>\n",
       "      <td>0.0</td>\n",
       "      <td>0.0</td>\n",
       "      <td>0.0</td>\n",
       "      <td>1.0</td>\n",
       "      <td>0.0</td>\n",
       "      <td>0.0</td>\n",
       "      <td>0.0</td>\n",
       "      <td>1.0</td>\n",
       "      <td>1.0</td>\n",
       "      <td>0.0</td>\n",
       "      <td>0.0</td>\n",
       "      <td>0.0</td>\n",
       "      <td>0.0</td>\n",
       "      <td>0.0</td>\n",
       "      <td>0.0</td>\n",
       "      <td>0.0</td>\n",
       "    </tr>\n",
       "    <tr>\n",
       "      <th>3120</th>\n",
       "      <td>1.0</td>\n",
       "      <td>1.0</td>\n",
       "      <td>0.0</td>\n",
       "      <td>0.0</td>\n",
       "      <td>0.0</td>\n",
       "      <td>0.0</td>\n",
       "      <td>0.0</td>\n",
       "      <td>0.0</td>\n",
       "      <td>0.0</td>\n",
       "      <td>0.0</td>\n",
       "      <td>0.0</td>\n",
       "      <td>0.0</td>\n",
       "      <td>0.0</td>\n",
       "      <td>0.0</td>\n",
       "      <td>0.0</td>\n",
       "      <td>0.0</td>\n",
       "      <td>0.0</td>\n",
       "    </tr>\n",
       "    <tr>\n",
       "      <th>5079</th>\n",
       "      <td>0.0</td>\n",
       "      <td>0.0</td>\n",
       "      <td>0.0</td>\n",
       "      <td>0.0</td>\n",
       "      <td>1.0</td>\n",
       "      <td>0.0</td>\n",
       "      <td>1.0</td>\n",
       "      <td>0.0</td>\n",
       "      <td>0.0</td>\n",
       "      <td>0.0</td>\n",
       "      <td>0.0</td>\n",
       "      <td>0.0</td>\n",
       "      <td>0.0</td>\n",
       "      <td>0.0</td>\n",
       "      <td>0.0</td>\n",
       "      <td>0.0</td>\n",
       "      <td>0.0</td>\n",
       "    </tr>\n",
       "    <tr>\n",
       "      <th>1232</th>\n",
       "      <td>0.0</td>\n",
       "      <td>0.0</td>\n",
       "      <td>0.0</td>\n",
       "      <td>0.0</td>\n",
       "      <td>0.0</td>\n",
       "      <td>1.0</td>\n",
       "      <td>0.0</td>\n",
       "      <td>0.0</td>\n",
       "      <td>0.0</td>\n",
       "      <td>1.0</td>\n",
       "      <td>0.0</td>\n",
       "      <td>0.0</td>\n",
       "      <td>0.0</td>\n",
       "      <td>0.0</td>\n",
       "      <td>0.0</td>\n",
       "      <td>0.0</td>\n",
       "      <td>0.0</td>\n",
       "    </tr>\n",
       "  </tbody>\n",
       "</table>\n",
       "</div>"
      ],
      "text/plain": [
       "      bhms   md  bams   ms  mbbs  bds  dnb  mds  dlo  diploma  fellowship  \\\n",
       "278    0.0  0.0   0.0  0.0   0.0  0.0  0.0  0.0  0.0      1.0         0.0   \n",
       "5649   0.0  0.0   0.0  0.0   1.0  0.0  0.0  0.0  1.0      1.0         0.0   \n",
       "3120   1.0  1.0   0.0  0.0   0.0  0.0  0.0  0.0  0.0      0.0         0.0   \n",
       "5079   0.0  0.0   0.0  0.0   1.0  0.0  1.0  0.0  0.0      0.0         0.0   \n",
       "1232   0.0  0.0   0.0  0.0   0.0  1.0  0.0  0.0  0.0      1.0         0.0   \n",
       "\n",
       "      ddvl  pgdd  dhms  ddv  phd  others  \n",
       "278    0.0   0.0   1.0  0.0  0.0     0.0  \n",
       "5649   0.0   0.0   0.0  0.0  0.0     0.0  \n",
       "3120   0.0   0.0   0.0  0.0  0.0     0.0  \n",
       "5079   0.0   0.0   0.0  0.0  0.0     0.0  \n",
       "1232   0.0   0.0   0.0  0.0  0.0     0.0  "
      ]
     },
     "execution_count": 28,
     "metadata": {},
     "output_type": "execute_result"
    }
   ],
   "source": [
    "# Encoding the qualification features\n",
    "train_qual = train_data.Qualification.agg(lambda x: pd.Series(1,(set(x.strip().lower().split(','))))).fillna(0)\n",
    "train_qual.reset_index(drop=True,inplace=True)\n",
    "train_qual.sample(5)"
   ]
  },
  {
   "cell_type": "code",
   "execution_count": 29,
   "metadata": {},
   "outputs": [],
   "source": [
    "# Convert all the qualificaitons in test data\n",
    "test_data.loc[:,'Qualification'] = test_data.Qualification.agg(\n",
    "    lambda x: place_conv(re.findall('([a-z]+)',x.strip().lower())))"
   ]
  },
  {
   "cell_type": "code",
   "execution_count": 30,
   "metadata": {},
   "outputs": [
    {
     "data": {
      "text/html": [
       "<div>\n",
       "<style scoped>\n",
       "    .dataframe tbody tr th:only-of-type {\n",
       "        vertical-align: middle;\n",
       "    }\n",
       "\n",
       "    .dataframe tbody tr th {\n",
       "        vertical-align: top;\n",
       "    }\n",
       "\n",
       "    .dataframe thead th {\n",
       "        text-align: right;\n",
       "    }\n",
       "</style>\n",
       "<table border=\"1\" class=\"dataframe\">\n",
       "  <thead>\n",
       "    <tr style=\"text-align: right;\">\n",
       "      <th></th>\n",
       "      <th>mbbs</th>\n",
       "      <th>dlo</th>\n",
       "      <th>diploma</th>\n",
       "      <th>ddvl</th>\n",
       "      <th>bams</th>\n",
       "      <th>bds</th>\n",
       "      <th>mds</th>\n",
       "      <th>md</th>\n",
       "      <th>bhms</th>\n",
       "      <th>ddv</th>\n",
       "      <th>ms</th>\n",
       "      <th>dnb</th>\n",
       "      <th>phd</th>\n",
       "      <th>others</th>\n",
       "      <th>fellowship</th>\n",
       "      <th>pgdd</th>\n",
       "      <th>dhms</th>\n",
       "    </tr>\n",
       "  </thead>\n",
       "  <tbody>\n",
       "    <tr>\n",
       "      <th>1052</th>\n",
       "      <td>0.0</td>\n",
       "      <td>0.0</td>\n",
       "      <td>0.0</td>\n",
       "      <td>0.0</td>\n",
       "      <td>0.0</td>\n",
       "      <td>0.0</td>\n",
       "      <td>0.0</td>\n",
       "      <td>0.0</td>\n",
       "      <td>1.0</td>\n",
       "      <td>0.0</td>\n",
       "      <td>0.0</td>\n",
       "      <td>0.0</td>\n",
       "      <td>0.0</td>\n",
       "      <td>0.0</td>\n",
       "      <td>0.0</td>\n",
       "      <td>0.0</td>\n",
       "      <td>0.0</td>\n",
       "    </tr>\n",
       "    <tr>\n",
       "      <th>539</th>\n",
       "      <td>0.0</td>\n",
       "      <td>0.0</td>\n",
       "      <td>0.0</td>\n",
       "      <td>0.0</td>\n",
       "      <td>0.0</td>\n",
       "      <td>0.0</td>\n",
       "      <td>0.0</td>\n",
       "      <td>1.0</td>\n",
       "      <td>0.0</td>\n",
       "      <td>0.0</td>\n",
       "      <td>0.0</td>\n",
       "      <td>0.0</td>\n",
       "      <td>0.0</td>\n",
       "      <td>0.0</td>\n",
       "      <td>0.0</td>\n",
       "      <td>0.0</td>\n",
       "      <td>0.0</td>\n",
       "    </tr>\n",
       "    <tr>\n",
       "      <th>1353</th>\n",
       "      <td>1.0</td>\n",
       "      <td>0.0</td>\n",
       "      <td>0.0</td>\n",
       "      <td>0.0</td>\n",
       "      <td>0.0</td>\n",
       "      <td>0.0</td>\n",
       "      <td>0.0</td>\n",
       "      <td>1.0</td>\n",
       "      <td>0.0</td>\n",
       "      <td>0.0</td>\n",
       "      <td>0.0</td>\n",
       "      <td>1.0</td>\n",
       "      <td>0.0</td>\n",
       "      <td>0.0</td>\n",
       "      <td>0.0</td>\n",
       "      <td>0.0</td>\n",
       "      <td>0.0</td>\n",
       "    </tr>\n",
       "    <tr>\n",
       "      <th>677</th>\n",
       "      <td>0.0</td>\n",
       "      <td>0.0</td>\n",
       "      <td>0.0</td>\n",
       "      <td>0.0</td>\n",
       "      <td>0.0</td>\n",
       "      <td>0.0</td>\n",
       "      <td>0.0</td>\n",
       "      <td>0.0</td>\n",
       "      <td>1.0</td>\n",
       "      <td>0.0</td>\n",
       "      <td>0.0</td>\n",
       "      <td>0.0</td>\n",
       "      <td>0.0</td>\n",
       "      <td>0.0</td>\n",
       "      <td>0.0</td>\n",
       "      <td>0.0</td>\n",
       "      <td>0.0</td>\n",
       "    </tr>\n",
       "    <tr>\n",
       "      <th>1745</th>\n",
       "      <td>1.0</td>\n",
       "      <td>0.0</td>\n",
       "      <td>0.0</td>\n",
       "      <td>0.0</td>\n",
       "      <td>0.0</td>\n",
       "      <td>0.0</td>\n",
       "      <td>0.0</td>\n",
       "      <td>0.0</td>\n",
       "      <td>0.0</td>\n",
       "      <td>0.0</td>\n",
       "      <td>1.0</td>\n",
       "      <td>0.0</td>\n",
       "      <td>0.0</td>\n",
       "      <td>0.0</td>\n",
       "      <td>0.0</td>\n",
       "      <td>0.0</td>\n",
       "      <td>0.0</td>\n",
       "    </tr>\n",
       "  </tbody>\n",
       "</table>\n",
       "</div>"
      ],
      "text/plain": [
       "      mbbs  dlo  diploma  ddvl  bams  bds  mds   md  bhms  ddv   ms  dnb  phd  \\\n",
       "1052   0.0  0.0      0.0   0.0   0.0  0.0  0.0  0.0   1.0  0.0  0.0  0.0  0.0   \n",
       "539    0.0  0.0      0.0   0.0   0.0  0.0  0.0  1.0   0.0  0.0  0.0  0.0  0.0   \n",
       "1353   1.0  0.0      0.0   0.0   0.0  0.0  0.0  1.0   0.0  0.0  0.0  1.0  0.0   \n",
       "677    0.0  0.0      0.0   0.0   0.0  0.0  0.0  0.0   1.0  0.0  0.0  0.0  0.0   \n",
       "1745   1.0  0.0      0.0   0.0   0.0  0.0  0.0  0.0   0.0  0.0  1.0  0.0  0.0   \n",
       "\n",
       "      others  fellowship  pgdd  dhms  \n",
       "1052     0.0         0.0   0.0   0.0  \n",
       "539      0.0         0.0   0.0   0.0  \n",
       "1353     0.0         0.0   0.0   0.0  \n",
       "677      0.0         0.0   0.0   0.0  \n",
       "1745     0.0         0.0   0.0   0.0  "
      ]
     },
     "execution_count": 30,
     "metadata": {},
     "output_type": "execute_result"
    }
   ],
   "source": [
    "# Encoding the qualification features\n",
    "test_qual = test_data.Qualification.agg(lambda x: pd.Series(1,(set(x.strip().lower().split(','))))).fillna(0)\n",
    "test_qual.reset_index(drop=True,inplace=True)\n",
    "test_qual.sample(5)"
   ]
  },
  {
   "cell_type": "markdown",
   "metadata": {},
   "source": [
    "### ***Convert Experience into numeric feature***"
   ]
  },
  {
   "cell_type": "code",
   "execution_count": 31,
   "metadata": {},
   "outputs": [],
   "source": [
    "# Extract years from experience feature in train data\n",
    "train_exp = train_data.Experience.agg(lambda x: re.findall('(\\d+)',str(x))[0]).astype(int)\n",
    "train_exp.reset_index(drop=True,inplace=True)"
   ]
  },
  {
   "cell_type": "code",
   "execution_count": 32,
   "metadata": {},
   "outputs": [
    {
     "data": {
      "text/html": [
       "<div>\n",
       "<style scoped>\n",
       "    .dataframe tbody tr th:only-of-type {\n",
       "        vertical-align: middle;\n",
       "    }\n",
       "\n",
       "    .dataframe tbody tr th {\n",
       "        vertical-align: top;\n",
       "    }\n",
       "\n",
       "    .dataframe thead th {\n",
       "        text-align: right;\n",
       "    }\n",
       "</style>\n",
       "<table border=\"1\" class=\"dataframe\">\n",
       "  <thead>\n",
       "    <tr style=\"text-align: right;\">\n",
       "      <th></th>\n",
       "      <th>Experience</th>\n",
       "    </tr>\n",
       "  </thead>\n",
       "  <tbody>\n",
       "    <tr>\n",
       "      <th>0</th>\n",
       "      <td>24</td>\n",
       "    </tr>\n",
       "    <tr>\n",
       "      <th>1</th>\n",
       "      <td>12</td>\n",
       "    </tr>\n",
       "    <tr>\n",
       "      <th>2</th>\n",
       "      <td>9</td>\n",
       "    </tr>\n",
       "    <tr>\n",
       "      <th>3</th>\n",
       "      <td>12</td>\n",
       "    </tr>\n",
       "    <tr>\n",
       "      <th>4</th>\n",
       "      <td>20</td>\n",
       "    </tr>\n",
       "  </tbody>\n",
       "</table>\n",
       "</div>"
      ],
      "text/plain": [
       "   Experience\n",
       "0          24\n",
       "1          12\n",
       "2           9\n",
       "3          12\n",
       "4          20"
      ]
     },
     "execution_count": 32,
     "metadata": {},
     "output_type": "execute_result"
    }
   ],
   "source": [
    "train_exp.head().to_frame()"
   ]
  },
  {
   "cell_type": "code",
   "execution_count": 33,
   "metadata": {},
   "outputs": [],
   "source": [
    "# Extract years from experience feature in test data\n",
    "test_exp = test_data.Experience.agg(lambda x: re.findall('(\\d+)',str(x))[0]).astype(int)\n",
    "test_exp.reset_index(drop=True,inplace=True)"
   ]
  },
  {
   "cell_type": "code",
   "execution_count": 34,
   "metadata": {},
   "outputs": [
    {
     "data": {
      "text/html": [
       "<div>\n",
       "<style scoped>\n",
       "    .dataframe tbody tr th:only-of-type {\n",
       "        vertical-align: middle;\n",
       "    }\n",
       "\n",
       "    .dataframe tbody tr th {\n",
       "        vertical-align: top;\n",
       "    }\n",
       "\n",
       "    .dataframe thead th {\n",
       "        text-align: right;\n",
       "    }\n",
       "</style>\n",
       "<table border=\"1\" class=\"dataframe\">\n",
       "  <thead>\n",
       "    <tr style=\"text-align: right;\">\n",
       "      <th></th>\n",
       "      <th>Experience</th>\n",
       "    </tr>\n",
       "  </thead>\n",
       "  <tbody>\n",
       "    <tr>\n",
       "      <th>0</th>\n",
       "      <td>35</td>\n",
       "    </tr>\n",
       "    <tr>\n",
       "      <th>1</th>\n",
       "      <td>31</td>\n",
       "    </tr>\n",
       "    <tr>\n",
       "      <th>2</th>\n",
       "      <td>40</td>\n",
       "    </tr>\n",
       "    <tr>\n",
       "      <th>3</th>\n",
       "      <td>0</td>\n",
       "    </tr>\n",
       "    <tr>\n",
       "      <th>4</th>\n",
       "      <td>16</td>\n",
       "    </tr>\n",
       "  </tbody>\n",
       "</table>\n",
       "</div>"
      ],
      "text/plain": [
       "   Experience\n",
       "0          35\n",
       "1          31\n",
       "2          40\n",
       "3           0\n",
       "4          16"
      ]
     },
     "execution_count": 34,
     "metadata": {},
     "output_type": "execute_result"
    }
   ],
   "source": [
    "test_exp.head().to_frame()"
   ]
  },
  {
   "cell_type": "markdown",
   "metadata": {},
   "source": [
    "### ***Convert Rating to numeric type and fill nan values with the mean rating in each Profile***"
   ]
  },
  {
   "cell_type": "code",
   "execution_count": 35,
   "metadata": {},
   "outputs": [],
   "source": [
    "# Find out the mean rating in each profile and replace the nan values\n",
    "df = train_data.dropna(subset=['Rating'])\n",
    "df.loc[:,'Rating'] = df['Rating'].agg(lambda x: (str(x).replace('%',''))).astype(int)\n",
    "rating_mean = dict(round(df.groupby('Profile')['Rating'].mean()).astype(int))\n",
    "for k,v in rating_mean.items():\n",
    "    train_data.loc[train_data.Profile == k] = train_data.loc[train_data.Profile == k].fillna(str(v)+'%')\n",
    "for k,v in rating_mean.items():\n",
    "    test_data.loc[test_data.Profile == k] = test_data.loc[test_data.Profile == k].fillna(str(v)+'%')"
   ]
  },
  {
   "cell_type": "code",
   "execution_count": 36,
   "metadata": {},
   "outputs": [
    {
     "data": {
      "text/plain": [
       "0"
      ]
     },
     "execution_count": 36,
     "metadata": {},
     "output_type": "execute_result"
    }
   ],
   "source": [
    "train_data.Rating.isnull().sum()"
   ]
  },
  {
   "cell_type": "code",
   "execution_count": 37,
   "metadata": {},
   "outputs": [],
   "source": [
    "# Convert rating to int type\n",
    "train_rating = train_data.Rating.agg(lambda x: str(x).replace('%','')).astype(int)\n",
    "train_rating.reset_index(drop=True,inplace=True)"
   ]
  },
  {
   "cell_type": "code",
   "execution_count": 38,
   "metadata": {},
   "outputs": [
    {
     "data": {
      "text/html": [
       "<div>\n",
       "<style scoped>\n",
       "    .dataframe tbody tr th:only-of-type {\n",
       "        vertical-align: middle;\n",
       "    }\n",
       "\n",
       "    .dataframe tbody tr th {\n",
       "        vertical-align: top;\n",
       "    }\n",
       "\n",
       "    .dataframe thead th {\n",
       "        text-align: right;\n",
       "    }\n",
       "</style>\n",
       "<table border=\"1\" class=\"dataframe\">\n",
       "  <thead>\n",
       "    <tr style=\"text-align: right;\">\n",
       "      <th></th>\n",
       "      <th>Rating</th>\n",
       "    </tr>\n",
       "  </thead>\n",
       "  <tbody>\n",
       "    <tr>\n",
       "      <th>0</th>\n",
       "      <td>100</td>\n",
       "    </tr>\n",
       "    <tr>\n",
       "      <th>1</th>\n",
       "      <td>98</td>\n",
       "    </tr>\n",
       "    <tr>\n",
       "      <th>2</th>\n",
       "      <td>89</td>\n",
       "    </tr>\n",
       "    <tr>\n",
       "      <th>3</th>\n",
       "      <td>96</td>\n",
       "    </tr>\n",
       "    <tr>\n",
       "      <th>4</th>\n",
       "      <td>100</td>\n",
       "    </tr>\n",
       "  </tbody>\n",
       "</table>\n",
       "</div>"
      ],
      "text/plain": [
       "   Rating\n",
       "0     100\n",
       "1      98\n",
       "2      89\n",
       "3      96\n",
       "4     100"
      ]
     },
     "execution_count": 38,
     "metadata": {},
     "output_type": "execute_result"
    }
   ],
   "source": [
    "train_rating.head().to_frame()"
   ]
  },
  {
   "cell_type": "code",
   "execution_count": 39,
   "metadata": {},
   "outputs": [],
   "source": [
    "# Replace nan with mode vallues and convert rating to int type\n",
    "test_rating = test_data.Rating.agg(lambda x: str(x).replace('%','')).astype(int)\n",
    "test_rating.reset_index(drop=True,inplace=True)"
   ]
  },
  {
   "cell_type": "code",
   "execution_count": 40,
   "metadata": {},
   "outputs": [
    {
     "data": {
      "text/html": [
       "<div>\n",
       "<style scoped>\n",
       "    .dataframe tbody tr th:only-of-type {\n",
       "        vertical-align: middle;\n",
       "    }\n",
       "\n",
       "    .dataframe tbody tr th {\n",
       "        vertical-align: top;\n",
       "    }\n",
       "\n",
       "    .dataframe thead th {\n",
       "        text-align: right;\n",
       "    }\n",
       "</style>\n",
       "<table border=\"1\" class=\"dataframe\">\n",
       "  <thead>\n",
       "    <tr style=\"text-align: right;\">\n",
       "      <th></th>\n",
       "      <th>Rating</th>\n",
       "    </tr>\n",
       "  </thead>\n",
       "  <tbody>\n",
       "    <tr>\n",
       "      <th>0</th>\n",
       "      <td>92</td>\n",
       "    </tr>\n",
       "    <tr>\n",
       "      <th>1</th>\n",
       "      <td>89</td>\n",
       "    </tr>\n",
       "    <tr>\n",
       "      <th>2</th>\n",
       "      <td>70</td>\n",
       "    </tr>\n",
       "    <tr>\n",
       "      <th>3</th>\n",
       "      <td>96</td>\n",
       "    </tr>\n",
       "    <tr>\n",
       "      <th>4</th>\n",
       "      <td>100</td>\n",
       "    </tr>\n",
       "  </tbody>\n",
       "</table>\n",
       "</div>"
      ],
      "text/plain": [
       "   Rating\n",
       "0      92\n",
       "1      89\n",
       "2      70\n",
       "3      96\n",
       "4     100"
      ]
     },
     "execution_count": 40,
     "metadata": {},
     "output_type": "execute_result"
    }
   ],
   "source": [
    "test_rating.head().to_frame()"
   ]
  },
  {
   "cell_type": "markdown",
   "metadata": {},
   "source": [
    "### ***Extract Cities from place feature***"
   ]
  },
  {
   "cell_type": "code",
   "execution_count": 41,
   "metadata": {},
   "outputs": [
    {
     "name": "stdout",
     "output_type": "stream",
     "text": [
      "['ernakulam' 'bangalore' 'chennai' 'delhi' 'hyderabad' 'coimbatore'\n",
      " 'mumbai' 'thiruvananthapuram' 'e']\n",
      "['mumbai' 'hyderabad' 'chennai' 'delhi' 'bangalore' 'coimbatore'\n",
      " 'thiruvananthapuram' 'ernakulam']\n"
     ]
    }
   ],
   "source": [
    "# Find unique places in the Place feature\n",
    "print(train_data.Place.agg(lambda x: ''.join(re.findall('\\w+$',str(x).lower().strip()))).unique())\n",
    "print(test_data.Place.agg(lambda x: ''.join(re.findall('\\w+$',str(x).lower().strip()))).unique())"
   ]
  },
  {
   "cell_type": "code",
   "execution_count": 42,
   "metadata": {},
   "outputs": [
    {
     "data": {
      "text/html": [
       "<div>\n",
       "<style scoped>\n",
       "    .dataframe tbody tr th:only-of-type {\n",
       "        vertical-align: middle;\n",
       "    }\n",
       "\n",
       "    .dataframe tbody tr th {\n",
       "        vertical-align: top;\n",
       "    }\n",
       "\n",
       "    .dataframe thead th {\n",
       "        text-align: right;\n",
       "    }\n",
       "</style>\n",
       "<table border=\"1\" class=\"dataframe\">\n",
       "  <thead>\n",
       "    <tr style=\"text-align: right;\">\n",
       "      <th></th>\n",
       "      <th>Qualification</th>\n",
       "      <th>Experience</th>\n",
       "      <th>Rating</th>\n",
       "      <th>Place</th>\n",
       "      <th>Profile</th>\n",
       "      <th>Miscellaneous_Info</th>\n",
       "      <th>Fees</th>\n",
       "    </tr>\n",
       "  </thead>\n",
       "  <tbody>\n",
       "    <tr>\n",
       "      <th>3959</th>\n",
       "      <td>bds</td>\n",
       "      <td>23 years experience</td>\n",
       "      <td>98%</td>\n",
       "      <td>e</td>\n",
       "      <td>Dentist</td>\n",
       "      <td>98%</td>\n",
       "      <td>250</td>\n",
       "    </tr>\n",
       "  </tbody>\n",
       "</table>\n",
       "</div>"
      ],
      "text/plain": [
       "     Qualification           Experience Rating Place  Profile  \\\n",
       "3959           bds  23 years experience    98%     e  Dentist   \n",
       "\n",
       "     Miscellaneous_Info  Fees  \n",
       "3959                98%   250  "
      ]
     },
     "execution_count": 42,
     "metadata": {},
     "output_type": "execute_result"
    }
   ],
   "source": [
    "# Check out the samples with place e\n",
    "train_data[train_data.Place.agg(lambda x: ''.join(re.findall('\\w+$',str(x).lower().strip()))) == 'e']"
   ]
  },
  {
   "cell_type": "code",
   "execution_count": 43,
   "metadata": {},
   "outputs": [],
   "source": [
    "# Remove the sample and reset the index\n",
    "index = train_data[train_data.Place.agg(lambda x: ''.join(re.findall('\\w+$',str(x).lower().strip()))) == 'e'].index\n",
    "train_data.drop(index,inplace=True)\n",
    "train_data.reset_index(drop=True,inplace=True)\n",
    "train_qual.drop(index,inplace=True)\n",
    "train_qual.reset_index(drop=True,inplace=True)\n",
    "train_exp.drop(index,inplace=True)\n",
    "train_exp.reset_index(drop=True,inplace=True)\n",
    "train_rating.drop(index,inplace=True)\n",
    "train_rating.reset_index(drop=True,inplace=True)"
   ]
  },
  {
   "cell_type": "code",
   "execution_count": 44,
   "metadata": {},
   "outputs": [],
   "source": [
    "# Encoding the places in train and test data\n",
    "train_city = train_data.Place.agg(lambda x: pd.Series(1,[str(x).lower().split(',')[-1].strip()])).fillna(0)\n",
    "test_city = test_data.Place.agg(lambda x: pd.Series(1,[str(x).lower().split(',')[-1].strip()])).fillna(0)"
   ]
  },
  {
   "cell_type": "code",
   "execution_count": 45,
   "metadata": {},
   "outputs": [
    {
     "data": {
      "text/html": [
       "<div>\n",
       "<style scoped>\n",
       "    .dataframe tbody tr th:only-of-type {\n",
       "        vertical-align: middle;\n",
       "    }\n",
       "\n",
       "    .dataframe tbody tr th {\n",
       "        vertical-align: top;\n",
       "    }\n",
       "\n",
       "    .dataframe thead th {\n",
       "        text-align: right;\n",
       "    }\n",
       "</style>\n",
       "<table border=\"1\" class=\"dataframe\">\n",
       "  <thead>\n",
       "    <tr style=\"text-align: right;\">\n",
       "      <th></th>\n",
       "      <th>ernakulam</th>\n",
       "      <th>bangalore</th>\n",
       "      <th>chennai</th>\n",
       "      <th>delhi</th>\n",
       "      <th>hyderabad</th>\n",
       "      <th>coimbatore</th>\n",
       "      <th>mumbai</th>\n",
       "      <th>thiruvananthapuram</th>\n",
       "    </tr>\n",
       "  </thead>\n",
       "  <tbody>\n",
       "    <tr>\n",
       "      <th>0</th>\n",
       "      <td>1.0</td>\n",
       "      <td>0.0</td>\n",
       "      <td>0.0</td>\n",
       "      <td>0.0</td>\n",
       "      <td>0.0</td>\n",
       "      <td>0.0</td>\n",
       "      <td>0.0</td>\n",
       "      <td>0.0</td>\n",
       "    </tr>\n",
       "    <tr>\n",
       "      <th>1</th>\n",
       "      <td>0.0</td>\n",
       "      <td>1.0</td>\n",
       "      <td>0.0</td>\n",
       "      <td>0.0</td>\n",
       "      <td>0.0</td>\n",
       "      <td>0.0</td>\n",
       "      <td>0.0</td>\n",
       "      <td>0.0</td>\n",
       "    </tr>\n",
       "    <tr>\n",
       "      <th>2</th>\n",
       "      <td>0.0</td>\n",
       "      <td>1.0</td>\n",
       "      <td>0.0</td>\n",
       "      <td>0.0</td>\n",
       "      <td>0.0</td>\n",
       "      <td>0.0</td>\n",
       "      <td>0.0</td>\n",
       "      <td>0.0</td>\n",
       "    </tr>\n",
       "    <tr>\n",
       "      <th>3</th>\n",
       "      <td>0.0</td>\n",
       "      <td>1.0</td>\n",
       "      <td>0.0</td>\n",
       "      <td>0.0</td>\n",
       "      <td>0.0</td>\n",
       "      <td>0.0</td>\n",
       "      <td>0.0</td>\n",
       "      <td>0.0</td>\n",
       "    </tr>\n",
       "    <tr>\n",
       "      <th>4</th>\n",
       "      <td>0.0</td>\n",
       "      <td>0.0</td>\n",
       "      <td>1.0</td>\n",
       "      <td>0.0</td>\n",
       "      <td>0.0</td>\n",
       "      <td>0.0</td>\n",
       "      <td>0.0</td>\n",
       "      <td>0.0</td>\n",
       "    </tr>\n",
       "  </tbody>\n",
       "</table>\n",
       "</div>"
      ],
      "text/plain": [
       "   ernakulam  bangalore  chennai  delhi  hyderabad  coimbatore  mumbai  \\\n",
       "0        1.0        0.0      0.0    0.0        0.0         0.0     0.0   \n",
       "1        0.0        1.0      0.0    0.0        0.0         0.0     0.0   \n",
       "2        0.0        1.0      0.0    0.0        0.0         0.0     0.0   \n",
       "3        0.0        1.0      0.0    0.0        0.0         0.0     0.0   \n",
       "4        0.0        0.0      1.0    0.0        0.0         0.0     0.0   \n",
       "\n",
       "   thiruvananthapuram  \n",
       "0                 0.0  \n",
       "1                 0.0  \n",
       "2                 0.0  \n",
       "3                 0.0  \n",
       "4                 0.0  "
      ]
     },
     "execution_count": 45,
     "metadata": {},
     "output_type": "execute_result"
    }
   ],
   "source": [
    "train_city.head()"
   ]
  },
  {
   "cell_type": "code",
   "execution_count": 46,
   "metadata": {},
   "outputs": [
    {
     "data": {
      "text/html": [
       "<div>\n",
       "<style scoped>\n",
       "    .dataframe tbody tr th:only-of-type {\n",
       "        vertical-align: middle;\n",
       "    }\n",
       "\n",
       "    .dataframe tbody tr th {\n",
       "        vertical-align: top;\n",
       "    }\n",
       "\n",
       "    .dataframe thead th {\n",
       "        text-align: right;\n",
       "    }\n",
       "</style>\n",
       "<table border=\"1\" class=\"dataframe\">\n",
       "  <thead>\n",
       "    <tr style=\"text-align: right;\">\n",
       "      <th></th>\n",
       "      <th>mumbai</th>\n",
       "      <th>hyderabad</th>\n",
       "      <th>chennai</th>\n",
       "      <th>delhi</th>\n",
       "      <th>bangalore</th>\n",
       "      <th>coimbatore</th>\n",
       "      <th>thiruvananthapuram</th>\n",
       "      <th>ernakulam</th>\n",
       "    </tr>\n",
       "  </thead>\n",
       "  <tbody>\n",
       "    <tr>\n",
       "      <th>0</th>\n",
       "      <td>1.0</td>\n",
       "      <td>0.0</td>\n",
       "      <td>0.0</td>\n",
       "      <td>0.0</td>\n",
       "      <td>0.0</td>\n",
       "      <td>0.0</td>\n",
       "      <td>0.0</td>\n",
       "      <td>0.0</td>\n",
       "    </tr>\n",
       "    <tr>\n",
       "      <th>1</th>\n",
       "      <td>0.0</td>\n",
       "      <td>1.0</td>\n",
       "      <td>0.0</td>\n",
       "      <td>0.0</td>\n",
       "      <td>0.0</td>\n",
       "      <td>0.0</td>\n",
       "      <td>0.0</td>\n",
       "      <td>0.0</td>\n",
       "    </tr>\n",
       "    <tr>\n",
       "      <th>2</th>\n",
       "      <td>0.0</td>\n",
       "      <td>0.0</td>\n",
       "      <td>1.0</td>\n",
       "      <td>0.0</td>\n",
       "      <td>0.0</td>\n",
       "      <td>0.0</td>\n",
       "      <td>0.0</td>\n",
       "      <td>0.0</td>\n",
       "    </tr>\n",
       "    <tr>\n",
       "      <th>3</th>\n",
       "      <td>0.0</td>\n",
       "      <td>0.0</td>\n",
       "      <td>0.0</td>\n",
       "      <td>1.0</td>\n",
       "      <td>0.0</td>\n",
       "      <td>0.0</td>\n",
       "      <td>0.0</td>\n",
       "      <td>0.0</td>\n",
       "    </tr>\n",
       "    <tr>\n",
       "      <th>4</th>\n",
       "      <td>0.0</td>\n",
       "      <td>0.0</td>\n",
       "      <td>0.0</td>\n",
       "      <td>0.0</td>\n",
       "      <td>1.0</td>\n",
       "      <td>0.0</td>\n",
       "      <td>0.0</td>\n",
       "      <td>0.0</td>\n",
       "    </tr>\n",
       "  </tbody>\n",
       "</table>\n",
       "</div>"
      ],
      "text/plain": [
       "   mumbai  hyderabad  chennai  delhi  bangalore  coimbatore  \\\n",
       "0     1.0        0.0      0.0    0.0        0.0         0.0   \n",
       "1     0.0        1.0      0.0    0.0        0.0         0.0   \n",
       "2     0.0        0.0      1.0    0.0        0.0         0.0   \n",
       "3     0.0        0.0      0.0    1.0        0.0         0.0   \n",
       "4     0.0        0.0      0.0    0.0        1.0         0.0   \n",
       "\n",
       "   thiruvananthapuram  ernakulam  \n",
       "0                 0.0        0.0  \n",
       "1                 0.0        0.0  \n",
       "2                 0.0        0.0  \n",
       "3                 0.0        0.0  \n",
       "4                 0.0        0.0  "
      ]
     },
     "execution_count": 46,
     "metadata": {},
     "output_type": "execute_result"
    }
   ],
   "source": [
    "test_city.head()"
   ]
  },
  {
   "cell_type": "markdown",
   "metadata": {},
   "source": [
    "### ***Label Encode the areas from the Place feature***"
   ]
  },
  {
   "cell_type": "code",
   "execution_count": 49,
   "metadata": {},
   "outputs": [],
   "source": [
    "# Extract areas from the Place feature apply encoding\n",
    "l = []\n",
    "l.extend(train_data.Place.agg(lambda x: ' '.join(re.findall('\\w+',str(x).lower().strip())[:-1])).unique())\n",
    "l.extend(test_data.Place.agg(lambda x: ' '.join(re.findall('\\w+',str(x).lower().strip())[:-1])).unique())\n",
    "l = set(l)\n",
    "dict_area = dict(enumerate(l))\n",
    "dict_area = dict([(i[1],i[0]) for i in dict_area.items()])"
   ]
  },
  {
   "cell_type": "code",
   "execution_count": 50,
   "metadata": {},
   "outputs": [],
   "source": [
    "train_area = train_data.Place.agg(lambda x: ' '.join(re.findall('\\w+',str(x).lower().strip())[:-1])).replace(dict_area)\n",
    "test_area = test_data.Place.agg(lambda x: ' '.join(re.findall('\\w+',str(x).lower().strip())[:-1])).replace(dict_area)"
   ]
  },
  {
   "cell_type": "code",
   "execution_count": 51,
   "metadata": {},
   "outputs": [
    {
     "data": {
      "text/html": [
       "<div>\n",
       "<style scoped>\n",
       "    .dataframe tbody tr th:only-of-type {\n",
       "        vertical-align: middle;\n",
       "    }\n",
       "\n",
       "    .dataframe tbody tr th {\n",
       "        vertical-align: top;\n",
       "    }\n",
       "\n",
       "    .dataframe thead th {\n",
       "        text-align: right;\n",
       "    }\n",
       "</style>\n",
       "<table border=\"1\" class=\"dataframe\">\n",
       "  <thead>\n",
       "    <tr style=\"text-align: right;\">\n",
       "      <th></th>\n",
       "      <th>Place</th>\n",
       "    </tr>\n",
       "  </thead>\n",
       "  <tbody>\n",
       "    <tr>\n",
       "      <th>0</th>\n",
       "      <td>69</td>\n",
       "    </tr>\n",
       "    <tr>\n",
       "      <th>1</th>\n",
       "      <td>885</td>\n",
       "    </tr>\n",
       "    <tr>\n",
       "      <th>2</th>\n",
       "      <td>783</td>\n",
       "    </tr>\n",
       "    <tr>\n",
       "      <th>3</th>\n",
       "      <td>465</td>\n",
       "    </tr>\n",
       "    <tr>\n",
       "      <th>4</th>\n",
       "      <td>889</td>\n",
       "    </tr>\n",
       "  </tbody>\n",
       "</table>\n",
       "</div>"
      ],
      "text/plain": [
       "   Place\n",
       "0     69\n",
       "1    885\n",
       "2    783\n",
       "3    465\n",
       "4    889"
      ]
     },
     "execution_count": 51,
     "metadata": {},
     "output_type": "execute_result"
    }
   ],
   "source": [
    "train_area.head().to_frame()"
   ]
  },
  {
   "cell_type": "code",
   "execution_count": 52,
   "metadata": {},
   "outputs": [
    {
     "data": {
      "text/html": [
       "<div>\n",
       "<style scoped>\n",
       "    .dataframe tbody tr th:only-of-type {\n",
       "        vertical-align: middle;\n",
       "    }\n",
       "\n",
       "    .dataframe tbody tr th {\n",
       "        vertical-align: top;\n",
       "    }\n",
       "\n",
       "    .dataframe thead th {\n",
       "        text-align: right;\n",
       "    }\n",
       "</style>\n",
       "<table border=\"1\" class=\"dataframe\">\n",
       "  <thead>\n",
       "    <tr style=\"text-align: right;\">\n",
       "      <th></th>\n",
       "      <th>Place</th>\n",
       "    </tr>\n",
       "  </thead>\n",
       "  <tbody>\n",
       "    <tr>\n",
       "      <th>0</th>\n",
       "      <td>318</td>\n",
       "    </tr>\n",
       "    <tr>\n",
       "      <th>1</th>\n",
       "      <td>799</td>\n",
       "    </tr>\n",
       "    <tr>\n",
       "      <th>2</th>\n",
       "      <td>366</td>\n",
       "    </tr>\n",
       "    <tr>\n",
       "      <th>3</th>\n",
       "      <td>348</td>\n",
       "    </tr>\n",
       "    <tr>\n",
       "      <th>4</th>\n",
       "      <td>174</td>\n",
       "    </tr>\n",
       "  </tbody>\n",
       "</table>\n",
       "</div>"
      ],
      "text/plain": [
       "   Place\n",
       "0    318\n",
       "1    799\n",
       "2    366\n",
       "3    348\n",
       "4    174"
      ]
     },
     "execution_count": 52,
     "metadata": {},
     "output_type": "execute_result"
    }
   ],
   "source": [
    "test_area.head().to_frame()"
   ]
  },
  {
   "cell_type": "code",
   "execution_count": 53,
   "metadata": {},
   "outputs": [],
   "source": [
    "# Encoding profile\n",
    "train_profile = train_data.Profile.agg(lambda x: pd.Series(1,[x])).fillna(0).astype(int)\n",
    "train_profile.reset_index(drop=True,inplace=True)"
   ]
  },
  {
   "cell_type": "code",
   "execution_count": 54,
   "metadata": {},
   "outputs": [
    {
     "data": {
      "text/html": [
       "<div>\n",
       "<style scoped>\n",
       "    .dataframe tbody tr th:only-of-type {\n",
       "        vertical-align: middle;\n",
       "    }\n",
       "\n",
       "    .dataframe tbody tr th {\n",
       "        vertical-align: top;\n",
       "    }\n",
       "\n",
       "    .dataframe thead th {\n",
       "        text-align: right;\n",
       "    }\n",
       "</style>\n",
       "<table border=\"1\" class=\"dataframe\">\n",
       "  <thead>\n",
       "    <tr style=\"text-align: right;\">\n",
       "      <th></th>\n",
       "      <th>Homeopath</th>\n",
       "      <th>Ayurveda</th>\n",
       "      <th>ENT Specialist</th>\n",
       "      <th>Dentist</th>\n",
       "      <th>General Medicine</th>\n",
       "      <th>Dermatologists</th>\n",
       "    </tr>\n",
       "  </thead>\n",
       "  <tbody>\n",
       "    <tr>\n",
       "      <th>0</th>\n",
       "      <td>1</td>\n",
       "      <td>0</td>\n",
       "      <td>0</td>\n",
       "      <td>0</td>\n",
       "      <td>0</td>\n",
       "      <td>0</td>\n",
       "    </tr>\n",
       "    <tr>\n",
       "      <th>1</th>\n",
       "      <td>0</td>\n",
       "      <td>1</td>\n",
       "      <td>0</td>\n",
       "      <td>0</td>\n",
       "      <td>0</td>\n",
       "      <td>0</td>\n",
       "    </tr>\n",
       "    <tr>\n",
       "      <th>2</th>\n",
       "      <td>0</td>\n",
       "      <td>0</td>\n",
       "      <td>1</td>\n",
       "      <td>0</td>\n",
       "      <td>0</td>\n",
       "      <td>0</td>\n",
       "    </tr>\n",
       "    <tr>\n",
       "      <th>3</th>\n",
       "      <td>0</td>\n",
       "      <td>1</td>\n",
       "      <td>0</td>\n",
       "      <td>0</td>\n",
       "      <td>0</td>\n",
       "      <td>0</td>\n",
       "    </tr>\n",
       "    <tr>\n",
       "      <th>4</th>\n",
       "      <td>0</td>\n",
       "      <td>1</td>\n",
       "      <td>0</td>\n",
       "      <td>0</td>\n",
       "      <td>0</td>\n",
       "      <td>0</td>\n",
       "    </tr>\n",
       "  </tbody>\n",
       "</table>\n",
       "</div>"
      ],
      "text/plain": [
       "   Homeopath  Ayurveda  ENT Specialist  Dentist  General Medicine  \\\n",
       "0          1         0               0        0                 0   \n",
       "1          0         1               0        0                 0   \n",
       "2          0         0               1        0                 0   \n",
       "3          0         1               0        0                 0   \n",
       "4          0         1               0        0                 0   \n",
       "\n",
       "   Dermatologists  \n",
       "0               0  \n",
       "1               0  \n",
       "2               0  \n",
       "3               0  \n",
       "4               0  "
      ]
     },
     "execution_count": 54,
     "metadata": {},
     "output_type": "execute_result"
    }
   ],
   "source": [
    "train_profile.head()"
   ]
  },
  {
   "cell_type": "code",
   "execution_count": 55,
   "metadata": {},
   "outputs": [],
   "source": [
    "# Encoding profile in test data\n",
    "test_profile = test_data.Profile.agg(lambda x: pd.Series(1,[x])).fillna(0).astype(int)\n",
    "test_profile.reset_index(drop=True,inplace=True)"
   ]
  },
  {
   "cell_type": "code",
   "execution_count": 56,
   "metadata": {},
   "outputs": [
    {
     "data": {
      "text/html": [
       "<div>\n",
       "<style scoped>\n",
       "    .dataframe tbody tr th:only-of-type {\n",
       "        vertical-align: middle;\n",
       "    }\n",
       "\n",
       "    .dataframe tbody tr th {\n",
       "        vertical-align: top;\n",
       "    }\n",
       "\n",
       "    .dataframe thead th {\n",
       "        text-align: right;\n",
       "    }\n",
       "</style>\n",
       "<table border=\"1\" class=\"dataframe\">\n",
       "  <thead>\n",
       "    <tr style=\"text-align: right;\">\n",
       "      <th></th>\n",
       "      <th>General Medicine</th>\n",
       "      <th>ENT Specialist</th>\n",
       "      <th>Dermatologists</th>\n",
       "      <th>Ayurveda</th>\n",
       "      <th>Dentist</th>\n",
       "      <th>Homeopath</th>\n",
       "    </tr>\n",
       "  </thead>\n",
       "  <tbody>\n",
       "    <tr>\n",
       "      <th>0</th>\n",
       "      <td>1</td>\n",
       "      <td>0</td>\n",
       "      <td>0</td>\n",
       "      <td>0</td>\n",
       "      <td>0</td>\n",
       "      <td>0</td>\n",
       "    </tr>\n",
       "    <tr>\n",
       "      <th>1</th>\n",
       "      <td>0</td>\n",
       "      <td>1</td>\n",
       "      <td>0</td>\n",
       "      <td>0</td>\n",
       "      <td>0</td>\n",
       "      <td>0</td>\n",
       "    </tr>\n",
       "    <tr>\n",
       "      <th>2</th>\n",
       "      <td>0</td>\n",
       "      <td>0</td>\n",
       "      <td>1</td>\n",
       "      <td>0</td>\n",
       "      <td>0</td>\n",
       "      <td>0</td>\n",
       "    </tr>\n",
       "    <tr>\n",
       "      <th>3</th>\n",
       "      <td>0</td>\n",
       "      <td>0</td>\n",
       "      <td>0</td>\n",
       "      <td>1</td>\n",
       "      <td>0</td>\n",
       "      <td>0</td>\n",
       "    </tr>\n",
       "    <tr>\n",
       "      <th>4</th>\n",
       "      <td>0</td>\n",
       "      <td>0</td>\n",
       "      <td>0</td>\n",
       "      <td>0</td>\n",
       "      <td>1</td>\n",
       "      <td>0</td>\n",
       "    </tr>\n",
       "  </tbody>\n",
       "</table>\n",
       "</div>"
      ],
      "text/plain": [
       "   General Medicine  ENT Specialist  Dermatologists  Ayurveda  Dentist  \\\n",
       "0                 1               0               0         0        0   \n",
       "1                 0               1               0         0        0   \n",
       "2                 0               0               1         0        0   \n",
       "3                 0               0               0         1        0   \n",
       "4                 0               0               0         0        1   \n",
       "\n",
       "   Homeopath  \n",
       "0          0  \n",
       "1          0  \n",
       "2          0  \n",
       "3          0  \n",
       "4          0  "
      ]
     },
     "execution_count": 56,
     "metadata": {},
     "output_type": "execute_result"
    }
   ],
   "source": [
    "test_profile.head()"
   ]
  },
  {
   "cell_type": "code",
   "execution_count": 57,
   "metadata": {},
   "outputs": [
    {
     "data": {
      "text/plain": [
       "(5918, 7)"
      ]
     },
     "execution_count": 57,
     "metadata": {},
     "output_type": "execute_result"
    }
   ],
   "source": [
    "train_data.shape"
   ]
  },
  {
   "cell_type": "markdown",
   "metadata": {},
   "source": [
    "### ***Extract features from the Miscellaneous_Info and encode it***"
   ]
  },
  {
   "cell_type": "code",
   "execution_count": 58,
   "metadata": {},
   "outputs": [],
   "source": [
    "# Fill null values with \"NA\"\n",
    "train_data['Miscellaneous_Info'].fillna('NA',inplace=True)\n",
    "test_data['Miscellaneous_Info'].fillna('NA',inplace=True)"
   ]
  },
  {
   "cell_type": "code",
   "execution_count": 59,
   "metadata": {},
   "outputs": [],
   "source": [
    "# Tranform Miscellaneous_Info into feature vectors\n",
    "tf =TfidfVectorizer(stop_words='english',lowercase=True,token_pattern='[a-z]+').fit(train_data['Miscellaneous_Info'])"
   ]
  },
  {
   "cell_type": "code",
   "execution_count": 60,
   "metadata": {},
   "outputs": [],
   "source": [
    "tf_vector = tf.transform(train_data['Miscellaneous_Info'])\n",
    "train_misc = pd.DataFrame(tf_vector.toarray(),columns=tf.get_feature_names())"
   ]
  },
  {
   "cell_type": "code",
   "execution_count": 61,
   "metadata": {},
   "outputs": [],
   "source": [
    "tf_vector = tf.transform(test_data['Miscellaneous_Info'])\n",
    "test_misc = pd.DataFrame(tf_vector.toarray(),columns=tf.get_feature_names())"
   ]
  },
  {
   "cell_type": "code",
   "execution_count": 62,
   "metadata": {},
   "outputs": [
    {
     "data": {
      "text/plain": [
       "(5918, 1334)"
      ]
     },
     "execution_count": 62,
     "metadata": {},
     "output_type": "execute_result"
    }
   ],
   "source": [
    "train_misc.shape"
   ]
  },
  {
   "cell_type": "code",
   "execution_count": 63,
   "metadata": {},
   "outputs": [
    {
     "data": {
      "text/plain": [
       "(1975, 1334)"
      ]
     },
     "execution_count": 63,
     "metadata": {},
     "output_type": "execute_result"
    }
   ],
   "source": [
    "test_misc.shape"
   ]
  },
  {
   "cell_type": "markdown",
   "metadata": {},
   "source": [
    "* Here we have almost 1300 features extracted from the Miscellaneous_Info, so training models using these many features can be very compute intensive. So lets apply chi-square to find out the features that are highly dependent to target varible"
   ]
  },
  {
   "cell_type": "markdown",
   "metadata": {},
   "source": [
    "### ***Feature selection on Miscellaneous information***"
   ]
  },
  {
   "cell_type": "code",
   "execution_count": 64,
   "metadata": {},
   "outputs": [],
   "source": [
    "import matplotlib.pyplot as plt\n",
    "import seaborn as sns\n",
    "sns.set_style(\"darkgrid\")\n",
    "sns.set_context('notebook')"
   ]
  },
  {
   "cell_type": "code",
   "execution_count": 65,
   "metadata": {},
   "outputs": [],
   "source": [
    "from sklearn.feature_selection import SelectKBest\n",
    "from sklearn.feature_selection import chi2"
   ]
  },
  {
   "cell_type": "code",
   "execution_count": 66,
   "metadata": {},
   "outputs": [
    {
     "data": {
      "text/plain": [
       "SelectKBest(k='all', score_func=<function chi2 at 0x000001ABB0A70EE0>)"
      ]
     },
     "execution_count": 66,
     "metadata": {},
     "output_type": "execute_result"
    }
   ],
   "source": [
    "# Appy chi square for feature selection\n",
    "fs = SelectKBest(score_func=chi2, k='all')\n",
    "fs.fit(train_misc, train_data.Fees)"
   ]
  },
  {
   "cell_type": "code",
   "execution_count": 67,
   "metadata": {},
   "outputs": [
    {
     "data": {
      "image/png": "[encoded data removed]",
      "text/plain": [
       "<Figure size 1152x360 with 1 Axes>"
      ]
     },
     "metadata": {},
     "output_type": "display_data"
    }
   ],
   "source": [
    "# Plot scores of each feature\n",
    "scores = dict(enumerate(fs.scores_))\n",
    "plt.figure(figsize=(16,5))\n",
    "plt.plot(scores.values(),color='blue')\n",
    "plt.show()"
   ]
  },
  {
   "cell_type": "markdown",
   "metadata": {},
   "source": [
    "* here we see that almost 15 spikes denote higher scores. So lets select those features for further analysis"
   ]
  },
  {
   "cell_type": "code",
   "execution_count": 68,
   "metadata": {},
   "outputs": [],
   "source": [
    "# Select 15 features\n",
    "fs = SelectKBest(score_func=chi2, k=15).fit(train_misc, train_data.Fees)\n",
    "train_misc_top = pd.DataFrame(fs.transform(train_misc),columns=['misc_' + str(i) for i in range(15)])\n",
    "test_misc_top = pd.DataFrame(fs.transform(test_misc),columns=['misc_' + str(i) for i in range(15)])"
   ]
  },
  {
   "cell_type": "code",
   "execution_count": 69,
   "metadata": {},
   "outputs": [],
   "source": [
    "# Add an additional column for denoting informations hvaing feedbacks\n",
    "misc_feedback = train_data.Miscellaneous_Info.agg(lambda x: 1 if ('feedback' in str(x).lower()) else 0).rename('misc_feedback')\n",
    "misc_feedback_test = test_data.Miscellaneous_Info.agg(lambda x: 1 if ('feedback' in str(x).lower()) else 0).rename('misc_feedback')"
   ]
  },
  {
   "cell_type": "code",
   "execution_count": 70,
   "metadata": {},
   "outputs": [],
   "source": [
    "# Add an additional columns for informations that are not available\n",
    "misc_nan = train_data.Miscellaneous_Info.agg(lambda x: 1 if 'na' != str(x) else 0).rename('misc_nan')\n",
    "misc_nan_test = test_data.Miscellaneous_Info.agg(lambda x: 1 if 'na' != str(x) else 0).rename('misc_nan')"
   ]
  },
  {
   "cell_type": "code",
   "execution_count": 71,
   "metadata": {},
   "outputs": [
    {
     "data": {
      "text/html": [
       "<div>\n",
       "<style scoped>\n",
       "    .dataframe tbody tr th:only-of-type {\n",
       "        vertical-align: middle;\n",
       "    }\n",
       "\n",
       "    .dataframe tbody tr th {\n",
       "        vertical-align: top;\n",
       "    }\n",
       "\n",
       "    .dataframe thead th {\n",
       "        text-align: right;\n",
       "    }\n",
       "</style>\n",
       "<table border=\"1\" class=\"dataframe\">\n",
       "  <thead>\n",
       "    <tr style=\"text-align: right;\">\n",
       "      <th></th>\n",
       "      <th>bhms</th>\n",
       "      <th>md</th>\n",
       "      <th>bams</th>\n",
       "      <th>ms</th>\n",
       "      <th>mbbs</th>\n",
       "      <th>bds</th>\n",
       "      <th>dnb</th>\n",
       "      <th>mds</th>\n",
       "      <th>dlo</th>\n",
       "      <th>diploma</th>\n",
       "      <th>...</th>\n",
       "      <th>misc_7</th>\n",
       "      <th>misc_8</th>\n",
       "      <th>misc_9</th>\n",
       "      <th>misc_10</th>\n",
       "      <th>misc_11</th>\n",
       "      <th>misc_12</th>\n",
       "      <th>misc_13</th>\n",
       "      <th>misc_14</th>\n",
       "      <th>misc_feedback</th>\n",
       "      <th>misc_nan</th>\n",
       "    </tr>\n",
       "  </thead>\n",
       "  <tbody>\n",
       "    <tr>\n",
       "      <th>0</th>\n",
       "      <td>1.0</td>\n",
       "      <td>1.0</td>\n",
       "      <td>0.0</td>\n",
       "      <td>0.0</td>\n",
       "      <td>0.0</td>\n",
       "      <td>0.0</td>\n",
       "      <td>0.0</td>\n",
       "      <td>0.0</td>\n",
       "      <td>0.0</td>\n",
       "      <td>0.0</td>\n",
       "      <td>...</td>\n",
       "      <td>0.0</td>\n",
       "      <td>0.0</td>\n",
       "      <td>0.0</td>\n",
       "      <td>0.0</td>\n",
       "      <td>0.0</td>\n",
       "      <td>0.0</td>\n",
       "      <td>0.0</td>\n",
       "      <td>0.0</td>\n",
       "      <td>1</td>\n",
       "      <td>1</td>\n",
       "    </tr>\n",
       "    <tr>\n",
       "      <th>1</th>\n",
       "      <td>0.0</td>\n",
       "      <td>1.0</td>\n",
       "      <td>1.0</td>\n",
       "      <td>0.0</td>\n",
       "      <td>0.0</td>\n",
       "      <td>0.0</td>\n",
       "      <td>0.0</td>\n",
       "      <td>0.0</td>\n",
       "      <td>0.0</td>\n",
       "      <td>0.0</td>\n",
       "      <td>...</td>\n",
       "      <td>0.0</td>\n",
       "      <td>0.0</td>\n",
       "      <td>0.0</td>\n",
       "      <td>0.0</td>\n",
       "      <td>0.0</td>\n",
       "      <td>0.0</td>\n",
       "      <td>0.0</td>\n",
       "      <td>0.0</td>\n",
       "      <td>1</td>\n",
       "      <td>1</td>\n",
       "    </tr>\n",
       "    <tr>\n",
       "      <th>2</th>\n",
       "      <td>0.0</td>\n",
       "      <td>0.0</td>\n",
       "      <td>0.0</td>\n",
       "      <td>1.0</td>\n",
       "      <td>1.0</td>\n",
       "      <td>0.0</td>\n",
       "      <td>0.0</td>\n",
       "      <td>0.0</td>\n",
       "      <td>0.0</td>\n",
       "      <td>0.0</td>\n",
       "      <td>...</td>\n",
       "      <td>0.0</td>\n",
       "      <td>0.0</td>\n",
       "      <td>0.0</td>\n",
       "      <td>0.0</td>\n",
       "      <td>0.0</td>\n",
       "      <td>0.0</td>\n",
       "      <td>0.0</td>\n",
       "      <td>0.0</td>\n",
       "      <td>0</td>\n",
       "      <td>1</td>\n",
       "    </tr>\n",
       "    <tr>\n",
       "      <th>3</th>\n",
       "      <td>0.0</td>\n",
       "      <td>0.0</td>\n",
       "      <td>1.0</td>\n",
       "      <td>0.0</td>\n",
       "      <td>0.0</td>\n",
       "      <td>0.0</td>\n",
       "      <td>0.0</td>\n",
       "      <td>0.0</td>\n",
       "      <td>0.0</td>\n",
       "      <td>0.0</td>\n",
       "      <td>...</td>\n",
       "      <td>0.0</td>\n",
       "      <td>0.0</td>\n",
       "      <td>0.0</td>\n",
       "      <td>0.0</td>\n",
       "      <td>0.0</td>\n",
       "      <td>0.0</td>\n",
       "      <td>0.0</td>\n",
       "      <td>0.0</td>\n",
       "      <td>0</td>\n",
       "      <td>1</td>\n",
       "    </tr>\n",
       "    <tr>\n",
       "      <th>4</th>\n",
       "      <td>0.0</td>\n",
       "      <td>0.0</td>\n",
       "      <td>1.0</td>\n",
       "      <td>0.0</td>\n",
       "      <td>0.0</td>\n",
       "      <td>0.0</td>\n",
       "      <td>0.0</td>\n",
       "      <td>0.0</td>\n",
       "      <td>0.0</td>\n",
       "      <td>0.0</td>\n",
       "      <td>...</td>\n",
       "      <td>0.0</td>\n",
       "      <td>0.0</td>\n",
       "      <td>0.0</td>\n",
       "      <td>0.0</td>\n",
       "      <td>0.0</td>\n",
       "      <td>0.0</td>\n",
       "      <td>0.0</td>\n",
       "      <td>0.0</td>\n",
       "      <td>1</td>\n",
       "      <td>1</td>\n",
       "    </tr>\n",
       "  </tbody>\n",
       "</table>\n",
       "<p>5 rows × 51 columns</p>\n",
       "</div>"
      ],
      "text/plain": [
       "   bhms   md  bams   ms  mbbs  bds  dnb  mds  dlo  diploma  ...  misc_7  \\\n",
       "0   1.0  1.0   0.0  0.0   0.0  0.0  0.0  0.0  0.0      0.0  ...     0.0   \n",
       "1   0.0  1.0   1.0  0.0   0.0  0.0  0.0  0.0  0.0      0.0  ...     0.0   \n",
       "2   0.0  0.0   0.0  1.0   1.0  0.0  0.0  0.0  0.0      0.0  ...     0.0   \n",
       "3   0.0  0.0   1.0  0.0   0.0  0.0  0.0  0.0  0.0      0.0  ...     0.0   \n",
       "4   0.0  0.0   1.0  0.0   0.0  0.0  0.0  0.0  0.0      0.0  ...     0.0   \n",
       "\n",
       "   misc_8  misc_9  misc_10  misc_11  misc_12  misc_13  misc_14  misc_feedback  \\\n",
       "0     0.0     0.0      0.0      0.0      0.0      0.0      0.0              1   \n",
       "1     0.0     0.0      0.0      0.0      0.0      0.0      0.0              1   \n",
       "2     0.0     0.0      0.0      0.0      0.0      0.0      0.0              0   \n",
       "3     0.0     0.0      0.0      0.0      0.0      0.0      0.0              0   \n",
       "4     0.0     0.0      0.0      0.0      0.0      0.0      0.0              1   \n",
       "\n",
       "   misc_nan  \n",
       "0         1  \n",
       "1         1  \n",
       "2         1  \n",
       "3         1  \n",
       "4         1  \n",
       "\n",
       "[5 rows x 51 columns]"
      ]
     },
     "execution_count": 71,
     "metadata": {},
     "output_type": "execute_result"
    }
   ],
   "source": [
    "train = pd.concat([train_qual,train_exp,train_rating,train_area,train_profile,train_city,train_misc_top,misc_feedback,misc_nan],axis=1)\n",
    "train.head()"
   ]
  },
  {
   "cell_type": "code",
   "execution_count": 72,
   "metadata": {},
   "outputs": [
    {
     "data": {
      "text/html": [
       "<div>\n",
       "<style scoped>\n",
       "    .dataframe tbody tr th:only-of-type {\n",
       "        vertical-align: middle;\n",
       "    }\n",
       "\n",
       "    .dataframe tbody tr th {\n",
       "        vertical-align: top;\n",
       "    }\n",
       "\n",
       "    .dataframe thead th {\n",
       "        text-align: right;\n",
       "    }\n",
       "</style>\n",
       "<table border=\"1\" class=\"dataframe\">\n",
       "  <thead>\n",
       "    <tr style=\"text-align: right;\">\n",
       "      <th></th>\n",
       "      <th>bhms</th>\n",
       "      <th>md</th>\n",
       "      <th>bams</th>\n",
       "      <th>ms</th>\n",
       "      <th>mbbs</th>\n",
       "      <th>bds</th>\n",
       "      <th>dnb</th>\n",
       "      <th>mds</th>\n",
       "      <th>dlo</th>\n",
       "      <th>diploma</th>\n",
       "      <th>...</th>\n",
       "      <th>misc_7</th>\n",
       "      <th>misc_8</th>\n",
       "      <th>misc_9</th>\n",
       "      <th>misc_10</th>\n",
       "      <th>misc_11</th>\n",
       "      <th>misc_12</th>\n",
       "      <th>misc_13</th>\n",
       "      <th>misc_14</th>\n",
       "      <th>misc_feedback</th>\n",
       "      <th>misc_nan</th>\n",
       "    </tr>\n",
       "  </thead>\n",
       "  <tbody>\n",
       "    <tr>\n",
       "      <th>0</th>\n",
       "      <td>0.0</td>\n",
       "      <td>0.0</td>\n",
       "      <td>0.0</td>\n",
       "      <td>0.0</td>\n",
       "      <td>1.0</td>\n",
       "      <td>0.0</td>\n",
       "      <td>0.0</td>\n",
       "      <td>0.0</td>\n",
       "      <td>0.0</td>\n",
       "      <td>0.0</td>\n",
       "      <td>...</td>\n",
       "      <td>0.0</td>\n",
       "      <td>0.0</td>\n",
       "      <td>0.0</td>\n",
       "      <td>0.0</td>\n",
       "      <td>0.0</td>\n",
       "      <td>0.0</td>\n",
       "      <td>0.0</td>\n",
       "      <td>0.0</td>\n",
       "      <td>0</td>\n",
       "      <td>1</td>\n",
       "    </tr>\n",
       "    <tr>\n",
       "      <th>1</th>\n",
       "      <td>0.0</td>\n",
       "      <td>0.0</td>\n",
       "      <td>0.0</td>\n",
       "      <td>0.0</td>\n",
       "      <td>1.0</td>\n",
       "      <td>0.0</td>\n",
       "      <td>0.0</td>\n",
       "      <td>0.0</td>\n",
       "      <td>1.0</td>\n",
       "      <td>1.0</td>\n",
       "      <td>...</td>\n",
       "      <td>0.0</td>\n",
       "      <td>0.0</td>\n",
       "      <td>0.0</td>\n",
       "      <td>0.0</td>\n",
       "      <td>0.0</td>\n",
       "      <td>0.0</td>\n",
       "      <td>0.0</td>\n",
       "      <td>0.0</td>\n",
       "      <td>0</td>\n",
       "      <td>1</td>\n",
       "    </tr>\n",
       "    <tr>\n",
       "      <th>2</th>\n",
       "      <td>0.0</td>\n",
       "      <td>0.0</td>\n",
       "      <td>0.0</td>\n",
       "      <td>0.0</td>\n",
       "      <td>1.0</td>\n",
       "      <td>0.0</td>\n",
       "      <td>0.0</td>\n",
       "      <td>0.0</td>\n",
       "      <td>0.0</td>\n",
       "      <td>0.0</td>\n",
       "      <td>...</td>\n",
       "      <td>0.0</td>\n",
       "      <td>0.0</td>\n",
       "      <td>0.0</td>\n",
       "      <td>0.0</td>\n",
       "      <td>0.0</td>\n",
       "      <td>0.0</td>\n",
       "      <td>0.0</td>\n",
       "      <td>0.0</td>\n",
       "      <td>1</td>\n",
       "      <td>1</td>\n",
       "    </tr>\n",
       "    <tr>\n",
       "      <th>3</th>\n",
       "      <td>0.0</td>\n",
       "      <td>0.0</td>\n",
       "      <td>1.0</td>\n",
       "      <td>0.0</td>\n",
       "      <td>0.0</td>\n",
       "      <td>0.0</td>\n",
       "      <td>0.0</td>\n",
       "      <td>0.0</td>\n",
       "      <td>0.0</td>\n",
       "      <td>0.0</td>\n",
       "      <td>...</td>\n",
       "      <td>0.0</td>\n",
       "      <td>0.0</td>\n",
       "      <td>0.0</td>\n",
       "      <td>0.0</td>\n",
       "      <td>0.0</td>\n",
       "      <td>0.0</td>\n",
       "      <td>0.0</td>\n",
       "      <td>0.0</td>\n",
       "      <td>0</td>\n",
       "      <td>1</td>\n",
       "    </tr>\n",
       "    <tr>\n",
       "      <th>4</th>\n",
       "      <td>0.0</td>\n",
       "      <td>0.0</td>\n",
       "      <td>0.0</td>\n",
       "      <td>0.0</td>\n",
       "      <td>0.0</td>\n",
       "      <td>1.0</td>\n",
       "      <td>0.0</td>\n",
       "      <td>1.0</td>\n",
       "      <td>0.0</td>\n",
       "      <td>0.0</td>\n",
       "      <td>...</td>\n",
       "      <td>0.0</td>\n",
       "      <td>0.0</td>\n",
       "      <td>0.0</td>\n",
       "      <td>0.0</td>\n",
       "      <td>0.0</td>\n",
       "      <td>0.0</td>\n",
       "      <td>0.0</td>\n",
       "      <td>0.0</td>\n",
       "      <td>0</td>\n",
       "      <td>1</td>\n",
       "    </tr>\n",
       "  </tbody>\n",
       "</table>\n",
       "<p>5 rows × 51 columns</p>\n",
       "</div>"
      ],
      "text/plain": [
       "   bhms   md  bams   ms  mbbs  bds  dnb  mds  dlo  diploma  ...  misc_7  \\\n",
       "0   0.0  0.0   0.0  0.0   1.0  0.0  0.0  0.0  0.0      0.0  ...     0.0   \n",
       "1   0.0  0.0   0.0  0.0   1.0  0.0  0.0  0.0  1.0      1.0  ...     0.0   \n",
       "2   0.0  0.0   0.0  0.0   1.0  0.0  0.0  0.0  0.0      0.0  ...     0.0   \n",
       "3   0.0  0.0   1.0  0.0   0.0  0.0  0.0  0.0  0.0      0.0  ...     0.0   \n",
       "4   0.0  0.0   0.0  0.0   0.0  1.0  0.0  1.0  0.0      0.0  ...     0.0   \n",
       "\n",
       "   misc_8  misc_9  misc_10  misc_11  misc_12  misc_13  misc_14  misc_feedback  \\\n",
       "0     0.0     0.0      0.0      0.0      0.0      0.0      0.0              0   \n",
       "1     0.0     0.0      0.0      0.0      0.0      0.0      0.0              0   \n",
       "2     0.0     0.0      0.0      0.0      0.0      0.0      0.0              1   \n",
       "3     0.0     0.0      0.0      0.0      0.0      0.0      0.0              0   \n",
       "4     0.0     0.0      0.0      0.0      0.0      0.0      0.0              0   \n",
       "\n",
       "   misc_nan  \n",
       "0         1  \n",
       "1         1  \n",
       "2         1  \n",
       "3         1  \n",
       "4         1  \n",
       "\n",
       "[5 rows x 51 columns]"
      ]
     },
     "execution_count": 72,
     "metadata": {},
     "output_type": "execute_result"
    }
   ],
   "source": [
    "test = pd.concat([test_qual,test_exp,test_rating,test_area,test_profile,test_city,test_misc_top,misc_feedback_test,misc_nan_test],axis=1)\n",
    "test = test[train.columns]\n",
    "test.head()"
   ]
  },
  {
   "cell_type": "markdown",
   "metadata": {},
   "source": [
    "## **Data Explorations**"
   ]
  },
  {
   "cell_type": "markdown",
   "metadata": {},
   "source": [
    "### ***Lets find out how many doctors are having each qualification***"
   ]
  },
  {
   "cell_type": "code",
   "execution_count": 73,
   "metadata": {},
   "outputs": [
    {
     "data": {
      "image/png": "[encoded data removed]",
      "text/plain": [
       "<Figure size 1152x360 with 1 Axes>"
      ]
     },
     "metadata": {},
     "output_type": "display_data"
    }
   ],
   "source": [
    "plt.figure(figsize=(16,5))\n",
    "df = train_qual.sum()\n",
    "sns.barplot(x=df.index,y=df,palette='viridis')\n",
    "plt.title('Number of doctors with qualifications')\n",
    "plt.show()"
   ]
  },
  {
   "cell_type": "markdown",
   "metadata": {},
   "source": [
    "* Here we see that, most of the doctors hold MBBS degree, followed by MD and BDS\n",
    "* There are very few doctors who has other types of degrees"
   ]
  },
  {
   "cell_type": "markdown",
   "metadata": {},
   "source": [
    "### ***Total number of degrees doctors hold***"
   ]
  },
  {
   "cell_type": "code",
   "execution_count": 74,
   "metadata": {},
   "outputs": [
    {
     "data": {
      "image/png": "[encoded data removed]",
      "text/plain": [
       "<Figure size 1152x360 with 1 Axes>"
      ]
     },
     "metadata": {},
     "output_type": "display_data"
    }
   ],
   "source": [
    "plt.figure(figsize=(16,5))\n",
    "df = train_qual.sum(axis=1)\n",
    "sns.countplot(x=df,palette='viridis')\n",
    "plt.title('Number of doctors with qualifications')\n",
    "plt.show()"
   ]
  },
  {
   "cell_type": "markdown",
   "metadata": {},
   "source": [
    "* Mojority of the doctors have 2 qualifications\n",
    "* Almost 2200 doctors holds only one degree \n",
    "* Number of doctors holding 5 degrees are miniscule."
   ]
  },
  {
   "cell_type": "markdown",
   "metadata": {},
   "source": [
    "### ***Number of doctors in each city***"
   ]
  },
  {
   "cell_type": "code",
   "execution_count": 75,
   "metadata": {},
   "outputs": [
    {
     "data": {
      "image/png": "[encoded data removed]",
      "text/plain": [
       "<Figure size 1152x360 with 1 Axes>"
      ]
     },
     "metadata": {},
     "output_type": "display_data"
    }
   ],
   "source": [
    "plt.figure(figsize=(16,5))\n",
    "df = train_city.sum()\n",
    "sns.barplot(x=df.index,y=df.values,palette='viridis')\n",
    "plt.title('Number of Doctors in each city')\n",
    "plt.show()"
   ]
  },
  {
   "cell_type": "markdown",
   "metadata": {},
   "source": [
    "* Bangalore has the highest number of observations followed by mumbai and then delhi\n",
    "* Thrivananthapuram has the least number of observations"
   ]
  },
  {
   "cell_type": "markdown",
   "metadata": {},
   "source": [
    "### ***Distribution of doctors experience***"
   ]
  },
  {
   "cell_type": "code",
   "execution_count": 76,
   "metadata": {},
   "outputs": [
    {
     "data": {
      "image/png": "[encoded data removed]",
      "text/plain": [
       "<Figure size 1152x360 with 2 Axes>"
      ]
     },
     "metadata": {},
     "output_type": "display_data"
    }
   ],
   "source": [
    "plt.figure(figsize=(16,5))\n",
    "plt.subplot(2,1,1)\n",
    "sns.histplot(x=train_exp,kde=True,color='blue')\n",
    "plt.title('Experience distribution')\n",
    "plt.subplot(2,1,2)\n",
    "sns.boxplot(x=train_exp,color='white',width=0.5)\n",
    "plt.show()"
   ]
  },
  {
   "cell_type": "markdown",
   "metadata": {},
   "source": [
    "* From the above graph, we see that most of the doctors has experience between 8-23 years\n",
    "* There are doctors with very high experience of years 40 - 70 years\n",
    "* The experience is right skewed"
   ]
  },
  {
   "cell_type": "markdown",
   "metadata": {},
   "source": [
    "### ***Distribution of doctor ratings***"
   ]
  },
  {
   "cell_type": "code",
   "execution_count": 77,
   "metadata": {},
   "outputs": [
    {
     "data": {
      "image/png": "[encoded data removed]",
      "text/plain": [
       "<Figure size 1152x360 with 2 Axes>"
      ]
     },
     "metadata": {},
     "output_type": "display_data"
    }
   ],
   "source": [
    "plt.figure(figsize=(16,5))\n",
    "plt.subplot(2,1,1)\n",
    "sns.histplot(x=train_rating,kde=True,color='blue')\n",
    "plt.title('Rating distribution')\n",
    "plt.subplot(2,1,2)\n",
    "sns.boxplot(x=train_rating,color='white',width=0.5)\n",
    "plt.show()"
   ]
  },
  {
   "cell_type": "markdown",
   "metadata": {},
   "source": [
    "* Mojority of doctors are rated between 80-100\n",
    "* The distribution is left skewed"
   ]
  },
  {
   "cell_type": "markdown",
   "metadata": {},
   "source": [
    "### ***Lets find out the number of doctors belonging to each profile***"
   ]
  },
  {
   "cell_type": "code",
   "execution_count": 78,
   "metadata": {},
   "outputs": [
    {
     "data": {
      "image/png": "[encoded data removed]",
      "text/plain": [
       "<Figure size 1152x360 with 1 Axes>"
      ]
     },
     "metadata": {},
     "output_type": "display_data"
    }
   ],
   "source": [
    "plt.figure(figsize=(16,5))\n",
    "sns.countplot(data=train_data, x='Profile',palette='viridis')\n",
    "plt.title('Number of occurences in each profile')\n",
    "plt.show()"
   ]
  },
  {
   "cell_type": "markdown",
   "metadata": {},
   "source": [
    "* Here we see that, there are more number of dentists than in any other profiles, followed by general medicine and dermatologist\n",
    "* ENT Specialist lower compared to other profiles"
   ]
  },
  {
   "cell_type": "markdown",
   "metadata": {},
   "source": [
    "### ***Experience vs Rating vs Fees***"
   ]
  },
  {
   "cell_type": "code",
   "execution_count": 79,
   "metadata": {},
   "outputs": [
    {
     "data": {
      "image/png": "[encoded data removed]",
      "text/plain": [
       "<Figure size 648x648 with 12 Axes>"
      ]
     },
     "metadata": {},
     "output_type": "display_data"
    }
   ],
   "source": [
    "df = pd.concat([train_exp,train_rating,train_data.Fees],axis=1)\n",
    "sns.pairplot(data=df,height=3,diag_kws={'bins':10},palette='viridis')\n",
    "plt.show()"
   ]
  },
  {
   "cell_type": "markdown",
   "metadata": {},
   "source": [
    "* There is no notable relation between the features"
   ]
  },
  {
   "cell_type": "code",
   "execution_count": 80,
   "metadata": {},
   "outputs": [
    {
     "data": {
      "image/png": "[encoded data removed]",
      "text/plain": [
       "<Figure size 432x288 with 2 Axes>"
      ]
     },
     "metadata": {},
     "output_type": "display_data"
    }
   ],
   "source": [
    "sns.heatmap(data=df.corr(),square=True,annot=True)\n",
    "plt.show()"
   ]
  },
  {
   "cell_type": "markdown",
   "metadata": {},
   "source": [
    "* None of the numeric features are correlated"
   ]
  },
  {
   "cell_type": "markdown",
   "metadata": {},
   "source": [
    "### ***Lets find out the fees of the doctors with each qualification***"
   ]
  },
  {
   "cell_type": "code",
   "execution_count": 175,
   "metadata": {},
   "outputs": [
    {
     "data": {
      "image/png": "[encoded data removed]",
      "text/plain": [
       "<Figure size 1152x360 with 1 Axes>"
      ]
     },
     "metadata": {},
     "output_type": "display_data"
    }
   ],
   "source": [
    "plt.figure(figsize=(16,5))\n",
    "df = pd.concat([train_qual,train_data.Fees],axis=1)\n",
    "qual_exp = []\n",
    "for i in df.columns[:-1]:\n",
    "    df_temp = pd.DataFrame([],columns=['Qualification','Fees'])\n",
    "    df_temp.loc[:,'Fees'] = df[df[i]==1]['Fees'].reset_index(drop=True)\n",
    "    df_temp.loc[:,'Qualification'] = i\n",
    "    qual_exp.append(df_temp)\n",
    "df = pd.concat(qual_exp,axis=0)\n",
    "sns.barplot(data=df, x='Qualification',y='Fees',palette='viridis',)\n",
    "plt.title('Fees vs Qualification')\n",
    "plt.show()"
   ]
  },
  {
   "cell_type": "markdown",
   "metadata": {},
   "source": [
    "* Doctors with DDV and DNB qualification charges very high consultation fees\n",
    "* Doctors with phd and other degrees charges less fees"
   ]
  },
  {
   "cell_type": "markdown",
   "metadata": {},
   "source": [
    "### ***Lets find out the fees of the doctors in each profile***"
   ]
  },
  {
   "cell_type": "code",
   "execution_count": 177,
   "metadata": {},
   "outputs": [
    {
     "data": {
      "image/png": "[encoded data removed]",
      "text/plain": [
       "<Figure size 1152x360 with 1 Axes>"
      ]
     },
     "metadata": {},
     "output_type": "display_data"
    }
   ],
   "source": [
    "plt.figure(figsize=(16,5))\n",
    "sns.barplot(data=train_data, x='Profile',y='Fees',palette='viridis')\n",
    "plt.title('Fees vs Profile')\n",
    "plt.show()"
   ]
  },
  {
   "cell_type": "markdown",
   "metadata": {},
   "source": [
    "* Dermatologist charges very high fees\n",
    "* Ayurveda and Dentist doctors charges the least"
   ]
  },
  {
   "cell_type": "markdown",
   "metadata": {},
   "source": [
    "### ***Qualification vs Experience***"
   ]
  },
  {
   "cell_type": "code",
   "execution_count": 179,
   "metadata": {},
   "outputs": [
    {
     "data": {
      "image/png": "[encoded data removed]",
      "text/plain": [
       "<Figure size 1152x360 with 1 Axes>"
      ]
     },
     "metadata": {},
     "output_type": "display_data"
    }
   ],
   "source": [
    "plt.figure(figsize=(16,5))\n",
    "df = pd.concat([train_qual,train_exp],axis=1)\n",
    "qual_exp = []\n",
    "for i in df.columns[:-1]:\n",
    "    df_temp = pd.DataFrame([],columns=['Qualification','Experience'])\n",
    "    df_temp.loc[:,'Experience'] = df[df[i]==1]['Experience'].reset_index(drop=True)\n",
    "    df_temp.loc[:,'Qualification'] = i\n",
    "    qual_exp.append(df_temp)\n",
    "df = pd.concat(qual_exp,axis=0)\n",
    "sns.barplot(data=df, x='Qualification',y='Experience',palette='viridis')\n",
    "plt.title('Experience of doctors with each qualification')\n",
    "plt.show()"
   ]
  },
  {
   "cell_type": "markdown",
   "metadata": {},
   "source": [
    "* Doctors having DHMS and Other qualifications has high experience\n",
    "* DDVL qualificaiton has the least experienced doctors"
   ]
  },
  {
   "cell_type": "markdown",
   "metadata": {},
   "source": [
    "### ***Number of doctors vs Profile vs Qualification***"
   ]
  },
  {
   "cell_type": "code",
   "execution_count": 180,
   "metadata": {},
   "outputs": [
    {
     "data": {
      "image/png": "[encoded data removed]",
      "text/plain": [
       "<Figure size 1080x360 with 2 Axes>"
      ]
     },
     "metadata": {},
     "output_type": "display_data"
    }
   ],
   "source": [
    "plt.figure(figsize=(15,5))\n",
    "df = pd.concat([train_qual,train_data.Profile],axis=1).groupby('Profile').sum()\n",
    "sns.heatmap(data=round(df).astype(int),square=True,annot=True,fmt='')\n",
    "plt.title('Counts vs Prifile vs Qualifications')\n",
    "plt.show()"
   ]
  },
  {
   "cell_type": "markdown",
   "metadata": {},
   "source": [
    "* The above heatmap shows the numbr of doctors belonging to each profiles with each qualification\n",
    "* There are only few doctors with PGDD, DHMS, PHD and other courses"
   ]
  },
  {
   "cell_type": "markdown",
   "metadata": {},
   "source": [
    "### ***Number of doctors with qualifications belonging to each place***"
   ]
  },
  {
   "cell_type": "code",
   "execution_count": 181,
   "metadata": {},
   "outputs": [
    {
     "data": {
      "image/png": "[encoded data removed]",
      "text/plain": [
       "<Figure size 1080x432 with 2 Axes>"
      ]
     },
     "metadata": {},
     "output_type": "display_data"
    }
   ],
   "source": [
    "plt.figure(figsize=(15,6))\n",
    "df = pd.concat([train_qual,train_data.Place.agg(lambda x: str(x).lower().split(',')[-1].strip())],\n",
    "               axis=1).groupby('Place').sum()\n",
    "sns.heatmap(data=round(df).astype(int),square=True,annot=True,fmt='')\n",
    "plt.title('Counts vs Place vs Qualifications')\n",
    "plt.show()"
   ]
  },
  {
   "cell_type": "markdown",
   "metadata": {},
   "source": [
    "### ***Lets find out the relation between fees and total number of qualifications***"
   ]
  },
  {
   "cell_type": "code",
   "execution_count": 87,
   "metadata": {},
   "outputs": [
    {
     "data": {
      "image/png": "[encoded data removed]",
      "text/plain": [
       "<Figure size 1152x360 with 1 Axes>"
      ]
     },
     "metadata": {},
     "output_type": "display_data"
    }
   ],
   "source": [
    "plt.figure(figsize=(16,5))\n",
    "df = pd.concat([train_qual.sum(axis=1),train_data.Fees],axis=1)\n",
    "sns.barplot(data=df,x=0,y='Fees',palette='viridis')\n",
    "plt.title('Number of doctors with qualifications')\n",
    "plt.show()"
   ]
  },
  {
   "cell_type": "markdown",
   "metadata": {},
   "source": [
    "* Here we see that, the consultation fees increases with increaseg number of qualification therfore we can add an extra feature with number of qualifications"
   ]
  },
  {
   "cell_type": "markdown",
   "metadata": {},
   "source": [
    "### ***Concat Number of qualification feature into dataset***"
   ]
  },
  {
   "cell_type": "code",
   "execution_count": 88,
   "metadata": {},
   "outputs": [],
   "source": [
    "train_num_qual = train_qual.sum(axis=1).rename('num_qual')\n",
    "test_num_qual = test_qual.sum(axis=1).rename('num_qual')"
   ]
  },
  {
   "cell_type": "code",
   "execution_count": 89,
   "metadata": {},
   "outputs": [
    {
     "data": {
      "text/html": [
       "<div>\n",
       "<style scoped>\n",
       "    .dataframe tbody tr th:only-of-type {\n",
       "        vertical-align: middle;\n",
       "    }\n",
       "\n",
       "    .dataframe tbody tr th {\n",
       "        vertical-align: top;\n",
       "    }\n",
       "\n",
       "    .dataframe thead th {\n",
       "        text-align: right;\n",
       "    }\n",
       "</style>\n",
       "<table border=\"1\" class=\"dataframe\">\n",
       "  <thead>\n",
       "    <tr style=\"text-align: right;\">\n",
       "      <th></th>\n",
       "      <th>num_qual</th>\n",
       "    </tr>\n",
       "  </thead>\n",
       "  <tbody>\n",
       "    <tr>\n",
       "      <th>0</th>\n",
       "      <td>2.0</td>\n",
       "    </tr>\n",
       "    <tr>\n",
       "      <th>1</th>\n",
       "      <td>2.0</td>\n",
       "    </tr>\n",
       "    <tr>\n",
       "      <th>2</th>\n",
       "      <td>2.0</td>\n",
       "    </tr>\n",
       "    <tr>\n",
       "      <th>3</th>\n",
       "      <td>1.0</td>\n",
       "    </tr>\n",
       "    <tr>\n",
       "      <th>4</th>\n",
       "      <td>1.0</td>\n",
       "    </tr>\n",
       "  </tbody>\n",
       "</table>\n",
       "</div>"
      ],
      "text/plain": [
       "   num_qual\n",
       "0       2.0\n",
       "1       2.0\n",
       "2       2.0\n",
       "3       1.0\n",
       "4       1.0"
      ]
     },
     "execution_count": 89,
     "metadata": {},
     "output_type": "execute_result"
    }
   ],
   "source": [
    "train_num_qual.head().to_frame()"
   ]
  },
  {
   "cell_type": "code",
   "execution_count": 90,
   "metadata": {},
   "outputs": [
    {
     "data": {
      "text/html": [
       "<div>\n",
       "<style scoped>\n",
       "    .dataframe tbody tr th:only-of-type {\n",
       "        vertical-align: middle;\n",
       "    }\n",
       "\n",
       "    .dataframe tbody tr th {\n",
       "        vertical-align: top;\n",
       "    }\n",
       "\n",
       "    .dataframe thead th {\n",
       "        text-align: right;\n",
       "    }\n",
       "</style>\n",
       "<table border=\"1\" class=\"dataframe\">\n",
       "  <thead>\n",
       "    <tr style=\"text-align: right;\">\n",
       "      <th></th>\n",
       "      <th>num_qual</th>\n",
       "    </tr>\n",
       "  </thead>\n",
       "  <tbody>\n",
       "    <tr>\n",
       "      <th>0</th>\n",
       "      <td>1.0</td>\n",
       "    </tr>\n",
       "    <tr>\n",
       "      <th>1</th>\n",
       "      <td>3.0</td>\n",
       "    </tr>\n",
       "    <tr>\n",
       "      <th>2</th>\n",
       "      <td>2.0</td>\n",
       "    </tr>\n",
       "    <tr>\n",
       "      <th>3</th>\n",
       "      <td>1.0</td>\n",
       "    </tr>\n",
       "    <tr>\n",
       "      <th>4</th>\n",
       "      <td>2.0</td>\n",
       "    </tr>\n",
       "  </tbody>\n",
       "</table>\n",
       "</div>"
      ],
      "text/plain": [
       "   num_qual\n",
       "0       1.0\n",
       "1       3.0\n",
       "2       2.0\n",
       "3       1.0\n",
       "4       2.0"
      ]
     },
     "execution_count": 90,
     "metadata": {},
     "output_type": "execute_result"
    }
   ],
   "source": [
    "test_num_qual.head().to_frame()"
   ]
  },
  {
   "cell_type": "code",
   "execution_count": 91,
   "metadata": {},
   "outputs": [
    {
     "data": {
      "text/html": [
       "<div>\n",
       "<style scoped>\n",
       "    .dataframe tbody tr th:only-of-type {\n",
       "        vertical-align: middle;\n",
       "    }\n",
       "\n",
       "    .dataframe tbody tr th {\n",
       "        vertical-align: top;\n",
       "    }\n",
       "\n",
       "    .dataframe thead th {\n",
       "        text-align: right;\n",
       "    }\n",
       "</style>\n",
       "<table border=\"1\" class=\"dataframe\">\n",
       "  <thead>\n",
       "    <tr style=\"text-align: right;\">\n",
       "      <th></th>\n",
       "      <th>bhms</th>\n",
       "      <th>md</th>\n",
       "      <th>bams</th>\n",
       "      <th>ms</th>\n",
       "      <th>mbbs</th>\n",
       "      <th>bds</th>\n",
       "      <th>dnb</th>\n",
       "      <th>mds</th>\n",
       "      <th>dlo</th>\n",
       "      <th>diploma</th>\n",
       "      <th>...</th>\n",
       "      <th>misc_8</th>\n",
       "      <th>misc_9</th>\n",
       "      <th>misc_10</th>\n",
       "      <th>misc_11</th>\n",
       "      <th>misc_12</th>\n",
       "      <th>misc_13</th>\n",
       "      <th>misc_14</th>\n",
       "      <th>misc_feedback</th>\n",
       "      <th>misc_nan</th>\n",
       "      <th>num_qual</th>\n",
       "    </tr>\n",
       "  </thead>\n",
       "  <tbody>\n",
       "    <tr>\n",
       "      <th>0</th>\n",
       "      <td>1.0</td>\n",
       "      <td>1.0</td>\n",
       "      <td>0.0</td>\n",
       "      <td>0.0</td>\n",
       "      <td>0.0</td>\n",
       "      <td>0.0</td>\n",
       "      <td>0.0</td>\n",
       "      <td>0.0</td>\n",
       "      <td>0.0</td>\n",
       "      <td>0.0</td>\n",
       "      <td>...</td>\n",
       "      <td>0.0</td>\n",
       "      <td>0.0</td>\n",
       "      <td>0.0</td>\n",
       "      <td>0.0</td>\n",
       "      <td>0.0</td>\n",
       "      <td>0.0</td>\n",
       "      <td>0.0</td>\n",
       "      <td>1</td>\n",
       "      <td>1</td>\n",
       "      <td>2.0</td>\n",
       "    </tr>\n",
       "    <tr>\n",
       "      <th>1</th>\n",
       "      <td>0.0</td>\n",
       "      <td>1.0</td>\n",
       "      <td>1.0</td>\n",
       "      <td>0.0</td>\n",
       "      <td>0.0</td>\n",
       "      <td>0.0</td>\n",
       "      <td>0.0</td>\n",
       "      <td>0.0</td>\n",
       "      <td>0.0</td>\n",
       "      <td>0.0</td>\n",
       "      <td>...</td>\n",
       "      <td>0.0</td>\n",
       "      <td>0.0</td>\n",
       "      <td>0.0</td>\n",
       "      <td>0.0</td>\n",
       "      <td>0.0</td>\n",
       "      <td>0.0</td>\n",
       "      <td>0.0</td>\n",
       "      <td>1</td>\n",
       "      <td>1</td>\n",
       "      <td>2.0</td>\n",
       "    </tr>\n",
       "    <tr>\n",
       "      <th>2</th>\n",
       "      <td>0.0</td>\n",
       "      <td>0.0</td>\n",
       "      <td>0.0</td>\n",
       "      <td>1.0</td>\n",
       "      <td>1.0</td>\n",
       "      <td>0.0</td>\n",
       "      <td>0.0</td>\n",
       "      <td>0.0</td>\n",
       "      <td>0.0</td>\n",
       "      <td>0.0</td>\n",
       "      <td>...</td>\n",
       "      <td>0.0</td>\n",
       "      <td>0.0</td>\n",
       "      <td>0.0</td>\n",
       "      <td>0.0</td>\n",
       "      <td>0.0</td>\n",
       "      <td>0.0</td>\n",
       "      <td>0.0</td>\n",
       "      <td>0</td>\n",
       "      <td>1</td>\n",
       "      <td>2.0</td>\n",
       "    </tr>\n",
       "    <tr>\n",
       "      <th>3</th>\n",
       "      <td>0.0</td>\n",
       "      <td>0.0</td>\n",
       "      <td>1.0</td>\n",
       "      <td>0.0</td>\n",
       "      <td>0.0</td>\n",
       "      <td>0.0</td>\n",
       "      <td>0.0</td>\n",
       "      <td>0.0</td>\n",
       "      <td>0.0</td>\n",
       "      <td>0.0</td>\n",
       "      <td>...</td>\n",
       "      <td>0.0</td>\n",
       "      <td>0.0</td>\n",
       "      <td>0.0</td>\n",
       "      <td>0.0</td>\n",
       "      <td>0.0</td>\n",
       "      <td>0.0</td>\n",
       "      <td>0.0</td>\n",
       "      <td>0</td>\n",
       "      <td>1</td>\n",
       "      <td>1.0</td>\n",
       "    </tr>\n",
       "    <tr>\n",
       "      <th>4</th>\n",
       "      <td>0.0</td>\n",
       "      <td>0.0</td>\n",
       "      <td>1.0</td>\n",
       "      <td>0.0</td>\n",
       "      <td>0.0</td>\n",
       "      <td>0.0</td>\n",
       "      <td>0.0</td>\n",
       "      <td>0.0</td>\n",
       "      <td>0.0</td>\n",
       "      <td>0.0</td>\n",
       "      <td>...</td>\n",
       "      <td>0.0</td>\n",
       "      <td>0.0</td>\n",
       "      <td>0.0</td>\n",
       "      <td>0.0</td>\n",
       "      <td>0.0</td>\n",
       "      <td>0.0</td>\n",
       "      <td>0.0</td>\n",
       "      <td>1</td>\n",
       "      <td>1</td>\n",
       "      <td>1.0</td>\n",
       "    </tr>\n",
       "  </tbody>\n",
       "</table>\n",
       "<p>5 rows × 52 columns</p>\n",
       "</div>"
      ],
      "text/plain": [
       "   bhms   md  bams   ms  mbbs  bds  dnb  mds  dlo  diploma  ...  misc_8  \\\n",
       "0   1.0  1.0   0.0  0.0   0.0  0.0  0.0  0.0  0.0      0.0  ...     0.0   \n",
       "1   0.0  1.0   1.0  0.0   0.0  0.0  0.0  0.0  0.0      0.0  ...     0.0   \n",
       "2   0.0  0.0   0.0  1.0   1.0  0.0  0.0  0.0  0.0      0.0  ...     0.0   \n",
       "3   0.0  0.0   1.0  0.0   0.0  0.0  0.0  0.0  0.0      0.0  ...     0.0   \n",
       "4   0.0  0.0   1.0  0.0   0.0  0.0  0.0  0.0  0.0      0.0  ...     0.0   \n",
       "\n",
       "   misc_9  misc_10  misc_11  misc_12  misc_13  misc_14  misc_feedback  \\\n",
       "0     0.0      0.0      0.0      0.0      0.0      0.0              1   \n",
       "1     0.0      0.0      0.0      0.0      0.0      0.0              1   \n",
       "2     0.0      0.0      0.0      0.0      0.0      0.0              0   \n",
       "3     0.0      0.0      0.0      0.0      0.0      0.0              0   \n",
       "4     0.0      0.0      0.0      0.0      0.0      0.0              1   \n",
       "\n",
       "   misc_nan  num_qual  \n",
       "0         1       2.0  \n",
       "1         1       2.0  \n",
       "2         1       2.0  \n",
       "3         1       1.0  \n",
       "4         1       1.0  \n",
       "\n",
       "[5 rows x 52 columns]"
      ]
     },
     "execution_count": 91,
     "metadata": {},
     "output_type": "execute_result"
    }
   ],
   "source": [
    "train = pd.concat([train,train_num_qual],axis=1)\n",
    "train.head()"
   ]
  },
  {
   "cell_type": "code",
   "execution_count": 92,
   "metadata": {},
   "outputs": [
    {
     "data": {
      "text/html": [
       "<div>\n",
       "<style scoped>\n",
       "    .dataframe tbody tr th:only-of-type {\n",
       "        vertical-align: middle;\n",
       "    }\n",
       "\n",
       "    .dataframe tbody tr th {\n",
       "        vertical-align: top;\n",
       "    }\n",
       "\n",
       "    .dataframe thead th {\n",
       "        text-align: right;\n",
       "    }\n",
       "</style>\n",
       "<table border=\"1\" class=\"dataframe\">\n",
       "  <thead>\n",
       "    <tr style=\"text-align: right;\">\n",
       "      <th></th>\n",
       "      <th>bhms</th>\n",
       "      <th>md</th>\n",
       "      <th>bams</th>\n",
       "      <th>ms</th>\n",
       "      <th>mbbs</th>\n",
       "      <th>bds</th>\n",
       "      <th>dnb</th>\n",
       "      <th>mds</th>\n",
       "      <th>dlo</th>\n",
       "      <th>diploma</th>\n",
       "      <th>...</th>\n",
       "      <th>misc_8</th>\n",
       "      <th>misc_9</th>\n",
       "      <th>misc_10</th>\n",
       "      <th>misc_11</th>\n",
       "      <th>misc_12</th>\n",
       "      <th>misc_13</th>\n",
       "      <th>misc_14</th>\n",
       "      <th>misc_feedback</th>\n",
       "      <th>misc_nan</th>\n",
       "      <th>num_qual</th>\n",
       "    </tr>\n",
       "  </thead>\n",
       "  <tbody>\n",
       "    <tr>\n",
       "      <th>0</th>\n",
       "      <td>0.0</td>\n",
       "      <td>0.0</td>\n",
       "      <td>0.0</td>\n",
       "      <td>0.0</td>\n",
       "      <td>1.0</td>\n",
       "      <td>0.0</td>\n",
       "      <td>0.0</td>\n",
       "      <td>0.0</td>\n",
       "      <td>0.0</td>\n",
       "      <td>0.0</td>\n",
       "      <td>...</td>\n",
       "      <td>0.0</td>\n",
       "      <td>0.0</td>\n",
       "      <td>0.0</td>\n",
       "      <td>0.0</td>\n",
       "      <td>0.0</td>\n",
       "      <td>0.0</td>\n",
       "      <td>0.0</td>\n",
       "      <td>0</td>\n",
       "      <td>1</td>\n",
       "      <td>1.0</td>\n",
       "    </tr>\n",
       "    <tr>\n",
       "      <th>1</th>\n",
       "      <td>0.0</td>\n",
       "      <td>0.0</td>\n",
       "      <td>0.0</td>\n",
       "      <td>0.0</td>\n",
       "      <td>1.0</td>\n",
       "      <td>0.0</td>\n",
       "      <td>0.0</td>\n",
       "      <td>0.0</td>\n",
       "      <td>1.0</td>\n",
       "      <td>1.0</td>\n",
       "      <td>...</td>\n",
       "      <td>0.0</td>\n",
       "      <td>0.0</td>\n",
       "      <td>0.0</td>\n",
       "      <td>0.0</td>\n",
       "      <td>0.0</td>\n",
       "      <td>0.0</td>\n",
       "      <td>0.0</td>\n",
       "      <td>0</td>\n",
       "      <td>1</td>\n",
       "      <td>3.0</td>\n",
       "    </tr>\n",
       "    <tr>\n",
       "      <th>2</th>\n",
       "      <td>0.0</td>\n",
       "      <td>0.0</td>\n",
       "      <td>0.0</td>\n",
       "      <td>0.0</td>\n",
       "      <td>1.0</td>\n",
       "      <td>0.0</td>\n",
       "      <td>0.0</td>\n",
       "      <td>0.0</td>\n",
       "      <td>0.0</td>\n",
       "      <td>0.0</td>\n",
       "      <td>...</td>\n",
       "      <td>0.0</td>\n",
       "      <td>0.0</td>\n",
       "      <td>0.0</td>\n",
       "      <td>0.0</td>\n",
       "      <td>0.0</td>\n",
       "      <td>0.0</td>\n",
       "      <td>0.0</td>\n",
       "      <td>1</td>\n",
       "      <td>1</td>\n",
       "      <td>2.0</td>\n",
       "    </tr>\n",
       "    <tr>\n",
       "      <th>3</th>\n",
       "      <td>0.0</td>\n",
       "      <td>0.0</td>\n",
       "      <td>1.0</td>\n",
       "      <td>0.0</td>\n",
       "      <td>0.0</td>\n",
       "      <td>0.0</td>\n",
       "      <td>0.0</td>\n",
       "      <td>0.0</td>\n",
       "      <td>0.0</td>\n",
       "      <td>0.0</td>\n",
       "      <td>...</td>\n",
       "      <td>0.0</td>\n",
       "      <td>0.0</td>\n",
       "      <td>0.0</td>\n",
       "      <td>0.0</td>\n",
       "      <td>0.0</td>\n",
       "      <td>0.0</td>\n",
       "      <td>0.0</td>\n",
       "      <td>0</td>\n",
       "      <td>1</td>\n",
       "      <td>1.0</td>\n",
       "    </tr>\n",
       "    <tr>\n",
       "      <th>4</th>\n",
       "      <td>0.0</td>\n",
       "      <td>0.0</td>\n",
       "      <td>0.0</td>\n",
       "      <td>0.0</td>\n",
       "      <td>0.0</td>\n",
       "      <td>1.0</td>\n",
       "      <td>0.0</td>\n",
       "      <td>1.0</td>\n",
       "      <td>0.0</td>\n",
       "      <td>0.0</td>\n",
       "      <td>...</td>\n",
       "      <td>0.0</td>\n",
       "      <td>0.0</td>\n",
       "      <td>0.0</td>\n",
       "      <td>0.0</td>\n",
       "      <td>0.0</td>\n",
       "      <td>0.0</td>\n",
       "      <td>0.0</td>\n",
       "      <td>0</td>\n",
       "      <td>1</td>\n",
       "      <td>2.0</td>\n",
       "    </tr>\n",
       "  </tbody>\n",
       "</table>\n",
       "<p>5 rows × 52 columns</p>\n",
       "</div>"
      ],
      "text/plain": [
       "   bhms   md  bams   ms  mbbs  bds  dnb  mds  dlo  diploma  ...  misc_8  \\\n",
       "0   0.0  0.0   0.0  0.0   1.0  0.0  0.0  0.0  0.0      0.0  ...     0.0   \n",
       "1   0.0  0.0   0.0  0.0   1.0  0.0  0.0  0.0  1.0      1.0  ...     0.0   \n",
       "2   0.0  0.0   0.0  0.0   1.0  0.0  0.0  0.0  0.0      0.0  ...     0.0   \n",
       "3   0.0  0.0   1.0  0.0   0.0  0.0  0.0  0.0  0.0      0.0  ...     0.0   \n",
       "4   0.0  0.0   0.0  0.0   0.0  1.0  0.0  1.0  0.0      0.0  ...     0.0   \n",
       "\n",
       "   misc_9  misc_10  misc_11  misc_12  misc_13  misc_14  misc_feedback  \\\n",
       "0     0.0      0.0      0.0      0.0      0.0      0.0              0   \n",
       "1     0.0      0.0      0.0      0.0      0.0      0.0              0   \n",
       "2     0.0      0.0      0.0      0.0      0.0      0.0              1   \n",
       "3     0.0      0.0      0.0      0.0      0.0      0.0              0   \n",
       "4     0.0      0.0      0.0      0.0      0.0      0.0              0   \n",
       "\n",
       "   misc_nan  num_qual  \n",
       "0         1       1.0  \n",
       "1         1       3.0  \n",
       "2         1       2.0  \n",
       "3         1       1.0  \n",
       "4         1       2.0  \n",
       "\n",
       "[5 rows x 52 columns]"
      ]
     },
     "execution_count": 92,
     "metadata": {},
     "output_type": "execute_result"
    }
   ],
   "source": [
    "test = pd.concat([test,test_num_qual],axis=1)\n",
    "test.head()"
   ]
  },
  {
   "cell_type": "markdown",
   "metadata": {},
   "source": [
    "## **Feature Engineering**"
   ]
  },
  {
   "cell_type": "code",
   "execution_count": 93,
   "metadata": {},
   "outputs": [],
   "source": [
    "from skew_autotransform import skew_autotransform"
   ]
  },
  {
   "cell_type": "code",
   "execution_count": 96,
   "metadata": {},
   "outputs": [],
   "source": [
    "from sklearn.preprocessing import StandardScaler"
   ]
  },
  {
   "cell_type": "code",
   "execution_count": 94,
   "metadata": {},
   "outputs": [],
   "source": [
    "# Apply box-cox transformations if absolute skewness is greater than 0.5\n",
    "skew_transformed = []\n",
    "for i in train:\n",
    "    skew_transformed.append(skew_autotransform(train[[i]].copy(deep=True), plot = False, exp = False, threshold = 0.5))"
   ]
  },
  {
   "cell_type": "code",
   "execution_count": 95,
   "metadata": {},
   "outputs": [],
   "source": [
    "# Apply box-cox transformations if absolute skewness is greater than 0.5\n",
    "skew_transformed_test = []\n",
    "for i in test:\n",
    "    skew_transformed_test.append(skew_autotransform(test[[i]].copy(deep=True), plot = False, exp = False, threshold = 0.5))"
   ]
  },
  {
   "cell_type": "code",
   "execution_count": 97,
   "metadata": {},
   "outputs": [],
   "source": [
    "# Scale data using standard scaler\n",
    "scaler = StandardScaler().fit(pd.concat(skew_transformed,axis=1))\n",
    "train_scaled = scaler.transform(train)\n",
    "train_scaled = pd.DataFrame(train_scaled,columns=train.columns)"
   ]
  },
  {
   "cell_type": "code",
   "execution_count": 98,
   "metadata": {},
   "outputs": [],
   "source": [
    "test_scaled = scaler.transform(test)\n",
    "test_scaled = pd.DataFrame(test_scaled,columns=test.columns)"
   ]
  },
  {
   "cell_type": "code",
   "execution_count": 102,
   "metadata": {},
   "outputs": [
    {
     "data": {
      "text/html": [
       "<div>\n",
       "<style scoped>\n",
       "    .dataframe tbody tr th:only-of-type {\n",
       "        vertical-align: middle;\n",
       "    }\n",
       "\n",
       "    .dataframe tbody tr th {\n",
       "        vertical-align: top;\n",
       "    }\n",
       "\n",
       "    .dataframe thead th {\n",
       "        text-align: right;\n",
       "    }\n",
       "</style>\n",
       "<table border=\"1\" class=\"dataframe\">\n",
       "  <thead>\n",
       "    <tr style=\"text-align: right;\">\n",
       "      <th></th>\n",
       "      <th>bhms</th>\n",
       "      <th>md</th>\n",
       "      <th>bams</th>\n",
       "      <th>ms</th>\n",
       "      <th>mbbs</th>\n",
       "      <th>bds</th>\n",
       "      <th>dnb</th>\n",
       "      <th>mds</th>\n",
       "      <th>dlo</th>\n",
       "      <th>diploma</th>\n",
       "      <th>...</th>\n",
       "      <th>misc_9</th>\n",
       "      <th>misc_10</th>\n",
       "      <th>misc_11</th>\n",
       "      <th>misc_12</th>\n",
       "      <th>misc_13</th>\n",
       "      <th>misc_14</th>\n",
       "      <th>misc_feedback</th>\n",
       "      <th>misc_nan</th>\n",
       "      <th>num_qual</th>\n",
       "      <th>Fees</th>\n",
       "    </tr>\n",
       "  </thead>\n",
       "  <tbody>\n",
       "    <tr>\n",
       "      <th>0</th>\n",
       "      <td>2.636969</td>\n",
       "      <td>1.743210</td>\n",
       "      <td>2.609076</td>\n",
       "      <td>2.907515</td>\n",
       "      <td>-0.947635</td>\n",
       "      <td>1.834714</td>\n",
       "      <td>3.68461</td>\n",
       "      <td>2.605135</td>\n",
       "      <td>4.609568</td>\n",
       "      <td>2.717051</td>\n",
       "      <td>...</td>\n",
       "      <td>18.631094</td>\n",
       "      <td>15.05375</td>\n",
       "      <td>76.922038</td>\n",
       "      <td>24.306378</td>\n",
       "      <td>76.922038</td>\n",
       "      <td>18.631094</td>\n",
       "      <td>1.727080</td>\n",
       "      <td>0.0</td>\n",
       "      <td>3.805546</td>\n",
       "      <td>100</td>\n",
       "    </tr>\n",
       "    <tr>\n",
       "      <th>1</th>\n",
       "      <td>2.635057</td>\n",
       "      <td>1.743210</td>\n",
       "      <td>2.611217</td>\n",
       "      <td>2.907515</td>\n",
       "      <td>-0.947635</td>\n",
       "      <td>1.834714</td>\n",
       "      <td>3.68461</td>\n",
       "      <td>2.605135</td>\n",
       "      <td>4.609568</td>\n",
       "      <td>2.717051</td>\n",
       "      <td>...</td>\n",
       "      <td>18.631094</td>\n",
       "      <td>15.05375</td>\n",
       "      <td>76.922038</td>\n",
       "      <td>24.306378</td>\n",
       "      <td>76.922038</td>\n",
       "      <td>18.631094</td>\n",
       "      <td>1.727080</td>\n",
       "      <td>0.0</td>\n",
       "      <td>3.805546</td>\n",
       "      <td>350</td>\n",
       "    </tr>\n",
       "    <tr>\n",
       "      <th>2</th>\n",
       "      <td>2.635057</td>\n",
       "      <td>1.684012</td>\n",
       "      <td>2.609076</td>\n",
       "      <td>2.908051</td>\n",
       "      <td>1.055259</td>\n",
       "      <td>1.834714</td>\n",
       "      <td>3.68461</td>\n",
       "      <td>2.605135</td>\n",
       "      <td>4.609568</td>\n",
       "      <td>2.717051</td>\n",
       "      <td>...</td>\n",
       "      <td>18.631094</td>\n",
       "      <td>15.05375</td>\n",
       "      <td>76.922038</td>\n",
       "      <td>24.306378</td>\n",
       "      <td>76.922038</td>\n",
       "      <td>18.631094</td>\n",
       "      <td>1.664258</td>\n",
       "      <td>0.0</td>\n",
       "      <td>3.805546</td>\n",
       "      <td>300</td>\n",
       "    </tr>\n",
       "    <tr>\n",
       "      <th>3</th>\n",
       "      <td>2.635057</td>\n",
       "      <td>1.684012</td>\n",
       "      <td>2.611217</td>\n",
       "      <td>2.907515</td>\n",
       "      <td>-0.947635</td>\n",
       "      <td>1.834714</td>\n",
       "      <td>3.68461</td>\n",
       "      <td>2.605135</td>\n",
       "      <td>4.609568</td>\n",
       "      <td>2.717051</td>\n",
       "      <td>...</td>\n",
       "      <td>18.631094</td>\n",
       "      <td>15.05375</td>\n",
       "      <td>76.922038</td>\n",
       "      <td>24.306378</td>\n",
       "      <td>76.922038</td>\n",
       "      <td>18.631094</td>\n",
       "      <td>1.664258</td>\n",
       "      <td>0.0</td>\n",
       "      <td>1.307386</td>\n",
       "      <td>250</td>\n",
       "    </tr>\n",
       "    <tr>\n",
       "      <th>4</th>\n",
       "      <td>2.635057</td>\n",
       "      <td>1.684012</td>\n",
       "      <td>2.611217</td>\n",
       "      <td>2.907515</td>\n",
       "      <td>-0.947635</td>\n",
       "      <td>1.834714</td>\n",
       "      <td>3.68461</td>\n",
       "      <td>2.605135</td>\n",
       "      <td>4.609568</td>\n",
       "      <td>2.717051</td>\n",
       "      <td>...</td>\n",
       "      <td>18.631094</td>\n",
       "      <td>15.05375</td>\n",
       "      <td>76.922038</td>\n",
       "      <td>24.306378</td>\n",
       "      <td>76.922038</td>\n",
       "      <td>18.631094</td>\n",
       "      <td>1.727080</td>\n",
       "      <td>0.0</td>\n",
       "      <td>1.307386</td>\n",
       "      <td>250</td>\n",
       "    </tr>\n",
       "  </tbody>\n",
       "</table>\n",
       "<p>5 rows × 53 columns</p>\n",
       "</div>"
      ],
      "text/plain": [
       "       bhms        md      bams        ms      mbbs       bds      dnb  \\\n",
       "0  2.636969  1.743210  2.609076  2.907515 -0.947635  1.834714  3.68461   \n",
       "1  2.635057  1.743210  2.611217  2.907515 -0.947635  1.834714  3.68461   \n",
       "2  2.635057  1.684012  2.609076  2.908051  1.055259  1.834714  3.68461   \n",
       "3  2.635057  1.684012  2.611217  2.907515 -0.947635  1.834714  3.68461   \n",
       "4  2.635057  1.684012  2.611217  2.907515 -0.947635  1.834714  3.68461   \n",
       "\n",
       "        mds       dlo   diploma  ...     misc_9   misc_10    misc_11  \\\n",
       "0  2.605135  4.609568  2.717051  ...  18.631094  15.05375  76.922038   \n",
       "1  2.605135  4.609568  2.717051  ...  18.631094  15.05375  76.922038   \n",
       "2  2.605135  4.609568  2.717051  ...  18.631094  15.05375  76.922038   \n",
       "3  2.605135  4.609568  2.717051  ...  18.631094  15.05375  76.922038   \n",
       "4  2.605135  4.609568  2.717051  ...  18.631094  15.05375  76.922038   \n",
       "\n",
       "     misc_12    misc_13    misc_14  misc_feedback  misc_nan  num_qual  Fees  \n",
       "0  24.306378  76.922038  18.631094       1.727080       0.0  3.805546   100  \n",
       "1  24.306378  76.922038  18.631094       1.727080       0.0  3.805546   350  \n",
       "2  24.306378  76.922038  18.631094       1.664258       0.0  3.805546   300  \n",
       "3  24.306378  76.922038  18.631094       1.664258       0.0  1.307386   250  \n",
       "4  24.306378  76.922038  18.631094       1.727080       0.0  1.307386   250  \n",
       "\n",
       "[5 rows x 53 columns]"
      ]
     },
     "execution_count": 102,
     "metadata": {},
     "output_type": "execute_result"
    }
   ],
   "source": [
    "df_train = pd.concat([train_scaled,train_data.Fees],axis=1)\n",
    "df_train.head()"
   ]
  },
  {
   "cell_type": "code",
   "execution_count": 103,
   "metadata": {},
   "outputs": [
    {
     "data": {
      "text/html": [
       "<div>\n",
       "<style scoped>\n",
       "    .dataframe tbody tr th:only-of-type {\n",
       "        vertical-align: middle;\n",
       "    }\n",
       "\n",
       "    .dataframe tbody tr th {\n",
       "        vertical-align: top;\n",
       "    }\n",
       "\n",
       "    .dataframe thead th {\n",
       "        text-align: right;\n",
       "    }\n",
       "</style>\n",
       "<table border=\"1\" class=\"dataframe\">\n",
       "  <thead>\n",
       "    <tr style=\"text-align: right;\">\n",
       "      <th></th>\n",
       "      <th>bhms</th>\n",
       "      <th>md</th>\n",
       "      <th>bams</th>\n",
       "      <th>ms</th>\n",
       "      <th>mbbs</th>\n",
       "      <th>bds</th>\n",
       "      <th>dnb</th>\n",
       "      <th>mds</th>\n",
       "      <th>dlo</th>\n",
       "      <th>diploma</th>\n",
       "      <th>...</th>\n",
       "      <th>misc_8</th>\n",
       "      <th>misc_9</th>\n",
       "      <th>misc_10</th>\n",
       "      <th>misc_11</th>\n",
       "      <th>misc_12</th>\n",
       "      <th>misc_13</th>\n",
       "      <th>misc_14</th>\n",
       "      <th>misc_feedback</th>\n",
       "      <th>misc_nan</th>\n",
       "      <th>num_qual</th>\n",
       "    </tr>\n",
       "  </thead>\n",
       "  <tbody>\n",
       "    <tr>\n",
       "      <th>0</th>\n",
       "      <td>2.635057</td>\n",
       "      <td>1.684012</td>\n",
       "      <td>2.609076</td>\n",
       "      <td>2.907515</td>\n",
       "      <td>1.055259</td>\n",
       "      <td>1.834714</td>\n",
       "      <td>3.68461</td>\n",
       "      <td>2.605135</td>\n",
       "      <td>4.609568</td>\n",
       "      <td>2.717051</td>\n",
       "      <td>...</td>\n",
       "      <td>38.451268</td>\n",
       "      <td>18.631094</td>\n",
       "      <td>15.05375</td>\n",
       "      <td>76.922038</td>\n",
       "      <td>24.306378</td>\n",
       "      <td>76.922038</td>\n",
       "      <td>18.631094</td>\n",
       "      <td>1.664258</td>\n",
       "      <td>0.0</td>\n",
       "      <td>1.307386</td>\n",
       "    </tr>\n",
       "    <tr>\n",
       "      <th>1</th>\n",
       "      <td>2.635057</td>\n",
       "      <td>1.684012</td>\n",
       "      <td>2.609076</td>\n",
       "      <td>2.907515</td>\n",
       "      <td>1.055259</td>\n",
       "      <td>1.834714</td>\n",
       "      <td>3.68461</td>\n",
       "      <td>2.605135</td>\n",
       "      <td>4.609568</td>\n",
       "      <td>2.718376</td>\n",
       "      <td>...</td>\n",
       "      <td>38.451268</td>\n",
       "      <td>18.631094</td>\n",
       "      <td>15.05375</td>\n",
       "      <td>76.922038</td>\n",
       "      <td>24.306378</td>\n",
       "      <td>76.922038</td>\n",
       "      <td>18.631094</td>\n",
       "      <td>1.664258</td>\n",
       "      <td>0.0</td>\n",
       "      <td>6.303706</td>\n",
       "    </tr>\n",
       "    <tr>\n",
       "      <th>2</th>\n",
       "      <td>2.635057</td>\n",
       "      <td>1.684012</td>\n",
       "      <td>2.609076</td>\n",
       "      <td>2.907515</td>\n",
       "      <td>1.055259</td>\n",
       "      <td>1.834714</td>\n",
       "      <td>3.68461</td>\n",
       "      <td>2.605135</td>\n",
       "      <td>4.609568</td>\n",
       "      <td>2.717051</td>\n",
       "      <td>...</td>\n",
       "      <td>38.451268</td>\n",
       "      <td>18.631094</td>\n",
       "      <td>15.05375</td>\n",
       "      <td>76.922038</td>\n",
       "      <td>24.306378</td>\n",
       "      <td>76.922038</td>\n",
       "      <td>18.631094</td>\n",
       "      <td>1.727080</td>\n",
       "      <td>0.0</td>\n",
       "      <td>3.805546</td>\n",
       "    </tr>\n",
       "    <tr>\n",
       "      <th>3</th>\n",
       "      <td>2.635057</td>\n",
       "      <td>1.684012</td>\n",
       "      <td>2.611217</td>\n",
       "      <td>2.907515</td>\n",
       "      <td>-0.947635</td>\n",
       "      <td>1.834714</td>\n",
       "      <td>3.68461</td>\n",
       "      <td>2.605135</td>\n",
       "      <td>4.609568</td>\n",
       "      <td>2.717051</td>\n",
       "      <td>...</td>\n",
       "      <td>38.451268</td>\n",
       "      <td>18.631094</td>\n",
       "      <td>15.05375</td>\n",
       "      <td>76.922038</td>\n",
       "      <td>24.306378</td>\n",
       "      <td>76.922038</td>\n",
       "      <td>18.631094</td>\n",
       "      <td>1.664258</td>\n",
       "      <td>0.0</td>\n",
       "      <td>1.307386</td>\n",
       "    </tr>\n",
       "    <tr>\n",
       "      <th>4</th>\n",
       "      <td>2.635057</td>\n",
       "      <td>1.684012</td>\n",
       "      <td>2.609076</td>\n",
       "      <td>2.907515</td>\n",
       "      <td>-0.947635</td>\n",
       "      <td>1.871925</td>\n",
       "      <td>3.68461</td>\n",
       "      <td>2.607314</td>\n",
       "      <td>4.609568</td>\n",
       "      <td>2.717051</td>\n",
       "      <td>...</td>\n",
       "      <td>38.451268</td>\n",
       "      <td>18.631094</td>\n",
       "      <td>15.05375</td>\n",
       "      <td>76.922038</td>\n",
       "      <td>24.306378</td>\n",
       "      <td>76.922038</td>\n",
       "      <td>18.631094</td>\n",
       "      <td>1.664258</td>\n",
       "      <td>0.0</td>\n",
       "      <td>3.805546</td>\n",
       "    </tr>\n",
       "  </tbody>\n",
       "</table>\n",
       "<p>5 rows × 52 columns</p>\n",
       "</div>"
      ],
      "text/plain": [
       "       bhms        md      bams        ms      mbbs       bds      dnb  \\\n",
       "0  2.635057  1.684012  2.609076  2.907515  1.055259  1.834714  3.68461   \n",
       "1  2.635057  1.684012  2.609076  2.907515  1.055259  1.834714  3.68461   \n",
       "2  2.635057  1.684012  2.609076  2.907515  1.055259  1.834714  3.68461   \n",
       "3  2.635057  1.684012  2.611217  2.907515 -0.947635  1.834714  3.68461   \n",
       "4  2.635057  1.684012  2.609076  2.907515 -0.947635  1.871925  3.68461   \n",
       "\n",
       "        mds       dlo   diploma  ...     misc_8     misc_9   misc_10  \\\n",
       "0  2.605135  4.609568  2.717051  ...  38.451268  18.631094  15.05375   \n",
       "1  2.605135  4.609568  2.718376  ...  38.451268  18.631094  15.05375   \n",
       "2  2.605135  4.609568  2.717051  ...  38.451268  18.631094  15.05375   \n",
       "3  2.605135  4.609568  2.717051  ...  38.451268  18.631094  15.05375   \n",
       "4  2.607314  4.609568  2.717051  ...  38.451268  18.631094  15.05375   \n",
       "\n",
       "     misc_11    misc_12    misc_13    misc_14  misc_feedback  misc_nan  \\\n",
       "0  76.922038  24.306378  76.922038  18.631094       1.664258       0.0   \n",
       "1  76.922038  24.306378  76.922038  18.631094       1.664258       0.0   \n",
       "2  76.922038  24.306378  76.922038  18.631094       1.727080       0.0   \n",
       "3  76.922038  24.306378  76.922038  18.631094       1.664258       0.0   \n",
       "4  76.922038  24.306378  76.922038  18.631094       1.664258       0.0   \n",
       "\n",
       "   num_qual  \n",
       "0  1.307386  \n",
       "1  6.303706  \n",
       "2  3.805546  \n",
       "3  1.307386  \n",
       "4  3.805546  \n",
       "\n",
       "[5 rows x 52 columns]"
      ]
     },
     "execution_count": 103,
     "metadata": {},
     "output_type": "execute_result"
    }
   ],
   "source": [
    "test_scaled.head()"
   ]
  },
  {
   "cell_type": "markdown",
   "metadata": {},
   "source": [
    "## **Model training and evaluation**"
   ]
  },
  {
   "cell_type": "code",
   "execution_count": 111,
   "metadata": {},
   "outputs": [],
   "source": [
    "from sklearn.linear_model import LinearRegression,Ridge, Lasso\n",
    "from sklearn.metrics import mean_squared_error,r2_score, make_scorer\n",
    "from sklearn.model_selection import train_test_split, GridSearchCV, KFold\n",
    "from sklearn.model_selection import cross_val_score,cross_validate\n",
    "from sklearn.model_selection import KFold\n",
    "from sklearn.svm import SVR\n",
    "from sklearn.tree import DecisionTreeRegressor\n",
    "from sklearn.ensemble import AdaBoostRegressor, GradientBoostingRegressor, RandomForestRegressor, ExtraTreesRegressor\n",
    "from lightgbm import LGBMRegressor\n",
    "from catboost import CatBoostRegressor\n",
    "from xgboost import XGBRegressor"
   ]
  },
  {
   "cell_type": "code",
   "execution_count": 182,
   "metadata": {},
   "outputs": [],
   "source": [
    "X = df_train.iloc[:,:-1]\n",
    "y = df_train.iloc[:,-1]"
   ]
  },
  {
   "cell_type": "code",
   "execution_count": 183,
   "metadata": {},
   "outputs": [
    {
     "name": "stdout",
     "output_type": "stream",
     "text": [
      "(5918, 52)\n",
      "(5918,)\n"
     ]
    }
   ],
   "source": [
    "print(X.shape)\n",
    "print(y.shape)"
   ]
  },
  {
   "cell_type": "code",
   "execution_count": 107,
   "metadata": {},
   "outputs": [
    {
     "name": "stdout",
     "output_type": "stream",
     "text": [
      "--> 10 --> 20 --> 30 --> 40 --> 50 --> 60 --> 70 --> 80 --> 90 --> 100 Best random state :  19 0.21189210572048367\n"
     ]
    }
   ],
   "source": [
    "# Find out best random_state\n",
    "random_state = []\n",
    "for i in range(1,101):\n",
    "    if i%10 == 0:\n",
    "      print('-->',i,end=' ')\n",
    "    x_train, x_test, y_train, y_test = train_test_split(X,y,test_size=0.2,random_state=i)\n",
    "    pred = LinearRegression().fit(x_train,y_train).predict(x_test)\n",
    "    random_state.append(r2_score(y_test,pred))\n",
    "print('Best random state : ',random_state.index(max(random_state))+1,max(random_state))"
   ]
  },
  {
   "cell_type": "code",
   "execution_count": 108,
   "metadata": {},
   "outputs": [],
   "source": [
    "x_train, x_test, y_train, y_test = train_test_split(X,y,test_size=0.2,random_state=19)"
   ]
  },
  {
   "cell_type": "markdown",
   "metadata": {},
   "source": [
    "### ***Feature selection before training the model***"
   ]
  },
  {
   "cell_type": "code",
   "execution_count": 110,
   "metadata": {},
   "outputs": [],
   "source": [
    "from sklearn.feature_selection import SelectFromModel"
   ]
  },
  {
   "cell_type": "code",
   "execution_count": 112,
   "metadata": {},
   "outputs": [
    {
     "data": {
      "text/plain": [
       "XGBRegressor(base_score=0.5, booster='gbtree', colsample_bylevel=1,\n",
       "             colsample_bynode=1, colsample_bytree=1, gamma=0, gpu_id=-1,\n",
       "             importance_type='gain', interaction_constraints='',\n",
       "             learning_rate=0.300000012, max_delta_step=0, max_depth=6,\n",
       "             min_child_weight=1, missing=nan, monotone_constraints='()',\n",
       "             n_estimators=100, n_jobs=4, num_parallel_tree=1, random_state=0,\n",
       "             reg_alpha=0, reg_lambda=1, scale_pos_weight=1, subsample=1,\n",
       "             tree_method='exact', validate_parameters=1, verbosity=None)"
      ]
     },
     "execution_count": 112,
     "metadata": {},
     "output_type": "execute_result"
    }
   ],
   "source": [
    "# Lets find out the feature importance using the XGBoost regressor\n",
    "model = XGBRegressor()\n",
    "model.fit(X,y)"
   ]
  },
  {
   "cell_type": "code",
   "execution_count": 113,
   "metadata": {},
   "outputs": [
    {
     "data": {
      "image/png": "[encoded data removed]",
      "text/plain": [
       "<Figure size 1152x360 with 1 Axes>"
      ]
     },
     "metadata": {},
     "output_type": "display_data"
    }
   ],
   "source": [
    "# Plot the feature importances\n",
    "importance = dict(enumerate(model.feature_importances_))\n",
    "plt.figure(figsize=(16,5))\n",
    "sns.lineplot(x=np.arange(len(importance)),y=list(importance.values()))\n",
    "plt.show()"
   ]
  },
  {
   "cell_type": "code",
   "execution_count": 115,
   "metadata": {},
   "outputs": [
    {
     "name": "stdout",
     "output_type": "stream",
     "text": [
      "1.2.3.4.5.6.7.8.9.10.11.12.13.14.15.16.17.18.19.20.21.22.23.24.25.26.27.28.29.30.31.32.33.34.35.36.37.38.39.40.41.42.43.44.45.46.47.48.49.50.51.52."
     ]
    }
   ],
   "source": [
    "# Iterate to find out the best number of max_features\n",
    "scores = []\n",
    "for i in range(1,53):\n",
    "    fs = SelectFromModel(XGBRegressor(), max_features=i)\n",
    "    fs.fit(x_train, y_train)\n",
    "    x_train_fs = fs.transform(x_train)\n",
    "    x_test_fs = fs.transform(x_test)\n",
    "    model = XGBRegressor().fit(x_train_fs,y_train)\n",
    "    pred = model.predict(x_test_fs)\n",
    "    scores.append(r2_score(pred,y_test))\n",
    "    print(i,end='.')"
   ]
  },
  {
   "cell_type": "code",
   "execution_count": 117,
   "metadata": {},
   "outputs": [
    {
     "data": {
      "image/png": "[encoded data removed]",
      "text/plain": [
       "<Figure size 504x360 with 1 Axes>"
      ]
     },
     "metadata": {},
     "output_type": "display_data"
    }
   ],
   "source": [
    "# Plot R2Score vs the max_features\n",
    "plt.figure(figsize=(7,5))\n",
    "sns.lineplot(x=np.arange(1,53),y=scores)\n",
    "plt.show()"
   ]
  },
  {
   "cell_type": "code",
   "execution_count": 118,
   "metadata": {},
   "outputs": [
    {
     "data": {
      "text/plain": [
       "16"
      ]
     },
     "execution_count": 118,
     "metadata": {},
     "output_type": "execute_result"
    }
   ],
   "source": [
    "scores.index(max(scores))"
   ]
  },
  {
   "cell_type": "markdown",
   "metadata": {},
   "source": [
    "* So we require atleast 17 features to achieve best performances"
   ]
  },
  {
   "cell_type": "code",
   "execution_count": 119,
   "metadata": {},
   "outputs": [],
   "source": [
    "# Tranform features with 17 max features\n",
    "fs = SelectFromModel(XGBRegressor(), max_features=17)\n",
    "fs.fit(x_train, y_train)\n",
    "x_train_fs = fs.transform(x_train)\n",
    "x_test_fs = fs.transform(x_test)"
   ]
  },
  {
   "cell_type": "code",
   "execution_count": 120,
   "metadata": {},
   "outputs": [],
   "source": [
    "test_fs = fs.transform(test_scaled)"
   ]
  },
  {
   "cell_type": "code",
   "execution_count": 121,
   "metadata": {},
   "outputs": [
    {
     "name": "stdout",
     "output_type": "stream",
     "text": [
      "(4734, 17)\n",
      "(1184, 17)\n",
      "(1975, 17)\n"
     ]
    }
   ],
   "source": [
    "print(x_train_fs.shape)\n",
    "print(x_test_fs.shape)\n",
    "print(test_fs.shape)"
   ]
  },
  {
   "cell_type": "markdown",
   "metadata": {},
   "source": [
    "### ***Model training***"
   ]
  },
  {
   "cell_type": "code",
   "execution_count": 122,
   "metadata": {},
   "outputs": [],
   "source": [
    "# Create dictionary of models to be trained\n",
    "model_dict = {\n",
    "    'LNR':LinearRegression(),\n",
    "    'RDR':Ridge(),\n",
    "    'LSR':Lasso(),\n",
    "    'DTR':DecisionTreeRegressor(),\n",
    "    'ABR':AdaBoostRegressor(),\n",
    "    'GBR':GradientBoostingRegressor(),\n",
    "    'LBR':LGBMRegressor(),\n",
    "    'CBR':CatBoostRegressor(verbose=0),\n",
    "    'SVR':SVR(),\n",
    "    'RFR':RandomForestRegressor(),\n",
    "    'ETR':ExtraTreesRegressor()\n",
    "}"
   ]
  },
  {
   "cell_type": "code",
   "execution_count": 123,
   "metadata": {},
   "outputs": [],
   "source": [
    "# Lets use Root Mean Squared Log error for the evaluation of the models\n",
    "def rmsle_score(pred,y):\n",
    "    pred = np.log(pred)\n",
    "    y = np.log(y)\n",
    "    return 1-((np.sum((pred-y)**2))/len(y))**1/2\n",
    "\n",
    "scorer = make_scorer(rmsle_score,greater_is_better=True)"
   ]
  },
  {
   "cell_type": "code",
   "execution_count": 124,
   "metadata": {},
   "outputs": [
    {
     "name": "stdout",
     "output_type": "stream",
     "text": [
      "LNR\n",
      "0.79 +/- 0.03\n",
      "RDR\n",
      "0.77 +/- 0.03\n",
      "LSR\n",
      "0.76 +/- 0.03\n",
      "DTR\n",
      "0.7 +/- 0.03\n",
      "ABR\n",
      "0.75 +/- 0.04\n",
      "GBR\n",
      "0.8 +/- 0.03\n",
      "LBR\n",
      "0.81 +/- 0.03\n",
      "CBR\n",
      "0.81 +/- 0.02\n",
      "SVR\n",
      "0.79 +/- 0.02\n",
      "RFR\n",
      "0.79 +/- 0.02\n",
      "ETR\n",
      "0.74 +/- 0.03\n"
     ]
    }
   ],
   "source": [
    "cv_score = {}\n",
    "for i in model_dict:\n",
    "    print(i)\n",
    "    kfold = KFold(n_splits=10,random_state=19)\n",
    "    cv_results = cross_validate(model_dict[i], x_train_fs, y_train, scoring=scorer,cv=kfold)\n",
    "    cv_score[i] = cv_results['test_score']\n",
    "    print(round(np.mean(cv_results['test_score']),2),'+/-',round(np.std(cv_results['test_score'])*2,2))"
   ]
  },
  {
   "cell_type": "code",
   "execution_count": 126,
   "metadata": {},
   "outputs": [
    {
     "data": {
      "image/png": "[encoded data removed]",
      "text/plain": [
       "<Figure size 1080x360 with 1 Axes>"
      ]
     },
     "metadata": {},
     "output_type": "display_data"
    }
   ],
   "source": [
    "df = pd.DataFrame(cv_score)\n",
    "plt.figure(figsize=(15,5))\n",
    "sns.boxplot(data=df)\n",
    "plt.title('Algorithms vs Accuracy')\n",
    "plt.show()"
   ]
  },
  {
   "cell_type": "markdown",
   "metadata": {},
   "source": [
    "Best performing models are:\n",
    "\n",
    "   - CatBoostRegressor\n",
    "   - LightGBM regressor\n",
    "   - GBR regressor\n",
    "   - Linear Regression\n",
    "   - Random forest\n",
    "   - SVR\n",
    "   - Ridge\n",
    "   - Lasso"
   ]
  },
  {
   "cell_type": "markdown",
   "metadata": {},
   "source": [
    "### ***Let's apply Hyperparameter tuning to improve the model predicition***"
   ]
  },
  {
   "cell_type": "code",
   "execution_count": 137,
   "metadata": {},
   "outputs": [
    {
     "name": "stdout",
     "output_type": "stream",
     "text": [
      "Fitting 10 folds for each of 10 candidates, totalling 100 fits\n"
     ]
    },
    {
     "name": "stderr",
     "output_type": "stream",
     "text": [
      "[Parallel(n_jobs=1)]: Using backend SequentialBackend with 1 concurrent workers.\n"
     ]
    },
    {
     "name": "stdout",
     "output_type": "stream",
     "text": [
      "Best: 0.787042 using {'alpha': 0.0001, 'solver': 'auto'}\n"
     ]
    },
    {
     "name": "stderr",
     "output_type": "stream",
     "text": [
      "[Parallel(n_jobs=1)]: Done 100 out of 100 | elapsed:    0.5s finished\n"
     ]
    }
   ],
   "source": [
    "# Tune parameter of Ridge regressor\n",
    "params = {\n",
    "    'alpha':[1.0,0.1,0.01,0.001,0.0001],\n",
    "    'solver':['auto', 'svd']\n",
    "    }\n",
    "\n",
    "kfold = KFold(n_splits=10, random_state=19)\n",
    "ridge_grid = GridSearchCV(Ridge(), param_grid=params, scoring=scorer, cv=kfold,verbose=1)\n",
    "ridge_grid.fit(x_train_fs,y_train)\n",
    "print('Best: %f using %s' % (ridge_grid.best_score_, ridge_grid.best_params_))"
   ]
  },
  {
   "cell_type": "code",
   "execution_count": 138,
   "metadata": {},
   "outputs": [
    {
     "name": "stdout",
     "output_type": "stream",
     "text": [
      "RMSE loss in train : 174.53\n",
      "RMSE : 172.515\n",
      "R2 Score : 0.182\n",
      "RMSLE Score : 0.783\n"
     ]
    }
   ],
   "source": [
    "y_pred = ridge_grid.best_estimator_.predict(x_train_fs)\n",
    "print('RMSE loss in train :',round(np.sqrt(mean_squared_error(y_train,y_pred)),3))\n",
    "y_pred = ridge_grid.best_estimator_.predict(x_test_fs)\n",
    "print('RMSE :',round(np.sqrt(mean_squared_error(y_test,y_pred)),3))\n",
    "print('R2 Score :',round(r2_score(y_test,y_pred),3))\n",
    "print('RMSLE Score :',round(rmsle_score(y_pred,y_test),3))"
   ]
  },
  {
   "cell_type": "code",
   "execution_count": 141,
   "metadata": {},
   "outputs": [
    {
     "name": "stdout",
     "output_type": "stream",
     "text": [
      "Fitting 10 folds for each of 6 candidates, totalling 60 fits\n"
     ]
    },
    {
     "name": "stderr",
     "output_type": "stream",
     "text": [
      "[Parallel(n_jobs=1)]: Using backend SequentialBackend with 1 concurrent workers.\n"
     ]
    },
    {
     "name": "stdout",
     "output_type": "stream",
     "text": [
      "Best: 0.787046 using {'alpha': 0.0002}\n"
     ]
    },
    {
     "name": "stderr",
     "output_type": "stream",
     "text": [
      "[Parallel(n_jobs=1)]: Done  60 out of  60 | elapsed:    0.9s finished\n"
     ]
    }
   ],
   "source": [
    "# Tune parameter of Lasso regressor\n",
    "params = {\n",
    "    'alpha':[1.0,0.0001,0.0002,0.0003,0.0004,0.0005],\n",
    "    }\n",
    "\n",
    "kfold = KFold(n_splits=10, random_state=19)\n",
    "lasso_grid = GridSearchCV(Lasso(), param_grid=params, scoring=scorer, cv=kfold,verbose=1)\n",
    "lasso_grid.fit(x_train_fs,y_train)\n",
    "print('Best: %f using %s' % (lasso_grid.best_score_, lasso_grid.best_params_))"
   ]
  },
  {
   "cell_type": "code",
   "execution_count": 143,
   "metadata": {},
   "outputs": [
    {
     "name": "stdout",
     "output_type": "stream",
     "text": [
      "RMSE loss in train : 174.526\n",
      "RMSE : 172.494\n",
      "R2 Score : 0.182\n",
      "RMSLE Score : 0.783\n"
     ]
    }
   ],
   "source": [
    "y_pred = lasso_grid.best_estimator_.predict(x_train_fs)\n",
    "print('RMSE loss in train :',round(np.sqrt(mean_squared_error(y_train,y_pred)),3))\n",
    "y_pred = lasso_grid.best_estimator_.predict(x_test_fs)\n",
    "print('RMSE :',round(np.sqrt(mean_squared_error(y_test,y_pred)),3))\n",
    "print('R2 Score :',round(r2_score(y_test,y_pred),3))\n",
    "print('RMSLE Score :',round(rmsle_score(y_pred,y_test),3))"
   ]
  },
  {
   "cell_type": "code",
   "execution_count": 145,
   "metadata": {},
   "outputs": [
    {
     "name": "stdout",
     "output_type": "stream",
     "text": [
      "Fitting 10 folds for each of 32 candidates, totalling 320 fits\n"
     ]
    },
    {
     "name": "stderr",
     "output_type": "stream",
     "text": [
      "[Parallel(n_jobs=1)]: Using backend SequentialBackend with 1 concurrent workers.\n",
      "[Parallel(n_jobs=1)]: Done 320 out of 320 | elapsed: 12.3min finished\n"
     ]
    },
    {
     "name": "stdout",
     "output_type": "stream",
     "text": [
      "Best: 0.802641 using {'max_depth': 20, 'max_features': 'auto', 'min_samples_leaf': 2, 'min_samples_split': 10, 'n_estimators': 500}\n"
     ]
    }
   ],
   "source": [
    "# Tune parameter of Randomforest regressor\n",
    "params = {\n",
    "    'n_estimators':[100,500],\n",
    "    'max_features':[\"auto\", \"sqrt\"],\n",
    "    'max_depth':[20,30],\n",
    "    'min_samples_split':[10,15],\n",
    "    'min_samples_leaf':[2,5]\n",
    "    }\n",
    "\n",
    "kfold = KFold(n_splits=10, random_state=19)\n",
    "rfr_grid = GridSearchCV(RandomForestRegressor(), param_grid=params, scoring=scorer, cv=kfold,verbose=1)\n",
    "rfr_grid.fit(x_train_fs,y_train)\n",
    "print('Best: %f using %s' % (rfr_grid.best_score_, rfr_grid.best_params_))"
   ]
  },
  {
   "cell_type": "code",
   "execution_count": 147,
   "metadata": {},
   "outputs": [
    {
     "name": "stdout",
     "output_type": "stream",
     "text": [
      "RMSE loss in train : 128.71805458004357\n",
      "RMSE : 164.564\n",
      "R2 Score : 0.255\n",
      "RMSLE Score : 0.807\n"
     ]
    }
   ],
   "source": [
    "y_pred = rfr_grid.best_estimator_.predict(x_train_fs)\n",
    "print('RMSE loss in train :',np.sqrt(mean_squared_error(y_train,y_pred)))\n",
    "y_pred = rfr_grid.best_estimator_.predict(x_test_fs)\n",
    "print('RMSE :',round(np.sqrt(mean_squared_error(y_test,y_pred)),3))\n",
    "print('R2 Score :',round(r2_score(y_test,y_pred),3))\n",
    "print('RMSLE Score :',round(rmsle_score(y_pred,y_test),3))"
   ]
  },
  {
   "cell_type": "code",
   "execution_count": 152,
   "metadata": {},
   "outputs": [
    {
     "name": "stdout",
     "output_type": "stream",
     "text": [
      "Fitting 10 folds for each of 6 candidates, totalling 60 fits\n"
     ]
    },
    {
     "name": "stderr",
     "output_type": "stream",
     "text": [
      "[Parallel(n_jobs=1)]: Using backend SequentialBackend with 1 concurrent workers.\n",
      "[Parallel(n_jobs=1)]: Done  60 out of  60 | elapsed:   11.8s finished\n"
     ]
    },
    {
     "name": "stdout",
     "output_type": "stream",
     "text": [
      "Best: 0.805113 using {'max_depth': 10, 'min_child_weight': 30, 'min_split_gain': 0.001, 'n_estimators': 105, 'num_leaves': 44}\n"
     ]
    }
   ],
   "source": [
    "# Tune parameter of LGBM regressor\n",
    "params = {\n",
    "    'n_estimators':[95,100,105],\n",
    "  'num_leaves': [44],\n",
    "  'max_depth': [9,10],\n",
    "  'min_split_gain': [0.001],\n",
    "  'min_child_weight': [30]\n",
    "    }\n",
    "\n",
    "kfold = KFold(n_splits=10, random_state=19)\n",
    "lgbm_grid = GridSearchCV(LGBMRegressor(), param_grid=params, scoring=scorer, cv=kfold,verbose=1)\n",
    "lgbm_grid.fit(x_train_fs,y_train)\n",
    "print('Best: %f using %s' % (lgbm_grid.best_score_, lgbm_grid.best_params_))"
   ]
  },
  {
   "cell_type": "code",
   "execution_count": 153,
   "metadata": {},
   "outputs": [
    {
     "name": "stdout",
     "output_type": "stream",
     "text": [
      "RMSE loss in train : 146.026\n",
      "RMSE loss in test : 163.465\n",
      "R2 Score in test : 0.265\n",
      "RMSLE Score : 0.807\n"
     ]
    }
   ],
   "source": [
    "y_pred = lgbm_grid.best_estimator_.predict(x_train_fs)\n",
    "print('RMSE loss in train :',round(np.sqrt(mean_squared_error(y_train,y_pred)),3))\n",
    "y_pred = lgbm_grid.best_estimator_.predict(x_test_fs)\n",
    "print('RMSE loss in test :',round(np.sqrt(mean_squared_error(y_test,y_pred)),3))\n",
    "print('R2 Score in test :',round(r2_score(y_test,y_pred),3))\n",
    "print('RMSLE Score :',round(rmsle_score(y_pred,y_test),3))"
   ]
  },
  {
   "cell_type": "code",
   "execution_count": 154,
   "metadata": {},
   "outputs": [
    {
     "name": "stdout",
     "output_type": "stream",
     "text": [
      "Fitting 10 folds for each of 8 candidates, totalling 80 fits\n"
     ]
    },
    {
     "name": "stderr",
     "output_type": "stream",
     "text": [
      "[Parallel(n_jobs=1)]: Using backend SequentialBackend with 1 concurrent workers.\n",
      "[Parallel(n_jobs=1)]: Done  80 out of  80 | elapsed:  2.2min finished\n"
     ]
    },
    {
     "name": "stdout",
     "output_type": "stream",
     "text": [
      "Best: 0.790332 using {'C': 10000, 'gamma': 0.1}\n"
     ]
    }
   ],
   "source": [
    "# Tune parameter of SVR regressor\n",
    "params = {\n",
    "    'gamma': [1e-4, 1e-3, 0.01, 0.1],\n",
    "    'C': [1, 10000]\n",
    "    }\n",
    "\n",
    "kfold = KFold(n_splits=10, random_state=19)\n",
    "svr_grid = GridSearchCV(SVR(), param_grid=params, scoring=scorer, cv=kfold,verbose=1)\n",
    "svr_grid.fit(x_train_fs,y_train)\n",
    "print('Best: %f using %s' % (svr_grid.best_score_, svr_grid.best_params_))"
   ]
  },
  {
   "cell_type": "code",
   "execution_count": 155,
   "metadata": {},
   "outputs": [
    {
     "name": "stdout",
     "output_type": "stream",
     "text": [
      "RMSE loss in train : 178.945\n",
      "RMSE loss in test : 175.784\n",
      "R2 Score in test : 0.15\n",
      "RMSLE Score : 0.796\n"
     ]
    }
   ],
   "source": [
    "y_pred = svr_grid.best_estimator_.predict(x_train_fs)\n",
    "print('RMSE loss in train :',round(np.sqrt(mean_squared_error(y_train,y_pred)),3))\n",
    "y_pred = svr_grid.best_estimator_.predict(x_test_fs)\n",
    "print('RMSE loss in test :',round(np.sqrt(mean_squared_error(y_test,y_pred)),3))\n",
    "print('R2 Score in test :',round(r2_score(y_test,y_pred),3))\n",
    "print('RMSLE Score :',round(rmsle_score(y_pred,y_test),3))"
   ]
  },
  {
   "cell_type": "code",
   "execution_count": 156,
   "metadata": {},
   "outputs": [
    {
     "name": "stdout",
     "output_type": "stream",
     "text": [
      "Fitting 10 folds for each of 2 candidates, totalling 20 fits\n"
     ]
    },
    {
     "name": "stderr",
     "output_type": "stream",
     "text": [
      "[Parallel(n_jobs=1)]: Using backend SequentialBackend with 1 concurrent workers.\n",
      "[Parallel(n_jobs=1)]: Done  20 out of  20 | elapsed:   21.0s finished\n"
     ]
    },
    {
     "name": "stdout",
     "output_type": "stream",
     "text": [
      "Best: 0.796798 using {'eval_metric': 'R2', 'iterations': 200, 'learning_rate': 0.05}\n"
     ]
    }
   ],
   "source": [
    "# Tune parameter of CatBoost regressor\n",
    "params = {\n",
    "    \"iterations\":[100,200],\n",
    "    \"learning_rate\": [0.05],\n",
    "    \"eval_metric\": [\"R2\"],\n",
    "    }\n",
    "\n",
    "kfold = KFold(n_splits=10, random_state=19)\n",
    "cgbr_grid = GridSearchCV(CatBoostRegressor(verbose=0), param_grid=params, scoring=scorer, cv=kfold,verbose=1)\n",
    "cgbr_grid.fit(x_train_fs,y_train)\n",
    "print('Best: %f using %s' % (cgbr_grid.best_score_, cgbr_grid.best_params_))"
   ]
  },
  {
   "cell_type": "code",
   "execution_count": 157,
   "metadata": {},
   "outputs": [
    {
     "name": "stdout",
     "output_type": "stream",
     "text": [
      "RMSE loss in train : 162.808\n",
      "RMSE loss in test : 166.119\n",
      "R2 Score in test : 0.241\n",
      "RMSLE Score : 0.8\n"
     ]
    }
   ],
   "source": [
    "y_pred = cgbr_grid.best_estimator_.predict(x_train_fs)\n",
    "print('RMSE loss in train :',round(np.sqrt(mean_squared_error(y_train,y_pred)),3))\n",
    "y_pred = cgbr_grid.best_estimator_.predict(x_test_fs)\n",
    "print('RMSE loss in test :',round(np.sqrt(mean_squared_error(y_test,y_pred)),3))\n",
    "print('R2 Score in test :',round(r2_score(y_test,y_pred),3))\n",
    "print('RMSLE Score :',round(rmsle_score(y_pred,y_test),3))"
   ]
  },
  {
   "cell_type": "code",
   "execution_count": 158,
   "metadata": {},
   "outputs": [
    {
     "name": "stdout",
     "output_type": "stream",
     "text": [
      "Fitting 10 folds for each of 9 candidates, totalling 90 fits\n"
     ]
    },
    {
     "name": "stderr",
     "output_type": "stream",
     "text": [
      "[Parallel(n_jobs=1)]: Using backend SequentialBackend with 1 concurrent workers.\n",
      "[Parallel(n_jobs=1)]: Done  90 out of  90 | elapsed:   44.1s finished\n"
     ]
    },
    {
     "name": "stdout",
     "output_type": "stream",
     "text": [
      "Best: 0.796348 using {'learning_rate': 0.1, 'n_estimators': 105}\n"
     ]
    }
   ],
   "source": [
    "# Tune parameter of GBR regressor\n",
    "params = {\n",
    "    \"n_estimators\":[95,100,105],\n",
    "    \"learning_rate\": [0.01,0.05,0.1],\n",
    "    }\n",
    "\n",
    "kfold = KFold(n_splits=10, random_state=19)\n",
    "gbr_grid = GridSearchCV(GradientBoostingRegressor(), param_grid=params, scoring=scorer, cv=kfold,verbose=1)\n",
    "gbr_grid.fit(x_train_fs,y_train)\n",
    "print('Best: %f using %s' % (gbr_grid.best_score_, gbr_grid.best_params_))"
   ]
  },
  {
   "cell_type": "code",
   "execution_count": 159,
   "metadata": {},
   "outputs": [
    {
     "name": "stdout",
     "output_type": "stream",
     "text": [
      "RMSE loss in train : 164.873\n",
      "RMSE loss in test : 166.717\n",
      "R2 Score in test : 0.236\n",
      "RMSLE Score : 0.797\n"
     ]
    }
   ],
   "source": [
    "y_pred = gbr_grid.best_estimator_.predict(x_train_fs)\n",
    "print('RMSE loss in train :',round(np.sqrt(mean_squared_error(y_train,y_pred)),3))\n",
    "y_pred = gbr_grid.best_estimator_.predict(x_test_fs)\n",
    "print('RMSE loss in test :',round(np.sqrt(mean_squared_error(y_test,y_pred)),3))\n",
    "print('R2 Score in test :',round(r2_score(y_test,y_pred),3))\n",
    "print('RMSLE Score :',round(rmsle_score(y_pred,y_test),3))"
   ]
  },
  {
   "cell_type": "markdown",
   "metadata": {},
   "source": [
    "* Based on the RMSLE score, the best performing models are:\n",
    "    - LGBM Regressor : 0.805 on training and 0.807 on validation \n",
    "    - Random Forest Regressor : 0.802 on training and 0.807 on validation\n",
    "* LGBM is much faster than randomforest, also the training and validation score is higher in LGBM, so we take the LGBM model as for the test data prediciton"
   ]
  },
  {
   "cell_type": "markdown",
   "metadata": {},
   "source": [
    "### ***Saving the models***"
   ]
  },
  {
   "cell_type": "code",
   "execution_count": 162,
   "metadata": {},
   "outputs": [
    {
     "data": {
      "text/plain": [
       "['Doctors_fee_prediction_lgmb_regressor.pkl']"
      ]
     },
     "execution_count": 162,
     "metadata": {},
     "output_type": "execute_result"
    }
   ],
   "source": [
    "import joblib\n",
    "joblib.dump(lgbm_grid.best_estimator_,'Doctors_fee_prediction_lgmb_regressor.pkl')"
   ]
  },
  {
   "cell_type": "markdown",
   "metadata": {},
   "source": [
    "### ***Test Data Prediction***"
   ]
  },
  {
   "cell_type": "code",
   "execution_count": 165,
   "metadata": {},
   "outputs": [],
   "source": [
    "predictions = lgbm_grid.best_estimator_.predict(test_fs)"
   ]
  },
  {
   "cell_type": "code",
   "execution_count": 166,
   "metadata": {},
   "outputs": [
    {
     "data": {
      "text/plain": [
       "array([203.8003939 , 267.79778426, 308.83292435, ..., 318.54564283,\n",
       "       168.58819708, 376.62001997])"
      ]
     },
     "execution_count": 166,
     "metadata": {},
     "output_type": "execute_result"
    }
   ],
   "source": [
    "predictions"
   ]
  },
  {
   "cell_type": "code",
   "execution_count": 167,
   "metadata": {},
   "outputs": [],
   "source": [
    "df = pd.DataFrame(predictions,columns=['Predictions'])"
   ]
  },
  {
   "cell_type": "code",
   "execution_count": 168,
   "metadata": {},
   "outputs": [
    {
     "data": {
      "text/html": [
       "<div>\n",
       "<style scoped>\n",
       "    .dataframe tbody tr th:only-of-type {\n",
       "        vertical-align: middle;\n",
       "    }\n",
       "\n",
       "    .dataframe tbody tr th {\n",
       "        vertical-align: top;\n",
       "    }\n",
       "\n",
       "    .dataframe thead th {\n",
       "        text-align: right;\n",
       "    }\n",
       "</style>\n",
       "<table border=\"1\" class=\"dataframe\">\n",
       "  <thead>\n",
       "    <tr style=\"text-align: right;\">\n",
       "      <th></th>\n",
       "      <th>count</th>\n",
       "      <th>mean</th>\n",
       "      <th>std</th>\n",
       "      <th>min</th>\n",
       "      <th>25%</th>\n",
       "      <th>50%</th>\n",
       "      <th>75%</th>\n",
       "      <th>max</th>\n",
       "    </tr>\n",
       "  </thead>\n",
       "  <tbody>\n",
       "    <tr>\n",
       "      <th>Predictions</th>\n",
       "      <td>1975.0</td>\n",
       "      <td>313.104157</td>\n",
       "      <td>101.82275</td>\n",
       "      <td>64.280728</td>\n",
       "      <td>238.592745</td>\n",
       "      <td>308.447104</td>\n",
       "      <td>381.178653</td>\n",
       "      <td>672.552762</td>\n",
       "    </tr>\n",
       "  </tbody>\n",
       "</table>\n",
       "</div>"
      ],
      "text/plain": [
       "              count        mean        std        min         25%         50%  \\\n",
       "Predictions  1975.0  313.104157  101.82275  64.280728  238.592745  308.447104   \n",
       "\n",
       "                    75%         max  \n",
       "Predictions  381.178653  672.552762  "
      ]
     },
     "execution_count": 168,
     "metadata": {},
     "output_type": "execute_result"
    }
   ],
   "source": [
    "df.describe().T"
   ]
  },
  {
   "cell_type": "code",
   "execution_count": 169,
   "metadata": {},
   "outputs": [],
   "source": [
    "df.to_csv('Doctors_fee_test_data_predicitons.csv')"
   ]
  },
  {
   "cell_type": "markdown",
   "metadata": {},
   "source": [
    "## **Conclusion**"
   ]
  },
  {
   "cell_type": "markdown",
   "metadata": {},
   "source": [
    "The Doctors consultation fees dataset has been explored and investigated the factors of increasing consultation charges. Trained different regression models using the most important features and found out that Light Gradient Boost regressor was able to achieve the best RMSLE score (0.807 on validation and 0.805 on training)."
   ]
  },
  {
   "cell_type": "code",
   "execution_count": null,
   "metadata": {},
   "outputs": [],
   "source": []
  }
 ],
 "metadata": {
  "kernelspec": {
   "display_name": "Python 3",
   "language": "python",
   "name": "python3"
  },
  "language_info": {
   "codemirror_mode": {
    "name": "ipython",
    "version": 3
   },
   "file_extension": ".py",
   "mimetype": "text/x-python",
   "name": "python",
   "nbconvert_exporter": "python",
   "pygments_lexer": "ipython3",
   "version": "3.8.5"
  }
 },
 "nbformat": 4,
 "nbformat_minor": 4
}
